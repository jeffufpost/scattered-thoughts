{
  "cells": [
    {
      "attachments": {},
      "cell_type": "markdown",
      "metadata": {
        "id": "EaN1NsvLOVtF"
      },
      "source": [
        "---\n",
        "title: \"HIV modeling\"\n",
        "date: \"2020-05-05\"\n",
        "description: \"Building a new stochastic SEIR model to deal with probability distributions\"\n",
        "categories: [probability distributions, modeling, SEIR, epidemiology, stochastic, HIV, AIDS]\n",
        "image: \"../images/HIV_stochastic.png\"\n",
        "---"
      ]
    },
    {
      "attachments": {},
      "cell_type": "markdown",
      "metadata": {
        "id": "Wa5uqUhVOolP"
      },
      "source": [
        "![](../my_icons/HIV_stochastic.png)"
      ]
    },
    {
      "attachments": {},
      "cell_type": "markdown",
      "metadata": {
        "id": "yAOm450_HxYm"
      },
      "source": [
        "## Building a stochastic model"
      ]
    },
    {
      "attachments": {},
      "cell_type": "markdown",
      "metadata": {
        "id": "AGMGuLg7jfUf"
      },
      "source": [
        "This model is going to focus on individual level disease dynamics to model the disease propagation.\n",
        "\n",
        "It models DHS dataset which contains a homogeneous population between 15 and 49 years old.\n",
        "\n",
        "The basic idea of this model is to have a dataframe with the number of rows equal to the population size (each individual is a row) and two columns:\n",
        "* State column to describe the state of each individual (S, I, or D)\n",
        "* Year column to save the day of transition of the individual into that state\n",
        "* Age column to know the age of the individuals\n",
        "\n",
        "However, the population-level rates of transmission still apply here i.e. a person goes from S &rarr; I following two points:\n",
        "1. the effective contact rate $\\beta$, which is itself given by:\n",
        "  - the number of contacts the person has per unit time (given by $r$)\n",
        "  - the chance of an S contracting the disease from a contact with an I (given by $\\rho$)\n",
        "2. the chance a given contact is with an I - infectious individual (the higher the number of I, the higher the chance)\n",
        "\n",
        "This is done stochastically.\n",
        "\n",
        "Once a person becomes I, their progression is unique to them. This progression is calculated in advance for computational reason, but it allows to use the time ditributions we want."
      ]
    },
    {
      "cell_type": "code",
      "execution_count": 57,
      "metadata": {
        "colab": {
          "base_uri": "https://localhost:8080/"
        },
        "id": "nsPi17ppluAE",
        "outputId": "84dd1725-aa80-4a84-bd0f-9bc0ae2fea38"
      },
      "outputs": [],
      "source": [
        "#| code-fold: true\n",
        "\n",
        "import pandas as pd\n",
        "import numpy as np\n",
        "import math\n",
        "import plotly.graph_objects as go\n",
        "import plotly.express as px\n",
        "from scipy.stats import expon\n",
        "from scipy.stats import gamma\n",
        "from scipy.stats import weibull_min\n",
        "from numpy.random import default_rng\n",
        "rng = default_rng()\n",
        "import tqdm\n",
        "import time"
      ]
    },
    {
      "attachments": {},
      "cell_type": "markdown",
      "metadata": {
        "id": "42RmLhHwVj_2"
      },
      "source": [
        "### Creating the initial population dataframe\n",
        "\n",
        "Below is a function to create the initial population dataframe:\n",
        "* $p$ is the population number\n",
        "* $num_I$ is the number of infectious on day 0\n",
        "* $num_R$ is the number of people recovered on day 0"
      ]
    },
    {
      "cell_type": "code",
      "execution_count": 58,
      "metadata": {
        "id": "TYGGYIjObXgv"
      },
      "outputs": [],
      "source": [
        "#| code-fold: true\n",
        "\n",
        "# Need this new function for model below:\n",
        "def make_df(p, num_I, num_R):\n",
        "  df = pd.DataFrame(np.full((p,1), 'S').T[0], columns=['State'])\n",
        "  df['Year'] = 0\n",
        "  df['Age'] = (np.random.random(p)*35+15).astype(int)\n",
        "  tochange=df.loc[rng.choice(p, size=num_I+num_R, replace=False),'State'].index\n",
        "  df.loc[tochange[0:num_I],'State'] = 'I'\n",
        "  df.loc[tochange[num_I:num_I+num_R],'State'] = 'R'\n",
        "  return df"
      ]
    },
    {
      "attachments": {},
      "cell_type": "markdown",
      "metadata": {
        "id": "30fEs2dbap35"
      },
      "source": [
        "### Building the model"
      ]
    },
    {
      "cell_type": "code",
      "execution_count": 59,
      "metadata": {
        "colab": {
          "base_uri": "https://localhost:8080/"
        },
        "id": "vhEHGn9AqmIW",
        "outputId": "b5387391-fdc9-472b-f171-aa5eeb1c921a"
      },
      "outputs": [
        {
          "data": {
            "text/plain": [
              "np.float64(0.19397059336956546)"
            ]
          },
          "execution_count": 59,
          "metadata": {},
          "output_type": "execute_result"
        }
      ],
      "source": [
        "#| code-fold: true\n",
        "\n",
        "# Modelling the decrease of beta over time\n",
        "\n",
        "#np.random.random(size=(p,days))\n",
        "#np.log(4)\n",
        "j=12\n",
        "over = 10\n",
        "\n",
        "#10/np.cumsum(np.ones(100))\n",
        "\n",
        "b1 = 0.25  # original beta = beta value before epidemic\n",
        "b2 = 0.05 # end beta = beta at the end of epidemic\n",
        "b2 + (b1/np.exp((j+(b1*2.9)-over+1)/(b1*27)))"
      ]
    },
    {
      "cell_type": "code",
      "execution_count": 60,
      "metadata": {
        "id": "iT2XoyZad5Zw"
      },
      "outputs": [],
      "source": [
        "#| code-fold: true\n",
        "\n",
        "def seir_model_stoch(beta, beta2, p, num_I, num_R, years, T_Infectious, ART, control):\n",
        "\n",
        "    ################################\n",
        "    #### Explanation of inputs  ####\n",
        "    ################################\n",
        "\n",
        "    #### As seen in SSA, beta has a starting value, but after a certain threshold (as soon as incidence or prevalence reaches a certain threshold) behaviours change and beta decreases\n",
        "    # beta is initial value of beta at start of epidemic (usually 0.3, but can range from 0.2 to 0.5 as seen in SSA)\n",
        "    # beta2 is final value (usually around 0.05)\n",
        "    # p is total number of individuals in population\n",
        "    # num_I is initial number of PLWHA in population (for simulations start with something between 1 and 10 depending on size of p)\n",
        "    # num_R is initial number of people deceased from HIV/AIDS\n",
        "    # years is number of years you want to run simulation for\n",
        "    # T_infectious is distribution of progression of HIV in an individual (use 'gamma' for HIV)\n",
        "    # ART is to emulate ART usage:\n",
        "        # ART == 0 means no ART\n",
        "        # ART == 1 means ART stops evolution of I to R but does not stop spread from I to S\n",
        "        # ART == 2 means ART stops both I to R, and S to I\n",
        "    # control sets the threshold at which beta above will decrease\n",
        "        # control == 0 means no control i.e. beta never decreases\n",
        "        # control == 1 means beta decreases once incidence is 15 per 1 thousand population\n",
        "        # control == 2 means beta decreases once incidence is 30 per 1 thousand population\n",
        "\n",
        "\n",
        "    ################################\n",
        "    ##### Set up the dataframe #####\n",
        "    ################################\n",
        "\n",
        "    # Initialize population dataframe with data given by user\n",
        "    df = make_df(p, num_I, num_R)\n",
        "    \n",
        "    # This variable is used to track daily value of beta if it varies over time\n",
        "    xxbeta=np.array([],dtype=float)\n",
        "\n",
        "    # Initialize the arrays to return\n",
        "    # Below are numbers of S, I, R total\n",
        "    S=np.array([],dtype=int)\n",
        "    I=np.array([],dtype=int)\n",
        "    R=np.array([],dtype=int)\n",
        "    # Below are the daily additions in S, I, R\n",
        "    Spd=np.array([],dtype=int)\n",
        "    Ipd=np.array([],dtype=int)\n",
        "    Rpd=np.array([],dtype=int)\n",
        "\n",
        "    # Beta values to track spread\n",
        "    b=beta\n",
        "    b2=np.array([],dtype=float)\n",
        "    b1=b\n",
        "\n",
        "    # Signal to initiate decrease of beta\n",
        "    over = 0 \n",
        "\n",
        "    # signal to end transmission and deaths due to ART\n",
        "    art1 = 0\n",
        "    art2 = 0\n",
        "    \n",
        "    # Stochastic model so use random values to decide on progression\n",
        "    rand = np.random.random(size=(p,years))\n",
        "\n",
        "    # Depending if you want exponential, gamma, or Weibull distribution for T_Infectious\n",
        "    # Uses distributions found on blog part 3\n",
        "    if T_Infectious == 'expon':\n",
        "      ItoR = expon.rvs(loc=0,scale=10,size=p)\n",
        "    elif T_Infectious == 'gamma':\n",
        "      ItoR = gamma.rvs(4,loc=3,scale=2,size=p)    \n",
        "    else:\n",
        "      ItoR = weibull_min.rvs(2.3, loc=2, scale=20.11, size=p)\n",
        "\n",
        "\n",
        "    ################################\n",
        "    ####### Simulation code ########\n",
        "    ################################\n",
        "\n",
        "    # Iterate over every day the simulation is run\n",
        "    for j in range(0,years-1):\n",
        "\n",
        "        # Record daily beta values\n",
        "        xxbeta=np.append(xxbeta, b[j])\n",
        "\n",
        "        # First we get the index of the individuals that will change state today:\n",
        "\n",
        "        # Random number tells you which 'S' have been exposed on this day \n",
        "        if ART < 2:\n",
        "          StoI_index = df.loc[(df.State == 'S') & (df.Age < 49) & (rand[:,j] < b[j]*len(np.where(df.State=='I')[0])/(len(np.where(df.State=='I')[0])+len(np.where(df.State=='S')[0])))].index\n",
        "          StoS_index = df.loc[(df.State == 'S') & (df.Age < 49) & (rand[:,j] >= b[j]*len(np.where(df.State=='I')[0])/(len(np.where(df.State=='I')[0])+len(np.where(df.State=='S')[0])))].index\n",
        "        elif ART == 2: \n",
        "          if art2 == 0:\n",
        "            StoI_index = df.loc[(df.State == 'S') & (df.Age < 49) & (rand[:,j] < b[j]*len(np.where(df.State=='I')[0])/(len(np.where(df.State=='I')[0])+len(np.where(df.State=='S')[0])))].index\n",
        "            StoS_index = df.loc[(df.State == 'S') & (df.Age < 49) & (rand[:,j] >= b[j]*len(np.where(df.State=='I')[0])/(len(np.where(df.State=='I')[0])+len(np.where(df.State=='S')[0])))].index\n",
        "          elif art2 == 1:\n",
        "            StoI_index = df.loc[(df.State == 'S') & (df.Age > 55)].index # cannot happen so put an impossible condition like df.Age > 55 to emulate\n",
        "            StoS_index = df.loc[(df.State == 'S') & (df.Age < 49)].index # anyone S under 49 will stay S\n",
        "\n",
        "        StoRem_index = df.loc[(df.State == 'S') & (df.Age >= 49)].index\n",
        "        \n",
        "        # For each row, if a person has been a certain number of years in I, they will go to R (progression to AIDS and death)\n",
        "        # This follows ItoR variable which is either exponential or gamma distributed according to above\n",
        "        ItoRem_index = df.loc[(df.State == 'I') & (df.Age >= 49)].index\n",
        "        if ART == 0: #don't use ART\n",
        "          ItoR_index = df.loc[(df.State == 'I') & (j-df.Year >= ItoR) & (df.Age < 49)].index\n",
        "          ItoI_index = df.loc[(df.State == 'I') & (j-df.Year < ItoR) & (df.Age < 49)].index\n",
        "        elif ART > 0:\n",
        "          if art2 == 0:\n",
        "            ItoR_index = df.loc[(df.State == 'I') & (j-df.Year >= ItoR) & (df.Age < 49)].index\n",
        "            ItoI_index = df.loc[(df.State == 'I') & (j-df.Year < ItoR) & (df.Age < 49)].index\n",
        "          elif art2 ==1:\n",
        "            ItoR_index = df.loc[(df.State == 'I') & (df.Age > 55)].index # cannot happen so impossible condition\n",
        "            ItoI_index = df.loc[(df.State == 'I') & (df.Age < 49)].index            \n",
        "\n",
        "        RtoRem_index = df.loc[(df.State == 'R') & (df.Age >= 49)].index\n",
        "\n",
        "        RtoR_index = df.loc[(df.State == 'R') & (df.Age < 49)].index\n",
        "\n",
        "        # Use indexes collected above to populate per day values\n",
        "        Ipd = np.append(Ipd,len(StoI_index))\n",
        "        Rpd = np.append(Rpd,len(ItoR_index))\n",
        "\n",
        "        # Now we use the indexes collected above randomly to change the actual population dataframe to the new states\n",
        "        df.loc[ItoR_index, ['State','Year']] = ['S', j]\n",
        "        df.loc[ItoR_index, 'Age'] = df.loc[ItoR_index, 'Age'] + 1\n",
        "        df.loc[ItoI_index, 'Age'] = df.loc[ItoI_index, 'Age'] + 1\n",
        "        \n",
        "        df.loc[StoI_index, ['State','Year']] = ['I', j]\n",
        "        df.loc[StoI_index, 'Age'] = df.loc[StoI_index, 'Age'] + 1\n",
        "        df.loc[StoS_index, 'Age'] = df.loc[StoS_index, 'Age'] + 1\n",
        "        \n",
        "        df.loc[RtoR_index, 'Age'] = df.loc[RtoR_index, 'Age'] + 1\n",
        "\n",
        "        df.iloc[ItoRem_index] = ['S', j, 15]\n",
        "        df.iloc[StoRem_index] = ['S', j, 15]\n",
        "        df.iloc[RtoRem_index] = ['S', j, 15]\n",
        "\n",
        "        # Append the S, I, and R arrays\n",
        "        S=np.append(S,len(np.where(df.State=='S')[0]))\n",
        "        I=np.append(I,len(np.where(df.State=='I')[0]))\n",
        "        R=np.append(R,len(np.where(df.State=='R')[0]))\n",
        "\n",
        "        # Code below for control measures to reduce beta values\n",
        "        if control == 1:\n",
        "          if (I[-1]/p > 0.006):\n",
        "            art1 = 1\n",
        "            if over == 0:\n",
        "              over = j\n",
        "          \n",
        "          if art1 == 1:\n",
        "            if j > over + 15:    \n",
        "              art2 = 1\n",
        "\n",
        "          if over != 0:\n",
        "            b = beta2 + (b1/np.exp((j+(b1*2.9)-over+1)/(b1*27)))\n",
        "\n",
        "        if control == 2:\n",
        "          if (I[-1]/p > 0.01):\n",
        "            art1 = 1\n",
        "            if over == 0:\n",
        "              over = j\n",
        "          \n",
        "          if art1 == 1:\n",
        "            if j > over + 15:    \n",
        "              art2 = 1\n",
        "\n",
        "          if over != 0:\n",
        "            b = beta2 + (b1/np.exp((j+(b1*2.9)-over+1)/(b1*27)))\n",
        "\n",
        "\n",
        "        xxbeta2 = ((S[j-1]+I[j-1])/I[j-1])*Ipd[j]/S[j-1]\n",
        "        b2 = np.append(b2, xxbeta2)\n",
        "                \n",
        "    Ipd[0]+=num_I\n",
        "    Rpd[0]+=num_R\n",
        "\n",
        "    return S, I, R, Spd, Ipd, Rpd, xxbeta, b2, over"
      ]
    },
    {
      "attachments": {},
      "cell_type": "markdown",
      "metadata": {
        "id": "5F__Fhakfd1-"
      },
      "source": [
        "## Testing the model"
      ]
    },
    {
      "cell_type": "code",
      "execution_count": 63,
      "metadata": {
        "colab": {
          "base_uri": "https://localhost:8080/"
        },
        "id": "wpfAaUGTdarx",
        "outputId": "ea3d8591-d636-4a16-d089-21f018a731b9"
      },
      "outputs": [
        {
          "name": "stderr",
          "output_type": "stream",
          "text": [
            "100%|██████████| 6/6 [00:17<00:00,  2.84s/it]\n"
          ]
        }
      ],
      "source": [
        "#| code-fold: true\n",
        "\n",
        "# Define parameters for stochastic model\n",
        "years = 50\n",
        "p = 100000\n",
        "num_E = 0\n",
        "num_I = 50\n",
        "num_R = 0\n",
        "beta_stoch = [0.17,0.17,0.26,0.26,0.36,0.36]\n",
        "#beta_stoch = np.linspace(0.2,0.5,num=10)\n",
        "#beta_stoch = [0.1,0.1,0.1,0.1,0.1,0.1]\n",
        "beta_stoch2 = [0.05,0.05,0.05,0.05,0.05,0.05]\n",
        "#beta_stoch = beta_stoch2\n",
        "\n",
        "control= [1,1,1,1,2,2]\n",
        "\n",
        "n = len(beta_stoch)\n",
        "\n",
        "results_stoch = []\n",
        "\n",
        "# Run n stochastic simulations\n",
        "for i in tqdm.tqdm(range(n)):\n",
        "  res = seir_model_stoch(beta_stoch[i]*np.ones(years),beta_stoch2[i], p, num_I, num_R, years, 'gamma', 0, control[i])\n",
        "  results_stoch.append(res)"
      ]
    },
    {
      "cell_type": "code",
      "execution_count": 65,
      "metadata": {
        "colab": {
          "base_uri": "https://localhost:8080/",
          "height": 542
        },
        "id": "ibxz7LHaQmbz",
        "outputId": "75aa7a3d-0061-47b4-b60d-ef1863728e24"
      },
      "outputs": [
        {
          "data": {
            "application/vnd.plotly.v1+json": {
              "config": {
                "plotlyServerURL": "https://plot.ly"
              },
              "data": [
                {
                  "legendgroup": "Sim_0",
                  "line": {
                    "color": "yellow",
                    "dash": "dot"
                  },
                  "name": "Beta_meas0",
                  "type": "scatter",
                  "x": {
                    "bdata": "AAECAwQFBgcICQoLDA0ODxAREhMUFRYXGBkaGxwdHh8gISIjJCUmJygpKissLS4vMA==",
                    "dtype": "i1"
                  },
                  "y": {
                    "bdata": "Rx09CcRLwj+eeRWISwLAP2P6uJqYl8I/N9VTOxNHzT/wF/NOuZvFP/pqLrsIEbk//E3AVU6IwT8jk0DpNF67P4/Tut8KA80/7sdwYM2hyT/pKnI7VEy9PzaIY2kGCME/+uLflazNwT+xePns7dPGP+csbrIUO8U/X8i92qbCxj9AvIFgMOPDP46Cdovmh8M/6/Wbcj5Ixj+TbHCeQRvAP5drduBsWLs/3S9BjNH9wj/J+mkT9R7LP68sm1Sjc8M/gjZw7FwqxD+Cl/vzGMvCP7/Og48NY8Y/ytyj34ouxD+llXRBs+vBP/8H2McYhMM/P2SF4hA9xD9F1tzzJrfEP2B+CoN+SsQ/oTAHgrsuwj8qp5p5O3PBP4daHs3/fsE/3TqYgLutuj9jxwPB0S+5P/FWd6JW/Lo/9kqcHmdotz/4ZkZlDryvPwdN21OjGLc/at9y8T0WsT8LH0UysK6uP4saRnPtT6w/yQz4kItysD+Blx43ICeqP3B6If6Y4Kg/uD0qCWLvqT8=",
                    "dtype": "f8"
                  }
                },
                {
                  "legendgroup": "Sim_0",
                  "line": {
                    "color": "red",
                    "dash": "dot"
                  },
                  "name": "I_stoch0",
                  "type": "scatter",
                  "x": {
                    "bdata": "AAECAwQFBgcICQoLDA0ODxAREhMUFRYXGBkaGxwdHh8gISIjJCUmJygpKissLS4vMA==",
                    "dtype": "i1"
                  },
                  "y": {
                    "bdata": "0vvG155ZQj+pTZzc71BEP8e6uI0G8EY/GOyGbYsySz/a5sb0hCVOP8WPMXctIU8/cv4mFCLgUD/nUlxV9l1RP3sUrkfhelQ/x7q4jQbwVj89D+7O2m1XPw/W/znMl1c/smMjEK/rVz+37uapDrlZP45AvK5fsFs/Tzv8NVmjXj/B/1ayYyNgP1A25QrvcmE/sTOFzmvsYj8FwHgGDf1jP3sUrkfhemQ/oWez6nO1ZT+/1M+bilRoP+Un1T4dj2k/dF5jl6jeaj956SYxCKxsP5dWQ+IeS28/Q8U4fxMKcT/S+8bXnllyP3+HokCfyHM/OIQqNXugdT+InSl0XmN3P2Ni83FtqHg/E2HD0ytleT/Q0D/BxYp6P5qxaDo7GXw/pyIVxhaCfD9oBYasbvV8P8AEbt3NU30/DJOpglFJfT/VWwNbJVh8Pz4/jBAebXw/vHmqQ26Gez8P7s7abRd6P3RGlPYGX3g/iJ0pdF5jdz9F9dbAVgl2P6lNnNzvUHQ/qDXNO07RcT8=",
                    "dtype": "f8"
                  }
                },
                {
                  "legendgroup": "Sim_0",
                  "name": "Ip_stoch0",
                  "type": "bar",
                  "x": {
                    "bdata": "AAECAwQFBgcICQoLDA0ODxAREhMUFRYXGBkaGxwdHh8gISIjJCUmJygpKissLS4vMA==",
                    "dtype": "i1"
                  },
                  "y": {
                    "bdata": "4JwRpb3Bdz/HuriNBvBGP5LLf0i/fU0/LUMc6+I2Wj/HuriNBvBWP5LLf0i/fU0/lPYGX5hMVT8vbqMBvAVSP2EyVTAqqWM/exSuR+F6ZD8tQxzr4jZaP8WPMXctIV8//Knx0k1iYD+U9gZfmExlP5T2Bl+YTGU/+n5qvHSTaD/gnBGlvcFnP/p+arx0k2g/rK3YX3ZPbj/gnBGlvcFnP5T2Bl+YTGU/rK3YX3ZPbj/HuriNBvB2PzvfT42XbnI/bqMBvAUSdD9hMlUwKqlzPwfwFkhQ/Hg/+n5qvHSTeD/gnBGlvcF3P18HzhlR2ns/xY8xdy0hfz+cxCCwcmiBPzvfT42XboI/nMQgsHJogT8VjErqBDSBPy9uowG8BYI/hlrTvOMUfT9fB84ZUdp7P6yt2F92T34/ObTIdr6fej8vbqMBvAVyPxNhw9MrZXk/SFD8GHPXcj/8qfHSTWJwP3npJjEIrGw/xY8xdy0hbz/gnBGlvcFnP5T2Bl+YTGU/exSuR+F6ZD8=",
                    "dtype": "f8"
                  }
                },
                {
                  "legendgroup": "Sim_0",
                  "line": {
                    "color": "green",
                    "dash": "dot"
                  },
                  "name": "R_stoch0",
                  "type": "scatter",
                  "x": {
                    "bdata": "AAECAwQFBgcICQoLDA0ODxAREhMUFRYXGBkaGxwdHh8gISIjJCUmJygpKissLS4vMA==",
                    "dtype": "i1"
                  },
                  "y": {
                    "bdata": "AAAAAAAAAAAAAAAAAAAAAAAAAAAAAAAAAAAAAAAAAAAAAAAAAAAAAAAAAAAAAAAAAAAAAAAAAAAAAAAAAAAAAAAAAAAAAAAAAAAAAAAAAAAAAAAAAAAAAAAAAAAAAAAAAAAAAAAAAAAAAAAAAAAAAAAAAAAAAAAAAAAAAAAAAAAAAAAAAAAAAAAAAAAAAAAAAAAAAAAAAAAAAAAAAAAAAAAAAAAAAAAAAAAAAAAAAAAAAAAAAAAAAAAAAAAAAAAAAAAAAAAAAAAAAAAAAAAAAAAAAAAAAAAAAAAAAAAAAAAAAAAAAAAAAAAAAAAAAAAAAAAAAAAAAAAAAAAAAAAAAAAAAAAAAAAAAAAAAAAAAAAAAAAAAAAAAAAAAAAAAAAAAAAAAAAAAAAAAAAAAAAAAAAAAAAAAAAAAAAAAAAAAAAAAAAAAAAAAAAAAAAAAAAAAAAAAAAAAAAAAAAAAAAAAAAAAAAAAAAAAAAAAAAAAAAAAAAAAAAAAAAAAAAAAAAAAAAAAAAAAAA=",
                    "dtype": "f8"
                  }
                },
                {
                  "legendgroup": "Sim_1",
                  "line": {
                    "color": "yellow",
                    "dash": "dot"
                  },
                  "name": "Beta_meas1",
                  "type": "scatter",
                  "x": {
                    "bdata": "AAECAwQFBgcICQoLDA0ODxAREhMUFRYXGBkaGxwdHh8gISIjJCUmJygpKissLS4vMA==",
                    "dtype": "i1"
                  },
                  "y": {
                    "bdata": "CRXEg9qzsz+OH6bFx429P0IItIwtKMk/cSfTa580wT80GMmE8wLAP97fk11adcM//VBz9yOpyz8/Z55SkMbHP7zi10fqScs/xW18La9+xz9JKiZsg5XKP/sFjXPxpcQ/1vq4piRMyj9t/502W57FP80cnyKCPME/yKJuOKYRuz8II3G/VpXFP9K/qB4aVcs/FWzMw3CPxz8mdpYM1U3GP4wkO8MZHcQ/pYupn5Ygxj811eOAcHPDP4/3vDl20sU/Pv3J8ou6xD+CaMG0FrvAP7cgavIGKso/mIJgxJiRxT8B5shm0cLEP07OZDV3tsA/EEtHBDTOxz+NOkOIghzBPzQv5qbdDbs/MbBweHEatz8M1isGXCC8P0yjoa2dMLU/yyjQzqMhsj9JC489/6qnP2qrw3sXYao/3LKzqO07sz9jxWk4ZbazP5OMv3+a/LA/YEbxq+j+sD+52850/sGqP9pHQQro4qk/3PYOdvrGpT/OhSkPvPqqPwrTbLuTP6M/PHK2/HfkrD8=",
                    "dtype": "f8"
                  }
                },
                {
                  "legendgroup": "Sim_1",
                  "line": {
                    "color": "red",
                    "dash": "dot"
                  },
                  "name": "I_stoch1",
                  "type": "scatter",
                  "x": {
                    "bdata": "AAECAwQFBgcICQoLDA0ODxAREhMUFRYXGBkaGxwdHh8gISIjJCUmJygpKissLS4vMA==",
                    "dtype": "i1"
                  },
                  "y": {
                    "bdata": "Q8U4fxMKQT/S+8bXnllCP9wRTgte9EU/D9b/OcyXRz+JtfgUAONJP0uwOJz51Uw/Dat4I/PITz+L4H8r2bFRP2EyVTAqqVM/rthfdk8eVj8ouFhRg2lYP+Un1T4dj1k/A5Xx7zMuXD9+dOrKZ3leP5PGaB1VTWA/Q8U4fxMKYT9IUPwYc9diP/Fo44i1+GQ/mYHK+PcZZz/6fmq8dJNoPzm0yHa+n2o/eekmMQisbD+fPCzUmuZtPxn/PuPCgXA/xooaTMPwcT+xM4XOa+xyP6Xap+MxA3U/Xtcv2A3bdj+u8C4X8Z14P/8JLlbUYHo/is3HtaFifD9xAz4/jBB+P087/DVZo34/IQIOoUrNfj+0q5Dyk2p/P4rlllZD4n4/YB+duvJZfj8xzt+EQgR8P0qYaftXVno/rvAuF/GdeD8P1v85zJd3P6Fns+pztXU/exSuR+F6dD8r+64I/rdyP5zEILByaHE/LnO6LCY2bz8+P4wQHm1sPy1DHOviNmo/KLhYUYNpaD8=",
                    "dtype": "f8"
                  }
                },
                {
                  "legendgroup": "Sim_1",
                  "name": "Ip_stoch1",
                  "type": "bar",
                  "x": {
                    "bdata": "AAECAwQFBgcICQoLDA0ODxAREhMUFRYXGBkaGxwdHh8gISIjJCUmJygpKissLS4vMA==",
                    "dtype": "i1"
                  },
                  "y": {
                    "bdata": "rthfdk8edj9hMlUwKqlDPy9uowG8BVI/kst/SL99TT+Sy39Iv31NP2EyVTAqqVM/xY8xdy0hXz+Sy39Iv31dP0hQ/Bhz12I/L26jAbwFYj/HuriNBvBmP2EyVTAqqWM/LUMc6+I2aj/gnBGlvcFnP3sUrkfhemQ/FYxK6gQ0YT956SYxCKxsP26jAbwFEnQ/VcGopE5Acz9uowG8BRJ0P1XBqKROQHM/x7q4jQbwdj+hZ7Pqc7V1PxNhw9MrZXk/ObTIdr6fej/UK2UZ4lh3P1XBqKROQIM/Iv32deCcgT8730+Nl26CP95xio7k8n8/dEaU9gZfiD9IUPwYc9eCP9IA3gIJin8/U5YhjnVxez8JG55eKcuAPyDSb18Hznk/oWez6nO1dT9fB84ZUdprP3npJjEIrGw/YTJVMCqpcz9IUPwYc9dyP8WPMXctIW8/eekmMQisbD+U9gZfmExlP0hQ/Bhz12I/kst/SL99XT/8qfHSTWJgP5T2Bl+YTFU/kst/SL99XT8=",
                    "dtype": "f8"
                  }
                },
                {
                  "legendgroup": "Sim_1",
                  "line": {
                    "color": "green",
                    "dash": "dot"
                  },
                  "name": "R_stoch1",
                  "type": "scatter",
                  "x": {
                    "bdata": "AAECAwQFBgcICQoLDA0ODxAREhMUFRYXGBkaGxwdHh8gISIjJCUmJygpKissLS4vMA==",
                    "dtype": "i1"
                  },
                  "y": {
                    "bdata": "AAAAAAAAAAAAAAAAAAAAAAAAAAAAAAAAAAAAAAAAAAAAAAAAAAAAAAAAAAAAAAAAAAAAAAAAAAAAAAAAAAAAAAAAAAAAAAAAAAAAAAAAAAAAAAAAAAAAAAAAAAAAAAAAAAAAAAAAAAAAAAAAAAAAAAAAAAAAAAAAAAAAAAAAAAAAAAAAAAAAAAAAAAAAAAAAAAAAAAAAAAAAAAAAAAAAAAAAAAAAAAAAAAAAAAAAAAAAAAAAAAAAAAAAAAAAAAAAAAAAAAAAAAAAAAAAAAAAAAAAAAAAAAAAAAAAAAAAAAAAAAAAAAAAAAAAAAAAAAAAAAAAAAAAAAAAAAAAAAAAAAAAAAAAAAAAAAAAAAAAAAAAAAAAAAAAAAAAAAAAAAAAAAAAAAAAAAAAAAAAAAAAAAAAAAAAAAAAAAAAAAAAAAAAAAAAAAAAAAAAAAAAAAAAAAAAAAAAAAAAAAAAAAAAAAAAAAAAAAAAAAAAAAAAAAAAAAAAAAAAAAAAAAAAAAAAAAAAAAAAAAA=",
                    "dtype": "f8"
                  }
                },
                {
                  "legendgroup": "Sim_2",
                  "line": {
                    "color": "yellow",
                    "dash": "dot"
                  },
                  "name": "Beta_meas2",
                  "type": "scatter",
                  "x": {
                    "bdata": "AAECAwQFBgcICQoLDA0ODxAREhMUFRYXGBkaGxwdHh8gISIjJCUmJygpKissLS4vMA==",
                    "dtype": "i1"
                  },
                  "y": {
                    "bdata": "j1fNhFQ4zD9nL0u5mXPSP/vnIqvQfsQ/DKKI46ir0T+caHH+j1jKP0f+JM0rCs8/CsZM4qtS0T+wQoH2QuPMP1PYBLz+7tE/roc8+2GTzT+HbmgpSerOP1cEI3mtQcs/LESwzyijzz+QcnzRhO/QP4hkgwViU9I/kDpN7Poq0z8YzOFXN8vJP5Si6wRavcs/X+RsCU6nxT/pwExNXuvCPz9Uv+GGA8I/ZA5U4Q4LwT81beNeof69P5VVMHFY7r0/M5vNo3h3vT877rdk1rK2PxMmOdyTErY/Yz0x0KAwtD8+pLeYOEa0P4GUTt11r7M/F5m4Tvecsz8iIOqlAAyvP4JLJpAESrM/s3ZRquMhsT/pmaBkXa+wP+I5sHu2iaw/ZzHE0ylirD+OEL/RWA+wP/rwKwRFeKk/7VCWnv95rj+MAfSc/8KoPwGQk//4mrA/o2xeynHooT/3Q9H7T6mpP1NvEnttBqQ/a67EtDMzqT+UT1v9ZTixPyb335H2saY/RYc5CQzoqD8=",
                    "dtype": "f8"
                  }
                },
                {
                  "legendgroup": "Sim_2",
                  "line": {
                    "color": "red",
                    "dash": "dot"
                  },
                  "name": "I_stoch2",
                  "type": "scatter",
                  "x": {
                    "bdata": "AAECAwQFBgcICQoLDA0ODxAREhMUFRYXGBkaGxwdHh8gISIjJCUmJygpKissLS4vMA==",
                    "dtype": "i1"
                  },
                  "y": {
                    "bdata": "vqQxWkdVQz/6fmq8dJNIP6ciFcYWgkw/uRluwOeHUT/xaOOItfhUP1bxRuaRP1g/NlmjHqLRXT9+b9Of/UhhP/Fo44i1+GQ/kZvhBnx+aD8DlfHvMy5sP8H/VrJjI3A/N2xblNkgcz8fuqC+ZU53P6ciFcYWgnw/P1JEhlW8gT9AahMn9zuEP03zjlN0JIc/HNMTlnhAiT+JQWDl0CKLP/evrDQpBY0/3uUivhOzjj+kqgmi7gOQP/hwyXGndJA/1qiHaHQHkT+b/uxHisiQPzdUjPM3oZA/mzi536EokD8AOsyXF2CPPxCSBUzg1o0/vAUSFD/GjD+Ss7CnHf6KP7fu5qkOuYk/7Q2+MJkqiD8K16NwPQqHP7q9pDFaR4U/IxXGFoIchD9dp5GWytuBPxGN7iB2poA/uB6F61G4fj99XBsqxvl7Pz0nvW987Xk/SYCaWrbWdz9ZTGw+rg11P4dtizIbZHI/rKjBNAwfcT/SAN4CCYpvP0YldQKaCGs/eLmI78SsZz8=",
                    "dtype": "f8"
                  }
                },
                {
                  "legendgroup": "Sim_2",
                  "name": "Ip_stoch2",
                  "type": "bar",
                  "x": {
                    "bdata": "AAECAwQFBgcICQoLDA0ODxAREhMUFRYXGBkaGxwdHh8gISIjJCUmJygpKissLS4vMA==",
                    "dtype": "i1"
                  },
                  "y": {
                    "bdata": "INJvXwfOeT9fB84ZUdpbP2EyVTAqqVM/YTJVMCqpYz8vbqMBvAViPxNhw9MrZWk//Knx0k1icD8JG55eKctwP+0NvjCZKng/7Q2+MJkqeD+Sy39Iv319P588LNSa5n0/6Gor9pfdgz+NKO0NvjCJP4Lix5i7lpA/UdobfGEylT9lGeJYF7eRP6Fns+pztZU/mN2Th4Vakz8730+Nl26SP0hQ/Bhz15I/zojS3uALkz9lGeJYF7eRPzvfT42XbpI/whcmUwWjkj8ZBFYOLbKNP/KwUGuad4w/INJvXwfOiT+NKO0NvjCJP+CcEaW9wYc/ukkMAiuHhj8VjErqBDSBP26jAbwFEoQ/j1N0JJf/gD/FjzF3LSF/PxNhw9MrZXk/1CtlGeJYdz8H8BZIUPx4PyL99nXgnHE/YTJVMCqpcz+Sy39Iv31tPy9uowG8BXI/L26jAbwFYj/gnBGlvcFnP/yp8dJNYmA/L26jAbwFYj/HuriNBvBmP18HzhlR2ls/LUMc6+I2Wj8=",
                    "dtype": "f8"
                  }
                },
                {
                  "legendgroup": "Sim_2",
                  "line": {
                    "color": "green",
                    "dash": "dot"
                  },
                  "name": "R_stoch2",
                  "type": "scatter",
                  "x": {
                    "bdata": "AAECAwQFBgcICQoLDA0ODxAREhMUFRYXGBkaGxwdHh8gISIjJCUmJygpKissLS4vMA==",
                    "dtype": "i1"
                  },
                  "y": {
                    "bdata": "AAAAAAAAAAAAAAAAAAAAAAAAAAAAAAAAAAAAAAAAAAAAAAAAAAAAAAAAAAAAAAAAAAAAAAAAAAAAAAAAAAAAAAAAAAAAAAAAAAAAAAAAAAAAAAAAAAAAAAAAAAAAAAAAAAAAAAAAAAAAAAAAAAAAAAAAAAAAAAAAAAAAAAAAAAAAAAAAAAAAAAAAAAAAAAAAAAAAAAAAAAAAAAAAAAAAAAAAAAAAAAAAAAAAAAAAAAAAAAAAAAAAAAAAAAAAAAAAAAAAAAAAAAAAAAAAAAAAAAAAAAAAAAAAAAAAAAAAAAAAAAAAAAAAAAAAAAAAAAAAAAAAAAAAAAAAAAAAAAAAAAAAAAAAAAAAAAAAAAAAAAAAAAAAAAAAAAAAAAAAAAAAAAAAAAAAAAAAAAAAAAAAAAAAAAAAAAAAAAAAAAAAAAAAAAAAAAAAAAAAAAAAAAAAAAAAAAAAAAAAAAAAAAAAAAAAAAAAAAAAAAAAAAAAAAAAAAAAAAAAAAAAAAAAAAAAAAAAAAAAAAA=",
                    "dtype": "f8"
                  }
                },
                {
                  "legendgroup": "Sim_3",
                  "line": {
                    "color": "yellow",
                    "dash": "dot"
                  },
                  "name": "Beta_meas3",
                  "type": "scatter",
                  "x": {
                    "bdata": "AAECAwQFBgcICQoLDA0ODxAREhMUFRYXGBkaGxwdHh8gISIjJCUmJygpKissLS4vMA==",
                    "dtype": "i1"
                  },
                  "y": {
                    "bdata": "5Pd83/jayj/D+emrcKjEPzfVUzsTR80/gf1g2pBd0z/T5zcw+YrGP3pfsiTdp80/nWyBG2WYyz+QqcCRZN3OP+ekyZEoJMs/HU7rqPslzj86/UicUFzJP2nUQk4+KNA/ndoQdS9/zT+tkfJYP3LOP525jCJVatA/K2ufK6st0T9ujM8Gf0XPP9daa6211s0/93aSWNtjyD/E01Qj5i7IP1vCy1qh8cI/6Z5cKaRiwj+svKNP2R7BP7fmB8q8TMA/bA+k/1Ivuz9DTuZiAWPAP9na0a8CQLU/msyRgfaxtj97zatdRHq1PyoagzKLVrQ/2TeexdL7rj/hWfdyBHGyP/eH/o0E77E/I4RH1pFPrT//6hG0ftutPwroTdRyGLI/lPoea7L9rD+YtIagJMCxP8u9Nu0aPK4/38drFLfsrD+14NMY+zysP7TgIU3mmqw/tLy5JULXpT8Fu5Nvu66yP82kkBn3Rq4//5LZorQSrj/5rCSsy1umP+ndcX8SwaU/UALta4qroD8=",
                    "dtype": "f8"
                  }
                },
                {
                  "legendgroup": "Sim_3",
                  "line": {
                    "color": "red",
                    "dash": "dot"
                  },
                  "name": "I_stoch3",
                  "type": "scatter",
                  "x": {
                    "bdata": "AAECAwQFBgcICQoLDA0ODxAREhMUFRYXGBkaGxwdHh8gISIjJCUmJygpKissLS4vMA==",
                    "dtype": "i1"
                  },
                  "y": {
                    "bdata": "qU2c3O9QRD/HuriNBvBGPwOV8e8zLkw/i+B/K9mxUT8z+WabG9NTPw/W/znMl1c/0NA/wcWKWj/zyB8MPPdeP/TDCOHRxmE/tr5IaMu5ZD/gnBGlvcFnPwOV8e8zLmw/sBu2LcpscD8niLoPQGpzPzCeQUP/BHc/XwfOGVHaez/8qfHSTWKAP0Deq1Ym/II/I6Et51JchT+EKjV7oBWIP921hHzQs4k//5WVJqWgiz+jryDNWDSNP5NX5xiQvY4/JgFqatlajz8IVWr2QCuQPzJVMCqpE5A/k+NO6WD9jz+0q5Dyk2qPP8GQ1a2ek44/S7A4nPnVjD+nlq31RUKLP7fu5qkOuYk/7Q2+MJkqiD+lZg+0AkOGP/naM0sC1IQ/uaXVkLjHgj8FqKlla32BP4tUGFsIcoA/BK3AkNWtfj+WPnRBfct8Pw/uztptF3o/TfOOU3Qkdz+EEmba/pV1P63AkNWtnnM/ERlW8UbmcT/zyB8MPPduP/YjRWRYxWs/NSkF3V7SaD8=",
                    "dtype": "f8"
                  }
                },
                {
                  "legendgroup": "Sim_3",
                  "name": "Ip_stoch3",
                  "type": "bar",
                  "x": {
                    "bdata": "AAECAwQFBgcICQoLDA0ODxAREhMUFRYXGBkaGxwdHh8gISIjJCUmJygpKissLS4vMA==",
                    "dtype": "i1"
                  },
                  "y": {
                    "bdata": "INJvXwfOeT/8qfHSTWJQPy1DHOviNlo/lPYGX5hMZT/FjzF3LSFfP8e6uI0G8GY/E2HD0ytlaT/ecYqO5PJvP/yp8dJNYnA/iIVa07zjdD97FK5H4Xp0P588LNSa5n0/dnEbDeAtgD/b+X5qvHSDP4C3QILix4g/uB6F61G4jj9MN4lBYOWQP4ts5/up8ZI/7FG4HoXrkT8rhxbZzveTPyL99nXgnJE/taZ5xyk6kj+1pnnHKTqSP/jCZKpgVJI/MlUwKqkTkD+lTkATYcOTP7N78rBQa4o/5j+k374OjD+ze/KwUGuKP/p+arx0k4g/taZ5xyk6gj97FK5H4XqEP0hQ/Bhz14I/hlrTvOMUfT9fB84ZUdp7P8WPMXctIX8/1CtlGeJYdz8g0m9fB855P3sUrkfhenQ/O99PjZducj8JG55eKctwP95xio7k8m8/rthfdk8eZj8JG55eKctwPxNhw9MrZWk/x7q4jQbwZj/FjzF3LSFfPy1DHOviNlo/L26jAbwFUj8=",
                    "dtype": "f8"
                  }
                },
                {
                  "legendgroup": "Sim_3",
                  "line": {
                    "color": "green",
                    "dash": "dot"
                  },
                  "name": "R_stoch3",
                  "type": "scatter",
                  "x": {
                    "bdata": "AAECAwQFBgcICQoLDA0ODxAREhMUFRYXGBkaGxwdHh8gISIjJCUmJygpKissLS4vMA==",
                    "dtype": "i1"
                  },
                  "y": {
                    "bdata": "AAAAAAAAAAAAAAAAAAAAAAAAAAAAAAAAAAAAAAAAAAAAAAAAAAAAAAAAAAAAAAAAAAAAAAAAAAAAAAAAAAAAAAAAAAAAAAAAAAAAAAAAAAAAAAAAAAAAAAAAAAAAAAAAAAAAAAAAAAAAAAAAAAAAAAAAAAAAAAAAAAAAAAAAAAAAAAAAAAAAAAAAAAAAAAAAAAAAAAAAAAAAAAAAAAAAAAAAAAAAAAAAAAAAAAAAAAAAAAAAAAAAAAAAAAAAAAAAAAAAAAAAAAAAAAAAAAAAAAAAAAAAAAAAAAAAAAAAAAAAAAAAAAAAAAAAAAAAAAAAAAAAAAAAAAAAAAAAAAAAAAAAAAAAAAAAAAAAAAAAAAAAAAAAAAAAAAAAAAAAAAAAAAAAAAAAAAAAAAAAAAAAAAAAAAAAAAAAAAAAAAAAAAAAAAAAAAAAAAAAAAAAAAAAAAAAAAAAAAAAAAAAAAAAAAAAAAAAAAAAAAAAAAAAAAAAAAAAAAAAAAAAAAAAAAAAAAAAAAAAAAA=",
                    "dtype": "f8"
                  }
                },
                {
                  "legendgroup": "Sim_4",
                  "line": {
                    "color": "yellow",
                    "dash": "dot"
                  },
                  "name": "Beta_meas4",
                  "type": "scatter",
                  "x": {
                    "bdata": "AAECAwQFBgcICQoLDA0ODxAREhMUFRYXGBkaGxwdHh8gISIjJCUmJygpKissLS4vMA==",
                    "dtype": "i1"
                  },
                  "y": {
                    "bdata": "sQtRQRrW0j9D86UUULjUP8gbYdAQS9c/YAiZVt6y2j/WvLXbVgrYP0f/RGc66Nc/rWkOrlTC1T9TGuKtnTTWP5Slq9nbW9Y/UDmAMz0z2T/bgCQ6PIbUP3bAYX3WKNY/7mBZV5oP1D/FwtD4io7SP9291aNdddA/3WIFBz68zj887X1AflTMP0yDuhlqZ8k/sGOhcgfxxz945VDfuKfGPzIjLgJIXcQ/NQIv/WFywj/0kgfoAgDBP0EoPn5oA8E//KIv+59Nvj+BHlzERhe+P1h+8GFpTLs/wpdcuSVYuj9Iq6D/ueW4P4uwrENX9bg/iZ9nXHDxtD/0Jt9mZWi1PxtKpQResLU/6tlypz6jsj8Mg6xOb5uyPwaeNuoworM/e2LYID+Gsj8fpZ97/J6xP6beOTMQsLA/n/AMwI+OsD80A2CBAMWxP9lN4u7ZfLA/YkOJ35Fzrz8WcT2cToaxPyZ1JEjxJq4/ylrG/nA6rT87YI4cu1KsP7pf/gUOia0/IM0bAeuHqj8=",
                    "dtype": "f8"
                  }
                },
                {
                  "legendgroup": "Sim_4",
                  "line": {
                    "color": "red",
                    "dash": "dot"
                  },
                  "name": "I_stoch4",
                  "type": "scatter",
                  "x": {
                    "bdata": "AAECAwQFBgcICQoLDA0ODxAREhMUFRYXGBkaGxwdHh8gISIjJCUmJygpKissLS4vMA==",
                    "dtype": "i1"
                  },
                  "y": {
                    "bdata": "gJ9x4UBIRj9LsDic+dVMP2EyVTAqqVM/vHmqQ26GWz8vbqMBvAViP+0NvjCZKmg/XKyowTQMbz+6MT1hiQd0P3jRV5BmLHo/ZRniWBe3gT8G2EenrnyGP+49XHLcKY0/Zd8Vwf9Wkj8f9GxWfa6WP68I/reSHZs/3nGKjuTynz8ipkQSvYyiP4iFWtO846Q/H7qgvmVOpz8DfSJPkq6pP9WVz/I8uKs/n3b4a7JGrT9cyY6NQLyuP20csRafArA/0JuKVBhbsD+1N/jCZKqwP+eMKO0NvrA/0H6kiAyrsD+3Yn/ZPXmwP2e4AZ8fRrA/xXJLqyFxrz+fAmA8g4auP+8gdqbQea0/mrFoOjsZrD8DJnDrbp6qP3Tv4ZLjTqk/9Zz0vvG1pz/Yuz/eq1amP7raiv1l96Q/tTLhl/p5oz9IisiwijeiP+uoaoKo+6A/3qtWJvxSnz9cWg2JeyydP2iz6nO1FZs/fH4YITzamD+MEB5tHLGWP16FlJ9U+5Q/EqW9wRcmkz8=",
                    "dtype": "f8"
                  }
                },
                {
                  "legendgroup": "Sim_4",
                  "name": "Ip_stoch4",
                  "type": "bar",
                  "x": {
                    "bdata": "AAECAwQFBgcICQoLDA0ODxAREhMUFRYXGBkaGxwdHh8gISIjJCUmJygpKissLS4vMA==",
                    "dtype": "i1"
                  },
                  "y": {
                    "bdata": "eekmMQisfD8vbqMBvAViPy1DHOviNmo/exSuR+F6dD8g0m9fB855Pwkbnl4py4A/exSuR+F6hD/A7J48LNSKP5zEILByaJE/mpmZmZmZmT8pXI/C9SicP1XBqKROQKM/ukkMAiuHpj/pJjEIrByqPxQ/xty1hKw/Nqs+V1uxrz/jNhrAWyCxP3bgnBGlvbE/BTQRNjy9sj9y+Q/pt6+zP7prCfmgZ7M/at5xio7ksj/4wmSqYFSyPzMzMzMzM7M/h6dXyjLEsT8ep+hILv+xP5OpglFJnbA/Qxzr4jYasD+srdhfdk+uPwTnjCjtDa4/5WGh1jTvqD89m1Wfq62oP1K4HoXrUag/001iEFg5pD92Tx4Wak2jP5jdk4eFWqM/nMQgsHJooT/FjzF3LSGfP18HzhlR2ps/pgpGJXUCmj+mCkYldQKaP/5l9+RhoZY/sb/snjwslD9EaW/whcmUP8X+snvysJA/JXUCmggbjj/A7J48LNSKP5qZmZmZmYk/lPYGX5hMhT8=",
                    "dtype": "f8"
                  }
                },
                {
                  "legendgroup": "Sim_4",
                  "line": {
                    "color": "green",
                    "dash": "dot"
                  },
                  "name": "R_stoch4",
                  "type": "scatter",
                  "x": {
                    "bdata": "AAECAwQFBgcICQoLDA0ODxAREhMUFRYXGBkaGxwdHh8gISIjJCUmJygpKissLS4vMA==",
                    "dtype": "i1"
                  },
                  "y": {
                    "bdata": "AAAAAAAAAAAAAAAAAAAAAAAAAAAAAAAAAAAAAAAAAAAAAAAAAAAAAAAAAAAAAAAAAAAAAAAAAAAAAAAAAAAAAAAAAAAAAAAAAAAAAAAAAAAAAAAAAAAAAAAAAAAAAAAAAAAAAAAAAAAAAAAAAAAAAAAAAAAAAAAAAAAAAAAAAAAAAAAAAAAAAAAAAAAAAAAAAAAAAAAAAAAAAAAAAAAAAAAAAAAAAAAAAAAAAAAAAAAAAAAAAAAAAAAAAAAAAAAAAAAAAAAAAAAAAAAAAAAAAAAAAAAAAAAAAAAAAAAAAAAAAAAAAAAAAAAAAAAAAAAAAAAAAAAAAAAAAAAAAAAAAAAAAAAAAAAAAAAAAAAAAAAAAAAAAAAAAAAAAAAAAAAAAAAAAAAAAAAAAAAAAAAAAAAAAAAAAAAAAAAAAAAAAAAAAAAAAAAAAAAAAAAAAAAAAAAAAAAAAAAAAAAAAAAAAAAAAAAAAAAAAAAAAAAAAAAAAAAAAAAAAAAAAAAAAAAAAAAAAAAAAAA=",
                    "dtype": "f8"
                  }
                },
                {
                  "legendgroup": "Sim_5",
                  "line": {
                    "color": "yellow",
                    "dash": "dot"
                  },
                  "name": "Beta_meas5",
                  "type": "scatter",
                  "x": {
                    "bdata": "AAECAwQFBgcICQoLDA0ODxAREhMUFRYXGBkaGxwdHh8gISIjJCUmJygpKissLS4vMA==",
                    "dtype": "i1"
                  },
                  "y": {
                    "bdata": "LMpriOh+0D/rJoWoiGDUP3IHrOXjntI/GOlP6jxb1T/dwkxwBM7XP9zhhnVD7Ns/2K/TYenK1j8fbZ2tsJHTP5+chH3x0NQ/XS+UcijB0z8h1q0LKibXP35Sn7oXadk/TQ83/ott1D+f3krnaPTTPzQLGWY2oNE/5fJlgIdM0D9hRwJs5GnOP2yU+0b9Wss/AJHgo0lTyj/8bsHeN0nJP14K4MWN/8Q/3ioLaFDcxD9DoMx2+j7BPwI4JiwqgMI/l6rOxj3AwT/6hE/cX5XAPz9TphdSDr0/W+t13NzPuj9gNN2ONUi5P5mwlE52+Lc/MvyU1VMAuD/fzUz3A4G1P6CCM3fhj7Y/hJ2r9oo3tj9qW5PK0A+0P00nDAbFw7E/WKAfLHSSsj9+uEtooWqwP5Bmb7c6tLA/QNkWGwausT84I0avXzCwP+cb3mn0brE/gjMphMn8rj8v5EvVuj6vPwJuycZ+fq8/OWC3v+kwrD8Us6UNR4+tP00HhfIJFLA/JXv80jcFrD8=",
                    "dtype": "f8"
                  }
                },
                {
                  "legendgroup": "Sim_5",
                  "line": {
                    "color": "red",
                    "dash": "dot"
                  },
                  "name": "I_stoch5",
                  "type": "scatter",
                  "x": {
                    "bdata": "AAECAwQFBgcICQoLDA0ODxAREhMUFRYXGBkaGxwdHh8gISIjJCUmJygpKissLS4vMA==",
                    "dtype": "i1"
                  },
                  "y": {
                    "bdata": "OIQqNXugRT8DlfHvMy5MP4vgfyvZsVE/x7q4jQbwVj9+dOrKZ3lePysTfqmfN2U/jkC8rl+waz8z4Zf6eVNxP4CfceFASHY/yOpWz0nvez9qGD4ipkSCP5kNMsnIWYg/GZC93v3xjj+6awn5oGeTP6G5TiMtlZc/TyMtlbcjnD9xGw3gLZCgPzylg/V/DqM/WhKgppatpT/hYkUNpmGoP5HQlnMprqo/tJPBUfLqrD+srdhfdk+uPyKOdXEbDbA/k4ychT3tsD/K4Ch5dY6xPyLgEKrU7LE/B5lk5CzssT8tYAK37uaxPzkLe9rhr7E/NxrAWyBBsT9UqdkDrcCwP+8bX3tmSbA/0gDeAgmKrz+GAyFZwASuPyk/qfbpeKw/V+wvuycPqz8TfqmfNxWpP1IP0egOYqc/kIMSZtr+pT/GounsZHCkP3/Bbti2KKM/fjUHCObooT+wG7YtymygP2RYxRuZR54/aHke3J21mz+utmJ/2T2ZPw4QzNHj95Y/qRPQRNjwlD8=",
                    "dtype": "f8"
                  }
                },
                {
                  "legendgroup": "Sim_5",
                  "name": "Ip_stoch5",
                  "type": "bar",
                  "x": {
                    "bdata": "AAECAwQFBgcICQoLDA0ODxAREhMUFRYXGBkaGxwdHh8gISIjJCUmJygpKissLS4vMA==",
                    "dtype": "i1"
                  },
                  "y": {
                    "bdata": "U5YhjnVxez8VjErqBDRhP3sUrkfhemQ/kst/SL99bT+U9gZfmEx1P4Lix5i7loA/SFD8GHPXgj8OvjCZKhiFP+Y/pN++Dow/0m9fB84ZkT9KDAIrhxaZPw3gLZCg+KE/MzMzMzMzoz/gnBGlvcGnPy1DHOviNqo/LSEf9GxWrT+oxks3iUGwP+M2GsBbILE/WRe30QDesj+M22gAb4G0P86I0t7gC7M/z/dT46WbtD8aUdobfGGyP8/3U+Olm7Q/d76fGi/dtD97FK5H4Xq0P4/C9Shcj7I/vVKWIY51sT8u/yH99nWwP+cdp+hILq8/HcnlP6Tfrj9GJXUCmgirP7hAguLHmKs/1QloImx4qj9vgQTFjzGnP0Ck374OnKM//Yf029eBoz8dOGdEaW+gP8WPMXctIZ8/+zpwzojSnj85tMh2vp+aP33Qs1n1uZo/NBE2PL1Slj8OvjCZKhiVPx4Wak3zjpM/dnEbDeAtkD/FjzF3LSGPPz9XW7G/7I4/+n5qvHSTiD8=",
                    "dtype": "f8"
                  }
                },
                {
                  "legendgroup": "Sim_5",
                  "line": {
                    "color": "green",
                    "dash": "dot"
                  },
                  "name": "R_stoch5",
                  "type": "scatter",
                  "x": {
                    "bdata": "AAECAwQFBgcICQoLDA0ODxAREhMUFRYXGBkaGxwdHh8gISIjJCUmJygpKissLS4vMA==",
                    "dtype": "i1"
                  },
                  "y": {
                    "bdata": "AAAAAAAAAAAAAAAAAAAAAAAAAAAAAAAAAAAAAAAAAAAAAAAAAAAAAAAAAAAAAAAAAAAAAAAAAAAAAAAAAAAAAAAAAAAAAAAAAAAAAAAAAAAAAAAAAAAAAAAAAAAAAAAAAAAAAAAAAAAAAAAAAAAAAAAAAAAAAAAAAAAAAAAAAAAAAAAAAAAAAAAAAAAAAAAAAAAAAAAAAAAAAAAAAAAAAAAAAAAAAAAAAAAAAAAAAAAAAAAAAAAAAAAAAAAAAAAAAAAAAAAAAAAAAAAAAAAAAAAAAAAAAAAAAAAAAAAAAAAAAAAAAAAAAAAAAAAAAAAAAAAAAAAAAAAAAAAAAAAAAAAAAAAAAAAAAAAAAAAAAAAAAAAAAAAAAAAAAAAAAAAAAAAAAAAAAAAAAAAAAAAAAAAAAAAAAAAAAAAAAAAAAAAAAAAAAAAAAAAAAAAAAAAAAAAAAAAAAAAAAAAAAAAAAAAAAAAAAAAAAAAAAAAAAAAAAAAAAAAAAAAAAAAAAAAAAAAAAAAAAAA=",
                    "dtype": "f8"
                  }
                }
              ],
              "layout": {
                "template": {
                  "data": {
                    "bar": [
                      {
                        "error_x": {
                          "color": "#2a3f5f"
                        },
                        "error_y": {
                          "color": "#2a3f5f"
                        },
                        "marker": {
                          "line": {
                            "color": "#E5ECF6",
                            "width": 0.5
                          },
                          "pattern": {
                            "fillmode": "overlay",
                            "size": 10,
                            "solidity": 0.2
                          }
                        },
                        "type": "bar"
                      }
                    ],
                    "barpolar": [
                      {
                        "marker": {
                          "line": {
                            "color": "#E5ECF6",
                            "width": 0.5
                          },
                          "pattern": {
                            "fillmode": "overlay",
                            "size": 10,
                            "solidity": 0.2
                          }
                        },
                        "type": "barpolar"
                      }
                    ],
                    "carpet": [
                      {
                        "aaxis": {
                          "endlinecolor": "#2a3f5f",
                          "gridcolor": "white",
                          "linecolor": "white",
                          "minorgridcolor": "white",
                          "startlinecolor": "#2a3f5f"
                        },
                        "baxis": {
                          "endlinecolor": "#2a3f5f",
                          "gridcolor": "white",
                          "linecolor": "white",
                          "minorgridcolor": "white",
                          "startlinecolor": "#2a3f5f"
                        },
                        "type": "carpet"
                      }
                    ],
                    "choropleth": [
                      {
                        "colorbar": {
                          "outlinewidth": 0,
                          "ticks": ""
                        },
                        "type": "choropleth"
                      }
                    ],
                    "contour": [
                      {
                        "colorbar": {
                          "outlinewidth": 0,
                          "ticks": ""
                        },
                        "colorscale": [
                          [
                            0,
                            "#0d0887"
                          ],
                          [
                            0.1111111111111111,
                            "#46039f"
                          ],
                          [
                            0.2222222222222222,
                            "#7201a8"
                          ],
                          [
                            0.3333333333333333,
                            "#9c179e"
                          ],
                          [
                            0.4444444444444444,
                            "#bd3786"
                          ],
                          [
                            0.5555555555555556,
                            "#d8576b"
                          ],
                          [
                            0.6666666666666666,
                            "#ed7953"
                          ],
                          [
                            0.7777777777777778,
                            "#fb9f3a"
                          ],
                          [
                            0.8888888888888888,
                            "#fdca26"
                          ],
                          [
                            1,
                            "#f0f921"
                          ]
                        ],
                        "type": "contour"
                      }
                    ],
                    "contourcarpet": [
                      {
                        "colorbar": {
                          "outlinewidth": 0,
                          "ticks": ""
                        },
                        "type": "contourcarpet"
                      }
                    ],
                    "heatmap": [
                      {
                        "colorbar": {
                          "outlinewidth": 0,
                          "ticks": ""
                        },
                        "colorscale": [
                          [
                            0,
                            "#0d0887"
                          ],
                          [
                            0.1111111111111111,
                            "#46039f"
                          ],
                          [
                            0.2222222222222222,
                            "#7201a8"
                          ],
                          [
                            0.3333333333333333,
                            "#9c179e"
                          ],
                          [
                            0.4444444444444444,
                            "#bd3786"
                          ],
                          [
                            0.5555555555555556,
                            "#d8576b"
                          ],
                          [
                            0.6666666666666666,
                            "#ed7953"
                          ],
                          [
                            0.7777777777777778,
                            "#fb9f3a"
                          ],
                          [
                            0.8888888888888888,
                            "#fdca26"
                          ],
                          [
                            1,
                            "#f0f921"
                          ]
                        ],
                        "type": "heatmap"
                      }
                    ],
                    "histogram": [
                      {
                        "marker": {
                          "pattern": {
                            "fillmode": "overlay",
                            "size": 10,
                            "solidity": 0.2
                          }
                        },
                        "type": "histogram"
                      }
                    ],
                    "histogram2d": [
                      {
                        "colorbar": {
                          "outlinewidth": 0,
                          "ticks": ""
                        },
                        "colorscale": [
                          [
                            0,
                            "#0d0887"
                          ],
                          [
                            0.1111111111111111,
                            "#46039f"
                          ],
                          [
                            0.2222222222222222,
                            "#7201a8"
                          ],
                          [
                            0.3333333333333333,
                            "#9c179e"
                          ],
                          [
                            0.4444444444444444,
                            "#bd3786"
                          ],
                          [
                            0.5555555555555556,
                            "#d8576b"
                          ],
                          [
                            0.6666666666666666,
                            "#ed7953"
                          ],
                          [
                            0.7777777777777778,
                            "#fb9f3a"
                          ],
                          [
                            0.8888888888888888,
                            "#fdca26"
                          ],
                          [
                            1,
                            "#f0f921"
                          ]
                        ],
                        "type": "histogram2d"
                      }
                    ],
                    "histogram2dcontour": [
                      {
                        "colorbar": {
                          "outlinewidth": 0,
                          "ticks": ""
                        },
                        "colorscale": [
                          [
                            0,
                            "#0d0887"
                          ],
                          [
                            0.1111111111111111,
                            "#46039f"
                          ],
                          [
                            0.2222222222222222,
                            "#7201a8"
                          ],
                          [
                            0.3333333333333333,
                            "#9c179e"
                          ],
                          [
                            0.4444444444444444,
                            "#bd3786"
                          ],
                          [
                            0.5555555555555556,
                            "#d8576b"
                          ],
                          [
                            0.6666666666666666,
                            "#ed7953"
                          ],
                          [
                            0.7777777777777778,
                            "#fb9f3a"
                          ],
                          [
                            0.8888888888888888,
                            "#fdca26"
                          ],
                          [
                            1,
                            "#f0f921"
                          ]
                        ],
                        "type": "histogram2dcontour"
                      }
                    ],
                    "mesh3d": [
                      {
                        "colorbar": {
                          "outlinewidth": 0,
                          "ticks": ""
                        },
                        "type": "mesh3d"
                      }
                    ],
                    "parcoords": [
                      {
                        "line": {
                          "colorbar": {
                            "outlinewidth": 0,
                            "ticks": ""
                          }
                        },
                        "type": "parcoords"
                      }
                    ],
                    "pie": [
                      {
                        "automargin": true,
                        "type": "pie"
                      }
                    ],
                    "scatter": [
                      {
                        "fillpattern": {
                          "fillmode": "overlay",
                          "size": 10,
                          "solidity": 0.2
                        },
                        "type": "scatter"
                      }
                    ],
                    "scatter3d": [
                      {
                        "line": {
                          "colorbar": {
                            "outlinewidth": 0,
                            "ticks": ""
                          }
                        },
                        "marker": {
                          "colorbar": {
                            "outlinewidth": 0,
                            "ticks": ""
                          }
                        },
                        "type": "scatter3d"
                      }
                    ],
                    "scattercarpet": [
                      {
                        "marker": {
                          "colorbar": {
                            "outlinewidth": 0,
                            "ticks": ""
                          }
                        },
                        "type": "scattercarpet"
                      }
                    ],
                    "scattergeo": [
                      {
                        "marker": {
                          "colorbar": {
                            "outlinewidth": 0,
                            "ticks": ""
                          }
                        },
                        "type": "scattergeo"
                      }
                    ],
                    "scattergl": [
                      {
                        "marker": {
                          "colorbar": {
                            "outlinewidth": 0,
                            "ticks": ""
                          }
                        },
                        "type": "scattergl"
                      }
                    ],
                    "scattermap": [
                      {
                        "marker": {
                          "colorbar": {
                            "outlinewidth": 0,
                            "ticks": ""
                          }
                        },
                        "type": "scattermap"
                      }
                    ],
                    "scattermapbox": [
                      {
                        "marker": {
                          "colorbar": {
                            "outlinewidth": 0,
                            "ticks": ""
                          }
                        },
                        "type": "scattermapbox"
                      }
                    ],
                    "scatterpolar": [
                      {
                        "marker": {
                          "colorbar": {
                            "outlinewidth": 0,
                            "ticks": ""
                          }
                        },
                        "type": "scatterpolar"
                      }
                    ],
                    "scatterpolargl": [
                      {
                        "marker": {
                          "colorbar": {
                            "outlinewidth": 0,
                            "ticks": ""
                          }
                        },
                        "type": "scatterpolargl"
                      }
                    ],
                    "scatterternary": [
                      {
                        "marker": {
                          "colorbar": {
                            "outlinewidth": 0,
                            "ticks": ""
                          }
                        },
                        "type": "scatterternary"
                      }
                    ],
                    "surface": [
                      {
                        "colorbar": {
                          "outlinewidth": 0,
                          "ticks": ""
                        },
                        "colorscale": [
                          [
                            0,
                            "#0d0887"
                          ],
                          [
                            0.1111111111111111,
                            "#46039f"
                          ],
                          [
                            0.2222222222222222,
                            "#7201a8"
                          ],
                          [
                            0.3333333333333333,
                            "#9c179e"
                          ],
                          [
                            0.4444444444444444,
                            "#bd3786"
                          ],
                          [
                            0.5555555555555556,
                            "#d8576b"
                          ],
                          [
                            0.6666666666666666,
                            "#ed7953"
                          ],
                          [
                            0.7777777777777778,
                            "#fb9f3a"
                          ],
                          [
                            0.8888888888888888,
                            "#fdca26"
                          ],
                          [
                            1,
                            "#f0f921"
                          ]
                        ],
                        "type": "surface"
                      }
                    ],
                    "table": [
                      {
                        "cells": {
                          "fill": {
                            "color": "#EBF0F8"
                          },
                          "line": {
                            "color": "white"
                          }
                        },
                        "header": {
                          "fill": {
                            "color": "#C8D4E3"
                          },
                          "line": {
                            "color": "white"
                          }
                        },
                        "type": "table"
                      }
                    ]
                  },
                  "layout": {
                    "annotationdefaults": {
                      "arrowcolor": "#2a3f5f",
                      "arrowhead": 0,
                      "arrowwidth": 1
                    },
                    "autotypenumbers": "strict",
                    "coloraxis": {
                      "colorbar": {
                        "outlinewidth": 0,
                        "ticks": ""
                      }
                    },
                    "colorscale": {
                      "diverging": [
                        [
                          0,
                          "#8e0152"
                        ],
                        [
                          0.1,
                          "#c51b7d"
                        ],
                        [
                          0.2,
                          "#de77ae"
                        ],
                        [
                          0.3,
                          "#f1b6da"
                        ],
                        [
                          0.4,
                          "#fde0ef"
                        ],
                        [
                          0.5,
                          "#f7f7f7"
                        ],
                        [
                          0.6,
                          "#e6f5d0"
                        ],
                        [
                          0.7,
                          "#b8e186"
                        ],
                        [
                          0.8,
                          "#7fbc41"
                        ],
                        [
                          0.9,
                          "#4d9221"
                        ],
                        [
                          1,
                          "#276419"
                        ]
                      ],
                      "sequential": [
                        [
                          0,
                          "#0d0887"
                        ],
                        [
                          0.1111111111111111,
                          "#46039f"
                        ],
                        [
                          0.2222222222222222,
                          "#7201a8"
                        ],
                        [
                          0.3333333333333333,
                          "#9c179e"
                        ],
                        [
                          0.4444444444444444,
                          "#bd3786"
                        ],
                        [
                          0.5555555555555556,
                          "#d8576b"
                        ],
                        [
                          0.6666666666666666,
                          "#ed7953"
                        ],
                        [
                          0.7777777777777778,
                          "#fb9f3a"
                        ],
                        [
                          0.8888888888888888,
                          "#fdca26"
                        ],
                        [
                          1,
                          "#f0f921"
                        ]
                      ],
                      "sequentialminus": [
                        [
                          0,
                          "#0d0887"
                        ],
                        [
                          0.1111111111111111,
                          "#46039f"
                        ],
                        [
                          0.2222222222222222,
                          "#7201a8"
                        ],
                        [
                          0.3333333333333333,
                          "#9c179e"
                        ],
                        [
                          0.4444444444444444,
                          "#bd3786"
                        ],
                        [
                          0.5555555555555556,
                          "#d8576b"
                        ],
                        [
                          0.6666666666666666,
                          "#ed7953"
                        ],
                        [
                          0.7777777777777778,
                          "#fb9f3a"
                        ],
                        [
                          0.8888888888888888,
                          "#fdca26"
                        ],
                        [
                          1,
                          "#f0f921"
                        ]
                      ]
                    },
                    "colorway": [
                      "#636efa",
                      "#EF553B",
                      "#00cc96",
                      "#ab63fa",
                      "#FFA15A",
                      "#19d3f3",
                      "#FF6692",
                      "#B6E880",
                      "#FF97FF",
                      "#FECB52"
                    ],
                    "font": {
                      "color": "#2a3f5f"
                    },
                    "geo": {
                      "bgcolor": "white",
                      "lakecolor": "white",
                      "landcolor": "#E5ECF6",
                      "showlakes": true,
                      "showland": true,
                      "subunitcolor": "white"
                    },
                    "hoverlabel": {
                      "align": "left"
                    },
                    "hovermode": "closest",
                    "mapbox": {
                      "style": "light"
                    },
                    "paper_bgcolor": "white",
                    "plot_bgcolor": "#E5ECF6",
                    "polar": {
                      "angularaxis": {
                        "gridcolor": "white",
                        "linecolor": "white",
                        "ticks": ""
                      },
                      "bgcolor": "#E5ECF6",
                      "radialaxis": {
                        "gridcolor": "white",
                        "linecolor": "white",
                        "ticks": ""
                      }
                    },
                    "scene": {
                      "xaxis": {
                        "backgroundcolor": "#E5ECF6",
                        "gridcolor": "white",
                        "gridwidth": 2,
                        "linecolor": "white",
                        "showbackground": true,
                        "ticks": "",
                        "zerolinecolor": "white"
                      },
                      "yaxis": {
                        "backgroundcolor": "#E5ECF6",
                        "gridcolor": "white",
                        "gridwidth": 2,
                        "linecolor": "white",
                        "showbackground": true,
                        "ticks": "",
                        "zerolinecolor": "white"
                      },
                      "zaxis": {
                        "backgroundcolor": "#E5ECF6",
                        "gridcolor": "white",
                        "gridwidth": 2,
                        "linecolor": "white",
                        "showbackground": true,
                        "ticks": "",
                        "zerolinecolor": "white"
                      }
                    },
                    "shapedefaults": {
                      "line": {
                        "color": "#2a3f5f"
                      }
                    },
                    "ternary": {
                      "aaxis": {
                        "gridcolor": "white",
                        "linecolor": "white",
                        "ticks": ""
                      },
                      "baxis": {
                        "gridcolor": "white",
                        "linecolor": "white",
                        "ticks": ""
                      },
                      "bgcolor": "#E5ECF6",
                      "caxis": {
                        "gridcolor": "white",
                        "linecolor": "white",
                        "ticks": ""
                      }
                    },
                    "title": {
                      "x": 0.05
                    },
                    "xaxis": {
                      "automargin": true,
                      "gridcolor": "white",
                      "linecolor": "white",
                      "ticks": "",
                      "title": {
                        "standoff": 15
                      },
                      "zerolinecolor": "white",
                      "zerolinewidth": 2
                    },
                    "yaxis": {
                      "automargin": true,
                      "gridcolor": "white",
                      "linecolor": "white",
                      "ticks": "",
                      "title": {
                        "standoff": 15
                      },
                      "zerolinecolor": "white",
                      "zerolinewidth": 2
                    }
                  }
                },
                "title": {
                  "text": "Stochastic HIV SIR model",
                  "x": 0.5,
                  "xanchor": "center"
                },
                "xaxis": {
                  "title": {
                    "text": "Years"
                  }
                },
                "yaxis": {
                  "title": {
                    "text": "Proportion of population"
                  }
                }
              }
            },
            "text/html": [
              "<div>            <script src=\"https://cdnjs.cloudflare.com/ajax/libs/mathjax/2.7.5/MathJax.js?config=TeX-AMS-MML_SVG\"></script><script type=\"text/javascript\">if (window.MathJax && window.MathJax.Hub && window.MathJax.Hub.Config) {window.MathJax.Hub.Config({SVG: {font: \"STIX-Web\"}});}</script>                <script type=\"text/javascript\">window.PlotlyConfig = {MathJaxConfig: 'local'};</script>\n",
              "        <script charset=\"utf-8\" src=\"https://cdn.plot.ly/plotly-3.0.0.min.js\"></script>                <div id=\"d4f4d097-5a28-4a0a-b6ae-1b7a924978fc\" class=\"plotly-graph-div\" style=\"height:525px; width:100%;\"></div>            <script type=\"text/javascript\">                window.PLOTLYENV=window.PLOTLYENV || {};                                if (document.getElementById(\"d4f4d097-5a28-4a0a-b6ae-1b7a924978fc\")) {                    Plotly.newPlot(                        \"d4f4d097-5a28-4a0a-b6ae-1b7a924978fc\",                        [{\"legendgroup\":\"Sim_0\",\"line\":{\"color\":\"yellow\",\"dash\":\"dot\"},\"name\":\"Beta_meas0\",\"x\":{\"dtype\":\"i1\",\"bdata\":\"AAECAwQFBgcICQoLDA0ODxAREhMUFRYXGBkaGxwdHh8gISIjJCUmJygpKissLS4vMA==\"},\"y\":{\"dtype\":\"f8\",\"bdata\":\"Rx09CcRLwj+eeRWISwLAP2P6uJqYl8I\\u002fN9VTOxNHzT\\u002fwF\\u002fNOuZvFP\\u002fpqLrsIEbk\\u002f\\u002fE3AVU6IwT8jk0DpNF67P4\\u002fTut8KA80\\u002f7sdwYM2hyT\\u002fpKnI7VEy9PzaIY2kGCME\\u002f+uLflazNwT+xePns7dPGP+csbrIUO8U\\u002fX8i92qbCxj9AvIFgMOPDP46Cdovmh8M\\u002f6\\u002fWbcj5Ixj+TbHCeQRvAP5drduBsWLs\\u002f3S9BjNH9wj\\u002fJ+mkT9R7LP68sm1Sjc8M\\u002fgjZw7FwqxD+Cl\\u002fvzGMvCP7\\u002fOg48NY8Y\\u002fytyj34ouxD+llXRBs+vBP\\u002f8H2McYhMM\\u002fP2SF4hA9xD9F1tzzJrfEP2B+CoN+SsQ\\u002foTAHgrsuwj8qp5p5O3PBP4daHs3\\u002ffsE\\u002f3TqYgLutuj9jxwPB0S+5P\\u002fFWd6JW\\u002fLo\\u002f9kqcHmdotz\\u002f4ZkZlDryvPwdN21OjGLc\\u002fat9y8T0WsT8LH0UysK6uP4saRnPtT6w\\u002fyQz4kItysD+Blx43ICeqP3B6If6Y4Kg\\u002fuD0qCWLvqT8=\"},\"type\":\"scatter\"},{\"legendgroup\":\"Sim_0\",\"line\":{\"color\":\"red\",\"dash\":\"dot\"},\"name\":\"I_stoch0\",\"x\":{\"dtype\":\"i1\",\"bdata\":\"AAECAwQFBgcICQoLDA0ODxAREhMUFRYXGBkaGxwdHh8gISIjJCUmJygpKissLS4vMA==\"},\"y\":{\"dtype\":\"f8\",\"bdata\":\"0vvG155ZQj+pTZzc71BEP8e6uI0G8EY\\u002fGOyGbYsySz\\u002fa5sb0hCVOP8WPMXctIU8\\u002fcv4mFCLgUD\\u002fnUlxV9l1RP3sUrkfhelQ\\u002fx7q4jQbwVj89D+7O2m1XPw\\u002fW\\u002fznMl1c\\u002fsmMjEK\\u002frVz+37uapDrlZP45AvK5fsFs\\u002fTzv8NVmjXj\\u002fB\\u002f1ayYyNgP1A25QrvcmE\\u002fsTOFzmvsYj8FwHgGDf1jP3sUrkfhemQ\\u002foWez6nO1ZT+\\u002f1M+bilRoP+Un1T4dj2k\\u002fdF5jl6jeaj956SYxCKxsP5dWQ+IeS28\\u002fQ8U4fxMKcT\\u002fS+8bXnllyP3+HokCfyHM\\u002fOIQqNXugdT+InSl0XmN3P2Ni83FtqHg\\u002fE2HD0ytleT\\u002fQ0D\\u002fBxYp6P5qxaDo7GXw\\u002fpyIVxhaCfD9oBYasbvV8P8AEbt3NU30\\u002fDJOpglFJfT\\u002fVWwNbJVh8Pz4\\u002fjBAebXw\\u002fvHmqQ26Gez8P7s7abRd6P3RGlPYGX3g\\u002fiJ0pdF5jdz9F9dbAVgl2P6lNnNzvUHQ\\u002fqDXNO07RcT8=\"},\"type\":\"scatter\"},{\"legendgroup\":\"Sim_0\",\"name\":\"Ip_stoch0\",\"x\":{\"dtype\":\"i1\",\"bdata\":\"AAECAwQFBgcICQoLDA0ODxAREhMUFRYXGBkaGxwdHh8gISIjJCUmJygpKissLS4vMA==\"},\"y\":{\"dtype\":\"f8\",\"bdata\":\"4JwRpb3Bdz\\u002fHuriNBvBGP5LLf0i\\u002ffU0\\u002fLUMc6+I2Wj\\u002fHuriNBvBWP5LLf0i\\u002ffU0\\u002flPYGX5hMVT8vbqMBvAVSP2EyVTAqqWM\\u002fexSuR+F6ZD8tQxzr4jZaP8WPMXctIV8\\u002f\\u002fKnx0k1iYD+U9gZfmExlP5T2Bl+YTGU\\u002f+n5qvHSTaD\\u002fgnBGlvcFnP\\u002fp+arx0k2g\\u002frK3YX3ZPbj\\u002fgnBGlvcFnP5T2Bl+YTGU\\u002frK3YX3ZPbj\\u002fHuriNBvB2PzvfT42XbnI\\u002fbqMBvAUSdD9hMlUwKqlzPwfwFkhQ\\u002fHg\\u002f+n5qvHSTeD\\u002fgnBGlvcF3P18HzhlR2ns\\u002fxY8xdy0hfz+cxCCwcmiBPzvfT42XboI\\u002fnMQgsHJogT8VjErqBDSBPy9uowG8BYI\\u002fhlrTvOMUfT9fB84ZUdp7P6yt2F92T34\\u002fObTIdr6fej8vbqMBvAVyPxNhw9MrZXk\\u002fSFD8GHPXcj\\u002f8qfHSTWJwP3npJjEIrGw\\u002fxY8xdy0hbz\\u002fgnBGlvcFnP5T2Bl+YTGU\\u002fexSuR+F6ZD8=\"},\"type\":\"bar\"},{\"legendgroup\":\"Sim_0\",\"line\":{\"color\":\"green\",\"dash\":\"dot\"},\"name\":\"R_stoch0\",\"x\":{\"dtype\":\"i1\",\"bdata\":\"AAECAwQFBgcICQoLDA0ODxAREhMUFRYXGBkaGxwdHh8gISIjJCUmJygpKissLS4vMA==\"},\"y\":{\"dtype\":\"f8\",\"bdata\":\"AAAAAAAAAAAAAAAAAAAAAAAAAAAAAAAAAAAAAAAAAAAAAAAAAAAAAAAAAAAAAAAAAAAAAAAAAAAAAAAAAAAAAAAAAAAAAAAAAAAAAAAAAAAAAAAAAAAAAAAAAAAAAAAAAAAAAAAAAAAAAAAAAAAAAAAAAAAAAAAAAAAAAAAAAAAAAAAAAAAAAAAAAAAAAAAAAAAAAAAAAAAAAAAAAAAAAAAAAAAAAAAAAAAAAAAAAAAAAAAAAAAAAAAAAAAAAAAAAAAAAAAAAAAAAAAAAAAAAAAAAAAAAAAAAAAAAAAAAAAAAAAAAAAAAAAAAAAAAAAAAAAAAAAAAAAAAAAAAAAAAAAAAAAAAAAAAAAAAAAAAAAAAAAAAAAAAAAAAAAAAAAAAAAAAAAAAAAAAAAAAAAAAAAAAAAAAAAAAAAAAAAAAAAAAAAAAAAAAAAAAAAAAAAAAAAAAAAAAAAAAAAAAAAAAAAAAAAAAAAAAAAAAAAAAAAAAAAAAAAAAAAAAAAAAAAAAAAAAAAAAAA=\"},\"type\":\"scatter\"},{\"legendgroup\":\"Sim_1\",\"line\":{\"color\":\"yellow\",\"dash\":\"dot\"},\"name\":\"Beta_meas1\",\"x\":{\"dtype\":\"i1\",\"bdata\":\"AAECAwQFBgcICQoLDA0ODxAREhMUFRYXGBkaGxwdHh8gISIjJCUmJygpKissLS4vMA==\"},\"y\":{\"dtype\":\"f8\",\"bdata\":\"CRXEg9qzsz+OH6bFx429P0IItIwtKMk\\u002fcSfTa580wT80GMmE8wLAP97fk11adcM\\u002f\\u002fVBz9yOpyz8\\u002fZ55SkMbHP7zi10fqScs\\u002fxW18La9+xz9JKiZsg5XKP\\u002fsFjXPxpcQ\\u002f1vq4piRMyj9t\\u002f502W57FP80cnyKCPME\\u002fyKJuOKYRuz8II3G\\u002fVpXFP9K\\u002fqB4aVcs\\u002fFWzMw3CPxz8mdpYM1U3GP4wkO8MZHcQ\\u002fpYupn5Ygxj811eOAcHPDP4\\u002f3vDl20sU\\u002fPv3J8ou6xD+CaMG0FrvAP7cgavIGKso\\u002fmIJgxJiRxT8B5shm0cLEP07OZDV3tsA\\u002fEEtHBDTOxz+NOkOIghzBPzQv5qbdDbs\\u002fMbBweHEatz8M1isGXCC8P0yjoa2dMLU\\u002fyyjQzqMhsj9JC489\\u002f6qnP2qrw3sXYao\\u002f3LKzqO07sz9jxWk4ZbazP5OMv3+a\\u002fLA\\u002fYEbxq+j+sD+52850\\u002fsGqP9pHQQro4qk\\u002f3PYOdvrGpT\\u002fOhSkPvPqqPwrTbLuTP6M\\u002fPHK2\\u002fHfkrD8=\"},\"type\":\"scatter\"},{\"legendgroup\":\"Sim_1\",\"line\":{\"color\":\"red\",\"dash\":\"dot\"},\"name\":\"I_stoch1\",\"x\":{\"dtype\":\"i1\",\"bdata\":\"AAECAwQFBgcICQoLDA0ODxAREhMUFRYXGBkaGxwdHh8gISIjJCUmJygpKissLS4vMA==\"},\"y\":{\"dtype\":\"f8\",\"bdata\":\"Q8U4fxMKQT\\u002fS+8bXnllCP9wRTgte9EU\\u002fD9b\\u002fOcyXRz+JtfgUAONJP0uwOJz51Uw\\u002fDat4I\\u002fPITz+L4H8r2bFRP2EyVTAqqVM\\u002frthfdk8eVj8ouFhRg2lYP+Un1T4dj1k\\u002fA5Xx7zMuXD9+dOrKZ3leP5PGaB1VTWA\\u002fQ8U4fxMKYT9IUPwYc9diP\\u002fFo44i1+GQ\\u002fmYHK+PcZZz\\u002f6fmq8dJNoPzm0yHa+n2o\\u002feekmMQisbD+fPCzUmuZtPxn\\u002fPuPCgXA\\u002fxooaTMPwcT+xM4XOa+xyP6Xap+MxA3U\\u002fXtcv2A3bdj+u8C4X8Z14P\\u002f8JLlbUYHo\\u002fis3HtaFifD9xAz4\\u002fjBB+P087\\u002fDVZo34\\u002fIQIOoUrNfj+0q5Dyk2p\\u002fP4rlllZD4n4\\u002fYB+duvJZfj8xzt+EQgR8P0qYaftXVno\\u002frvAuF\\u002fGdeD8P1v85zJd3P6Fns+pztXU\\u002fexSuR+F6dD8r+64I\\u002frdyP5zEILByaHE\\u002fLnO6LCY2bz8+P4wQHm1sPy1DHOviNmo\\u002fKLhYUYNpaD8=\"},\"type\":\"scatter\"},{\"legendgroup\":\"Sim_1\",\"name\":\"Ip_stoch1\",\"x\":{\"dtype\":\"i1\",\"bdata\":\"AAECAwQFBgcICQoLDA0ODxAREhMUFRYXGBkaGxwdHh8gISIjJCUmJygpKissLS4vMA==\"},\"y\":{\"dtype\":\"f8\",\"bdata\":\"rthfdk8edj9hMlUwKqlDPy9uowG8BVI\\u002fkst\\u002fSL99TT+Sy39Iv31NP2EyVTAqqVM\\u002fxY8xdy0hXz+Sy39Iv31dP0hQ\\u002fBhz12I\\u002fL26jAbwFYj\\u002fHuriNBvBmP2EyVTAqqWM\\u002fLUMc6+I2aj\\u002fgnBGlvcFnP3sUrkfhemQ\\u002fFYxK6gQ0YT956SYxCKxsP26jAbwFEnQ\\u002fVcGopE5Acz9uowG8BRJ0P1XBqKROQHM\\u002fx7q4jQbwdj+hZ7Pqc7V1PxNhw9MrZXk\\u002fObTIdr6fej\\u002fUK2UZ4lh3P1XBqKROQIM\\u002fIv32deCcgT8730+Nl26CP95xio7k8n8\\u002fdEaU9gZfiD9IUPwYc9eCP9IA3gIJin8\\u002fU5YhjnVxez8JG55eKcuAPyDSb18Hznk\\u002foWez6nO1dT9fB84ZUdprP3npJjEIrGw\\u002fYTJVMCqpcz9IUPwYc9dyP8WPMXctIW8\\u002feekmMQisbD+U9gZfmExlP0hQ\\u002fBhz12I\\u002fkst\\u002fSL99XT\\u002f8qfHSTWJgP5T2Bl+YTFU\\u002fkst\\u002fSL99XT8=\"},\"type\":\"bar\"},{\"legendgroup\":\"Sim_1\",\"line\":{\"color\":\"green\",\"dash\":\"dot\"},\"name\":\"R_stoch1\",\"x\":{\"dtype\":\"i1\",\"bdata\":\"AAECAwQFBgcICQoLDA0ODxAREhMUFRYXGBkaGxwdHh8gISIjJCUmJygpKissLS4vMA==\"},\"y\":{\"dtype\":\"f8\",\"bdata\":\"AAAAAAAAAAAAAAAAAAAAAAAAAAAAAAAAAAAAAAAAAAAAAAAAAAAAAAAAAAAAAAAAAAAAAAAAAAAAAAAAAAAAAAAAAAAAAAAAAAAAAAAAAAAAAAAAAAAAAAAAAAAAAAAAAAAAAAAAAAAAAAAAAAAAAAAAAAAAAAAAAAAAAAAAAAAAAAAAAAAAAAAAAAAAAAAAAAAAAAAAAAAAAAAAAAAAAAAAAAAAAAAAAAAAAAAAAAAAAAAAAAAAAAAAAAAAAAAAAAAAAAAAAAAAAAAAAAAAAAAAAAAAAAAAAAAAAAAAAAAAAAAAAAAAAAAAAAAAAAAAAAAAAAAAAAAAAAAAAAAAAAAAAAAAAAAAAAAAAAAAAAAAAAAAAAAAAAAAAAAAAAAAAAAAAAAAAAAAAAAAAAAAAAAAAAAAAAAAAAAAAAAAAAAAAAAAAAAAAAAAAAAAAAAAAAAAAAAAAAAAAAAAAAAAAAAAAAAAAAAAAAAAAAAAAAAAAAAAAAAAAAAAAAAAAAAAAAAAAAAAAAA=\"},\"type\":\"scatter\"},{\"legendgroup\":\"Sim_2\",\"line\":{\"color\":\"yellow\",\"dash\":\"dot\"},\"name\":\"Beta_meas2\",\"x\":{\"dtype\":\"i1\",\"bdata\":\"AAECAwQFBgcICQoLDA0ODxAREhMUFRYXGBkaGxwdHh8gISIjJCUmJygpKissLS4vMA==\"},\"y\":{\"dtype\":\"f8\",\"bdata\":\"j1fNhFQ4zD9nL0u5mXPSP\\u002fvnIqvQfsQ\\u002fDKKI46ir0T+caHH+j1jKP0f+JM0rCs8\\u002fCsZM4qtS0T+wQoH2QuPMP1PYBLz+7tE\\u002froc8+2GTzT+HbmgpSerOP1cEI3mtQcs\\u002fLESwzyijzz+QcnzRhO\\u002fQP4hkgwViU9I\\u002fkDpN7Poq0z8YzOFXN8vJP5Si6wRavcs\\u002fX+RsCU6nxT\\u002fpwExNXuvCPz9Uv+GGA8I\\u002fZA5U4Q4LwT81beNeof69P5VVMHFY7r0\\u002fM5vNo3h3vT877rdk1rK2PxMmOdyTErY\\u002fYz0x0KAwtD8+pLeYOEa0P4GUTt11r7M\\u002fF5m4Tvecsz8iIOqlAAyvP4JLJpAESrM\\u002fs3ZRquMhsT\\u002fpmaBkXa+wP+I5sHu2iaw\\u002fZzHE0ylirD+OEL\\u002fRWA+wP\\u002frwKwRFeKk\\u002f7VCWnv95rj+MAfSc\\u002f8KoPwGQk\\u002f\\u002f4mrA\\u002fo2xeynHooT\\u002f3Q9H7T6mpP1NvEnttBqQ\\u002fa67EtDMzqT+UT1v9ZTixPyb335H2saY\\u002fRYc5CQzoqD8=\"},\"type\":\"scatter\"},{\"legendgroup\":\"Sim_2\",\"line\":{\"color\":\"red\",\"dash\":\"dot\"},\"name\":\"I_stoch2\",\"x\":{\"dtype\":\"i1\",\"bdata\":\"AAECAwQFBgcICQoLDA0ODxAREhMUFRYXGBkaGxwdHh8gISIjJCUmJygpKissLS4vMA==\"},\"y\":{\"dtype\":\"f8\",\"bdata\":\"vqQxWkdVQz\\u002f6fmq8dJNIP6ciFcYWgkw\\u002fuRluwOeHUT\\u002fxaOOItfhUP1bxRuaRP1g\\u002fNlmjHqLRXT9+b9Of\\u002fUhhP\\u002fFo44i1+GQ\\u002fkZvhBnx+aD8DlfHvMy5sP8H\\u002fVrJjI3A\\u002fN2xblNkgcz8fuqC+ZU53P6ciFcYWgnw\\u002fP1JEhlW8gT9AahMn9zuEP03zjlN0JIc\\u002fHNMTlnhAiT+JQWDl0CKLP\\u002fevrDQpBY0\\u002f3uUivhOzjj+kqgmi7gOQP\\u002fhwyXGndJA\\u002f1qiHaHQHkT+b\\u002fuxHisiQPzdUjPM3oZA\\u002fmzi536EokD8AOsyXF2CPPxCSBUzg1o0\\u002fvAUSFD\\u002fGjD+Ss7CnHf6KP7fu5qkOuYk\\u002f7Q2+MJkqiD8K16NwPQqHP7q9pDFaR4U\\u002fIxXGFoIchD9dp5GWytuBPxGN7iB2poA\\u002fuB6F61G4fj99XBsqxvl7Pz0nvW987Xk\\u002fSYCaWrbWdz9ZTGw+rg11P4dtizIbZHI\\u002frKjBNAwfcT\\u002fSAN4CCYpvP0YldQKaCGs\\u002feLmI78SsZz8=\"},\"type\":\"scatter\"},{\"legendgroup\":\"Sim_2\",\"name\":\"Ip_stoch2\",\"x\":{\"dtype\":\"i1\",\"bdata\":\"AAECAwQFBgcICQoLDA0ODxAREhMUFRYXGBkaGxwdHh8gISIjJCUmJygpKissLS4vMA==\"},\"y\":{\"dtype\":\"f8\",\"bdata\":\"INJvXwfOeT9fB84ZUdpbP2EyVTAqqVM\\u002fYTJVMCqpYz8vbqMBvAViPxNhw9MrZWk\\u002f\\u002fKnx0k1icD8JG55eKctwP+0NvjCZKng\\u002f7Q2+MJkqeD+Sy39Iv319P588LNSa5n0\\u002f6Gor9pfdgz+NKO0NvjCJP4Lix5i7lpA\\u002fUdobfGEylT9lGeJYF7eRP6Fns+pztZU\\u002fmN2Th4Vakz8730+Nl26SP0hQ\\u002fBhz15I\\u002fzojS3uALkz9lGeJYF7eRPzvfT42XbpI\\u002fwhcmUwWjkj8ZBFYOLbKNP\\u002fKwUGuad4w\\u002fINJvXwfOiT+NKO0NvjCJP+CcEaW9wYc\\u002fukkMAiuHhj8VjErqBDSBP26jAbwFEoQ\\u002fj1N0JJf\\u002fgD\\u002fFjzF3LSF\\u002fPxNhw9MrZXk\\u002f1CtlGeJYdz8H8BZIUPx4PyL99nXgnHE\\u002fYTJVMCqpcz+Sy39Iv31tPy9uowG8BXI\\u002fL26jAbwFYj\\u002fgnBGlvcFnP\\u002fyp8dJNYmA\\u002fL26jAbwFYj\\u002fHuriNBvBmP18HzhlR2ls\\u002fLUMc6+I2Wj8=\"},\"type\":\"bar\"},{\"legendgroup\":\"Sim_2\",\"line\":{\"color\":\"green\",\"dash\":\"dot\"},\"name\":\"R_stoch2\",\"x\":{\"dtype\":\"i1\",\"bdata\":\"AAECAwQFBgcICQoLDA0ODxAREhMUFRYXGBkaGxwdHh8gISIjJCUmJygpKissLS4vMA==\"},\"y\":{\"dtype\":\"f8\",\"bdata\":\"AAAAAAAAAAAAAAAAAAAAAAAAAAAAAAAAAAAAAAAAAAAAAAAAAAAAAAAAAAAAAAAAAAAAAAAAAAAAAAAAAAAAAAAAAAAAAAAAAAAAAAAAAAAAAAAAAAAAAAAAAAAAAAAAAAAAAAAAAAAAAAAAAAAAAAAAAAAAAAAAAAAAAAAAAAAAAAAAAAAAAAAAAAAAAAAAAAAAAAAAAAAAAAAAAAAAAAAAAAAAAAAAAAAAAAAAAAAAAAAAAAAAAAAAAAAAAAAAAAAAAAAAAAAAAAAAAAAAAAAAAAAAAAAAAAAAAAAAAAAAAAAAAAAAAAAAAAAAAAAAAAAAAAAAAAAAAAAAAAAAAAAAAAAAAAAAAAAAAAAAAAAAAAAAAAAAAAAAAAAAAAAAAAAAAAAAAAAAAAAAAAAAAAAAAAAAAAAAAAAAAAAAAAAAAAAAAAAAAAAAAAAAAAAAAAAAAAAAAAAAAAAAAAAAAAAAAAAAAAAAAAAAAAAAAAAAAAAAAAAAAAAAAAAAAAAAAAAAAAAAAAA=\"},\"type\":\"scatter\"},{\"legendgroup\":\"Sim_3\",\"line\":{\"color\":\"yellow\",\"dash\":\"dot\"},\"name\":\"Beta_meas3\",\"x\":{\"dtype\":\"i1\",\"bdata\":\"AAECAwQFBgcICQoLDA0ODxAREhMUFRYXGBkaGxwdHh8gISIjJCUmJygpKissLS4vMA==\"},\"y\":{\"dtype\":\"f8\",\"bdata\":\"5Pd83\\u002fjayj\\u002fD+emrcKjEPzfVUzsTR80\\u002fgf1g2pBd0z\\u002fT5zcw+YrGP3pfsiTdp80\\u002fnWyBG2WYyz+QqcCRZN3OP+ekyZEoJMs\\u002fHU7rqPslzj86\\u002fUicUFzJP2nUQk4+KNA\\u002fndoQdS9\\u002fzT+tkfJYP3LOP525jCJVatA\\u002fK2ufK6st0T9ujM8Gf0XPP9daa6211s0\\u002f93aSWNtjyD\\u002fE01Qj5i7IP1vCy1qh8cI\\u002f6Z5cKaRiwj+svKNP2R7BP7fmB8q8TMA\\u002fbA+k\\u002f1Ivuz9DTuZiAWPAP9na0a8CQLU\\u002fmsyRgfaxtj97zatdRHq1PyoagzKLVrQ\\u002f2TeexdL7rj\\u002fhWfdyBHGyP\\u002feH\\u002fo0E77E\\u002fI4RH1pFPrT\\u002f\\u002f6hG0ftutPwroTdRyGLI\\u002flPoea7L9rD+YtIagJMCxP8u9Nu0aPK4\\u002f38drFLfsrD+14NMY+zysP7TgIU3mmqw\\u002ftLy5JULXpT8Fu5Nvu66yP82kkBn3Rq4\\u002f\\u002f5LZorQSrj\\u002f5rCSsy1umP+ndcX8SwaU\\u002fUALta4qroD8=\"},\"type\":\"scatter\"},{\"legendgroup\":\"Sim_3\",\"line\":{\"color\":\"red\",\"dash\":\"dot\"},\"name\":\"I_stoch3\",\"x\":{\"dtype\":\"i1\",\"bdata\":\"AAECAwQFBgcICQoLDA0ODxAREhMUFRYXGBkaGxwdHh8gISIjJCUmJygpKissLS4vMA==\"},\"y\":{\"dtype\":\"f8\",\"bdata\":\"qU2c3O9QRD\\u002fHuriNBvBGPwOV8e8zLkw\\u002fi+B\\u002fK9mxUT8z+WabG9NTPw\\u002fW\\u002fznMl1c\\u002f0NA\\u002fwcWKWj\\u002fzyB8MPPdeP\\u002fTDCOHRxmE\\u002ftr5IaMu5ZD\\u002fgnBGlvcFnPwOV8e8zLmw\\u002fsBu2LcpscD8niLoPQGpzPzCeQUP\\u002fBHc\\u002fXwfOGVHaez\\u002f8qfHSTWKAP0Deq1Ym\\u002fII\\u002fI6Et51JchT+EKjV7oBWIP921hHzQs4k\\u002f\\u002f5WVJqWgiz+jryDNWDSNP5NX5xiQvY4\\u002fJgFqatlajz8IVWr2QCuQPzJVMCqpE5A\\u002fk+NO6WD9jz+0q5Dyk2qPP8GQ1a2ek44\\u002fS7A4nPnVjD+nlq31RUKLP7fu5qkOuYk\\u002f7Q2+MJkqiD+lZg+0AkOGP\\u002fnaM0sC1IQ\\u002fuaXVkLjHgj8FqKlla32BP4tUGFsIcoA\\u002fBK3AkNWtfj+WPnRBfct8Pw\\u002fuztptF3o\\u002fTfOOU3Qkdz+EEmba\\u002fpV1P63AkNWtnnM\\u002fERlW8UbmcT\\u002fzyB8MPPduP\\u002fYjRWRYxWs\\u002fNSkF3V7SaD8=\"},\"type\":\"scatter\"},{\"legendgroup\":\"Sim_3\",\"name\":\"Ip_stoch3\",\"x\":{\"dtype\":\"i1\",\"bdata\":\"AAECAwQFBgcICQoLDA0ODxAREhMUFRYXGBkaGxwdHh8gISIjJCUmJygpKissLS4vMA==\"},\"y\":{\"dtype\":\"f8\",\"bdata\":\"INJvXwfOeT\\u002f8qfHSTWJQPy1DHOviNlo\\u002flPYGX5hMZT\\u002fFjzF3LSFfP8e6uI0G8GY\\u002fE2HD0ytlaT\\u002fecYqO5PJvP\\u002fyp8dJNYnA\\u002fiIVa07zjdD97FK5H4Xp0P588LNSa5n0\\u002fdnEbDeAtgD\\u002fb+X5qvHSDP4C3QILix4g\\u002fuB6F61G4jj9MN4lBYOWQP4ts5\\u002fup8ZI\\u002f7FG4HoXrkT8rhxbZzveTPyL99nXgnJE\\u002ftaZ5xyk6kj+1pnnHKTqSP\\u002fjCZKpgVJI\\u002fMlUwKqkTkD+lTkATYcOTP7N78rBQa4o\\u002f5j+k374OjD+ze\\u002fKwUGuKP\\u002fp+arx0k4g\\u002ftaZ5xyk6gj97FK5H4XqEP0hQ\\u002fBhz14I\\u002fhlrTvOMUfT9fB84ZUdp7P8WPMXctIX8\\u002f1CtlGeJYdz8g0m9fB855P3sUrkfhenQ\\u002fO99PjZducj8JG55eKctwP95xio7k8m8\\u002frthfdk8eZj8JG55eKctwPxNhw9MrZWk\\u002fx7q4jQbwZj\\u002fFjzF3LSFfPy1DHOviNlo\\u002fL26jAbwFUj8=\"},\"type\":\"bar\"},{\"legendgroup\":\"Sim_3\",\"line\":{\"color\":\"green\",\"dash\":\"dot\"},\"name\":\"R_stoch3\",\"x\":{\"dtype\":\"i1\",\"bdata\":\"AAECAwQFBgcICQoLDA0ODxAREhMUFRYXGBkaGxwdHh8gISIjJCUmJygpKissLS4vMA==\"},\"y\":{\"dtype\":\"f8\",\"bdata\":\"AAAAAAAAAAAAAAAAAAAAAAAAAAAAAAAAAAAAAAAAAAAAAAAAAAAAAAAAAAAAAAAAAAAAAAAAAAAAAAAAAAAAAAAAAAAAAAAAAAAAAAAAAAAAAAAAAAAAAAAAAAAAAAAAAAAAAAAAAAAAAAAAAAAAAAAAAAAAAAAAAAAAAAAAAAAAAAAAAAAAAAAAAAAAAAAAAAAAAAAAAAAAAAAAAAAAAAAAAAAAAAAAAAAAAAAAAAAAAAAAAAAAAAAAAAAAAAAAAAAAAAAAAAAAAAAAAAAAAAAAAAAAAAAAAAAAAAAAAAAAAAAAAAAAAAAAAAAAAAAAAAAAAAAAAAAAAAAAAAAAAAAAAAAAAAAAAAAAAAAAAAAAAAAAAAAAAAAAAAAAAAAAAAAAAAAAAAAAAAAAAAAAAAAAAAAAAAAAAAAAAAAAAAAAAAAAAAAAAAAAAAAAAAAAAAAAAAAAAAAAAAAAAAAAAAAAAAAAAAAAAAAAAAAAAAAAAAAAAAAAAAAAAAAAAAAAAAAAAAAAAAA=\"},\"type\":\"scatter\"},{\"legendgroup\":\"Sim_4\",\"line\":{\"color\":\"yellow\",\"dash\":\"dot\"},\"name\":\"Beta_meas4\",\"x\":{\"dtype\":\"i1\",\"bdata\":\"AAECAwQFBgcICQoLDA0ODxAREhMUFRYXGBkaGxwdHh8gISIjJCUmJygpKissLS4vMA==\"},\"y\":{\"dtype\":\"f8\",\"bdata\":\"sQtRQRrW0j9D86UUULjUP8gbYdAQS9c\\u002fYAiZVt6y2j\\u002fWvLXbVgrYP0f\\u002fRGc66Nc\\u002frWkOrlTC1T9TGuKtnTTWP5Slq9nbW9Y\\u002fUDmAMz0z2T\\u002fbgCQ6PIbUP3bAYX3WKNY\\u002f7mBZV5oP1D\\u002fFwtD4io7SP9291aNdddA\\u002f3WIFBz68zj887X1AflTMP0yDuhlqZ8k\\u002fsGOhcgfxxz945VDfuKfGPzIjLgJIXcQ\\u002fNQIv\\u002fWFywj\\u002f0kgfoAgDBP0EoPn5oA8E\\u002f\\u002fKIv+59Nvj+BHlzERhe+P1h+8GFpTLs\\u002fwpdcuSVYuj9Iq6D\\u002fueW4P4uwrENX9bg\\u002fiZ9nXHDxtD\\u002f0Jt9mZWi1PxtKpQResLU\\u002f6tlypz6jsj8Mg6xOb5uyPwaeNuoworM\\u002fe2LYID+Gsj8fpZ97\\u002fJ6xP6beOTMQsLA\\u002fn\\u002fAMwI+OsD80A2CBAMWxP9lN4u7ZfLA\\u002fYkOJ35Fzrz8WcT2cToaxPyZ1JEjxJq4\\u002fylrG\\u002fnA6rT87YI4cu1KsP7pf\\u002fgUOia0\\u002fIM0bAeuHqj8=\"},\"type\":\"scatter\"},{\"legendgroup\":\"Sim_4\",\"line\":{\"color\":\"red\",\"dash\":\"dot\"},\"name\":\"I_stoch4\",\"x\":{\"dtype\":\"i1\",\"bdata\":\"AAECAwQFBgcICQoLDA0ODxAREhMUFRYXGBkaGxwdHh8gISIjJCUmJygpKissLS4vMA==\"},\"y\":{\"dtype\":\"f8\",\"bdata\":\"gJ9x4UBIRj9LsDic+dVMP2EyVTAqqVM\\u002fvHmqQ26GWz8vbqMBvAViP+0NvjCZKmg\\u002fXKyowTQMbz+6MT1hiQd0P3jRV5BmLHo\\u002fZRniWBe3gT8G2EenrnyGP+49XHLcKY0\\u002fZd8Vwf9Wkj8f9GxWfa6WP68I\\u002freSHZs\\u002f3nGKjuTynz8ipkQSvYyiP4iFWtO846Q\\u002fH7qgvmVOpz8DfSJPkq6pP9WVz\\u002fI8uKs\\u002fn3b4a7JGrT9cyY6NQLyuP20csRafArA\\u002f0JuKVBhbsD+1N\\u002fjCZKqwP+eMKO0NvrA\\u002f0H6kiAyrsD+3Yn\\u002fZPXmwP2e4AZ8fRrA\\u002fxXJLqyFxrz+fAmA8g4auP+8gdqbQea0\\u002fmrFoOjsZrD8DJnDrbp6qP3Tv4ZLjTqk\\u002f9Zz0vvG1pz\\u002fYuz\\u002feq1amP7raiv1l96Q\\u002ftTLhl\\u002fp5oz9IisiwijeiP+uoaoKo+6A\\u002f3qtWJvxSnz9cWg2JeyydP2iz6nO1FZs\\u002ffH4YITzamD+MEB5tHLGWP16FlJ9U+5Q\\u002fEqW9wRcmkz8=\"},\"type\":\"scatter\"},{\"legendgroup\":\"Sim_4\",\"name\":\"Ip_stoch4\",\"x\":{\"dtype\":\"i1\",\"bdata\":\"AAECAwQFBgcICQoLDA0ODxAREhMUFRYXGBkaGxwdHh8gISIjJCUmJygpKissLS4vMA==\"},\"y\":{\"dtype\":\"f8\",\"bdata\":\"eekmMQisfD8vbqMBvAViPy1DHOviNmo\\u002fexSuR+F6dD8g0m9fB855Pwkbnl4py4A\\u002fexSuR+F6hD\\u002fA7J48LNSKP5zEILByaJE\\u002fmpmZmZmZmT8pXI\\u002fC9SicP1XBqKROQKM\\u002fukkMAiuHpj\\u002fpJjEIrByqPxQ\\u002fxty1hKw\\u002fNqs+V1uxrz\\u002fjNhrAWyCxP3bgnBGlvbE\\u002fBTQRNjy9sj9y+Q\\u002fpt6+zP7prCfmgZ7M\\u002fat5xio7ksj\\u002f4wmSqYFSyPzMzMzMzM7M\\u002fh6dXyjLEsT8ep+hILv+xP5OpglFJnbA\\u002fQxzr4jYasD+srdhfdk+uPwTnjCjtDa4\\u002f5WGh1jTvqD89m1Wfq62oP1K4HoXrUag\\u002f001iEFg5pD92Tx4Wak2jP5jdk4eFWqM\\u002fnMQgsHJooT\\u002fFjzF3LSGfP18HzhlR2ps\\u002fpgpGJXUCmj+mCkYldQKaP\\u002f5l9+RhoZY\\u002fsb\\u002fsnjwslD9EaW\\u002fwhcmUP8X+snvysJA\\u002fJXUCmggbjj\\u002fA7J48LNSKP5qZmZmZmYk\\u002flPYGX5hMhT8=\"},\"type\":\"bar\"},{\"legendgroup\":\"Sim_4\",\"line\":{\"color\":\"green\",\"dash\":\"dot\"},\"name\":\"R_stoch4\",\"x\":{\"dtype\":\"i1\",\"bdata\":\"AAECAwQFBgcICQoLDA0ODxAREhMUFRYXGBkaGxwdHh8gISIjJCUmJygpKissLS4vMA==\"},\"y\":{\"dtype\":\"f8\",\"bdata\":\"AAAAAAAAAAAAAAAAAAAAAAAAAAAAAAAAAAAAAAAAAAAAAAAAAAAAAAAAAAAAAAAAAAAAAAAAAAAAAAAAAAAAAAAAAAAAAAAAAAAAAAAAAAAAAAAAAAAAAAAAAAAAAAAAAAAAAAAAAAAAAAAAAAAAAAAAAAAAAAAAAAAAAAAAAAAAAAAAAAAAAAAAAAAAAAAAAAAAAAAAAAAAAAAAAAAAAAAAAAAAAAAAAAAAAAAAAAAAAAAAAAAAAAAAAAAAAAAAAAAAAAAAAAAAAAAAAAAAAAAAAAAAAAAAAAAAAAAAAAAAAAAAAAAAAAAAAAAAAAAAAAAAAAAAAAAAAAAAAAAAAAAAAAAAAAAAAAAAAAAAAAAAAAAAAAAAAAAAAAAAAAAAAAAAAAAAAAAAAAAAAAAAAAAAAAAAAAAAAAAAAAAAAAAAAAAAAAAAAAAAAAAAAAAAAAAAAAAAAAAAAAAAAAAAAAAAAAAAAAAAAAAAAAAAAAAAAAAAAAAAAAAAAAAAAAAAAAAAAAAAAAA=\"},\"type\":\"scatter\"},{\"legendgroup\":\"Sim_5\",\"line\":{\"color\":\"yellow\",\"dash\":\"dot\"},\"name\":\"Beta_meas5\",\"x\":{\"dtype\":\"i1\",\"bdata\":\"AAECAwQFBgcICQoLDA0ODxAREhMUFRYXGBkaGxwdHh8gISIjJCUmJygpKissLS4vMA==\"},\"y\":{\"dtype\":\"f8\",\"bdata\":\"LMpriOh+0D\\u002frJoWoiGDUP3IHrOXjntI\\u002fGOlP6jxb1T\\u002fdwkxwBM7XP9zhhnVD7Ns\\u002f2K\\u002fTYenK1j8fbZ2tsJHTP5+chH3x0NQ\\u002fXS+UcijB0z8h1q0LKibXP35Sn7oXadk\\u002fTQ83\\u002fott1D+f3krnaPTTPzQLGWY2oNE\\u002f5fJlgIdM0D9hRwJs5GnOP2yU+0b9Wss\\u002fAJHgo0lTyj\\u002f8bsHeN0nJP14K4MWN\\u002f8Q\\u002f3ioLaFDcxD9DoMx2+j7BPwI4JiwqgMI\\u002fl6rOxj3AwT\\u002f6hE\\u002fcX5XAPz9TphdSDr0\\u002fW+t13NzPuj9gNN2ONUi5P5mwlE52+Lc\\u002fMvyU1VMAuD\\u002ffzUz3A4G1P6CCM3fhj7Y\\u002fhJ2r9oo3tj9qW5PK0A+0P00nDAbFw7E\\u002fWKAfLHSSsj9+uEtooWqwP5Bmb7c6tLA\\u002fQNkWGwausT84I0avXzCwP+cb3mn0brE\\u002fgjMphMn8rj8v5EvVuj6vPwJuycZ+fq8\\u002fOWC3v+kwrD8Us6UNR4+tP00HhfIJFLA\\u002fJXv80jcFrD8=\"},\"type\":\"scatter\"},{\"legendgroup\":\"Sim_5\",\"line\":{\"color\":\"red\",\"dash\":\"dot\"},\"name\":\"I_stoch5\",\"x\":{\"dtype\":\"i1\",\"bdata\":\"AAECAwQFBgcICQoLDA0ODxAREhMUFRYXGBkaGxwdHh8gISIjJCUmJygpKissLS4vMA==\"},\"y\":{\"dtype\":\"f8\",\"bdata\":\"OIQqNXugRT8DlfHvMy5MP4vgfyvZsVE\\u002fx7q4jQbwVj9+dOrKZ3lePysTfqmfN2U\\u002fjkC8rl+waz8z4Zf6eVNxP4CfceFASHY\\u002fyOpWz0nvez9qGD4ipkSCP5kNMsnIWYg\\u002fGZC93v3xjj+6awn5oGeTP6G5TiMtlZc\\u002fTyMtlbcjnD9xGw3gLZCgPzylg\\u002fV\\u002fDqM\\u002fWhKgppatpT\\u002fhYkUNpmGoP5HQlnMprqo\\u002ftJPBUfLqrD+srdhfdk+uPyKOdXEbDbA\\u002fk4ychT3tsD\\u002fK4Ch5dY6xPyLgEKrU7LE\\u002fB5lk5CzssT8tYAK37uaxPzkLe9rhr7E\\u002fNxrAWyBBsT9UqdkDrcCwP+8bX3tmSbA\\u002f0gDeAgmKrz+GAyFZwASuPyk\\u002fqfbpeKw\\u002fV+wvuycPqz8TfqmfNxWpP1IP0egOYqc\\u002fkIMSZtr+pT\\u002fGounsZHCkP3\\u002fBbti2KKM\\u002ffjUHCObooT+wG7YtymygP2RYxRuZR54\\u002faHke3J21mz+utmJ\\u002f2T2ZPw4QzNHj95Y\\u002fqRPQRNjwlD8=\"},\"type\":\"scatter\"},{\"legendgroup\":\"Sim_5\",\"name\":\"Ip_stoch5\",\"x\":{\"dtype\":\"i1\",\"bdata\":\"AAECAwQFBgcICQoLDA0ODxAREhMUFRYXGBkaGxwdHh8gISIjJCUmJygpKissLS4vMA==\"},\"y\":{\"dtype\":\"f8\",\"bdata\":\"U5YhjnVxez8VjErqBDRhP3sUrkfhemQ\\u002fkst\\u002fSL99bT+U9gZfmEx1P4Lix5i7loA\\u002fSFD8GHPXgj8OvjCZKhiFP+Y\\u002fpN++Dow\\u002f0m9fB84ZkT9KDAIrhxaZPw3gLZCg+KE\\u002fMzMzMzMzoz\\u002fgnBGlvcGnPy1DHOviNqo\\u002fLSEf9GxWrT+oxks3iUGwP+M2GsBbILE\\u002fWRe30QDesj+M22gAb4G0P86I0t7gC7M\\u002fz\\u002fdT46WbtD8aUdobfGGyP8\\u002f3U+Olm7Q\\u002fd76fGi\\u002fdtD97FK5H4Xq0P4\\u002fC9Shcj7I\\u002fvVKWIY51sT8u\\u002fyH99nWwP+cdp+hILq8\\u002fHcnlP6Tfrj9GJXUCmgirP7hAguLHmKs\\u002f1QloImx4qj9vgQTFjzGnP0Ck374OnKM\\u002f\\u002fYf029eBoz8dOGdEaW+gP8WPMXctIZ8\\u002f+zpwzojSnj85tMh2vp+aP33Qs1n1uZo\\u002fNBE2PL1Slj8OvjCZKhiVPx4Wak3zjpM\\u002fdnEbDeAtkD\\u002fFjzF3LSGPPz9XW7G\\u002f7I4\\u002f+n5qvHSTiD8=\"},\"type\":\"bar\"},{\"legendgroup\":\"Sim_5\",\"line\":{\"color\":\"green\",\"dash\":\"dot\"},\"name\":\"R_stoch5\",\"x\":{\"dtype\":\"i1\",\"bdata\":\"AAECAwQFBgcICQoLDA0ODxAREhMUFRYXGBkaGxwdHh8gISIjJCUmJygpKissLS4vMA==\"},\"y\":{\"dtype\":\"f8\",\"bdata\":\"AAAAAAAAAAAAAAAAAAAAAAAAAAAAAAAAAAAAAAAAAAAAAAAAAAAAAAAAAAAAAAAAAAAAAAAAAAAAAAAAAAAAAAAAAAAAAAAAAAAAAAAAAAAAAAAAAAAAAAAAAAAAAAAAAAAAAAAAAAAAAAAAAAAAAAAAAAAAAAAAAAAAAAAAAAAAAAAAAAAAAAAAAAAAAAAAAAAAAAAAAAAAAAAAAAAAAAAAAAAAAAAAAAAAAAAAAAAAAAAAAAAAAAAAAAAAAAAAAAAAAAAAAAAAAAAAAAAAAAAAAAAAAAAAAAAAAAAAAAAAAAAAAAAAAAAAAAAAAAAAAAAAAAAAAAAAAAAAAAAAAAAAAAAAAAAAAAAAAAAAAAAAAAAAAAAAAAAAAAAAAAAAAAAAAAAAAAAAAAAAAAAAAAAAAAAAAAAAAAAAAAAAAAAAAAAAAAAAAAAAAAAAAAAAAAAAAAAAAAAAAAAAAAAAAAAAAAAAAAAAAAAAAAAAAAAAAAAAAAAAAAAAAAAAAAAAAAAAAAAAAAA=\"},\"type\":\"scatter\"}],                        {\"template\":{\"data\":{\"histogram2dcontour\":[{\"type\":\"histogram2dcontour\",\"colorbar\":{\"outlinewidth\":0,\"ticks\":\"\"},\"colorscale\":[[0.0,\"#0d0887\"],[0.1111111111111111,\"#46039f\"],[0.2222222222222222,\"#7201a8\"],[0.3333333333333333,\"#9c179e\"],[0.4444444444444444,\"#bd3786\"],[0.5555555555555556,\"#d8576b\"],[0.6666666666666666,\"#ed7953\"],[0.7777777777777778,\"#fb9f3a\"],[0.8888888888888888,\"#fdca26\"],[1.0,\"#f0f921\"]]}],\"choropleth\":[{\"type\":\"choropleth\",\"colorbar\":{\"outlinewidth\":0,\"ticks\":\"\"}}],\"histogram2d\":[{\"type\":\"histogram2d\",\"colorbar\":{\"outlinewidth\":0,\"ticks\":\"\"},\"colorscale\":[[0.0,\"#0d0887\"],[0.1111111111111111,\"#46039f\"],[0.2222222222222222,\"#7201a8\"],[0.3333333333333333,\"#9c179e\"],[0.4444444444444444,\"#bd3786\"],[0.5555555555555556,\"#d8576b\"],[0.6666666666666666,\"#ed7953\"],[0.7777777777777778,\"#fb9f3a\"],[0.8888888888888888,\"#fdca26\"],[1.0,\"#f0f921\"]]}],\"heatmap\":[{\"type\":\"heatmap\",\"colorbar\":{\"outlinewidth\":0,\"ticks\":\"\"},\"colorscale\":[[0.0,\"#0d0887\"],[0.1111111111111111,\"#46039f\"],[0.2222222222222222,\"#7201a8\"],[0.3333333333333333,\"#9c179e\"],[0.4444444444444444,\"#bd3786\"],[0.5555555555555556,\"#d8576b\"],[0.6666666666666666,\"#ed7953\"],[0.7777777777777778,\"#fb9f3a\"],[0.8888888888888888,\"#fdca26\"],[1.0,\"#f0f921\"]]}],\"contourcarpet\":[{\"type\":\"contourcarpet\",\"colorbar\":{\"outlinewidth\":0,\"ticks\":\"\"}}],\"contour\":[{\"type\":\"contour\",\"colorbar\":{\"outlinewidth\":0,\"ticks\":\"\"},\"colorscale\":[[0.0,\"#0d0887\"],[0.1111111111111111,\"#46039f\"],[0.2222222222222222,\"#7201a8\"],[0.3333333333333333,\"#9c179e\"],[0.4444444444444444,\"#bd3786\"],[0.5555555555555556,\"#d8576b\"],[0.6666666666666666,\"#ed7953\"],[0.7777777777777778,\"#fb9f3a\"],[0.8888888888888888,\"#fdca26\"],[1.0,\"#f0f921\"]]}],\"surface\":[{\"type\":\"surface\",\"colorbar\":{\"outlinewidth\":0,\"ticks\":\"\"},\"colorscale\":[[0.0,\"#0d0887\"],[0.1111111111111111,\"#46039f\"],[0.2222222222222222,\"#7201a8\"],[0.3333333333333333,\"#9c179e\"],[0.4444444444444444,\"#bd3786\"],[0.5555555555555556,\"#d8576b\"],[0.6666666666666666,\"#ed7953\"],[0.7777777777777778,\"#fb9f3a\"],[0.8888888888888888,\"#fdca26\"],[1.0,\"#f0f921\"]]}],\"mesh3d\":[{\"type\":\"mesh3d\",\"colorbar\":{\"outlinewidth\":0,\"ticks\":\"\"}}],\"scatter\":[{\"fillpattern\":{\"fillmode\":\"overlay\",\"size\":10,\"solidity\":0.2},\"type\":\"scatter\"}],\"parcoords\":[{\"type\":\"parcoords\",\"line\":{\"colorbar\":{\"outlinewidth\":0,\"ticks\":\"\"}}}],\"scatterpolargl\":[{\"type\":\"scatterpolargl\",\"marker\":{\"colorbar\":{\"outlinewidth\":0,\"ticks\":\"\"}}}],\"bar\":[{\"error_x\":{\"color\":\"#2a3f5f\"},\"error_y\":{\"color\":\"#2a3f5f\"},\"marker\":{\"line\":{\"color\":\"#E5ECF6\",\"width\":0.5},\"pattern\":{\"fillmode\":\"overlay\",\"size\":10,\"solidity\":0.2}},\"type\":\"bar\"}],\"scattergeo\":[{\"type\":\"scattergeo\",\"marker\":{\"colorbar\":{\"outlinewidth\":0,\"ticks\":\"\"}}}],\"scatterpolar\":[{\"type\":\"scatterpolar\",\"marker\":{\"colorbar\":{\"outlinewidth\":0,\"ticks\":\"\"}}}],\"histogram\":[{\"marker\":{\"pattern\":{\"fillmode\":\"overlay\",\"size\":10,\"solidity\":0.2}},\"type\":\"histogram\"}],\"scattergl\":[{\"type\":\"scattergl\",\"marker\":{\"colorbar\":{\"outlinewidth\":0,\"ticks\":\"\"}}}],\"scatter3d\":[{\"type\":\"scatter3d\",\"line\":{\"colorbar\":{\"outlinewidth\":0,\"ticks\":\"\"}},\"marker\":{\"colorbar\":{\"outlinewidth\":0,\"ticks\":\"\"}}}],\"scattermap\":[{\"type\":\"scattermap\",\"marker\":{\"colorbar\":{\"outlinewidth\":0,\"ticks\":\"\"}}}],\"scattermapbox\":[{\"type\":\"scattermapbox\",\"marker\":{\"colorbar\":{\"outlinewidth\":0,\"ticks\":\"\"}}}],\"scatterternary\":[{\"type\":\"scatterternary\",\"marker\":{\"colorbar\":{\"outlinewidth\":0,\"ticks\":\"\"}}}],\"scattercarpet\":[{\"type\":\"scattercarpet\",\"marker\":{\"colorbar\":{\"outlinewidth\":0,\"ticks\":\"\"}}}],\"carpet\":[{\"aaxis\":{\"endlinecolor\":\"#2a3f5f\",\"gridcolor\":\"white\",\"linecolor\":\"white\",\"minorgridcolor\":\"white\",\"startlinecolor\":\"#2a3f5f\"},\"baxis\":{\"endlinecolor\":\"#2a3f5f\",\"gridcolor\":\"white\",\"linecolor\":\"white\",\"minorgridcolor\":\"white\",\"startlinecolor\":\"#2a3f5f\"},\"type\":\"carpet\"}],\"table\":[{\"cells\":{\"fill\":{\"color\":\"#EBF0F8\"},\"line\":{\"color\":\"white\"}},\"header\":{\"fill\":{\"color\":\"#C8D4E3\"},\"line\":{\"color\":\"white\"}},\"type\":\"table\"}],\"barpolar\":[{\"marker\":{\"line\":{\"color\":\"#E5ECF6\",\"width\":0.5},\"pattern\":{\"fillmode\":\"overlay\",\"size\":10,\"solidity\":0.2}},\"type\":\"barpolar\"}],\"pie\":[{\"automargin\":true,\"type\":\"pie\"}]},\"layout\":{\"autotypenumbers\":\"strict\",\"colorway\":[\"#636efa\",\"#EF553B\",\"#00cc96\",\"#ab63fa\",\"#FFA15A\",\"#19d3f3\",\"#FF6692\",\"#B6E880\",\"#FF97FF\",\"#FECB52\"],\"font\":{\"color\":\"#2a3f5f\"},\"hovermode\":\"closest\",\"hoverlabel\":{\"align\":\"left\"},\"paper_bgcolor\":\"white\",\"plot_bgcolor\":\"#E5ECF6\",\"polar\":{\"bgcolor\":\"#E5ECF6\",\"angularaxis\":{\"gridcolor\":\"white\",\"linecolor\":\"white\",\"ticks\":\"\"},\"radialaxis\":{\"gridcolor\":\"white\",\"linecolor\":\"white\",\"ticks\":\"\"}},\"ternary\":{\"bgcolor\":\"#E5ECF6\",\"aaxis\":{\"gridcolor\":\"white\",\"linecolor\":\"white\",\"ticks\":\"\"},\"baxis\":{\"gridcolor\":\"white\",\"linecolor\":\"white\",\"ticks\":\"\"},\"caxis\":{\"gridcolor\":\"white\",\"linecolor\":\"white\",\"ticks\":\"\"}},\"coloraxis\":{\"colorbar\":{\"outlinewidth\":0,\"ticks\":\"\"}},\"colorscale\":{\"sequential\":[[0.0,\"#0d0887\"],[0.1111111111111111,\"#46039f\"],[0.2222222222222222,\"#7201a8\"],[0.3333333333333333,\"#9c179e\"],[0.4444444444444444,\"#bd3786\"],[0.5555555555555556,\"#d8576b\"],[0.6666666666666666,\"#ed7953\"],[0.7777777777777778,\"#fb9f3a\"],[0.8888888888888888,\"#fdca26\"],[1.0,\"#f0f921\"]],\"sequentialminus\":[[0.0,\"#0d0887\"],[0.1111111111111111,\"#46039f\"],[0.2222222222222222,\"#7201a8\"],[0.3333333333333333,\"#9c179e\"],[0.4444444444444444,\"#bd3786\"],[0.5555555555555556,\"#d8576b\"],[0.6666666666666666,\"#ed7953\"],[0.7777777777777778,\"#fb9f3a\"],[0.8888888888888888,\"#fdca26\"],[1.0,\"#f0f921\"]],\"diverging\":[[0,\"#8e0152\"],[0.1,\"#c51b7d\"],[0.2,\"#de77ae\"],[0.3,\"#f1b6da\"],[0.4,\"#fde0ef\"],[0.5,\"#f7f7f7\"],[0.6,\"#e6f5d0\"],[0.7,\"#b8e186\"],[0.8,\"#7fbc41\"],[0.9,\"#4d9221\"],[1,\"#276419\"]]},\"xaxis\":{\"gridcolor\":\"white\",\"linecolor\":\"white\",\"ticks\":\"\",\"title\":{\"standoff\":15},\"zerolinecolor\":\"white\",\"automargin\":true,\"zerolinewidth\":2},\"yaxis\":{\"gridcolor\":\"white\",\"linecolor\":\"white\",\"ticks\":\"\",\"title\":{\"standoff\":15},\"zerolinecolor\":\"white\",\"automargin\":true,\"zerolinewidth\":2},\"scene\":{\"xaxis\":{\"backgroundcolor\":\"#E5ECF6\",\"gridcolor\":\"white\",\"linecolor\":\"white\",\"showbackground\":true,\"ticks\":\"\",\"zerolinecolor\":\"white\",\"gridwidth\":2},\"yaxis\":{\"backgroundcolor\":\"#E5ECF6\",\"gridcolor\":\"white\",\"linecolor\":\"white\",\"showbackground\":true,\"ticks\":\"\",\"zerolinecolor\":\"white\",\"gridwidth\":2},\"zaxis\":{\"backgroundcolor\":\"#E5ECF6\",\"gridcolor\":\"white\",\"linecolor\":\"white\",\"showbackground\":true,\"ticks\":\"\",\"zerolinecolor\":\"white\",\"gridwidth\":2}},\"shapedefaults\":{\"line\":{\"color\":\"#2a3f5f\"}},\"annotationdefaults\":{\"arrowcolor\":\"#2a3f5f\",\"arrowhead\":0,\"arrowwidth\":1},\"geo\":{\"bgcolor\":\"white\",\"landcolor\":\"#E5ECF6\",\"subunitcolor\":\"white\",\"showland\":true,\"showlakes\":true,\"lakecolor\":\"white\"},\"title\":{\"x\":0.05},\"mapbox\":{\"style\":\"light\"}}},\"title\":{\"text\":\"Stochastic HIV SIR model\",\"x\":0.5,\"xanchor\":\"center\"},\"xaxis\":{\"title\":{\"text\":\"Years\"}},\"yaxis\":{\"title\":{\"text\":\"Proportion of population\"}}},                        {\"responsive\": true}                    ).then(function(){\n",
              "                            \n",
              "var gd = document.getElementById('d4f4d097-5a28-4a0a-b6ae-1b7a924978fc');\n",
              "var x = new MutationObserver(function (mutations, observer) {{\n",
              "        var display = window.getComputedStyle(gd).display;\n",
              "        if (!display || display === 'none') {{\n",
              "            console.log([gd, 'removed!']);\n",
              "            Plotly.purge(gd);\n",
              "            observer.disconnect();\n",
              "        }}\n",
              "}});\n",
              "\n",
              "// Listen for the removal of the full notebook cells\n",
              "var notebookContainer = gd.closest('#notebook-container');\n",
              "if (notebookContainer) {{\n",
              "    x.observe(notebookContainer, {childList: true});\n",
              "}}\n",
              "\n",
              "// Listen for the clearing of the current output cell\n",
              "var outputEl = gd.closest('.output');\n",
              "if (outputEl) {{\n",
              "    x.observe(outputEl, {childList: true});\n",
              "}}\n",
              "\n",
              "                        })                };            </script>        </div>"
            ]
          },
          "metadata": {},
          "output_type": "display_data"
        }
      ],
      "source": [
        "#| code-fold: true\n",
        "\n",
        "fig = go.Figure()\n",
        "\n",
        "for i in range(len(results_stoch)):\n",
        "  #fig.add_trace(go.Scatter(name='Beta_stoch1', x=np.arange(len(results_stoch1[0])), y=results_stoch1[6], line={'dash':'dot','color':'yellow'}, legendgroup=\"Sim_\"+str(i)))\n",
        "  fig.add_trace(go.Scatter(name='Beta_meas'+str(i), x=np.arange(len(results_stoch[i][0])), y=results_stoch[i][7], line={'dash':'dot','color':'yellow'}, legendgroup=\"Sim_\"+str(i)))\n",
        "  fig.add_trace(go.Scatter(name='I_stoch'+str(i), x=np.arange(len(results_stoch[i][0])), y=results_stoch[i][1]/p, line={'dash':'dot', 'color':'red'}, legendgroup=\"Sim_\"+str(i)))\n",
        "  fig.add_trace(go.Bar(name='Ip_stoch'+str(i), x=np.arange(len(results_stoch[i][0])), y=results_stoch[i][4]*10/p, legendgroup=\"Sim_\"+str(i)))\n",
        "  fig.add_trace(go.Scatter(name='R_stoch'+str(i), x=np.arange(len(results_stoch[i][0])), y=results_stoch[i][2]/p, line={'dash':'dot', 'color':'green'}, legendgroup=\"Sim_\"+str(i)))\n",
        "\n",
        "fig.update_layout(\n",
        "    xaxis_title = 'Years',\n",
        "    yaxis_title = 'Proportion of population',\n",
        "    title={\n",
        "        'text':'Stochastic HIV SIR model',\n",
        "        'x':0.5,\n",
        "        'xanchor':'center'\n",
        "    }\n",
        ")\n",
        "\n",
        "fig.show()"
      ]
    }
  ],
  "metadata": {
    "colab": {
      "authorship_tag": "ABX9TyPh4pPlm9JhIhzPbvwEYPXC",
      "include_colab_link": true,
      "name": "2021-05-05-stochastic_HIV_model.ipynb",
      "provenance": [],
      "toc_visible": true
    },
    "kernelspec": {
      "display_name": "Python 3 (ipykernel)",
      "language": "python",
      "name": "python3"
    },
    "language_info": {
      "codemirror_mode": {
        "name": "ipython",
        "version": 3
      },
      "file_extension": ".py",
      "mimetype": "text/x-python",
      "name": "python",
      "nbconvert_exporter": "python",
      "pygments_lexer": "ipython3",
      "version": "3.9.17"
    }
  },
  "nbformat": 4,
  "nbformat_minor": 0
}
