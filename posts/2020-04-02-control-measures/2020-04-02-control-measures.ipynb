{
  "cells": [
    {
      "attachments": {},
      "cell_type": "markdown",
      "metadata": {
        "colab_type": "text",
        "id": "wHHObIt0qxfp"
      },
      "source": [
        "---\n",
        "title: \"Epidemic modeling - Part 6\"\n",
        "date: \"2020-04-02\"\n",
        "description: \"A quick overview of control measures in times of pandemic/epidemic\"\n",
        "categories: [modeling, SEIR, epidemiology, stochastic, COVID-19, real-world]\n",
        "image: \"../images/control_measures.png\"\n",
        "---"
      ]
    },
    {
      "attachments": {},
      "cell_type": "markdown",
      "metadata": {
        "colab_type": "text",
        "id": "AbrUxmQuq-S9"
      },
      "source": [
        "![](../my_icons/control_measures.png)"
      ]
    },
    {
      "attachments": {},
      "cell_type": "markdown",
      "metadata": {
        "colab_type": "text",
        "id": "BPKgWnCvBk9p"
      },
      "source": [
        "## Motivation for write-up"
      ]
    },
    {
      "attachments": {},
      "cell_type": "markdown",
      "metadata": {
        "colab_type": "text",
        "id": "QxlznadEpqsF"
      },
      "source": [
        "This is the 6th part of a multi-part series blog post on modeling in epidemiology.\n",
        "\n",
        "The COVID-19 pandemic has brought a lot of attention to the study of epidemiology and more specifically to the various mathematical models that are used to inform public health policies. Everyone has been trying to understand the growth or slowing of new cases and trying to predict the necessary sanitary resources. This blog post attempts to explain the foundations for some of the most used models and enlighten the reader on two key points.\n",
        "\n",
        "Following the first 5 parts of this blog series, we are left wondering what possible measures can be put in place to control the epidemic. \n",
        "\n",
        "This 6th installment focuses on this and attempts to elucidate the subject."
      ]
    },
    {
      "attachments": {},
      "cell_type": "markdown",
      "metadata": {
        "colab_type": "text",
        "id": "5NI68N8Hq_yv"
      },
      "source": [
        "## Why do we need control measures during an epidemic?"
      ]
    },
    {
      "attachments": {},
      "cell_type": "markdown",
      "metadata": {
        "colab_type": "text",
        "id": "zyOFPEiYYTU-"
      },
      "source": [
        "In the previous sections we have seen that without control measures in place i.e. when injecting an exposed person into the simulation, depending on the values of $\\beta$ and $\\gamma$, the virus will spread until it has infected everyone.\n",
        "\n",
        "There are many reasons why this is bad with a virus as virulent as SARS-CoV-2:\n",
        "* Even with a low Case Fatality Rate (CFR), the total death toll will be unacceptable\n",
        "* The strain on sanitary resources of peak sick people will lead to an increase in all-cause deaths\n",
        "* The strain on sanitary resources will lead to increased long-term morbidity\n",
        "* Many economic implications\n",
        "* Many many others..."
      ]
    },
    {
      "attachments": {},
      "cell_type": "markdown",
      "metadata": {
        "colab_type": "text",
        "id": "hay-ktYkdiyp"
      },
      "source": [
        "## Control measures: the basics"
      ]
    },
    {
      "attachments": {},
      "cell_type": "markdown",
      "metadata": {
        "colab_type": "text",
        "id": "qTZguglfq_xF"
      },
      "source": [
        "While the previous sections might have left us wondering what we can possibly do to control the pread of the epidemic, the evidence left from those studies in fact leave us with a lot of clues as to where to begin."
      ]
    },
    {
      "attachments": {},
      "cell_type": "markdown",
      "metadata": {
        "colab_type": "text",
        "id": "_0NPmXsHPq6A"
      },
      "source": [
        "### Only one way to stop an epidemic\n",
        "\n",
        "We have seen there is only one way to stop an epidemic, and that is by having:\n",
        "$$R \\leq 1$$\n",
        "$$\\leftrightarrow R_0~s(t) \\leq 1$$\n",
        "$$\\leftrightarrow \\frac{\\beta}{\\gamma}~s(t) \\leq 1$$"
      ]
    },
    {
      "attachments": {},
      "cell_type": "markdown",
      "metadata": {
        "colab_type": "text",
        "id": "AD6-yCTXQCNh"
      },
      "source": [
        "### Two methods to save lives\n",
        "\n",
        "From the equation above, we see an epidemic will either continue until herd immunity is reached:\n",
        "$$s(t) \\leq \\frac{1}{R_0}$$\n",
        "$$\\leftrightarrow Immune(t) \\geq 1-\\frac{1}{R_0}$$\n",
        "\n",
        "Or until measures are in place so that:\n",
        "$$R_0 \\leq \\frac{1}{s(t)}$$\n",
        "\n",
        "In the worst case scenario where $s(t) = 1$ (completely susceptible population), we need:\n",
        "$$R_0 \\leq 1$$\n",
        "$$\\leftrightarrow \\beta \\leq \\gamma$$"
      ]
    },
    {
      "attachments": {},
      "cell_type": "markdown",
      "metadata": {
        "colab_type": "text",
        "id": "rcecF9dvQSuO"
      },
      "source": [
        "\n",
        "From this results two main ideas of control:\n",
        "\n",
        "1. Reaching herd immunity all while controlling peak infectious individuals to within hospital and sanitary resources so as to limit morbidity and mortality\n",
        "\n",
        "2. Reducing $\\beta$ to smaller than $\\gamma$ to stop the epidemic even before herd immunity\n",
        "\n",
        "While the difference between the two is noted here, in practice they are effectively the same. \n",
        "\n",
        "\n",
        "Option 1 is the same as option 2, with the difference that in 1 we don't quite have $$R\\leq 1$$ and so the difference between the two results from different levels of imlementation."
      ]
    },
    {
      "attachments": {},
      "cell_type": "markdown",
      "metadata": {
        "colab_type": "text",
        "id": "fxF8kwvpQt1t"
      },
      "source": [
        "### Control measures in practice"
      ]
    },
    {
      "attachments": {},
      "cell_type": "markdown",
      "metadata": {
        "colab_type": "text",
        "id": "-QQlWOPaQxT8"
      },
      "source": [
        "We have seen three things influence the total number of people that end up infected with the virus:\n",
        "* Proportion of Susceptible in population $s(t)$\n",
        "* Value $\\beta$\n",
        "* Value of $\\gamma$ ($T_{Infectious}$)\n",
        "\n",
        "We have also seen that the peak of infectious individuals could be affected by:\n",
        "* Value of $\\sigma$ ($T_{Latent}$)\n",
        "\n",
        "And indeed, reducing the peak of infectious at any point comes down to either:\n",
        "* **Reducing the number of S:**\n",
        " * vaccination\n",
        " * prophylactic treatment when potentially exposed \n",
        "* **Reducing $\\beta = r * \\rho$ by:**\n",
        " 1. reducing $r$ i.e. reducing the average number of contacts a person has per day:\n",
        "   * lockdown measures\n",
        "   * work from home\n",
        "   * closing places where people gather (restaurants, bars, places of worship, etc)\n",
        " 2. reducing $\\rho$ - reducing the pobability of transmitting infection from an infectious to a susceptible via:\n",
        "   * physical distancing\n",
        "   * hygiene measures\n",
        "   * wearing personal protective equipment (PPE i.e. masks, gloves, etc) \n",
        "* **Reducing $\\gamma$ by:**\n",
        " * Isolation of the sick (mass testing of symptomatic and immediate isolation of positive cases)\n",
        " * Contact-tracing: tracing and quarantining all contacts from infectious people as to quarantine potential exposed before they become infectious\n",
        " * Chemotherapy: treatment to shorten duration of sickness and infectious period\n",
        "* **Increasing $\\sigma$ by:**\n",
        " * prophylactic treatment when potentially exposed\n",
        "\n",
        "All these are the same requirements to reduce $R \\leq 1$.\n",
        "\n",
        "Let's try to quantify the impact of each measure below."
      ]
    },
    {
      "cell_type": "code",
      "execution_count": 22,
      "metadata": {
        "colab": {
          "base_uri": "https://localhost:8080/",
          "height": 207
        },
        "colab_type": "code",
        "id": "ulPIE9YgyRii",
        "outputId": "ca06296c-6a01-4fb0-f81a-96d0759e841b"
      },
      "outputs": [],
      "source": [
        "#| code-fold: true\n",
        "\n",
        "import pandas as pd\n",
        "import numpy as np\n",
        "import plotly.graph_objects as go\n",
        "import plotly.express as px\n",
        "from scipy.stats import expon\n",
        "from scipy.stats import gamma\n",
        "from scipy.stats import weibull_min\n",
        "from numpy.random import default_rng\n",
        "rng = default_rng()"
      ]
    },
    {
      "cell_type": "code",
      "execution_count": 23,
      "metadata": {
        "colab": {},
        "colab_type": "code",
        "id": "K76YyCYexsRr"
      },
      "outputs": [],
      "source": [
        "#| code-fold: true\n",
        "\n",
        "# Need this new function for model below:\n",
        "def make_df(p,num_E, num_I, num_R):\n",
        "  df = pd.DataFrame(np.full((p,1), 'S').T[0], columns=['State'])\n",
        "  df['Day'] = 0\n",
        "  tochange=df.loc[rng.choice(p, size=num_E+num_I+num_R, replace=False),'State'].index\n",
        "  df.loc[tochange[0:num_E],'State'] = 'E'\n",
        "  df.loc[tochange[num_E:num_I+num_E],'State'] = 'I'\n",
        "  df.loc[tochange[num_E+num_I:num_E+num_I+num_R],'State'] = 'R'\n",
        "  return df"
      ]
    },
    {
      "cell_type": "code",
      "execution_count": 24,
      "metadata": {
        "colab": {},
        "colab_type": "code",
        "id": "pqaZ2bKt1Tcd"
      },
      "outputs": [],
      "source": [
        "#| code-fold: true\n",
        "\n",
        "# regular Stoachastic SEIR model below:\n",
        "def seir_model_stoch_ctrl(beta, p, num_E, num_I, num_R, days, isolation, iso_n, contact_tracing, lockdown):\n",
        "\n",
        "    # Initialize population dataframe with data given by user\n",
        "    df = make_df(p,num_E, num_I, num_R)\n",
        "    \n",
        "    # This variable is used to track daily value of beta\n",
        "    xxbeta=np.array([],dtype=float)\n",
        "\n",
        "    # Initialize the arrays to return\n",
        "    # Below are numbers of S, E, I, R total\n",
        "    S=np.array([],dtype=int)\n",
        "    E=np.array([],dtype=int)\n",
        "    I=np.array([],dtype=int)\n",
        "    R=np.array([],dtype=int)\n",
        "    # Below are the daily additions in S, E, I, R\n",
        "    Spd=np.array([],dtype=int)\n",
        "    Epd=np.array([],dtype=int)\n",
        "    Ipd=np.array([],dtype=int)\n",
        "    Rpd=np.array([],dtype=int)\n",
        "\n",
        "    b=beta\n",
        "    beta2=b/10\n",
        "    beta3=b/10\n",
        "\n",
        "    lockdown_date=0\n",
        "    \n",
        "    # Stochastic model so use random values to decide on progression\n",
        "    rand = np.random.random(size=(p,days))\n",
        "\n",
        "    # Depending if you want exponential or gamma distribution for sigma\n",
        "    EtoI = gamma.rvs(1.8,loc=0.9,scale=(5.2-1.8)/0.9,size=p)\n",
        "\n",
        "    # Depending if you want exponential or gamma distribution for gamma and if you have isolation or not\n",
        "    # Uses distributiosn found on blog part 3\n",
        "    if isolation is True:\n",
        "      ItoR = iso_n*np.ones(p)\n",
        "    else:\n",
        "      ItoR = weibull_min.rvs(2.3, loc=2, scale=20.11, size=p)   \n",
        "\n",
        "\n",
        "    # Iterate over every day the simulation is run\n",
        "    for j in range(0,days):\n",
        "\n",
        "        # Record daily beta values\n",
        "        xxbeta=np.append(xxbeta, b[j])\n",
        "\n",
        "        # First we get the index of the individuals that will change state today:\n",
        "\n",
        "        # Random number tells you which 'S' have been exposed on this day \n",
        "        StoE_index = df.loc[(df.State == 'S') & (rand[:,j] < b[j]*len(np.where(df.State=='I')[0])/p)].index\n",
        "\n",
        "        # For each row, if a person has been a certain number of days in E, they will go to I\n",
        "        # This follows EtoI variable which is either exponential or gamma distributed according to above\n",
        "        EtoI_index = df.loc[(df.State == 'E') & (j-df.Day >= EtoI)].index\n",
        "        \n",
        "        # Similaraly as above\n",
        "        # For each row, if a person has been a certain number of days in I, they will go to R\n",
        "        # This follows EtoI variable which is either exponential or gamma distributed according to above\n",
        "        ItoR_index = df.loc[(df.State == 'I') & (j-df.Day >= ItoR)].index\n",
        "\n",
        "        # Use indexes collected above to populate per day values\n",
        "        Epd = np.append(Epd,len(StoE_index))\n",
        "        Ipd = np.append(Ipd,len(EtoI_index))\n",
        "        Rpd = np.append(Rpd,len(ItoR_index))\n",
        "\n",
        "        # Append the S, E, I, and R arrays\n",
        "        S=np.append(S,len(np.where(df.State=='S')[0]))\n",
        "        E=np.append(E,len(np.where(df.State=='E')[0]))\n",
        "        I=np.append(I,len(np.where(df.State=='I')[0]))\n",
        "        R=np.append(R,len(np.where(df.State=='R')[0]))\n",
        "\n",
        "        # Now we use the indexes collected above randomly to change the actual population dataframe to the new states\n",
        "        df.iloc[ItoR_index] = ['R', j]\n",
        "        df.iloc[EtoI_index] = ['I', j]\n",
        "        df.iloc[StoE_index] = ['E', j]\n",
        "\n",
        "        # Code below for control measures to reduce beta values\n",
        "        if lockdown is True:\n",
        "          if ((I[-1] > 100) & (Ipd[-1] > 39)):\n",
        "            if lockdown_date == 0:\n",
        "              lockdown_date = j+1\n",
        "            b = beta2\n",
        "          elif ((I[-1] > 100) & (Ipd[-1] < 40)): \n",
        "            b = beta3\n",
        "        \n",
        "    Epd[0]+=num_E\n",
        "    Ipd[0]+=num_I\n",
        "    Rpd[0]+=num_R\n",
        "\n",
        "    return S,E,I,R, Epd, Ipd, Rpd, xxbeta, lockdown_date"
      ]
    },
    {
      "attachments": {},
      "cell_type": "markdown",
      "metadata": {
        "colab_type": "text",
        "id": "vy8ZpEF9Ft0c"
      },
      "source": [
        "## Reducing the proportion of Susceptible in the population"
      ]
    },
    {
      "attachments": {},
      "cell_type": "markdown",
      "metadata": {
        "colab_type": "text",
        "id": "_ALkgvn7FyD6"
      },
      "source": [
        "As we have seen, reducing the proportion of susceptible in the population helps reduce the impact of the epidemic.\n",
        "\n",
        "In the first blog post of the series, we derived the threshold for herd immunity as being $1-\\frac{1}{R_0}$.\n",
        "\n",
        "In our simulations we have $R_0 = \\frac{\\beta}{\\gamma} = \\frac{0.5}{\\frac{1}{20.62}} = 10.31$\n",
        "\n",
        "And so, the herd immunity threshold in our simulation should be:\n",
        "$$HIT = \\frac{9.31}{10.31}~100\\% = 90.3\\%$$\n",
        "\n",
        "Let's run the model with the initial condition that 92% are in the R state already."
      ]
    },
    {
      "cell_type": "code",
      "execution_count": 27,
      "metadata": {
        "colab": {
          "base_uri": "https://localhost:8080/",
          "height": 266
        },
        "colab_type": "code",
        "id": "hUJ4pKFqG0Wu",
        "outputId": "dac7fd32-76d1-4f64-d958-0b8b05db0cb5"
      },
      "outputs": [],
      "source": [
        "#| code-fold: true\n",
        "\n",
        "# Define parameters for stochastic model\n",
        "days = 300\n",
        "p = 10000\n",
        "num_E = 1\n",
        "num_I = 0\n",
        "\n",
        "# Run 2 simulations, one above HIT, and one below:\n",
        "num_R1 = 8000\n",
        "num_R2 = 9200\n",
        "beta_stoch = 0.5*np.ones(days)\n",
        "iso_n = 0\n",
        "\n",
        "# Run 4 stochastic simulations, 2 with exponential sigma, 2 with gamma sigmalation, iso_n, contact_tracing, lockdown\n",
        "results_stoch0 = seir_model_stoch_ctrl(beta_stoch, p, num_E, num_I, num_R1, days, isolation=False, iso_n=iso_n, contact_tracing=False, lockdown=False)\n",
        "results_stoch1 = seir_model_stoch_ctrl(beta_stoch, p, num_E, num_I, num_R2, days, isolation=False, iso_n=iso_n, contact_tracing=False, lockdown=False)"
      ]
    },
    {
      "cell_type": "code",
      "execution_count": 28,
      "metadata": {
        "colab": {},
        "colab_type": "code",
        "id": "Z7Q-7j_6G0Wz"
      },
      "outputs": [
        {
          "data": {
            "application/vnd.plotly.v1+json": {
              "config": {
                "plotlyServerURL": "https://plot.ly"
              },
              "data": [
                {
                  "name": "I_below_HIT",
                  "type": "scatter",
                  "x": {
                    "bdata": "AAABAAIAAwAEAAUABgAHAAgACQAKAAsADAANAA4ADwAQABEAEgATABQAFQAWABcAGAAZABoAGwAcAB0AHgAfACAAIQAiACMAJAAlACYAJwAoACkAKgArACwALQAuAC8AMAAxADIAMwA0ADUANgA3ADgAOQA6ADsAPAA9AD4APwBAAEEAQgBDAEQARQBGAEcASABJAEoASwBMAE0ATgBPAFAAUQBSAFMAVABVAFYAVwBYAFkAWgBbAFwAXQBeAF8AYABhAGIAYwBkAGUAZgBnAGgAaQBqAGsAbABtAG4AbwBwAHEAcgBzAHQAdQB2AHcAeAB5AHoAewB8AH0AfgB/AIAAgQCCAIMAhACFAIYAhwCIAIkAigCLAIwAjQCOAI8AkACRAJIAkwCUAJUAlgCXAJgAmQCaAJsAnACdAJ4AnwCgAKEAogCjAKQApQCmAKcAqACpAKoAqwCsAK0ArgCvALAAsQCyALMAtAC1ALYAtwC4ALkAugC7ALwAvQC+AL8AwADBAMIAwwDEAMUAxgDHAMgAyQDKAMsAzADNAM4AzwDQANEA0gDTANQA1QDWANcA2ADZANoA2wDcAN0A3gDfAOAA4QDiAOMA5ADlAOYA5wDoAOkA6gDrAOwA7QDuAO8A8ADxAPIA8wD0APUA9gD3APgA+QD6APsA/AD9AP4A/wAAAQEBAgEDAQQBBQEGAQcBCAEJAQoBCwEMAQ0BDgEPARABEQESARMBFAEVARYBFwEYARkBGgEbARwBHQEeAR8BIAEhASIBIwEkASUBJgEnASgBKQEqASsB",
                    "dtype": "i2"
                  },
                  "y": {
                    "bdata": "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",
                    "dtype": "f8"
                  }
                },
                {
                  "name": "I_above_HIT",
                  "type": "scatter",
                  "x": {
                    "bdata": "AAABAAIAAwAEAAUABgAHAAgACQAKAAsADAANAA4ADwAQABEAEgATABQAFQAWABcAGAAZABoAGwAcAB0AHgAfACAAIQAiACMAJAAlACYAJwAoACkAKgArACwALQAuAC8AMAAxADIAMwA0ADUANgA3ADgAOQA6ADsAPAA9AD4APwBAAEEAQgBDAEQARQBGAEcASABJAEoASwBMAE0ATgBPAFAAUQBSAFMAVABVAFYAVwBYAFkAWgBbAFwAXQBeAF8AYABhAGIAYwBkAGUAZgBnAGgAaQBqAGsAbABtAG4AbwBwAHEAcgBzAHQAdQB2AHcAeAB5AHoAewB8AH0AfgB/AIAAgQCCAIMAhACFAIYAhwCIAIkAigCLAIwAjQCOAI8AkACRAJIAkwCUAJUAlgCXAJgAmQCaAJsAnACdAJ4AnwCgAKEAogCjAKQApQCmAKcAqACpAKoAqwCsAK0ArgCvALAAsQCyALMAtAC1ALYAtwC4ALkAugC7ALwAvQC+AL8AwADBAMIAwwDEAMUAxgDHAMgAyQDKAMsAzADNAM4AzwDQANEA0gDTANQA1QDWANcA2ADZANoA2wDcAN0A3gDfAOAA4QDiAOMA5ADlAOYA5wDoAOkA6gDrAOwA7QDuAO8A8ADxAPIA8wD0APUA9gD3APgA+QD6APsA/AD9AP4A/wAAAQEBAgEDAQQBBQEGAQcBCAEJAQoBCwEMAQ0BDgEPARABEQESARMBFAEVARYBFwEYARkBGgEbARwBHQEeAR8BIAEhASIBIwEkASUBJgEnASgBKQEqASsB",
                    "dtype": "i2"
                  },
                  "y": {
                    "bdata": "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",
                    "dtype": "f8"
                  }
                }
              ],
              "layout": {
                "template": {
                  "data": {
                    "bar": [
                      {
                        "error_x": {
                          "color": "#2a3f5f"
                        },
                        "error_y": {
                          "color": "#2a3f5f"
                        },
                        "marker": {
                          "line": {
                            "color": "#E5ECF6",
                            "width": 0.5
                          },
                          "pattern": {
                            "fillmode": "overlay",
                            "size": 10,
                            "solidity": 0.2
                          }
                        },
                        "type": "bar"
                      }
                    ],
                    "barpolar": [
                      {
                        "marker": {
                          "line": {
                            "color": "#E5ECF6",
                            "width": 0.5
                          },
                          "pattern": {
                            "fillmode": "overlay",
                            "size": 10,
                            "solidity": 0.2
                          }
                        },
                        "type": "barpolar"
                      }
                    ],
                    "carpet": [
                      {
                        "aaxis": {
                          "endlinecolor": "#2a3f5f",
                          "gridcolor": "white",
                          "linecolor": "white",
                          "minorgridcolor": "white",
                          "startlinecolor": "#2a3f5f"
                        },
                        "baxis": {
                          "endlinecolor": "#2a3f5f",
                          "gridcolor": "white",
                          "linecolor": "white",
                          "minorgridcolor": "white",
                          "startlinecolor": "#2a3f5f"
                        },
                        "type": "carpet"
                      }
                    ],
                    "choropleth": [
                      {
                        "colorbar": {
                          "outlinewidth": 0,
                          "ticks": ""
                        },
                        "type": "choropleth"
                      }
                    ],
                    "contour": [
                      {
                        "colorbar": {
                          "outlinewidth": 0,
                          "ticks": ""
                        },
                        "colorscale": [
                          [
                            0,
                            "#0d0887"
                          ],
                          [
                            0.1111111111111111,
                            "#46039f"
                          ],
                          [
                            0.2222222222222222,
                            "#7201a8"
                          ],
                          [
                            0.3333333333333333,
                            "#9c179e"
                          ],
                          [
                            0.4444444444444444,
                            "#bd3786"
                          ],
                          [
                            0.5555555555555556,
                            "#d8576b"
                          ],
                          [
                            0.6666666666666666,
                            "#ed7953"
                          ],
                          [
                            0.7777777777777778,
                            "#fb9f3a"
                          ],
                          [
                            0.8888888888888888,
                            "#fdca26"
                          ],
                          [
                            1,
                            "#f0f921"
                          ]
                        ],
                        "type": "contour"
                      }
                    ],
                    "contourcarpet": [
                      {
                        "colorbar": {
                          "outlinewidth": 0,
                          "ticks": ""
                        },
                        "type": "contourcarpet"
                      }
                    ],
                    "heatmap": [
                      {
                        "colorbar": {
                          "outlinewidth": 0,
                          "ticks": ""
                        },
                        "colorscale": [
                          [
                            0,
                            "#0d0887"
                          ],
                          [
                            0.1111111111111111,
                            "#46039f"
                          ],
                          [
                            0.2222222222222222,
                            "#7201a8"
                          ],
                          [
                            0.3333333333333333,
                            "#9c179e"
                          ],
                          [
                            0.4444444444444444,
                            "#bd3786"
                          ],
                          [
                            0.5555555555555556,
                            "#d8576b"
                          ],
                          [
                            0.6666666666666666,
                            "#ed7953"
                          ],
                          [
                            0.7777777777777778,
                            "#fb9f3a"
                          ],
                          [
                            0.8888888888888888,
                            "#fdca26"
                          ],
                          [
                            1,
                            "#f0f921"
                          ]
                        ],
                        "type": "heatmap"
                      }
                    ],
                    "histogram": [
                      {
                        "marker": {
                          "pattern": {
                            "fillmode": "overlay",
                            "size": 10,
                            "solidity": 0.2
                          }
                        },
                        "type": "histogram"
                      }
                    ],
                    "histogram2d": [
                      {
                        "colorbar": {
                          "outlinewidth": 0,
                          "ticks": ""
                        },
                        "colorscale": [
                          [
                            0,
                            "#0d0887"
                          ],
                          [
                            0.1111111111111111,
                            "#46039f"
                          ],
                          [
                            0.2222222222222222,
                            "#7201a8"
                          ],
                          [
                            0.3333333333333333,
                            "#9c179e"
                          ],
                          [
                            0.4444444444444444,
                            "#bd3786"
                          ],
                          [
                            0.5555555555555556,
                            "#d8576b"
                          ],
                          [
                            0.6666666666666666,
                            "#ed7953"
                          ],
                          [
                            0.7777777777777778,
                            "#fb9f3a"
                          ],
                          [
                            0.8888888888888888,
                            "#fdca26"
                          ],
                          [
                            1,
                            "#f0f921"
                          ]
                        ],
                        "type": "histogram2d"
                      }
                    ],
                    "histogram2dcontour": [
                      {
                        "colorbar": {
                          "outlinewidth": 0,
                          "ticks": ""
                        },
                        "colorscale": [
                          [
                            0,
                            "#0d0887"
                          ],
                          [
                            0.1111111111111111,
                            "#46039f"
                          ],
                          [
                            0.2222222222222222,
                            "#7201a8"
                          ],
                          [
                            0.3333333333333333,
                            "#9c179e"
                          ],
                          [
                            0.4444444444444444,
                            "#bd3786"
                          ],
                          [
                            0.5555555555555556,
                            "#d8576b"
                          ],
                          [
                            0.6666666666666666,
                            "#ed7953"
                          ],
                          [
                            0.7777777777777778,
                            "#fb9f3a"
                          ],
                          [
                            0.8888888888888888,
                            "#fdca26"
                          ],
                          [
                            1,
                            "#f0f921"
                          ]
                        ],
                        "type": "histogram2dcontour"
                      }
                    ],
                    "mesh3d": [
                      {
                        "colorbar": {
                          "outlinewidth": 0,
                          "ticks": ""
                        },
                        "type": "mesh3d"
                      }
                    ],
                    "parcoords": [
                      {
                        "line": {
                          "colorbar": {
                            "outlinewidth": 0,
                            "ticks": ""
                          }
                        },
                        "type": "parcoords"
                      }
                    ],
                    "pie": [
                      {
                        "automargin": true,
                        "type": "pie"
                      }
                    ],
                    "scatter": [
                      {
                        "fillpattern": {
                          "fillmode": "overlay",
                          "size": 10,
                          "solidity": 0.2
                        },
                        "type": "scatter"
                      }
                    ],
                    "scatter3d": [
                      {
                        "line": {
                          "colorbar": {
                            "outlinewidth": 0,
                            "ticks": ""
                          }
                        },
                        "marker": {
                          "colorbar": {
                            "outlinewidth": 0,
                            "ticks": ""
                          }
                        },
                        "type": "scatter3d"
                      }
                    ],
                    "scattercarpet": [
                      {
                        "marker": {
                          "colorbar": {
                            "outlinewidth": 0,
                            "ticks": ""
                          }
                        },
                        "type": "scattercarpet"
                      }
                    ],
                    "scattergeo": [
                      {
                        "marker": {
                          "colorbar": {
                            "outlinewidth": 0,
                            "ticks": ""
                          }
                        },
                        "type": "scattergeo"
                      }
                    ],
                    "scattergl": [
                      {
                        "marker": {
                          "colorbar": {
                            "outlinewidth": 0,
                            "ticks": ""
                          }
                        },
                        "type": "scattergl"
                      }
                    ],
                    "scattermap": [
                      {
                        "marker": {
                          "colorbar": {
                            "outlinewidth": 0,
                            "ticks": ""
                          }
                        },
                        "type": "scattermap"
                      }
                    ],
                    "scattermapbox": [
                      {
                        "marker": {
                          "colorbar": {
                            "outlinewidth": 0,
                            "ticks": ""
                          }
                        },
                        "type": "scattermapbox"
                      }
                    ],
                    "scatterpolar": [
                      {
                        "marker": {
                          "colorbar": {
                            "outlinewidth": 0,
                            "ticks": ""
                          }
                        },
                        "type": "scatterpolar"
                      }
                    ],
                    "scatterpolargl": [
                      {
                        "marker": {
                          "colorbar": {
                            "outlinewidth": 0,
                            "ticks": ""
                          }
                        },
                        "type": "scatterpolargl"
                      }
                    ],
                    "scatterternary": [
                      {
                        "marker": {
                          "colorbar": {
                            "outlinewidth": 0,
                            "ticks": ""
                          }
                        },
                        "type": "scatterternary"
                      }
                    ],
                    "surface": [
                      {
                        "colorbar": {
                          "outlinewidth": 0,
                          "ticks": ""
                        },
                        "colorscale": [
                          [
                            0,
                            "#0d0887"
                          ],
                          [
                            0.1111111111111111,
                            "#46039f"
                          ],
                          [
                            0.2222222222222222,
                            "#7201a8"
                          ],
                          [
                            0.3333333333333333,
                            "#9c179e"
                          ],
                          [
                            0.4444444444444444,
                            "#bd3786"
                          ],
                          [
                            0.5555555555555556,
                            "#d8576b"
                          ],
                          [
                            0.6666666666666666,
                            "#ed7953"
                          ],
                          [
                            0.7777777777777778,
                            "#fb9f3a"
                          ],
                          [
                            0.8888888888888888,
                            "#fdca26"
                          ],
                          [
                            1,
                            "#f0f921"
                          ]
                        ],
                        "type": "surface"
                      }
                    ],
                    "table": [
                      {
                        "cells": {
                          "fill": {
                            "color": "#EBF0F8"
                          },
                          "line": {
                            "color": "white"
                          }
                        },
                        "header": {
                          "fill": {
                            "color": "#C8D4E3"
                          },
                          "line": {
                            "color": "white"
                          }
                        },
                        "type": "table"
                      }
                    ]
                  },
                  "layout": {
                    "annotationdefaults": {
                      "arrowcolor": "#2a3f5f",
                      "arrowhead": 0,
                      "arrowwidth": 1
                    },
                    "autotypenumbers": "strict",
                    "coloraxis": {
                      "colorbar": {
                        "outlinewidth": 0,
                        "ticks": ""
                      }
                    },
                    "colorscale": {
                      "diverging": [
                        [
                          0,
                          "#8e0152"
                        ],
                        [
                          0.1,
                          "#c51b7d"
                        ],
                        [
                          0.2,
                          "#de77ae"
                        ],
                        [
                          0.3,
                          "#f1b6da"
                        ],
                        [
                          0.4,
                          "#fde0ef"
                        ],
                        [
                          0.5,
                          "#f7f7f7"
                        ],
                        [
                          0.6,
                          "#e6f5d0"
                        ],
                        [
                          0.7,
                          "#b8e186"
                        ],
                        [
                          0.8,
                          "#7fbc41"
                        ],
                        [
                          0.9,
                          "#4d9221"
                        ],
                        [
                          1,
                          "#276419"
                        ]
                      ],
                      "sequential": [
                        [
                          0,
                          "#0d0887"
                        ],
                        [
                          0.1111111111111111,
                          "#46039f"
                        ],
                        [
                          0.2222222222222222,
                          "#7201a8"
                        ],
                        [
                          0.3333333333333333,
                          "#9c179e"
                        ],
                        [
                          0.4444444444444444,
                          "#bd3786"
                        ],
                        [
                          0.5555555555555556,
                          "#d8576b"
                        ],
                        [
                          0.6666666666666666,
                          "#ed7953"
                        ],
                        [
                          0.7777777777777778,
                          "#fb9f3a"
                        ],
                        [
                          0.8888888888888888,
                          "#fdca26"
                        ],
                        [
                          1,
                          "#f0f921"
                        ]
                      ],
                      "sequentialminus": [
                        [
                          0,
                          "#0d0887"
                        ],
                        [
                          0.1111111111111111,
                          "#46039f"
                        ],
                        [
                          0.2222222222222222,
                          "#7201a8"
                        ],
                        [
                          0.3333333333333333,
                          "#9c179e"
                        ],
                        [
                          0.4444444444444444,
                          "#bd3786"
                        ],
                        [
                          0.5555555555555556,
                          "#d8576b"
                        ],
                        [
                          0.6666666666666666,
                          "#ed7953"
                        ],
                        [
                          0.7777777777777778,
                          "#fb9f3a"
                        ],
                        [
                          0.8888888888888888,
                          "#fdca26"
                        ],
                        [
                          1,
                          "#f0f921"
                        ]
                      ]
                    },
                    "colorway": [
                      "#636efa",
                      "#EF553B",
                      "#00cc96",
                      "#ab63fa",
                      "#FFA15A",
                      "#19d3f3",
                      "#FF6692",
                      "#B6E880",
                      "#FF97FF",
                      "#FECB52"
                    ],
                    "font": {
                      "color": "#2a3f5f"
                    },
                    "geo": {
                      "bgcolor": "white",
                      "lakecolor": "white",
                      "landcolor": "#E5ECF6",
                      "showlakes": true,
                      "showland": true,
                      "subunitcolor": "white"
                    },
                    "hoverlabel": {
                      "align": "left"
                    },
                    "hovermode": "closest",
                    "mapbox": {
                      "style": "light"
                    },
                    "paper_bgcolor": "white",
                    "plot_bgcolor": "#E5ECF6",
                    "polar": {
                      "angularaxis": {
                        "gridcolor": "white",
                        "linecolor": "white",
                        "ticks": ""
                      },
                      "bgcolor": "#E5ECF6",
                      "radialaxis": {
                        "gridcolor": "white",
                        "linecolor": "white",
                        "ticks": ""
                      }
                    },
                    "scene": {
                      "xaxis": {
                        "backgroundcolor": "#E5ECF6",
                        "gridcolor": "white",
                        "gridwidth": 2,
                        "linecolor": "white",
                        "showbackground": true,
                        "ticks": "",
                        "zerolinecolor": "white"
                      },
                      "yaxis": {
                        "backgroundcolor": "#E5ECF6",
                        "gridcolor": "white",
                        "gridwidth": 2,
                        "linecolor": "white",
                        "showbackground": true,
                        "ticks": "",
                        "zerolinecolor": "white"
                      },
                      "zaxis": {
                        "backgroundcolor": "#E5ECF6",
                        "gridcolor": "white",
                        "gridwidth": 2,
                        "linecolor": "white",
                        "showbackground": true,
                        "ticks": "",
                        "zerolinecolor": "white"
                      }
                    },
                    "shapedefaults": {
                      "line": {
                        "color": "#2a3f5f"
                      }
                    },
                    "ternary": {
                      "aaxis": {
                        "gridcolor": "white",
                        "linecolor": "white",
                        "ticks": ""
                      },
                      "baxis": {
                        "gridcolor": "white",
                        "linecolor": "white",
                        "ticks": ""
                      },
                      "bgcolor": "#E5ECF6",
                      "caxis": {
                        "gridcolor": "white",
                        "linecolor": "white",
                        "ticks": ""
                      }
                    },
                    "title": {
                      "x": 0.05
                    },
                    "xaxis": {
                      "automargin": true,
                      "gridcolor": "white",
                      "linecolor": "white",
                      "ticks": "",
                      "title": {
                        "standoff": 15
                      },
                      "zerolinecolor": "white",
                      "zerolinewidth": 2
                    },
                    "yaxis": {
                      "automargin": true,
                      "gridcolor": "white",
                      "linecolor": "white",
                      "ticks": "",
                      "title": {
                        "standoff": 15
                      },
                      "zerolinecolor": "white",
                      "zerolinewidth": 2
                    }
                  }
                },
                "title": {
                  "text": "$\\text{Effect of herd immunity on SEIR model}$",
                  "x": 0.5,
                  "xanchor": "center"
                },
                "xaxis": {
                  "title": {
                    "text": "Day"
                  }
                },
                "yaxis": {
                  "title": {
                    "text": "Proportion of population"
                  }
                }
              }
            },
            "text/html": [
              "<div>            <script src=\"https://cdnjs.cloudflare.com/ajax/libs/mathjax/2.7.5/MathJax.js?config=TeX-AMS-MML_SVG\"></script><script type=\"text/javascript\">if (window.MathJax && window.MathJax.Hub && window.MathJax.Hub.Config) {window.MathJax.Hub.Config({SVG: {font: \"STIX-Web\"}});}</script>                <script type=\"text/javascript\">window.PlotlyConfig = {MathJaxConfig: 'local'};</script>\n",
              "        <script charset=\"utf-8\" src=\"https://cdn.plot.ly/plotly-3.0.0.min.js\"></script>                <div id=\"66c4521a-b990-4214-90bf-8d5bc0f8999d\" class=\"plotly-graph-div\" style=\"height:525px; width:100%;\"></div>            <script type=\"text/javascript\">                window.PLOTLYENV=window.PLOTLYENV || {};                                if (document.getElementById(\"66c4521a-b990-4214-90bf-8d5bc0f8999d\")) {                    Plotly.newPlot(                        \"66c4521a-b990-4214-90bf-8d5bc0f8999d\",                        [{\"name\":\"I_below_HIT\",\"x\":{\"dtype\":\"i2\",\"bdata\":\"AAABAAIAAwAEAAUABgAHAAgACQAKAAsADAANAA4ADwAQABEAEgATABQAFQAWABcAGAAZABoAGwAcAB0AHgAfACAAIQAiACMAJAAlACYAJwAoACkAKgArACwALQAuAC8AMAAxADIAMwA0ADUANgA3ADgAOQA6ADsAPAA9AD4APwBAAEEAQgBDAEQARQBGAEcASABJAEoASwBMAE0ATgBPAFAAUQBSAFMAVABVAFYAVwBYAFkAWgBbAFwAXQBeAF8AYABhAGIAYwBkAGUAZgBnAGgAaQBqAGsAbABtAG4AbwBwAHEAcgBzAHQAdQB2AHcAeAB5AHoAewB8AH0AfgB\\u002fAIAAgQCCAIMAhACFAIYAhwCIAIkAigCLAIwAjQCOAI8AkACRAJIAkwCUAJUAlgCXAJgAmQCaAJsAnACdAJ4AnwCgAKEAogCjAKQApQCmAKcAqACpAKoAqwCsAK0ArgCvALAAsQCyALMAtAC1ALYAtwC4ALkAugC7ALwAvQC+AL8AwADBAMIAwwDEAMUAxgDHAMgAyQDKAMsAzADNAM4AzwDQANEA0gDTANQA1QDWANcA2ADZANoA2wDcAN0A3gDfAOAA4QDiAOMA5ADlAOYA5wDoAOkA6gDrAOwA7QDuAO8A8ADxAPIA8wD0APUA9gD3APgA+QD6APsA\\u002fAD9AP4A\\u002fwAAAQEBAgEDAQQBBQEGAQcBCAEJAQoBCwEMAQ0BDgEPARABEQESARMBFAEVARYBFwEYARkBGgEbARwBHQEeAR8BIAEhASIBIwEkASUBJgEnASgBKQEqASsB\"},\"y\":{\"dtype\":\"f8\",\"bdata\":\"AAAAAAAAAAAAAAAAAAAAAAAAAAAAAAAAAAAAAAAAAAAAAAAAAAAAAC1DHOviNho\\u002fLUMc6+I2Gj8tQxzr4jYaPy1DHOviNho\\u002fLUMc6+I2Gj8tQxzr4jYaPy1DHOviNho\\u002fLUMc6+I2Gj8tQxzr4jYaPy1DHOviNho\\u002fLUMc6+I2Gj8tQxzr4jYaP2EyVTAqqTM\\u002fYTJVMCqpMz9hMlUwKqkzP2EyVTAqqTM\\u002fYTJVMCqpMz9hMlUwKqkzP2EyVTAqqTM\\u002fYTJVMCqpMz8tQxzr4jY6P\\u002fyp8dJNYkA\\u002fYTJVMCqpQz9hMlUwKqlDP\\u002fyp8dJNYkA\\u002f\\u002fKnx0k1iQD\\u002f8qfHSTWJAP2EyVTAqqUM\\u002f\\u002fKnx0k1iQD8tQxzr4jY6Py1DHOviNjo\\u002fLUMc6+I2Oj8tQxzr4jY6Py1DHOviNjo\\u002fLUMc6+I2Oj8tQxzr4jY6P\\u002fyp8dJNYkA\\u002fYTJVMCqpQz\\u002fHuriNBvBGP8e6uI0G8EY\\u002fx7q4jQbwRj8tQxzr4jZKPy1DHOviNko\\u002fkst\\u002fSL99TT+Sy39Iv31NP\\u002fyp8dJNYlA\\u002f\\u002fKnx0k1iUD\\u002f8qfHSTWJQP\\u002fyp8dJNYlA\\u002f\\u002fKnx0k1iUD\\u002f8qfHSTWJQP\\u002fyp8dJNYlA\\u002fkst\\u002fSL99TT\\u002f8qfHSTWJQP\\u002fyp8dJNYlA\\u002fkst\\u002fSL99TT9hMlUwKqlTPy9uowG8BVI\\u002fYTJVMCqpUz\\u002f6fmq8dJNYP\\u002fp+arx0k1g\\u002f+n5qvHSTWD+Sy39Iv31dP18HzhlR2ls\\u002fXwfOGVHaWz\\u002fFjzF3LSFfP5LLf0i\\u002ffV0\\u002f\\u002fKnx0k1iYD8vbqMBvAViP3sUrkfhemQ\\u002fYTJVMCqpYz97FK5H4XpkP2EyVTAqqWM\\u002flPYGX5hMZT+U9gZfmExlP+CcEaW9wWc\\u002fXwfOGVHaaz+Sy39Iv31tP95xio7k8m8\\u002f3nGKjuTybz\\u002fFjzF3LSFvP\\u002fyp8dJNYnA\\u002fFYxK6gQ0cT8i\\u002ffZ14JxxPyL99nXgnHE\\u002fSFD8GHPXcj9VwaikTkBzPzvfT42XbnI\\u002fSFD8GHPXcj9uowG8BRJ0P2EyVTAqqXM\\u002fO99PjZducj97FK5H4Xp0P8e6uI0G8HY\\u002f+n5qvHSTeD8g0m9fB855PwfwFkhQ\\u002fHg\\u002fObTIdr6fej8g0m9fB855Pzm0yHa+n3o\\u002fU5YhjnVxez+fPCzUmuZ9P588LNSa5n0\\u002f0gDeAgmKfz\\u002fecYqO5PJ\\u002fPxWMSuoENIE\\u002fFYxK6gQ0gT8vbqMBvAWCP0hQ\\u002fBhz14I\\u002fwhcmUwWjgj\\u002f129eBc0aEP4iFWtO844Q\\u002fDr4wmSoYhT+IhVrTvOOEP4iFWtO844Q\\u002foWez6nO1hT+hZ7Pqc7WFPzQRNjy9UoY\\u002fWmQ730+Nhz90RpT2Bl+IP+0NvjCZKog\\u002fINJvXwfOiT9fB84ZUdqLP2x4eqUsQ4w\\u002frK3YX3ZPjj\\u002fecYqO5PKPPz\\u002fG3LWEfJA\\u002fuY0G8BZIkD9lGeJYF7eRPwkbnl4py5A\\u002fj1N0JJf\\u002fkD+1pnnHKTqSP9v5fmq8dJM\\u002fEqW9wRcmkz9uowG8BRKUP6VOQBNhw5M\\u002fsb\\u002fsnjwslD8OvjCZKhiVP5T2Bl+YTJU\\u002fJ6CJsOHplT8noImw4emVP\\u002f5l9+RhoZY\\u002f1CtlGeJYlz9n1edqK\\u002faXP0oMAiuHFpk\\u002fmpmZmZmZmT+ze\\u002fKwUGuaPwMJih9j7po\\u002fs3vysFBrmj9seHqlLEOcP\\u002f8h\\u002ffZ14Jw\\u002fGQRWDi2ynT+srdhfdk+eP2iR7Xw\\u002fNZ4\\u002fMuauJeSDnj+4HoXrUbieP7gehetRuJ4\\u002fdQKaCBuenj91ApoIG56eP+\\u002fJw0KtaZ4\\u002fgnNGlPYGnz+P5PIf0m+fP4\\u002fk8h\\u002fSb58\\u002fCKwcWmQ7nz9YObTIdr6fP4\\u002fk8h\\u002fSb58\\u002fMlUwKqkToD\\u002faG3xhMlWgP2FUUiegiaA\\u002fxf6ye\\u002fKwoD9txf6ye\\u002fKgP1ioNc07TqE\\u002f3+ALk6mCoT+9UpYhjnWhP\\u002fT91HjpJqE\\u002fNxrAWyBBoT8i\\u002ffZ14JyhPw3gLZCg+KE\\u002f7FG4HoXroT+TGARWDi2iP8rDQq1p3qE\\u002fysNCrWneoT96Nqs+V1uhP49TdCSX\\u002f6A\\u002fP8bctYR8oD92cRsN4C2gP5f\\u002fkH77OqA\\u002fFR3J5T+knz8Rx7q4jQagP1g5tMh2vp8\\u002fS8gHPZtVnz9YObTIdr6fP4JzRpT2Bp8\\u002fgnNGlPYGnz8ldQKaCBuePxkEVg4tsp0\\u002fkst\\u002fSL99nT9CPujZrPqcP2x4eqUsQ5w\\u002fU5YhjnVxmz+JQWDl0CKbP3BfB84ZUZo\\u002f3bWEfNCzmT\\u002f6fmq8dJOYPyS5\\u002fIf025c\\u002fTfOOU3Qklz9R2ht8YTKVP3sUrkfhepQ\\u002fmN2Th4Vakz9VwaikTkCTP3KKjuTyH5I\\u002fIv32deCckT\\u002fF\\u002frJ78rCQP0w3iUFg5ZA\\u002fCRueXinLkD9YObTIdr6PP6yt2F92T44\\u002fJXUCmggbjj+GWtO84xSNP18HzhlR2os\\u002fRiV1ApoIiz+mCkYldQKKP+0NvjCZKog\\u002f4JwRpb3Bhz+6SQwCK4eGPyegibDh6YU\\u002f2\\u002fl+arx0gz\\u002fb+X5qvHSDP2EyVTAqqYM\\u002fwhcmUwWjgj8VjErqBDSBPzvfT42XboI\\u002ftaZ5xyk6gj+PU3Qkl\\u002f+APxWMSuoENIE\\u002fnMQgsHJogT+4HoXrUbh+P7gehetRuH4\\u002fnzws1JrmfT+Sy39Iv319P18HzhlR2ns\\u002fXwfOGVHaez9GJXUCmgh7Py1DHOviNno\\u002fE2HD0ytleT\\u002f6fmq8dJN4PyDSb18Hznk\\u002f7Q2+MJkqeD\\u002f6fmq8dJN4P7pJDAIrh3Y\\u002fukkMAiuHdj+IhVrTvON0P1XBqKROQHM\\u002fVcGopE5Acz8730+Nl25yP1XBqKROQHM\\u002fSFD8GHPXcj9IUPwYc9dyPxWMSuoENHE\\u002f\\u002fKnx0k1icD8i\\u002ffZ14JxxPy9uowG8BXI\\u002fFYxK6gQ0cT\\u002f8qfHSTWJwP8WPMXctIW8\\u002fxY8xdy0hbz9fB84ZUdprP0YldQKaCGs\\u002fRiV1ApoIaz9fB84ZUdprP8WPMXctIW8\\u002fCRueXinLcD\\u002fecYqO5PJvP6yt2F92T24\\u002f3nGKjuTybz+srdhfdk9uPy1DHOviNmo\\u002fRiV1ApoIaz9fB84ZUdprPy1DHOviNmo\\u002fE2HD0ytlaT\\u002f6fmq8dJNoP8e6uI0G8GY\\u002frthfdk8eZj+u2F92Tx5mP8e6uI0G8GY\\u002frthfdk8eZj97FK5H4XpkP3sUrkfhemQ\\u002fYTJVMCqpYz9IUPwYc9diPy9uowG8BWI\\u002fL26jAbwFYj8VjErqBDRhP8WPMXctIV8\\u002f\"},\"type\":\"scatter\"},{\"name\":\"I_above_HIT\",\"x\":{\"dtype\":\"i2\",\"bdata\":\"AAABAAIAAwAEAAUABgAHAAgACQAKAAsADAANAA4ADwAQABEAEgATABQAFQAWABcAGAAZABoAGwAcAB0AHgAfACAAIQAiACMAJAAlACYAJwAoACkAKgArACwALQAuAC8AMAAxADIAMwA0ADUANgA3ADgAOQA6ADsAPAA9AD4APwBAAEEAQgBDAEQARQBGAEcASABJAEoASwBMAE0ATgBPAFAAUQBSAFMAVABVAFYAVwBYAFkAWgBbAFwAXQBeAF8AYABhAGIAYwBkAGUAZgBnAGgAaQBqAGsAbABtAG4AbwBwAHEAcgBzAHQAdQB2AHcAeAB5AHoAewB8AH0AfgB\\u002fAIAAgQCCAIMAhACFAIYAhwCIAIkAigCLAIwAjQCOAI8AkACRAJIAkwCUAJUAlgCXAJgAmQCaAJsAnACdAJ4AnwCgAKEAogCjAKQApQCmAKcAqACpAKoAqwCsAK0ArgCvALAAsQCyALMAtAC1ALYAtwC4ALkAugC7ALwAvQC+AL8AwADBAMIAwwDEAMUAxgDHAMgAyQDKAMsAzADNAM4AzwDQANEA0gDTANQA1QDWANcA2ADZANoA2wDcAN0A3gDfAOAA4QDiAOMA5ADlAOYA5wDoAOkA6gDrAOwA7QDuAO8A8ADxAPIA8wD0APUA9gD3APgA+QD6APsA\\u002fAD9AP4A\\u002fwAAAQEBAgEDAQQBBQEGAQcBCAEJAQoBCwEMAQ0BDgEPARABEQESARMBFAEVARYBFwEYARkBGgEbARwBHQEeAR8BIAEhASIBIwEkASUBJgEnASgBKQEqASsB\"},\"y\":{\"dtype\":\"f8\",\"bdata\":\"AAAAAAAAAAAAAAAAAAAAAAAAAAAAAAAALUMc6+I2Gj8tQxzr4jYaPy1DHOviNho\\u002fLUMc6+I2Gj8tQxzr4jYaPy1DHOviNho\\u002fLUMc6+I2Gj8tQxzr4jYaPy1DHOviNho\\u002fLUMc6+I2Gj8tQxzr4jYaPy1DHOviNho\\u002fLUMc6+I2Gj8tQxzr4jYaPy1DHOviNho\\u002fLUMc6+I2Kj8tQxzr4jYqPy1DHOviNho\\u002fLUMc6+I2Gj8tQxzr4jYaPy1DHOviNho\\u002fLUMc6+I2Gj8tQxzr4jYaPy1DHOviNho\\u002fLUMc6+I2Gj8tQxzr4jYaPy1DHOviNho\\u002fLUMc6+I2Gj8tQxzr4jYaPy1DHOviNho\\u002fLUMc6+I2Gj8tQxzr4jYaPy1DHOviNho\\u002fLUMc6+I2Gj8tQxzr4jYaPy1DHOviNho\\u002fLUMc6+I2Gj8tQxzr4jYaPy1DHOviNho\\u002fLUMc6+I2Gj8AAAAAAAAAAAAAAAAAAAAAAAAAAAAAAAAAAAAAAAAAAAAAAAAAAAAAAAAAAAAAAAAAAAAAAAAAAAAAAAAAAAAAAAAAAAAAAAAAAAAAAAAAAAAAAAAAAAAAAAAAAAAAAAAAAAAAAAAAAAAAAAAAAAAAAAAAAAAAAAAAAAAAAAAAAAAAAAAAAAAAAAAAAAAAAAAAAAAAAAAAAAAAAAAAAAAALUMc6+I2Gj8tQxzr4jYaPy1DHOviNho\\u002fLUMc6+I2Gj8tQxzr4jYaPy1DHOviNho\\u002fLUMc6+I2Gj8tQxzr4jYqPy1DHOviNio\\u002fLUMc6+I2Kj8tQxzr4jYqPy1DHOviNio\\u002fLUMc6+I2Kj8tQxzr4jYqPy1DHOviNio\\u002fLUMc6+I2Kj8tQxzr4jYaPy1DHOviNho\\u002fLUMc6+I2Gj8tQxzr4jYaPy1DHOviNho\\u002fLUMc6+I2Gj8tQxzr4jYaPy1DHOviNho\\u002fLUMc6+I2Gj8tQxzr4jYaPy1DHOviNho\\u002fLUMc6+I2Gj8tQxzr4jYaPy1DHOviNho\\u002fLUMc6+I2Kj8tQxzr4jYqP2EyVTAqqTM\\u002fLUMc6+I2Oj8tQxzr4jY6Py1DHOviNjo\\u002fYTJVMCqpMz9hMlUwKqkzP2EyVTAqqTM\\u002fYTJVMCqpMz9hMlUwKqkzP2EyVTAqqTM\\u002fYTJVMCqpMz9hMlUwKqkzPy1DHOviNio\\u002fLUMc6+I2Kj8tQxzr4jYqPy1DHOviNio\\u002fLUMc6+I2Kj8tQxzr4jYqPy1DHOviNho\\u002fLUMc6+I2Gj8tQxzr4jYaPy1DHOviNho\\u002fLUMc6+I2Kj8tQxzr4jYqPy1DHOviNio\\u002fLUMc6+I2Kj8tQxzr4jYqPy1DHOviNio\\u002fLUMc6+I2Kj8tQxzr4jYaPy1DHOviNho\\u002fLUMc6+I2Gj8tQxzr4jYaPy1DHOviNho\\u002fLUMc6+I2Gj8tQxzr4jYaPy1DHOviNho\\u002fLUMc6+I2Gj8tQxzr4jYaPy1DHOviNho\\u002fLUMc6+I2Gj8tQxzr4jYqPy1DHOviNio\\u002fYTJVMCqpMz9hMlUwKqkzP2EyVTAqqTM\\u002fYTJVMCqpMz8tQxzr4jYqP2EyVTAqqTM\\u002fYTJVMCqpMz9hMlUwKqkzP2EyVTAqqTM\\u002fYTJVMCqpMz9hMlUwKqkzP2EyVTAqqTM\\u002fYTJVMCqpMz9hMlUwKqkzP2EyVTAqqTM\\u002fYTJVMCqpMz9hMlUwKqkzP2EyVTAqqTM\\u002fYTJVMCqpMz9hMlUwKqkzPy1DHOviNjo\\u002fLUMc6+I2Oj8tQxzr4jY6Py1DHOviNjo\\u002fLUMc6+I2Oj8tQxzr4jY6Py1DHOviNjo\\u002fLUMc6+I2Oj9hMlUwKqkzP2EyVTAqqTM\\u002fLUMc6+I2Kj8tQxzr4jYqP2EyVTAqqTM\\u002fYTJVMCqpMz9hMlUwKqkzP2EyVTAqqTM\\u002fYTJVMCqpMz9hMlUwKqkzPy1DHOviNjo\\u002fLUMc6+I2Oj8tQxzr4jY6P2EyVTAqqTM\\u002fYTJVMCqpMz9hMlUwKqkzP2EyVTAqqTM\\u002fYTJVMCqpMz9hMlUwKqkzPy1DHOviNjo\\u002fYTJVMCqpMz9hMlUwKqkzPy1DHOviNjo\\u002fLUMc6+I2Oj8tQxzr4jY6Py1DHOviNjo\\u002fLUMc6+I2Oj9hMlUwKqlDP2EyVTAqqUM\\u002f\\u002fKnx0k1iQD\\u002f8qfHSTWJAPy1DHOviNjo\\u002fLUMc6+I2Oj9hMlUwKqkzP2EyVTAqqTM\\u002fYTJVMCqpMz9hMlUwKqkzPy1DHOviNio\\u002fLUMc6+I2Kj8tQxzr4jYqPy1DHOviNio\\u002fYTJVMCqpMz9hMlUwKqkzP2EyVTAqqTM\\u002fYTJVMCqpMz9hMlUwKqkzP2EyVTAqqTM\\u002fYTJVMCqpMz9hMlUwKqkzP2EyVTAqqTM\\u002fYTJVMCqpMz9hMlUwKqkzP2EyVTAqqTM\\u002fYTJVMCqpMz9hMlUwKqkzP2EyVTAqqTM\\u002fLUMc6+I2Oj8tQxzr4jY6P\\u002fyp8dJNYkA\\u002f\\u002fKnx0k1iQD\\u002f8qfHSTWJAP\\u002fyp8dJNYkA\\u002f\\u002fKnx0k1iQD9hMlUwKqkzP2EyVTAqqTM\\u002fYTJVMCqpMz9hMlUwKqkzPy1DHOviNio\\u002fLUMc6+I2Kj8tQxzr4jYqPy1DHOviNio\\u002fYTJVMCqpMz9hMlUwKqkzP2EyVTAqqTM\\u002fYTJVMCqpMz9hMlUwKqkzPy1DHOviNio\\u002fLUMc6+I2Kj8tQxzr4jYqPy1DHOviNio\\u002fLUMc6+I2Kj8tQxzr4jYqPy1DHOviNio\\u002fLUMc6+I2Kj8tQxzr4jYqPy1DHOviNio\\u002fLUMc6+I2Gj8tQxzr4jYaPy1DHOviNho\\u002fLUMc6+I2Gj8tQxzr4jYaPy1DHOviNho\\u002fLUMc6+I2Gj8tQxzr4jYaPy1DHOviNho\\u002fLUMc6+I2Gj8tQxzr4jYaPy1DHOviNho\\u002fLUMc6+I2Gj8tQxzr4jYaPy1DHOviNho\\u002fLUMc6+I2Gj8tQxzr4jYaPy1DHOviNho\\u002fLUMc6+I2Gj8tQxzr4jYaPy1DHOviNho\\u002fLUMc6+I2Gj8tQxzr4jYaPy1DHOviNho\\u002fLUMc6+I2Gj8tQxzr4jYaPy1DHOviNho\\u002fLUMc6+I2Gj8tQxzr4jYaPy1DHOviNho\\u002fLUMc6+I2Gj8tQxzr4jYaPy1DHOviNho\\u002fLUMc6+I2Gj8tQxzr4jYaPy1DHOviNho\\u002fLUMc6+I2Gj8tQxzr4jYqPy1DHOviNio\\u002fLUMc6+I2Kj8tQxzr4jYqPy1DHOviNio\\u002fLUMc6+I2Kj8tQxzr4jYqPy1DHOviNio\\u002fLUMc6+I2Gj8AAAAAAAAAAAAAAAAAAAAA\"},\"type\":\"scatter\"}],                        {\"template\":{\"data\":{\"histogram2dcontour\":[{\"type\":\"histogram2dcontour\",\"colorbar\":{\"outlinewidth\":0,\"ticks\":\"\"},\"colorscale\":[[0.0,\"#0d0887\"],[0.1111111111111111,\"#46039f\"],[0.2222222222222222,\"#7201a8\"],[0.3333333333333333,\"#9c179e\"],[0.4444444444444444,\"#bd3786\"],[0.5555555555555556,\"#d8576b\"],[0.6666666666666666,\"#ed7953\"],[0.7777777777777778,\"#fb9f3a\"],[0.8888888888888888,\"#fdca26\"],[1.0,\"#f0f921\"]]}],\"choropleth\":[{\"type\":\"choropleth\",\"colorbar\":{\"outlinewidth\":0,\"ticks\":\"\"}}],\"histogram2d\":[{\"type\":\"histogram2d\",\"colorbar\":{\"outlinewidth\":0,\"ticks\":\"\"},\"colorscale\":[[0.0,\"#0d0887\"],[0.1111111111111111,\"#46039f\"],[0.2222222222222222,\"#7201a8\"],[0.3333333333333333,\"#9c179e\"],[0.4444444444444444,\"#bd3786\"],[0.5555555555555556,\"#d8576b\"],[0.6666666666666666,\"#ed7953\"],[0.7777777777777778,\"#fb9f3a\"],[0.8888888888888888,\"#fdca26\"],[1.0,\"#f0f921\"]]}],\"heatmap\":[{\"type\":\"heatmap\",\"colorbar\":{\"outlinewidth\":0,\"ticks\":\"\"},\"colorscale\":[[0.0,\"#0d0887\"],[0.1111111111111111,\"#46039f\"],[0.2222222222222222,\"#7201a8\"],[0.3333333333333333,\"#9c179e\"],[0.4444444444444444,\"#bd3786\"],[0.5555555555555556,\"#d8576b\"],[0.6666666666666666,\"#ed7953\"],[0.7777777777777778,\"#fb9f3a\"],[0.8888888888888888,\"#fdca26\"],[1.0,\"#f0f921\"]]}],\"contourcarpet\":[{\"type\":\"contourcarpet\",\"colorbar\":{\"outlinewidth\":0,\"ticks\":\"\"}}],\"contour\":[{\"type\":\"contour\",\"colorbar\":{\"outlinewidth\":0,\"ticks\":\"\"},\"colorscale\":[[0.0,\"#0d0887\"],[0.1111111111111111,\"#46039f\"],[0.2222222222222222,\"#7201a8\"],[0.3333333333333333,\"#9c179e\"],[0.4444444444444444,\"#bd3786\"],[0.5555555555555556,\"#d8576b\"],[0.6666666666666666,\"#ed7953\"],[0.7777777777777778,\"#fb9f3a\"],[0.8888888888888888,\"#fdca26\"],[1.0,\"#f0f921\"]]}],\"surface\":[{\"type\":\"surface\",\"colorbar\":{\"outlinewidth\":0,\"ticks\":\"\"},\"colorscale\":[[0.0,\"#0d0887\"],[0.1111111111111111,\"#46039f\"],[0.2222222222222222,\"#7201a8\"],[0.3333333333333333,\"#9c179e\"],[0.4444444444444444,\"#bd3786\"],[0.5555555555555556,\"#d8576b\"],[0.6666666666666666,\"#ed7953\"],[0.7777777777777778,\"#fb9f3a\"],[0.8888888888888888,\"#fdca26\"],[1.0,\"#f0f921\"]]}],\"mesh3d\":[{\"type\":\"mesh3d\",\"colorbar\":{\"outlinewidth\":0,\"ticks\":\"\"}}],\"scatter\":[{\"fillpattern\":{\"fillmode\":\"overlay\",\"size\":10,\"solidity\":0.2},\"type\":\"scatter\"}],\"parcoords\":[{\"type\":\"parcoords\",\"line\":{\"colorbar\":{\"outlinewidth\":0,\"ticks\":\"\"}}}],\"scatterpolargl\":[{\"type\":\"scatterpolargl\",\"marker\":{\"colorbar\":{\"outlinewidth\":0,\"ticks\":\"\"}}}],\"bar\":[{\"error_x\":{\"color\":\"#2a3f5f\"},\"error_y\":{\"color\":\"#2a3f5f\"},\"marker\":{\"line\":{\"color\":\"#E5ECF6\",\"width\":0.5},\"pattern\":{\"fillmode\":\"overlay\",\"size\":10,\"solidity\":0.2}},\"type\":\"bar\"}],\"scattergeo\":[{\"type\":\"scattergeo\",\"marker\":{\"colorbar\":{\"outlinewidth\":0,\"ticks\":\"\"}}}],\"scatterpolar\":[{\"type\":\"scatterpolar\",\"marker\":{\"colorbar\":{\"outlinewidth\":0,\"ticks\":\"\"}}}],\"histogram\":[{\"marker\":{\"pattern\":{\"fillmode\":\"overlay\",\"size\":10,\"solidity\":0.2}},\"type\":\"histogram\"}],\"scattergl\":[{\"type\":\"scattergl\",\"marker\":{\"colorbar\":{\"outlinewidth\":0,\"ticks\":\"\"}}}],\"scatter3d\":[{\"type\":\"scatter3d\",\"line\":{\"colorbar\":{\"outlinewidth\":0,\"ticks\":\"\"}},\"marker\":{\"colorbar\":{\"outlinewidth\":0,\"ticks\":\"\"}}}],\"scattermap\":[{\"type\":\"scattermap\",\"marker\":{\"colorbar\":{\"outlinewidth\":0,\"ticks\":\"\"}}}],\"scattermapbox\":[{\"type\":\"scattermapbox\",\"marker\":{\"colorbar\":{\"outlinewidth\":0,\"ticks\":\"\"}}}],\"scatterternary\":[{\"type\":\"scatterternary\",\"marker\":{\"colorbar\":{\"outlinewidth\":0,\"ticks\":\"\"}}}],\"scattercarpet\":[{\"type\":\"scattercarpet\",\"marker\":{\"colorbar\":{\"outlinewidth\":0,\"ticks\":\"\"}}}],\"carpet\":[{\"aaxis\":{\"endlinecolor\":\"#2a3f5f\",\"gridcolor\":\"white\",\"linecolor\":\"white\",\"minorgridcolor\":\"white\",\"startlinecolor\":\"#2a3f5f\"},\"baxis\":{\"endlinecolor\":\"#2a3f5f\",\"gridcolor\":\"white\",\"linecolor\":\"white\",\"minorgridcolor\":\"white\",\"startlinecolor\":\"#2a3f5f\"},\"type\":\"carpet\"}],\"table\":[{\"cells\":{\"fill\":{\"color\":\"#EBF0F8\"},\"line\":{\"color\":\"white\"}},\"header\":{\"fill\":{\"color\":\"#C8D4E3\"},\"line\":{\"color\":\"white\"}},\"type\":\"table\"}],\"barpolar\":[{\"marker\":{\"line\":{\"color\":\"#E5ECF6\",\"width\":0.5},\"pattern\":{\"fillmode\":\"overlay\",\"size\":10,\"solidity\":0.2}},\"type\":\"barpolar\"}],\"pie\":[{\"automargin\":true,\"type\":\"pie\"}]},\"layout\":{\"autotypenumbers\":\"strict\",\"colorway\":[\"#636efa\",\"#EF553B\",\"#00cc96\",\"#ab63fa\",\"#FFA15A\",\"#19d3f3\",\"#FF6692\",\"#B6E880\",\"#FF97FF\",\"#FECB52\"],\"font\":{\"color\":\"#2a3f5f\"},\"hovermode\":\"closest\",\"hoverlabel\":{\"align\":\"left\"},\"paper_bgcolor\":\"white\",\"plot_bgcolor\":\"#E5ECF6\",\"polar\":{\"bgcolor\":\"#E5ECF6\",\"angularaxis\":{\"gridcolor\":\"white\",\"linecolor\":\"white\",\"ticks\":\"\"},\"radialaxis\":{\"gridcolor\":\"white\",\"linecolor\":\"white\",\"ticks\":\"\"}},\"ternary\":{\"bgcolor\":\"#E5ECF6\",\"aaxis\":{\"gridcolor\":\"white\",\"linecolor\":\"white\",\"ticks\":\"\"},\"baxis\":{\"gridcolor\":\"white\",\"linecolor\":\"white\",\"ticks\":\"\"},\"caxis\":{\"gridcolor\":\"white\",\"linecolor\":\"white\",\"ticks\":\"\"}},\"coloraxis\":{\"colorbar\":{\"outlinewidth\":0,\"ticks\":\"\"}},\"colorscale\":{\"sequential\":[[0.0,\"#0d0887\"],[0.1111111111111111,\"#46039f\"],[0.2222222222222222,\"#7201a8\"],[0.3333333333333333,\"#9c179e\"],[0.4444444444444444,\"#bd3786\"],[0.5555555555555556,\"#d8576b\"],[0.6666666666666666,\"#ed7953\"],[0.7777777777777778,\"#fb9f3a\"],[0.8888888888888888,\"#fdca26\"],[1.0,\"#f0f921\"]],\"sequentialminus\":[[0.0,\"#0d0887\"],[0.1111111111111111,\"#46039f\"],[0.2222222222222222,\"#7201a8\"],[0.3333333333333333,\"#9c179e\"],[0.4444444444444444,\"#bd3786\"],[0.5555555555555556,\"#d8576b\"],[0.6666666666666666,\"#ed7953\"],[0.7777777777777778,\"#fb9f3a\"],[0.8888888888888888,\"#fdca26\"],[1.0,\"#f0f921\"]],\"diverging\":[[0,\"#8e0152\"],[0.1,\"#c51b7d\"],[0.2,\"#de77ae\"],[0.3,\"#f1b6da\"],[0.4,\"#fde0ef\"],[0.5,\"#f7f7f7\"],[0.6,\"#e6f5d0\"],[0.7,\"#b8e186\"],[0.8,\"#7fbc41\"],[0.9,\"#4d9221\"],[1,\"#276419\"]]},\"xaxis\":{\"gridcolor\":\"white\",\"linecolor\":\"white\",\"ticks\":\"\",\"title\":{\"standoff\":15},\"zerolinecolor\":\"white\",\"automargin\":true,\"zerolinewidth\":2},\"yaxis\":{\"gridcolor\":\"white\",\"linecolor\":\"white\",\"ticks\":\"\",\"title\":{\"standoff\":15},\"zerolinecolor\":\"white\",\"automargin\":true,\"zerolinewidth\":2},\"scene\":{\"xaxis\":{\"backgroundcolor\":\"#E5ECF6\",\"gridcolor\":\"white\",\"linecolor\":\"white\",\"showbackground\":true,\"ticks\":\"\",\"zerolinecolor\":\"white\",\"gridwidth\":2},\"yaxis\":{\"backgroundcolor\":\"#E5ECF6\",\"gridcolor\":\"white\",\"linecolor\":\"white\",\"showbackground\":true,\"ticks\":\"\",\"zerolinecolor\":\"white\",\"gridwidth\":2},\"zaxis\":{\"backgroundcolor\":\"#E5ECF6\",\"gridcolor\":\"white\",\"linecolor\":\"white\",\"showbackground\":true,\"ticks\":\"\",\"zerolinecolor\":\"white\",\"gridwidth\":2}},\"shapedefaults\":{\"line\":{\"color\":\"#2a3f5f\"}},\"annotationdefaults\":{\"arrowcolor\":\"#2a3f5f\",\"arrowhead\":0,\"arrowwidth\":1},\"geo\":{\"bgcolor\":\"white\",\"landcolor\":\"#E5ECF6\",\"subunitcolor\":\"white\",\"showland\":true,\"showlakes\":true,\"lakecolor\":\"white\"},\"title\":{\"x\":0.05},\"mapbox\":{\"style\":\"light\"}}},\"title\":{\"text\":\"$\\\\text{Effect of herd immunity on SEIR model}$\",\"x\":0.5,\"xanchor\":\"center\"},\"xaxis\":{\"title\":{\"text\":\"Day\"}},\"yaxis\":{\"title\":{\"text\":\"Proportion of population\"}}},                        {\"responsive\": true}                    ).then(function(){\n",
              "                            \n",
              "var gd = document.getElementById('66c4521a-b990-4214-90bf-8d5bc0f8999d');\n",
              "var x = new MutationObserver(function (mutations, observer) {{\n",
              "        var display = window.getComputedStyle(gd).display;\n",
              "        if (!display || display === 'none') {{\n",
              "            console.log([gd, 'removed!']);\n",
              "            Plotly.purge(gd);\n",
              "            observer.disconnect();\n",
              "        }}\n",
              "}});\n",
              "\n",
              "// Listen for the removal of the full notebook cells\n",
              "var notebookContainer = gd.closest('#notebook-container');\n",
              "if (notebookContainer) {{\n",
              "    x.observe(notebookContainer, {childList: true});\n",
              "}}\n",
              "\n",
              "// Listen for the clearing of the current output cell\n",
              "var outputEl = gd.closest('.output');\n",
              "if (outputEl) {{\n",
              "    x.observe(outputEl, {childList: true});\n",
              "}}\n",
              "\n",
              "                        })                };            </script>        </div>"
            ]
          },
          "metadata": {},
          "output_type": "display_data"
        }
      ],
      "source": [
        "#| code-fold: true\n",
        "\n",
        "fig = go.Figure(data=[    \n",
        "    go.Scatter(name='I_below_HIT', x=np.arange(len(results_stoch0[0])), y=results_stoch0[2]/p),\n",
        "    go.Scatter(name='I_above_HIT', x=np.arange(len(results_stoch1[0])), y=results_stoch1[2]/p),\n",
        "])\n",
        "\n",
        "fig.update_layout(\n",
        "    xaxis_title = 'Day',\n",
        "    yaxis_title = 'Proportion of population',\n",
        "    title={\n",
        "        'text':r'$\\text{Effect of herd immunity on SEIR model}$',\n",
        "        'x':0.5,\n",
        "        'xanchor':'center'\n",
        "    }\n",
        ")\n",
        "\n",
        "fig.show()"
      ]
    },
    {
      "attachments": {},
      "cell_type": "markdown",
      "metadata": {
        "colab_type": "text",
        "id": "O5NLkJuxHyPW"
      },
      "source": [
        "## Reducing $\\beta$"
      ]
    },
    {
      "attachments": {},
      "cell_type": "markdown",
      "metadata": {
        "colab_type": "text",
        "id": "ZDEmJw7xH0zl"
      },
      "source": [
        "See blog post 2 for effect of $\\beta$ on the SEIR model."
      ]
    },
    {
      "attachments": {},
      "cell_type": "markdown",
      "metadata": {
        "colab_type": "text",
        "id": "msoQ3Lc3Ht4K"
      },
      "source": [
        "## Reducing $\\gamma$"
      ]
    },
    {
      "attachments": {},
      "cell_type": "markdown",
      "metadata": {
        "colab_type": "text",
        "id": "8XWoS4AHxyyk"
      },
      "source": [
        "### Isolating positive tests"
      ]
    },
    {
      "attachments": {},
      "cell_type": "markdown",
      "metadata": {
        "colab_type": "text",
        "id": "QMQb1tx4x3T_"
      },
      "source": [
        "Say you isolate positive tests and are able to test everyone.\n",
        "\n",
        "What if tests are positive $n$ days after people are infectious ?\n",
        "\n",
        "You can isolate people after $n$ days and this effectively reduces $T_{Infectious}$ to $n$ days. \n",
        "\n",
        "Let's plot the total infectious individuals with:\n",
        "* n = 10 days\n",
        "* n = 7 days\n",
        "* n = 5 days\n",
        "* n = 2 days"
      ]
    },
    {
      "cell_type": "code",
      "execution_count": 29,
      "metadata": {
        "colab": {},
        "colab_type": "code",
        "id": "ps4JAaMu1b2N"
      },
      "outputs": [],
      "source": [
        "#| code-fold: true\n",
        "\n",
        "# Define parameters for stochastic model\n",
        "days = 200\n",
        "p = 10000\n",
        "num_E = 1\n",
        "num_I = 0\n",
        "num_R = 0\n",
        "beta_stoch = 0.5*np.ones(days)\n",
        "\n",
        "# Isolate after iso_n days\n",
        "iso_n1 = 10 # Test and isolate all infectious after 10 days\n",
        "iso_n2 = 7\n",
        "iso_n3 = 5\n",
        "iso_n4 = 2\n",
        "\n",
        "# Run 4 stochastic simulations, 2 with exponential sigma, 2 with gamma sigmalation, iso_n, contact_tracing, lockdown\n",
        "results_stoch0 = seir_model_stoch_ctrl(beta_stoch, p, num_E, num_I, num_R, days, isolation=False, iso_n=iso_n, contact_tracing=False, lockdown=False)\n",
        "results_stoch1 = seir_model_stoch_ctrl(beta_stoch, p, num_E, num_I, num_R, days, isolation=True, iso_n=iso_n1, contact_tracing=False, lockdown=False)\n",
        "results_stoch2 = seir_model_stoch_ctrl(beta_stoch, p, num_E, num_I, num_R, days, isolation=True, iso_n=iso_n2, contact_tracing=False, lockdown=False)\n",
        "results_stoch3 = seir_model_stoch_ctrl(beta_stoch, p, num_E, num_I, num_R, days, isolation=True, iso_n=iso_n3, contact_tracing=False, lockdown=False)\n",
        "results_stoch4 = seir_model_stoch_ctrl(beta_stoch, p, num_E, num_I, num_R, days, isolation=True, iso_n=iso_n4, contact_tracing=False, lockdown=False)"
      ]
    },
    {
      "cell_type": "code",
      "execution_count": 31,
      "metadata": {
        "colab": {},
        "colab_type": "code",
        "id": "eAe3k4C81dta"
      },
      "outputs": [
        {
          "data": {
            "application/vnd.plotly.v1+json": {
              "config": {
                "plotlyServerURL": "https://plot.ly"
              },
              "data": [
                {
                  "name": "I_no_isolation",
                  "type": "scatter",
                  "x": {
                    "bdata": "AAABAAIAAwAEAAUABgAHAAgACQAKAAsADAANAA4ADwAQABEAEgATABQAFQAWABcAGAAZABoAGwAcAB0AHgAfACAAIQAiACMAJAAlACYAJwAoACkAKgArACwALQAuAC8AMAAxADIAMwA0ADUANgA3ADgAOQA6ADsAPAA9AD4APwBAAEEAQgBDAEQARQBGAEcASABJAEoASwBMAE0ATgBPAFAAUQBSAFMAVABVAFYAVwBYAFkAWgBbAFwAXQBeAF8AYABhAGIAYwBkAGUAZgBnAGgAaQBqAGsAbABtAG4AbwBwAHEAcgBzAHQAdQB2AHcAeAB5AHoAewB8AH0AfgB/AIAAgQCCAIMAhACFAIYAhwCIAIkAigCLAIwAjQCOAI8AkACRAJIAkwCUAJUAlgCXAJgAmQCaAJsAnACdAJ4AnwCgAKEAogCjAKQApQCmAKcAqACpAKoAqwCsAK0ArgCvALAAsQCyALMAtAC1ALYAtwC4ALkAugC7ALwAvQC+AL8AwADBAMIAwwDEAMUAxgDHAA==",
                    "dtype": "i2"
                  },
                  "y": {
                    "bdata": "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",
                    "dtype": "f8"
                  }
                },
                {
                  "name": "I_iso10",
                  "type": "scatter",
                  "x": {
                    "bdata": "AAABAAIAAwAEAAUABgAHAAgACQAKAAsADAANAA4ADwAQABEAEgATABQAFQAWABcAGAAZABoAGwAcAB0AHgAfACAAIQAiACMAJAAlACYAJwAoACkAKgArACwALQAuAC8AMAAxADIAMwA0ADUANgA3ADgAOQA6ADsAPAA9AD4APwBAAEEAQgBDAEQARQBGAEcASABJAEoASwBMAE0ATgBPAFAAUQBSAFMAVABVAFYAVwBYAFkAWgBbAFwAXQBeAF8AYABhAGIAYwBkAGUAZgBnAGgAaQBqAGsAbABtAG4AbwBwAHEAcgBzAHQAdQB2AHcAeAB5AHoAewB8AH0AfgB/AIAAgQCCAIMAhACFAIYAhwCIAIkAigCLAIwAjQCOAI8AkACRAJIAkwCUAJUAlgCXAJgAmQCaAJsAnACdAJ4AnwCgAKEAogCjAKQApQCmAKcAqACpAKoAqwCsAK0ArgCvALAAsQCyALMAtAC1ALYAtwC4ALkAugC7ALwAvQC+AL8AwADBAMIAwwDEAMUAxgDHAA==",
                    "dtype": "i2"
                  },
                  "y": {
                    "bdata": "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",
                    "dtype": "f8"
                  }
                },
                {
                  "name": "I_iso7",
                  "type": "scatter",
                  "x": {
                    "bdata": "AAABAAIAAwAEAAUABgAHAAgACQAKAAsADAANAA4ADwAQABEAEgATABQAFQAWABcAGAAZABoAGwAcAB0AHgAfACAAIQAiACMAJAAlACYAJwAoACkAKgArACwALQAuAC8AMAAxADIAMwA0ADUANgA3ADgAOQA6ADsAPAA9AD4APwBAAEEAQgBDAEQARQBGAEcASABJAEoASwBMAE0ATgBPAFAAUQBSAFMAVABVAFYAVwBYAFkAWgBbAFwAXQBeAF8AYABhAGIAYwBkAGUAZgBnAGgAaQBqAGsAbABtAG4AbwBwAHEAcgBzAHQAdQB2AHcAeAB5AHoAewB8AH0AfgB/AIAAgQCCAIMAhACFAIYAhwCIAIkAigCLAIwAjQCOAI8AkACRAJIAkwCUAJUAlgCXAJgAmQCaAJsAnACdAJ4AnwCgAKEAogCjAKQApQCmAKcAqACpAKoAqwCsAK0ArgCvALAAsQCyALMAtAC1ALYAtwC4ALkAugC7ALwAvQC+AL8AwADBAMIAwwDEAMUAxgDHAA==",
                    "dtype": "i2"
                  },
                  "y": {
                    "bdata": "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",
                    "dtype": "f8"
                  }
                },
                {
                  "name": "I_iso5",
                  "type": "scatter",
                  "x": {
                    "bdata": "AAABAAIAAwAEAAUABgAHAAgACQAKAAsADAANAA4ADwAQABEAEgATABQAFQAWABcAGAAZABoAGwAcAB0AHgAfACAAIQAiACMAJAAlACYAJwAoACkAKgArACwALQAuAC8AMAAxADIAMwA0ADUANgA3ADgAOQA6ADsAPAA9AD4APwBAAEEAQgBDAEQARQBGAEcASABJAEoASwBMAE0ATgBPAFAAUQBSAFMAVABVAFYAVwBYAFkAWgBbAFwAXQBeAF8AYABhAGIAYwBkAGUAZgBnAGgAaQBqAGsAbABtAG4AbwBwAHEAcgBzAHQAdQB2AHcAeAB5AHoAewB8AH0AfgB/AIAAgQCCAIMAhACFAIYAhwCIAIkAigCLAIwAjQCOAI8AkACRAJIAkwCUAJUAlgCXAJgAmQCaAJsAnACdAJ4AnwCgAKEAogCjAKQApQCmAKcAqACpAKoAqwCsAK0ArgCvALAAsQCyALMAtAC1ALYAtwC4ALkAugC7ALwAvQC+AL8AwADBAMIAwwDEAMUAxgDHAA==",
                    "dtype": "i2"
                  },
                  "y": {
                    "bdata": "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",
                    "dtype": "f8"
                  }
                },
                {
                  "name": "I_iso2",
                  "type": "scatter",
                  "x": {
                    "bdata": "AAABAAIAAwAEAAUABgAHAAgACQAKAAsADAANAA4ADwAQABEAEgATABQAFQAWABcAGAAZABoAGwAcAB0AHgAfACAAIQAiACMAJAAlACYAJwAoACkAKgArACwALQAuAC8AMAAxADIAMwA0ADUANgA3ADgAOQA6ADsAPAA9AD4APwBAAEEAQgBDAEQARQBGAEcASABJAEoASwBMAE0ATgBPAFAAUQBSAFMAVABVAFYAVwBYAFkAWgBbAFwAXQBeAF8AYABhAGIAYwBkAGUAZgBnAGgAaQBqAGsAbABtAG4AbwBwAHEAcgBzAHQAdQB2AHcAeAB5AHoAewB8AH0AfgB/AIAAgQCCAIMAhACFAIYAhwCIAIkAigCLAIwAjQCOAI8AkACRAJIAkwCUAJUAlgCXAJgAmQCaAJsAnACdAJ4AnwCgAKEAogCjAKQApQCmAKcAqACpAKoAqwCsAK0ArgCvALAAsQCyALMAtAC1ALYAtwC4ALkAugC7ALwAvQC+AL8AwADBAMIAwwDEAMUAxgDHAA==",
                    "dtype": "i2"
                  },
                  "y": {
                    "bdata": "AAAAAAAAAAAAAAAAAAAAAAAAAAAAAAAAAAAAAAAAAAAtQxzr4jYaPy1DHOviNho/AAAAAAAAAAAAAAAAAAAAAC1DHOviNho/LUMc6+I2Gj8AAAAAAAAAAAAAAAAAAAAALUMc6+I2Gj8tQxzr4jYaPwAAAAAAAAAALUMc6+I2Gj8tQxzr4jYaPwAAAAAAAAAAAAAAAAAAAAAAAAAAAAAAAAAAAAAAAAAAAAAAAAAAAAAtQxzr4jYaPy1DHOviNho/AAAAAAAAAAAAAAAAAAAAAAAAAAAAAAAAAAAAAAAAAAAAAAAAAAAAAAAAAAAAAAAALUMc6+I2Gj8tQxzr4jYaPwAAAAAAAAAAAAAAAAAAAAAAAAAAAAAAAAAAAAAAAAAAAAAAAAAAAAAAAAAAAAAAAAAAAAAAAAAAAAAAAAAAAAAAAAAAAAAAAAAAAAAAAAAAAAAAAAAAAAAAAAAAAAAAAAAAAAAAAAAALUMc6+I2Gj8tQxzr4jYaPwAAAAAAAAAAAAAAAAAAAAAAAAAAAAAAAAAAAAAAAAAAAAAAAAAAAAAAAAAAAAAAAAAAAAAAAAAAAAAAAAAAAAAAAAAAAAAAAAAAAAAAAAAAAAAAAAAAAAAAAAAAAAAAAAAAAAAAAAAAAAAAAAAAAAAAAAAAAAAAAAAAAAAAAAAAAAAAAAAAAAAAAAAAAAAAAAAAAAAAAAAAAAAAAAAAAAAAAAAAAAAAAAAAAAAAAAAAAAAAAAAAAAAAAAAAAAAAAAAAAAAAAAAAAAAAAAAAAAAAAAAAAAAAAAAAAAAAAAAAAAAAAAAAAAAAAAAAAAAAAAAAAAAAAAAAAAAAAAAAAAAAAAAAAAAAAAAAAAAAAAAAAAAAAAAAAAAAAAAAAAAAAAAAAAAAAAAAAAAAAAAAAAAAAAAAAAAAAAAAAAAAAAAAAAAAAAAAAAAAAAAAAAAAAAAAAAAAAAAAAAAAAAAAAAAAAAAAAAAAAAAAAAAAAAAAAAAAAAAAAAAAAAAAAAAAAAAAAAAAAAAAAAAAAAAAAAAAAAAAAAAAAAAAAAAAAAAAAAAAAAAAAAAAAAAAAAAAAAAAAAAAAAAAAAAAAAAAAAAAAAAAAAAAAAAAAAAAAAAAAAAAAAAAAAAAAAAAAAAAAAAAAAAAAAAAAAAAAAAAAAAAAAAAAAAAAAAAAAAAAAAAAAAAAAAAAAAAAAAAAAAAAAAAAAAAAAAAAAAAAAAAAAAAAAAAAAAAAAAAAAAAAAAAAAAAAAAAAAAAAAAAAAAAAAAAAAAAAAAAAAAAAAAAAAAAAAAAAAAAAAAAAAAAAAAAAAAAAAAAAAAAAAAAAAAAAAAAAAAAAAAAAAAAAAAAAAAAAAAAAAAAAAAAAAAAAAAAAAAAAAAAAAAAAAAAAAAAAAAAAAAAAAAAAAAAAAAAAAAAAAAAAAAAAAAAAAAAAAAAAAAAAAAAAAAAAAAAAAAAAAAAAAAAAAAAAAAAAAAAAAAAAAAAAAAAAAAAAAAAAAAAAAAAAAAAAAAAAAAAAAAAAAAAAAAAAAAAAAAAAAAAAAAAAAAAAAAAAAAAAAAAAAAAAAAAAAAAAAAAAAAAAAAAAAAAAAAAAAAAAAAAAAAAAAAAAAAAAAAAAAAAAAAAAAAAAAAAAAAAAAAAAAAAAAAAAAAAAAAAAAAAAAAAAAAAAAAAAAAAAAAAAAAAAAAAAAAAAAAAAAAAAAAAAAAAAAAAAAAAAAAAAAAAAAAAAAAAAAAAAAAAAAAAAAAAAAAAAAAAAAAAAAAAAAAAAAAAAAAAAAAAAAAAAAAAAAAAAAAAAAAAAAAAAAAAAAAAAAAAAAAAAAAAAAAAAAAAAAAAAAAAAAAAAAAAAAAAAAAAAAAAAAAAAAAAAAAAAAAAAAAAAAAAAAAAAAAAAAAAAAAAAAAAAAAAAAAAAAAAAAAAAAAAAAAAAAAAAAAAAAAAAAAAAAAAAAAAAAAAAAAAAAAAAAAAAAAAAAAAAAAAAAAAAAAAAAAAAAAAAAAAAAAAAAAAAAAAAAAAAAAAAAAAAAAAAAAAAAAAAAAAAAAAAAAAAAAAAAAAAAAAAAAAAAAAAAAAAAAAAAAAAAAAAAAAAAAAAAAAAAAAAAAAAAAAAAAAAAAAAAAAAAAAAAAAAA==",
                    "dtype": "f8"
                  }
                }
              ],
              "layout": {
                "template": {
                  "data": {
                    "bar": [
                      {
                        "error_x": {
                          "color": "#2a3f5f"
                        },
                        "error_y": {
                          "color": "#2a3f5f"
                        },
                        "marker": {
                          "line": {
                            "color": "#E5ECF6",
                            "width": 0.5
                          },
                          "pattern": {
                            "fillmode": "overlay",
                            "size": 10,
                            "solidity": 0.2
                          }
                        },
                        "type": "bar"
                      }
                    ],
                    "barpolar": [
                      {
                        "marker": {
                          "line": {
                            "color": "#E5ECF6",
                            "width": 0.5
                          },
                          "pattern": {
                            "fillmode": "overlay",
                            "size": 10,
                            "solidity": 0.2
                          }
                        },
                        "type": "barpolar"
                      }
                    ],
                    "carpet": [
                      {
                        "aaxis": {
                          "endlinecolor": "#2a3f5f",
                          "gridcolor": "white",
                          "linecolor": "white",
                          "minorgridcolor": "white",
                          "startlinecolor": "#2a3f5f"
                        },
                        "baxis": {
                          "endlinecolor": "#2a3f5f",
                          "gridcolor": "white",
                          "linecolor": "white",
                          "minorgridcolor": "white",
                          "startlinecolor": "#2a3f5f"
                        },
                        "type": "carpet"
                      }
                    ],
                    "choropleth": [
                      {
                        "colorbar": {
                          "outlinewidth": 0,
                          "ticks": ""
                        },
                        "type": "choropleth"
                      }
                    ],
                    "contour": [
                      {
                        "colorbar": {
                          "outlinewidth": 0,
                          "ticks": ""
                        },
                        "colorscale": [
                          [
                            0,
                            "#0d0887"
                          ],
                          [
                            0.1111111111111111,
                            "#46039f"
                          ],
                          [
                            0.2222222222222222,
                            "#7201a8"
                          ],
                          [
                            0.3333333333333333,
                            "#9c179e"
                          ],
                          [
                            0.4444444444444444,
                            "#bd3786"
                          ],
                          [
                            0.5555555555555556,
                            "#d8576b"
                          ],
                          [
                            0.6666666666666666,
                            "#ed7953"
                          ],
                          [
                            0.7777777777777778,
                            "#fb9f3a"
                          ],
                          [
                            0.8888888888888888,
                            "#fdca26"
                          ],
                          [
                            1,
                            "#f0f921"
                          ]
                        ],
                        "type": "contour"
                      }
                    ],
                    "contourcarpet": [
                      {
                        "colorbar": {
                          "outlinewidth": 0,
                          "ticks": ""
                        },
                        "type": "contourcarpet"
                      }
                    ],
                    "heatmap": [
                      {
                        "colorbar": {
                          "outlinewidth": 0,
                          "ticks": ""
                        },
                        "colorscale": [
                          [
                            0,
                            "#0d0887"
                          ],
                          [
                            0.1111111111111111,
                            "#46039f"
                          ],
                          [
                            0.2222222222222222,
                            "#7201a8"
                          ],
                          [
                            0.3333333333333333,
                            "#9c179e"
                          ],
                          [
                            0.4444444444444444,
                            "#bd3786"
                          ],
                          [
                            0.5555555555555556,
                            "#d8576b"
                          ],
                          [
                            0.6666666666666666,
                            "#ed7953"
                          ],
                          [
                            0.7777777777777778,
                            "#fb9f3a"
                          ],
                          [
                            0.8888888888888888,
                            "#fdca26"
                          ],
                          [
                            1,
                            "#f0f921"
                          ]
                        ],
                        "type": "heatmap"
                      }
                    ],
                    "histogram": [
                      {
                        "marker": {
                          "pattern": {
                            "fillmode": "overlay",
                            "size": 10,
                            "solidity": 0.2
                          }
                        },
                        "type": "histogram"
                      }
                    ],
                    "histogram2d": [
                      {
                        "colorbar": {
                          "outlinewidth": 0,
                          "ticks": ""
                        },
                        "colorscale": [
                          [
                            0,
                            "#0d0887"
                          ],
                          [
                            0.1111111111111111,
                            "#46039f"
                          ],
                          [
                            0.2222222222222222,
                            "#7201a8"
                          ],
                          [
                            0.3333333333333333,
                            "#9c179e"
                          ],
                          [
                            0.4444444444444444,
                            "#bd3786"
                          ],
                          [
                            0.5555555555555556,
                            "#d8576b"
                          ],
                          [
                            0.6666666666666666,
                            "#ed7953"
                          ],
                          [
                            0.7777777777777778,
                            "#fb9f3a"
                          ],
                          [
                            0.8888888888888888,
                            "#fdca26"
                          ],
                          [
                            1,
                            "#f0f921"
                          ]
                        ],
                        "type": "histogram2d"
                      }
                    ],
                    "histogram2dcontour": [
                      {
                        "colorbar": {
                          "outlinewidth": 0,
                          "ticks": ""
                        },
                        "colorscale": [
                          [
                            0,
                            "#0d0887"
                          ],
                          [
                            0.1111111111111111,
                            "#46039f"
                          ],
                          [
                            0.2222222222222222,
                            "#7201a8"
                          ],
                          [
                            0.3333333333333333,
                            "#9c179e"
                          ],
                          [
                            0.4444444444444444,
                            "#bd3786"
                          ],
                          [
                            0.5555555555555556,
                            "#d8576b"
                          ],
                          [
                            0.6666666666666666,
                            "#ed7953"
                          ],
                          [
                            0.7777777777777778,
                            "#fb9f3a"
                          ],
                          [
                            0.8888888888888888,
                            "#fdca26"
                          ],
                          [
                            1,
                            "#f0f921"
                          ]
                        ],
                        "type": "histogram2dcontour"
                      }
                    ],
                    "mesh3d": [
                      {
                        "colorbar": {
                          "outlinewidth": 0,
                          "ticks": ""
                        },
                        "type": "mesh3d"
                      }
                    ],
                    "parcoords": [
                      {
                        "line": {
                          "colorbar": {
                            "outlinewidth": 0,
                            "ticks": ""
                          }
                        },
                        "type": "parcoords"
                      }
                    ],
                    "pie": [
                      {
                        "automargin": true,
                        "type": "pie"
                      }
                    ],
                    "scatter": [
                      {
                        "fillpattern": {
                          "fillmode": "overlay",
                          "size": 10,
                          "solidity": 0.2
                        },
                        "type": "scatter"
                      }
                    ],
                    "scatter3d": [
                      {
                        "line": {
                          "colorbar": {
                            "outlinewidth": 0,
                            "ticks": ""
                          }
                        },
                        "marker": {
                          "colorbar": {
                            "outlinewidth": 0,
                            "ticks": ""
                          }
                        },
                        "type": "scatter3d"
                      }
                    ],
                    "scattercarpet": [
                      {
                        "marker": {
                          "colorbar": {
                            "outlinewidth": 0,
                            "ticks": ""
                          }
                        },
                        "type": "scattercarpet"
                      }
                    ],
                    "scattergeo": [
                      {
                        "marker": {
                          "colorbar": {
                            "outlinewidth": 0,
                            "ticks": ""
                          }
                        },
                        "type": "scattergeo"
                      }
                    ],
                    "scattergl": [
                      {
                        "marker": {
                          "colorbar": {
                            "outlinewidth": 0,
                            "ticks": ""
                          }
                        },
                        "type": "scattergl"
                      }
                    ],
                    "scattermap": [
                      {
                        "marker": {
                          "colorbar": {
                            "outlinewidth": 0,
                            "ticks": ""
                          }
                        },
                        "type": "scattermap"
                      }
                    ],
                    "scattermapbox": [
                      {
                        "marker": {
                          "colorbar": {
                            "outlinewidth": 0,
                            "ticks": ""
                          }
                        },
                        "type": "scattermapbox"
                      }
                    ],
                    "scatterpolar": [
                      {
                        "marker": {
                          "colorbar": {
                            "outlinewidth": 0,
                            "ticks": ""
                          }
                        },
                        "type": "scatterpolar"
                      }
                    ],
                    "scatterpolargl": [
                      {
                        "marker": {
                          "colorbar": {
                            "outlinewidth": 0,
                            "ticks": ""
                          }
                        },
                        "type": "scatterpolargl"
                      }
                    ],
                    "scatterternary": [
                      {
                        "marker": {
                          "colorbar": {
                            "outlinewidth": 0,
                            "ticks": ""
                          }
                        },
                        "type": "scatterternary"
                      }
                    ],
                    "surface": [
                      {
                        "colorbar": {
                          "outlinewidth": 0,
                          "ticks": ""
                        },
                        "colorscale": [
                          [
                            0,
                            "#0d0887"
                          ],
                          [
                            0.1111111111111111,
                            "#46039f"
                          ],
                          [
                            0.2222222222222222,
                            "#7201a8"
                          ],
                          [
                            0.3333333333333333,
                            "#9c179e"
                          ],
                          [
                            0.4444444444444444,
                            "#bd3786"
                          ],
                          [
                            0.5555555555555556,
                            "#d8576b"
                          ],
                          [
                            0.6666666666666666,
                            "#ed7953"
                          ],
                          [
                            0.7777777777777778,
                            "#fb9f3a"
                          ],
                          [
                            0.8888888888888888,
                            "#fdca26"
                          ],
                          [
                            1,
                            "#f0f921"
                          ]
                        ],
                        "type": "surface"
                      }
                    ],
                    "table": [
                      {
                        "cells": {
                          "fill": {
                            "color": "#EBF0F8"
                          },
                          "line": {
                            "color": "white"
                          }
                        },
                        "header": {
                          "fill": {
                            "color": "#C8D4E3"
                          },
                          "line": {
                            "color": "white"
                          }
                        },
                        "type": "table"
                      }
                    ]
                  },
                  "layout": {
                    "annotationdefaults": {
                      "arrowcolor": "#2a3f5f",
                      "arrowhead": 0,
                      "arrowwidth": 1
                    },
                    "autotypenumbers": "strict",
                    "coloraxis": {
                      "colorbar": {
                        "outlinewidth": 0,
                        "ticks": ""
                      }
                    },
                    "colorscale": {
                      "diverging": [
                        [
                          0,
                          "#8e0152"
                        ],
                        [
                          0.1,
                          "#c51b7d"
                        ],
                        [
                          0.2,
                          "#de77ae"
                        ],
                        [
                          0.3,
                          "#f1b6da"
                        ],
                        [
                          0.4,
                          "#fde0ef"
                        ],
                        [
                          0.5,
                          "#f7f7f7"
                        ],
                        [
                          0.6,
                          "#e6f5d0"
                        ],
                        [
                          0.7,
                          "#b8e186"
                        ],
                        [
                          0.8,
                          "#7fbc41"
                        ],
                        [
                          0.9,
                          "#4d9221"
                        ],
                        [
                          1,
                          "#276419"
                        ]
                      ],
                      "sequential": [
                        [
                          0,
                          "#0d0887"
                        ],
                        [
                          0.1111111111111111,
                          "#46039f"
                        ],
                        [
                          0.2222222222222222,
                          "#7201a8"
                        ],
                        [
                          0.3333333333333333,
                          "#9c179e"
                        ],
                        [
                          0.4444444444444444,
                          "#bd3786"
                        ],
                        [
                          0.5555555555555556,
                          "#d8576b"
                        ],
                        [
                          0.6666666666666666,
                          "#ed7953"
                        ],
                        [
                          0.7777777777777778,
                          "#fb9f3a"
                        ],
                        [
                          0.8888888888888888,
                          "#fdca26"
                        ],
                        [
                          1,
                          "#f0f921"
                        ]
                      ],
                      "sequentialminus": [
                        [
                          0,
                          "#0d0887"
                        ],
                        [
                          0.1111111111111111,
                          "#46039f"
                        ],
                        [
                          0.2222222222222222,
                          "#7201a8"
                        ],
                        [
                          0.3333333333333333,
                          "#9c179e"
                        ],
                        [
                          0.4444444444444444,
                          "#bd3786"
                        ],
                        [
                          0.5555555555555556,
                          "#d8576b"
                        ],
                        [
                          0.6666666666666666,
                          "#ed7953"
                        ],
                        [
                          0.7777777777777778,
                          "#fb9f3a"
                        ],
                        [
                          0.8888888888888888,
                          "#fdca26"
                        ],
                        [
                          1,
                          "#f0f921"
                        ]
                      ]
                    },
                    "colorway": [
                      "#636efa",
                      "#EF553B",
                      "#00cc96",
                      "#ab63fa",
                      "#FFA15A",
                      "#19d3f3",
                      "#FF6692",
                      "#B6E880",
                      "#FF97FF",
                      "#FECB52"
                    ],
                    "font": {
                      "color": "#2a3f5f"
                    },
                    "geo": {
                      "bgcolor": "white",
                      "lakecolor": "white",
                      "landcolor": "#E5ECF6",
                      "showlakes": true,
                      "showland": true,
                      "subunitcolor": "white"
                    },
                    "hoverlabel": {
                      "align": "left"
                    },
                    "hovermode": "closest",
                    "mapbox": {
                      "style": "light"
                    },
                    "paper_bgcolor": "white",
                    "plot_bgcolor": "#E5ECF6",
                    "polar": {
                      "angularaxis": {
                        "gridcolor": "white",
                        "linecolor": "white",
                        "ticks": ""
                      },
                      "bgcolor": "#E5ECF6",
                      "radialaxis": {
                        "gridcolor": "white",
                        "linecolor": "white",
                        "ticks": ""
                      }
                    },
                    "scene": {
                      "xaxis": {
                        "backgroundcolor": "#E5ECF6",
                        "gridcolor": "white",
                        "gridwidth": 2,
                        "linecolor": "white",
                        "showbackground": true,
                        "ticks": "",
                        "zerolinecolor": "white"
                      },
                      "yaxis": {
                        "backgroundcolor": "#E5ECF6",
                        "gridcolor": "white",
                        "gridwidth": 2,
                        "linecolor": "white",
                        "showbackground": true,
                        "ticks": "",
                        "zerolinecolor": "white"
                      },
                      "zaxis": {
                        "backgroundcolor": "#E5ECF6",
                        "gridcolor": "white",
                        "gridwidth": 2,
                        "linecolor": "white",
                        "showbackground": true,
                        "ticks": "",
                        "zerolinecolor": "white"
                      }
                    },
                    "shapedefaults": {
                      "line": {
                        "color": "#2a3f5f"
                      }
                    },
                    "ternary": {
                      "aaxis": {
                        "gridcolor": "white",
                        "linecolor": "white",
                        "ticks": ""
                      },
                      "baxis": {
                        "gridcolor": "white",
                        "linecolor": "white",
                        "ticks": ""
                      },
                      "bgcolor": "#E5ECF6",
                      "caxis": {
                        "gridcolor": "white",
                        "linecolor": "white",
                        "ticks": ""
                      }
                    },
                    "title": {
                      "x": 0.05
                    },
                    "xaxis": {
                      "automargin": true,
                      "gridcolor": "white",
                      "linecolor": "white",
                      "ticks": "",
                      "title": {
                        "standoff": 15
                      },
                      "zerolinecolor": "white",
                      "zerolinewidth": 2
                    },
                    "yaxis": {
                      "automargin": true,
                      "gridcolor": "white",
                      "linecolor": "white",
                      "ticks": "",
                      "title": {
                        "standoff": 15
                      },
                      "zerolinecolor": "white",
                      "zerolinewidth": 2
                    }
                  }
                },
                "title": {
                  "text": "Effect of early testing and isolation on SEIR model",
                  "x": 0.5,
                  "xanchor": "center"
                },
                "xaxis": {
                  "title": {
                    "text": "Day"
                  }
                },
                "yaxis": {
                  "title": {
                    "text": "Proportion of population"
                  }
                }
              }
            },
            "text/html": [
              "<div>            <script src=\"https://cdnjs.cloudflare.com/ajax/libs/mathjax/2.7.5/MathJax.js?config=TeX-AMS-MML_SVG\"></script><script type=\"text/javascript\">if (window.MathJax && window.MathJax.Hub && window.MathJax.Hub.Config) {window.MathJax.Hub.Config({SVG: {font: \"STIX-Web\"}});}</script>                <script type=\"text/javascript\">window.PlotlyConfig = {MathJaxConfig: 'local'};</script>\n",
              "        <script charset=\"utf-8\" src=\"https://cdn.plot.ly/plotly-3.0.0.min.js\"></script>                <div id=\"577db4a3-6323-442f-982f-a67b317446b3\" class=\"plotly-graph-div\" style=\"height:525px; width:100%;\"></div>            <script type=\"text/javascript\">                window.PLOTLYENV=window.PLOTLYENV || {};                                if (document.getElementById(\"577db4a3-6323-442f-982f-a67b317446b3\")) {                    Plotly.newPlot(                        \"577db4a3-6323-442f-982f-a67b317446b3\",                        [{\"name\":\"I_no_isolation\",\"x\":{\"dtype\":\"i2\",\"bdata\":\"AAABAAIAAwAEAAUABgAHAAgACQAKAAsADAANAA4ADwAQABEAEgATABQAFQAWABcAGAAZABoAGwAcAB0AHgAfACAAIQAiACMAJAAlACYAJwAoACkAKgArACwALQAuAC8AMAAxADIAMwA0ADUANgA3ADgAOQA6ADsAPAA9AD4APwBAAEEAQgBDAEQARQBGAEcASABJAEoASwBMAE0ATgBPAFAAUQBSAFMAVABVAFYAVwBYAFkAWgBbAFwAXQBeAF8AYABhAGIAYwBkAGUAZgBnAGgAaQBqAGsAbABtAG4AbwBwAHEAcgBzAHQAdQB2AHcAeAB5AHoAewB8AH0AfgB\\u002fAIAAgQCCAIMAhACFAIYAhwCIAIkAigCLAIwAjQCOAI8AkACRAJIAkwCUAJUAlgCXAJgAmQCaAJsAnACdAJ4AnwCgAKEAogCjAKQApQCmAKcAqACpAKoAqwCsAK0ArgCvALAAsQCyALMAtAC1ALYAtwC4ALkAugC7ALwAvQC+AL8AwADBAMIAwwDEAMUAxgDHAA==\"},\"y\":{\"dtype\":\"f8\",\"bdata\":\"AAAAAAAAAAAAAAAAAAAAAAAAAAAAAAAAAAAAAAAAAAAAAAAAAAAAAAAAAAAAAAAAAAAAAAAAAAAAAAAAAAAAAAAAAAAAAAAAAAAAAAAAAAAAAAAAAAAAAAAAAAAAAAAAAAAAAAAAAAAtQxzr4jYaPy1DHOviNho\\u002fLUMc6+I2Gj8tQxzr4jYaPy1DHOviNho\\u002fLUMc6+I2Gj8tQxzr4jYaPy1DHOviNho\\u002fLUMc6+I2Gj8tQxzr4jYaPy1DHOviNho\\u002fLUMc6+I2Gj8tQxzr4jYaPy1DHOviNio\\u002fYTJVMCqpMz9hMlUwKqkzP2EyVTAqqTM\\u002fLUMc6+I2Oj8tQxzr4jY6P\\u002fyp8dJNYkA\\u002f\\u002fKnx0k1iQD9hMlUwKqlDP8e6uI0G8EY\\u002fkst\\u002fSL99TT9hMlUwKqlTP2EyVTAqqVM\\u002fx7q4jQbwVj\\u002fFjzF3LSFfPxWMSuoENGE\\u002fSFD8GHPXYj+U9gZfmExlP0YldQKaCGs\\u002frK3YX3ZPbj8730+Nl25yP2EyVTAqqXM\\u002fukkMAiuHdj8tQxzr4jZ6P2x4eqUsQ3w\\u002fguLHmLuWgD97FK5H4XqEP03zjlN0JIc\\u002f8rBQa5p3jD\\u002f8qfHSTWKQP7WmeccpOpI\\u002fAU2EDU+vlD+At0CC4seYP3npJjEIrJw\\u002fHThnRGlvoD\\u002f9h\\u002fTb14GjPwrXo3A9Cqc\\u002fGCZTBaOSqj\\u002fNO07RkVyuPxWMSuoENLE\\u002fYTJVMCqpsz8OLbKd76e2P7fRAN4CCbo\\u002f0ZFc\\u002fkP6vT\\u002f2KFyPwvXAPz55WKg1zcM\\u002fI0p7gy9Mxj8Cmggbnl7JP44G8BZIUMw\\u002frkfhehSuzz+0WfW52orRP2sr9pfdk9M\\u002f5q4l5IOe1T8c6+I2GsDXPzGZKhiV1Nk\\u002feJyiI7n82z8vbqMBvAXePy9uowG8BeA\\u002f8kHPZtXn4D9PQBNhw9PhP5eQD3o2q+I\\u002fc2iR7Xw\\u002f4z82qz5XW7HjPy9uowG8BeQ\\u002fr5RliGNd5D9qTfOOU3TkP3BfB84ZUeQ\\u002fpgpGJXUC5D9Ra5p3nKLjP2aIY13cRuM\\u002fgLdAguLH4j9U46WbxCDiP\\u002fLSTWIQWOE\\u002fVHQkl\\u002f+Q4D82qz5XW7HfP4V80LNZ9d0\\u002fKVyPwvUo3D\\u002f67evAOSPaP8pUwaikTtg\\u002f9pfdk4eF1j\\u002flYaHWNO\\u002fUPwaBlUOLbNM\\u002f7FG4HoXr0T8Fo5I6AU3QP7RZ9bnais0\\u002fAwmKH2Puyj\\u002fHKTqSy3\\u002fIP588LNSa5sU\\u002fq8\\u002fVVuwvwz\\u002f0\\u002fdR46SbBP807TtGRXL4\\u002fjZduEoPAuj+dgCbChqe3P1UwKqkT0LQ\\u002fHqfoSC7\\u002fsT\\u002farPpcbcWuP3BfB84ZUao\\u002fTfOOU3Qkpz+lTkATYcOjP7Hh6ZWyDKE\\u002fyXa+nxovnT8H8BZIUPyYPyegibDh6ZU\\u002fO99PjZdukj+4HoXrUbiOP40o7Q2+MIk\\u002fDr4wmSoYhT8vbqMBvAWCP8WPMXctIX8\\u002f7Q2+MJkqeD9hMlUwKqlzP6yt2F92T24\\u002fRiV1ApoIaz\\u002fgnBGlvcFnP0hQ\\u002fBhz12I\\u002fxY8xdy0hXz\\u002fHuriNBvBWP5T2Bl+YTFU\\u002fYTJVMCqpUz+Sy39Iv31NP5LLf0i\\u002ffU0\\u002fx7q4jQbwRj9hMlUwKqlDP\\u002fyp8dJNYkA\\u002fLUMc6+I2Oj9hMlUwKqkzP2EyVTAqqTM\\u002fYTJVMCqpMz8tQxzr4jYqPy1DHOviNho\\u002fLUMc6+I2Gj8tQxzr4jYaPy1DHOviNho\\u002fLUMc6+I2Gj8tQxzr4jYaPwAAAAAAAAAAAAAAAAAAAAAAAAAAAAAAAAAAAAAAAAAAAAAAAAAAAAAAAAAAAAAAAAAAAAAAAAAAAAAAAAAAAAAAAAAAAAAAAAAAAAAAAAAAAAAAAAAAAAAAAAAAAAAAAAAAAAAAAAAAAAAAAAAAAAAAAAAAAAAAAAAAAAAAAAAAAAAAAAAAAAAAAAAAAAAAAAAAAAAAAAAAAAAAAAAAAAAAAAAAAAAAAAAAAAAAAAAAAAAAAAAAAAAAAAAAAAAAAAAAAAAAAAAAAAAAAAAAAAAAAAAAAAAAAAAAAAAAAAAAAAAAAAAAAAAAAAAAAAAAAAAAAAAAAAAAAAAAAAAAAAAAAAAAAAAAAAAAAAAAAAAAAAAAAAAAAAAAAAAAAAAAAAAAAAAAAAAAAAAAAAAAAAAAAAAAAAAAAA==\"},\"type\":\"scatter\"},{\"name\":\"I_iso10\",\"x\":{\"dtype\":\"i2\",\"bdata\":\"AAABAAIAAwAEAAUABgAHAAgACQAKAAsADAANAA4ADwAQABEAEgATABQAFQAWABcAGAAZABoAGwAcAB0AHgAfACAAIQAiACMAJAAlACYAJwAoACkAKgArACwALQAuAC8AMAAxADIAMwA0ADUANgA3ADgAOQA6ADsAPAA9AD4APwBAAEEAQgBDAEQARQBGAEcASABJAEoASwBMAE0ATgBPAFAAUQBSAFMAVABVAFYAVwBYAFkAWgBbAFwAXQBeAF8AYABhAGIAYwBkAGUAZgBnAGgAaQBqAGsAbABtAG4AbwBwAHEAcgBzAHQAdQB2AHcAeAB5AHoAewB8AH0AfgB\\u002fAIAAgQCCAIMAhACFAIYAhwCIAIkAigCLAIwAjQCOAI8AkACRAJIAkwCUAJUAlgCXAJgAmQCaAJsAnACdAJ4AnwCgAKEAogCjAKQApQCmAKcAqACpAKoAqwCsAK0ArgCvALAAsQCyALMAtAC1ALYAtwC4ALkAugC7ALwAvQC+AL8AwADBAMIAwwDEAMUAxgDHAA==\"},\"y\":{\"dtype\":\"f8\",\"bdata\":\"AAAAAAAAAAAAAAAAAAAAAAAAAAAAAAAAAAAAAAAAAAAAAAAAAAAAAC1DHOviNho\\u002fLUMc6+I2Gj8tQxzr4jYaPy1DHOviNio\\u002fLUMc6+I2Kj8tQxzr4jYqPy1DHOviNio\\u002fLUMc6+I2Kj8tQxzr4jYqP2EyVTAqqTM\\u002fLUMc6+I2Kj9hMlUwKqkzP\\u002fyp8dJNYkA\\u002fLUMc6+I2Oj8tQxzr4jY6Py1DHOviNjo\\u002fLUMc6+I2Oj9hMlUwKqlDP8e6uI0G8EY\\u002fLUMc6+I2Sj+Sy39Iv31NPy9uowG8BVI\\u002fYTJVMCqpUz8tQxzr4jZaPxWMSuoENGE\\u002fSFD8GHPXYj+u2F92Tx5mPxNhw9MrZWk\\u002fLUMc6+I2aj+Sy39Iv31tP3sUrkfhenQ\\u002foWez6nO1dT\\u002fUK2UZ4lh3P4Za07zjFH0\\u002fnMQgsHJogT8BTYQNT6+EP67YX3ZPHoY\\u002fZ9Xnaiv2hz\\u002fZzvdT46WLP49TdCSX\\u002f5A\\u002fmN2Th4Vakz\\u002fkg57Nqs+VP4C3QILix5g\\u002fcF8HzhlRmj\\u002fJdr6fGi+dP23F\\u002frJ78qA\\u002fHhZqTfOOoz+lLEMc6+KmP55eKcsQx6o\\u002fOpLLf0i\\u002frT8dOGdEaW+wP\\u002fRsVn2utrI\\u002fgy9MpgpGtT\\u002fMf0i\\u002ffR24PzVeukkMArs\\u002f+8vuycNCvT9SuB6F61HAPxpR2ht8YcI\\u002fnKIjufyHxD9UdCSX\\u002f5DGP9bFbTSAt8g\\u002fzojS3uALyz8+6Nms+lzNP13cRgN4C9A\\u002f0m9fB84Z0T+Zu5aQD3rSPyBB8WPMXdM\\u002f0SLb+X5q1D9b07zjFB3VP5MYBFYOLdY\\u002f0LNZ9bna1j8QejarPlfXPw5Pr5RliNc\\u002faLPqc7UV1z+0yHa+nxrXPzLmriXkg9Y\\u002ft9EA3gIJ1j9m9+RhodbUP6VOQBNhw9M\\u002fC7Wmeccp0j9EaW\\u002fwhcnQP9zXgXNGlM4\\u002fHhZqTfOOyz8VjErqBDTJP\\u002fH0SlmGOMY\\u002fQKTfvg6cwz98YTJVMCrBP0cDeAskKL4\\u002f+u3rwDkjuj+Ens2qz9W2P3L5D+m3r7M\\u002fxf6ye\\u002fKwsD\\u002fJdr6fGi+tP6JFtvP91Kg\\u002fAU2EDU+vpD+oNc07TtGhP6yt2F92T54\\u002f3bWEfNCzmT+hZ7Pqc7WVP2UZ4lgXt5E\\u002fhlrTvOMUjT8H8BZIUPyIP+hqK\\u002faX3YM\\u002f\\u002fKnx0k1igD9fB84ZUdp7P9QrZRniWHc\\u002fIv32deCccT9GJXUCmghrP2EyVTAqqWM\\u002fL26jAbwFYj+Sy39Iv31dP5T2Bl+YTFU\\u002fkst\\u002fSL99TT8tQxzr4jZKP2EyVTAqqUM\\u002fYTJVMCqpMz9hMlUwKqkzP2EyVTAqqTM\\u002fYTJVMCqpMz9hMlUwKqkzP2EyVTAqqTM\\u002fLUMc6+I2Kj8tQxzr4jYqPy1DHOviNio\\u002fLUMc6+I2Kj8tQxzr4jYaPwAAAAAAAAAAAAAAAAAAAAAAAAAAAAAAAAAAAAAAAAAAAAAAAAAAAAAAAAAAAAAAAAAAAAAAAAAALUMc6+I2Gj8tQxzr4jYaPy1DHOviNho\\u002fLUMc6+I2Gj8tQxzr4jYaPy1DHOviNho\\u002fLUMc6+I2Gj8tQxzr4jYaPy1DHOviNho\\u002fLUMc6+I2Gj8AAAAAAAAAAAAAAAAAAAAAAAAAAAAAAAAAAAAAAAAAAAAAAAAAAAAAAAAAAAAAAAAAAAAAAAAAAAAAAAAAAAAAAAAAAAAAAAAAAAAAAAAAAAAAAAAAAAAAAAAAAAAAAAAAAAAAAAAAAAAAAAAAAAAAAAAAAAAAAAAAAAAAAAAAAAAAAAAAAAAAAAAAAAAAAAAAAAAAAAAAAAAAAAAAAAAAAAAAAAAAAAAAAAAAAAAAAAAAAAAAAAAAAAAAAAAAAAAAAAAAAAAAAAAAAAAAAAAAAAAAAAAAAAAAAAAAAAAAAAAAAAAAAAAAAAAAAAAAAAAAAAAAAAAAAAAAAAAAAAAAAAAAAAAAAAAAAAAAAAAAAAAAAAAAAAAAAAAAAAAAAAAAAAAAAAAAAAAAAAAAAAAAAAAAAAAAAAAAAAAAAAAAAAAAAAAAAAAAAAAAAAAAAAAAAAAAAAAAAAAAAAAAAAAAAAAAAAAAAAAAAAAAAAAAAAAAAAAAAAAAAAAAAAAAAAAAAAAAAAAAAAAAAAAAAAAAAAAAAAAAAAAAAAAAAAAAAA==\"},\"type\":\"scatter\"},{\"name\":\"I_iso7\",\"x\":{\"dtype\":\"i2\",\"bdata\":\"AAABAAIAAwAEAAUABgAHAAgACQAKAAsADAANAA4ADwAQABEAEgATABQAFQAWABcAGAAZABoAGwAcAB0AHgAfACAAIQAiACMAJAAlACYAJwAoACkAKgArACwALQAuAC8AMAAxADIAMwA0ADUANgA3ADgAOQA6ADsAPAA9AD4APwBAAEEAQgBDAEQARQBGAEcASABJAEoASwBMAE0ATgBPAFAAUQBSAFMAVABVAFYAVwBYAFkAWgBbAFwAXQBeAF8AYABhAGIAYwBkAGUAZgBnAGgAaQBqAGsAbABtAG4AbwBwAHEAcgBzAHQAdQB2AHcAeAB5AHoAewB8AH0AfgB\\u002fAIAAgQCCAIMAhACFAIYAhwCIAIkAigCLAIwAjQCOAI8AkACRAJIAkwCUAJUAlgCXAJgAmQCaAJsAnACdAJ4AnwCgAKEAogCjAKQApQCmAKcAqACpAKoAqwCsAK0ArgCvALAAsQCyALMAtAC1ALYAtwC4ALkAugC7ALwAvQC+AL8AwADBAMIAwwDEAMUAxgDHAA==\"},\"y\":{\"dtype\":\"f8\",\"bdata\":\"AAAAAAAAAAAAAAAAAAAAAAAAAAAAAAAAAAAAAAAAAAAtQxzr4jYaPy1DHOviNho\\u002fLUMc6+I2Gj8tQxzr4jYaPy1DHOviNho\\u002fLUMc6+I2Gj8tQxzr4jYaPwAAAAAAAAAALUMc6+I2Gj8tQxzr4jYaPy1DHOviNio\\u002fLUMc6+I2Kj8tQxzr4jYqPy1DHOviNio\\u002fLUMc6+I2Kj9hMlUwKqkzP2EyVTAqqTM\\u002fYTJVMCqpMz9hMlUwKqkzP2EyVTAqqTM\\u002fLUMc6+I2Oj9hMlUwKqlDP2EyVTAqqUM\\u002fYTJVMCqpQz9hMlUwKqlDPy1DHOviNko\\u002fL26jAbwFUj9hMlUwKqlTPy9uowG8BVI\\u002flPYGX5hMVT8tQxzr4jZaP5LLf0i\\u002ffV0\\u002fkst\\u002fSL99XT\\u002fFjzF3LSFfPxWMSuoENGE\\u002f4JwRpb3BZz8tQxzr4jZqP95xio7k8m8\\u002fSFD8GHPXcj+6SQwCK4d2P8e6uI0G8HY\\u002fB\\u002fAWSFD8eD+4HoXrUbh+P5zEILByaIE\\u002fwhcmUwWjgj+u2F92Tx6GP5qZmZmZmYk\\u002fkst\\u002fSL99jT+C4seYu5aQP3KKjuTyH5I\\u002fpU5AE2HDkz93LSEf9GyWP0oMAiuHFpk\\u002flrIMcayLmz+X\\u002f5B++zqgPzvfT42XbqI\\u002fCfmgZ7Pqoz851sVtNICnP2uad5yiI6k\\u002fzF1LyAc9qz9HA3gLJCiuPw1xrIvbaLA\\u002fPzVeukkMsj93vp8aL920P2ZmZmZmZrY\\u002f1JrmHafouD+jI7n8h\\u002fS7P6hXyjLEsb4\\u002fguLHmLuWwD9Ei2zn+6nBP9UJaCJseMI\\u002flIeFWtO8wz\\u002fcaABvgQTFP\\u002fVKWYY41sU\\u002fYOXQItv5xj\\u002fY8PRKWYbIP9uK\\u002fWX35Mk\\u002fiUFg5dAiyz\\u002fswDkjSnvLPwn5oGez6ss\\u002f9wZfmEwVzD8+eVioNc3LP99PjZduEss\\u002fj8L1KFyPyj8Ab4EExY\\u002fJPwXFjzF3Lck\\u002fdnEbDeAtyD\\u002fl8h\\u002fSb1\\u002fHP0ku\\u002fyH99sU\\u002fRpT2Bl+YxD8zMzMzMzPDPw3gLZCg+ME\\u002f2ht8YTJVwD9HA3gLJCi+P7hAguLHmLs\\u002fRrbz\\u002fdR4uT+dgCbChqe3P\\u002f32deCcEbU\\u002frfpcbcX+sj+si9toAG+xP0vIBz2bVa8\\u002fuECC4seYqz8ofoy5awmpP9cS8kHPZqU\\u002fHhZqTfOOoz8qqRPQRNigPwyTqYJRSZ0\\u002fw9MrZRnimD9EaW\\u002fwhcmUP6g1zTtO0ZE\\u002fuB6F61G4jj+NKO0NvjCJP5T2Bl+YTIU\\u002fj1N0JJf\\u002fgD+Sy39Iv319P18HzhlR2ns\\u002fE2HD0ytleT+IhVrTvON0Py9uowG8BXI\\u002frK3YX3ZPbj9GJXUCmghrP\\u002fp+arx0k2g\\u002fYTJVMCqpYz9IUPwYc9diP5T2Bl+YTGU\\u002fYTJVMCqpYz9hMlUwKqljPy9uowG8BWI\\u002fxY8xdy0hXz\\u002f6fmq8dJNYP2EyVTAqqVM\\u002fkst\\u002fSL99TT9hMlUwKqlDPy1DHOviNjo\\u002f\\u002fKnx0k1iQD8tQxzr4jY6Py1DHOviNjo\\u002fYTJVMCqpMz8tQxzr4jYqPy1DHOviNio\\u002fLUMc6+I2Kj8tQxzr4jYaPy1DHOviNho\\u002fLUMc6+I2Gj8tQxzr4jYaPy1DHOviNho\\u002fLUMc6+I2Gj8AAAAAAAAAAAAAAAAAAAAAAAAAAAAAAAAAAAAAAAAAAAAAAAAAAAAAAAAAAAAAAAAAAAAAAAAAAAAAAAAAAAAAAAAAAAAAAAAAAAAAAAAAAAAAAAAAAAAAAAAAAAAAAAAAAAAAAAAAAAAAAAAAAAAAAAAAAAAAAAAAAAAAAAAAAAAAAAAAAAAAAAAAAAAAAAAAAAAAAAAAAAAAAAAAAAAAAAAAAAAAAAAAAAAAAAAAAAAAAAAAAAAAAAAAAAAAAAAAAAAAAAAAAAAAAAAAAAAAAAAAAAAAAAAAAAAAAAAAAAAAAAAAAAAAAAAAAAAAAAAAAAAAAAAAAAAAAAAAAAAAAAAAAAAAAAAAAAAAAAAAAAAAAAAAAAAAAAAAAAAAAAAAAAAAAAAAAAAAAAAAAAAAAAAAAAAAAAAAAAAAAAAAAAAAAAAAAAAAAAAAAAAAAAAAAAAAAAAAAAAAAAAAAAAAAAAAAAAAAAAAAAAAAAAAAAAAAAAAAAAAAAAAAAAAAAAAAAAAAAAAAA==\"},\"type\":\"scatter\"},{\"name\":\"I_iso5\",\"x\":{\"dtype\":\"i2\",\"bdata\":\"AAABAAIAAwAEAAUABgAHAAgACQAKAAsADAANAA4ADwAQABEAEgATABQAFQAWABcAGAAZABoAGwAcAB0AHgAfACAAIQAiACMAJAAlACYAJwAoACkAKgArACwALQAuAC8AMAAxADIAMwA0ADUANgA3ADgAOQA6ADsAPAA9AD4APwBAAEEAQgBDAEQARQBGAEcASABJAEoASwBMAE0ATgBPAFAAUQBSAFMAVABVAFYAVwBYAFkAWgBbAFwAXQBeAF8AYABhAGIAYwBkAGUAZgBnAGgAaQBqAGsAbABtAG4AbwBwAHEAcgBzAHQAdQB2AHcAeAB5AHoAewB8AH0AfgB\\u002fAIAAgQCCAIMAhACFAIYAhwCIAIkAigCLAIwAjQCOAI8AkACRAJIAkwCUAJUAlgCXAJgAmQCaAJsAnACdAJ4AnwCgAKEAogCjAKQApQCmAKcAqACpAKoAqwCsAK0ArgCvALAAsQCyALMAtAC1ALYAtwC4ALkAugC7ALwAvQC+AL8AwADBAMIAwwDEAMUAxgDHAA==\"},\"y\":{\"dtype\":\"f8\",\"bdata\":\"AAAAAAAAAAAAAAAAAAAAAAAAAAAAAAAAAAAAAAAAAAAAAAAAAAAAAAAAAAAAAAAAAAAAAAAAAAAAAAAAAAAAAAAAAAAAAAAAAAAAAAAAAAAtQxzr4jYaPy1DHOviNho\\u002fLUMc6+I2Gj8tQxzr4jYaPy1DHOviNho\\u002fAAAAAAAAAAAAAAAAAAAAAAAAAAAAAAAAAAAAAAAAAAAAAAAAAAAAAAAAAAAAAAAAAAAAAAAAAAAAAAAAAAAAAAAAAAAAAAAAAAAAAAAAAAAAAAAAAAAAAAAAAAAAAAAAAAAAAAAAAAAtQxzr4jYaPy1DHOviNho\\u002fLUMc6+I2Gj8tQxzr4jYaPy1DHOviNho\\u002fAAAAAAAAAAAAAAAAAAAAAC1DHOviNio\\u002fLUMc6+I2Kj8tQxzr4jYqP2EyVTAqqTM\\u002fYTJVMCqpMz8tQxzr4jYaPy1DHOviNio\\u002fLUMc6+I2Kj8tQxzr4jYqP2EyVTAqqTM\\u002fYTJVMCqpMz8tQxzr4jYqPy1DHOviNio\\u002fLUMc6+I2Gj8tQxzr4jYqPy1DHOviNjo\\u002f\\u002fKnx0k1iQD\\u002fHuriNBvBGP\\u002fyp8dJNYlA\\u002f\\u002fKnx0k1iUD+Sy39Iv31NPy9uowG8BVI\\u002fL26jAbwFUj+Sy39Iv31NPy9uowG8BVI\\u002fYTJVMCqpUz\\u002fHuriNBvBWP18HzhlR2ls\\u002f\\u002fKnx0k1iYD\\u002fFjzF3LSFfP0hQ\\u002fBhz12I\\u002f\\u002fKnx0k1iYD8vbqMBvAViP2EyVTAqqWM\\u002fx7q4jQbwZj+u2F92Tx5mP6yt2F92T24\\u002fxY8xdy0hbz\\u002f8qfHSTWJwP2EyVTAqqXM\\u002f1CtlGeJYdz+U9gZfmEx1P+0NvjCZKng\\u002frK3YX3ZPfj+Sy39Iv319P5LLf0i\\u002ffX0\\u002fdnEbDeAtgD+oNc07TtGBP0hQ\\u002fBhz14I\\u002foWez6nO1hT+mCkYldQKKP588LNSa5o0\\u002fWKg1zTtOkT+LbOf7qfGSP9v5fmq8dJM\\u002fsb\\u002fsnjwslD9N845TdCSXP5qZmZmZmZk\\u002fRiV1ApoImz8\\u002fV1uxv+yePwkbnl4py6A\\u002fYVRSJ6CJoD8JG55eKcugP7WmeccpOqI\\u002fYTJVMCqpoz\\u002fsL7snDwulP78OnDOitKc\\u002fq8\\u002fVVuwvqz+OBvAWSFCsP2iR7Xw\\u002fNa4\\u002f5x2n6Egurz9DHOviNhqwPx04Z0Rpb7A\\u002fufyH9NvXsT9dbcX+snuyP5hMFYxK6rQ\\u002fyxDHuriNtj8XSFD8GHO3P3icoiO5\\u002fLc\\u002fC0YldQKauD\\u002fHKTqSy3+4P57vp8ZLN7k\\u002fhXzQs1n1uT9Ke4MvTKa6P4XrUbgehbs\\u002fOiNKe4MvvD+fzarP1Va8P6d5xyk6krs\\u002fXwfOGVHauz9Cz2bV52q7P\\u002faX3ZOHhbo\\u002fMZkqGJXUuT\\u002fpJjEIrBy6P\\u002f5D+u3rwLk\\u002f3bWEfNCzuT\\u002fpt68D54y4P8x\\u002fSL99Hbg\\u002fLGUZ4lgXtz\\u002f99nXgnBG1P13cRgN4C7Q\\u002fZohjXdxGsz9hw9MrZRmyP23F\\u002frJ78rA\\u002fLv8h\\u002ffZ1sD8ZBFYOLbKtP6MjufyH9Ks\\u002fINJvXwfOqT\\u002fY8PRKWYaoP6UsQxzr4qY\\u002fXkvIBz2bpT84+MJkqmCkP11txf6ye6I\\u002f2ht8YTJVoD82zTtO0ZGcP5qZmZmZmZk\\u002fukkMAiuHlj8BTYQNT6+UP8IXJlMFo5I\\u002fZRniWBe3kT9YObTIdr6PP5LLf0i\\u002ffY0\\u002fObTIdr6fij8H8BZIUPyIPxsv3SQGgYU\\u002fYTJVMCqpgz8i\\u002ffZ14JyBPwkbnl4py4A\\u002feekmMQisfD9seHqlLEN8P0YldQKaCHs\\u002fINJvXwfOeT9VwaikTkBzPzvfT42XbnI\\u002fFYxK6gQ0cT+srdhfdk9uP5LLf0i\\u002ffW0\\u002frK3YX3ZPbj8tQxzr4jZqP+CcEaW9wWc\\u002frthfdk8eZj97FK5H4XpkP2EyVTAqqWM\\u002fSFD8GHPXYj\\u002f8qfHSTWJgP18HzhlR2ls\\u002fYTJVMCqpUz\\u002fHuriNBvBGP\\u002fyp8dJNYlA\\u002fL26jAbwFUj8vbqMBvAVSP2EyVTAqqVM\\u002fL26jAbwFUj\\u002fHuriNBvBGPy1DHOviNjo\\u002fYTJVMCqpMz8tQxzr4jYqPy1DHOviNio\\u002fLUMc6+I2Kj8tQxzr4jY6Py1DHOviNjo\\u002f\\u002fKnx0k1iQD\\u002f8qfHSTWJAP\\u002fyp8dJNYkA\\u002fYTJVMCqpMz8tQxzr4jYqPw==\"},\"type\":\"scatter\"},{\"name\":\"I_iso2\",\"x\":{\"dtype\":\"i2\",\"bdata\":\"AAABAAIAAwAEAAUABgAHAAgACQAKAAsADAANAA4ADwAQABEAEgATABQAFQAWABcAGAAZABoAGwAcAB0AHgAfACAAIQAiACMAJAAlACYAJwAoACkAKgArACwALQAuAC8AMAAxADIAMwA0ADUANgA3ADgAOQA6ADsAPAA9AD4APwBAAEEAQgBDAEQARQBGAEcASABJAEoASwBMAE0ATgBPAFAAUQBSAFMAVABVAFYAVwBYAFkAWgBbAFwAXQBeAF8AYABhAGIAYwBkAGUAZgBnAGgAaQBqAGsAbABtAG4AbwBwAHEAcgBzAHQAdQB2AHcAeAB5AHoAewB8AH0AfgB\\u002fAIAAgQCCAIMAhACFAIYAhwCIAIkAigCLAIwAjQCOAI8AkACRAJIAkwCUAJUAlgCXAJgAmQCaAJsAnACdAJ4AnwCgAKEAogCjAKQApQCmAKcAqACpAKoAqwCsAK0ArgCvALAAsQCyALMAtAC1ALYAtwC4ALkAugC7ALwAvQC+AL8AwADBAMIAwwDEAMUAxgDHAA==\"},\"y\":{\"dtype\":\"f8\",\"bdata\":\"AAAAAAAAAAAAAAAAAAAAAAAAAAAAAAAAAAAAAAAAAAAtQxzr4jYaPy1DHOviNho\\u002fAAAAAAAAAAAAAAAAAAAAAC1DHOviNho\\u002fLUMc6+I2Gj8AAAAAAAAAAAAAAAAAAAAALUMc6+I2Gj8tQxzr4jYaPwAAAAAAAAAALUMc6+I2Gj8tQxzr4jYaPwAAAAAAAAAAAAAAAAAAAAAAAAAAAAAAAAAAAAAAAAAAAAAAAAAAAAAtQxzr4jYaPy1DHOviNho\\u002fAAAAAAAAAAAAAAAAAAAAAAAAAAAAAAAAAAAAAAAAAAAAAAAAAAAAAAAAAAAAAAAALUMc6+I2Gj8tQxzr4jYaPwAAAAAAAAAAAAAAAAAAAAAAAAAAAAAAAAAAAAAAAAAAAAAAAAAAAAAAAAAAAAAAAAAAAAAAAAAAAAAAAAAAAAAAAAAAAAAAAAAAAAAAAAAAAAAAAAAAAAAAAAAAAAAAAAAAAAAAAAAALUMc6+I2Gj8tQxzr4jYaPwAAAAAAAAAAAAAAAAAAAAAAAAAAAAAAAAAAAAAAAAAAAAAAAAAAAAAAAAAAAAAAAAAAAAAAAAAAAAAAAAAAAAAAAAAAAAAAAAAAAAAAAAAAAAAAAAAAAAAAAAAAAAAAAAAAAAAAAAAAAAAAAAAAAAAAAAAAAAAAAAAAAAAAAAAAAAAAAAAAAAAAAAAAAAAAAAAAAAAAAAAAAAAAAAAAAAAAAAAAAAAAAAAAAAAAAAAAAAAAAAAAAAAAAAAAAAAAAAAAAAAAAAAAAAAAAAAAAAAAAAAAAAAAAAAAAAAAAAAAAAAAAAAAAAAAAAAAAAAAAAAAAAAAAAAAAAAAAAAAAAAAAAAAAAAAAAAAAAAAAAAAAAAAAAAAAAAAAAAAAAAAAAAAAAAAAAAAAAAAAAAAAAAAAAAAAAAAAAAAAAAAAAAAAAAAAAAAAAAAAAAAAAAAAAAAAAAAAAAAAAAAAAAAAAAAAAAAAAAAAAAAAAAAAAAAAAAAAAAAAAAAAAAAAAAAAAAAAAAAAAAAAAAAAAAAAAAAAAAAAAAAAAAAAAAAAAAAAAAAAAAAAAAAAAAAAAAAAAAAAAAAAAAAAAAAAAAAAAAAAAAAAAAAAAAAAAAAAAAAAAAAAAAAAAAAAAAAAAAAAAAAAAAAAAAAAAAAAAAAAAAAAAAAAAAAAAAAAAAAAAAAAAAAAAAAAAAAAAAAAAAAAAAAAAAAAAAAAAAAAAAAAAAAAAAAAAAAAAAAAAAAAAAAAAAAAAAAAAAAAAAAAAAAAAAAAAAAAAAAAAAAAAAAAAAAAAAAAAAAAAAAAAAAAAAAAAAAAAAAAAAAAAAAAAAAAAAAAAAAAAAAAAAAAAAAAAAAAAAAAAAAAAAAAAAAAAAAAAAAAAAAAAAAAAAAAAAAAAAAAAAAAAAAAAAAAAAAAAAAAAAAAAAAAAAAAAAAAAAAAAAAAAAAAAAAAAAAAAAAAAAAAAAAAAAAAAAAAAAAAAAAAAAAAAAAAAAAAAAAAAAAAAAAAAAAAAAAAAAAAAAAAAAAAAAAAAAAAAAAAAAAAAAAAAAAAAAAAAAAAAAAAAAAAAAAAAAAAAAAAAAAAAAAAAAAAAAAAAAAAAAAAAAAAAAAAAAAAAAAAAAAAAAAAAAAAAAAAAAAAAAAAAAAAAAAAAAAAAAAAAAAAAAAAAAAAAAAAAAAAAAAAAAAAAAAAAAAAAAAAAAAAAAAAAAAAAAAAAAAAAAAAAAAAAAAAAAAAAAAAAAAAAAAAAAAAAAAAAAAAAAAAAAAAAAAAAAAAAAAAAAAAAAAAAAAAAAAAAAAAAAAAAAAAAAAAAAAAAAAAAAAAAAAAAAAAAAAAAAAAAAAAAAAAAAAAAAAAAAAAAAAAAAAAAAAAAAAAAAAAAAAAAAAAAAAAAAAAAAAAAAAAAAAAAAAAAAAAAAAAAAAAAAAAAAAAAAAAAAAAAAAAAAAAAAAAAAAAAAAAAAAAAAAAAAAAAAAAAAAAAAAAAAAAAAAAAAAAAAAAAAAAAAAAAAAAAAAAAAAAAAAAAAAAAAAAAAAAAAAAAAAAAAAAAAAAAAAAAAAAAAAAAAAAAAAAAAAAAAAAAAAAAAAAAAAAAAAAAAAAAAAAAAAAAAAAAAAAAAAAAAAAAAAAAAAAA==\"},\"type\":\"scatter\"}],                        {\"template\":{\"data\":{\"histogram2dcontour\":[{\"type\":\"histogram2dcontour\",\"colorbar\":{\"outlinewidth\":0,\"ticks\":\"\"},\"colorscale\":[[0.0,\"#0d0887\"],[0.1111111111111111,\"#46039f\"],[0.2222222222222222,\"#7201a8\"],[0.3333333333333333,\"#9c179e\"],[0.4444444444444444,\"#bd3786\"],[0.5555555555555556,\"#d8576b\"],[0.6666666666666666,\"#ed7953\"],[0.7777777777777778,\"#fb9f3a\"],[0.8888888888888888,\"#fdca26\"],[1.0,\"#f0f921\"]]}],\"choropleth\":[{\"type\":\"choropleth\",\"colorbar\":{\"outlinewidth\":0,\"ticks\":\"\"}}],\"histogram2d\":[{\"type\":\"histogram2d\",\"colorbar\":{\"outlinewidth\":0,\"ticks\":\"\"},\"colorscale\":[[0.0,\"#0d0887\"],[0.1111111111111111,\"#46039f\"],[0.2222222222222222,\"#7201a8\"],[0.3333333333333333,\"#9c179e\"],[0.4444444444444444,\"#bd3786\"],[0.5555555555555556,\"#d8576b\"],[0.6666666666666666,\"#ed7953\"],[0.7777777777777778,\"#fb9f3a\"],[0.8888888888888888,\"#fdca26\"],[1.0,\"#f0f921\"]]}],\"heatmap\":[{\"type\":\"heatmap\",\"colorbar\":{\"outlinewidth\":0,\"ticks\":\"\"},\"colorscale\":[[0.0,\"#0d0887\"],[0.1111111111111111,\"#46039f\"],[0.2222222222222222,\"#7201a8\"],[0.3333333333333333,\"#9c179e\"],[0.4444444444444444,\"#bd3786\"],[0.5555555555555556,\"#d8576b\"],[0.6666666666666666,\"#ed7953\"],[0.7777777777777778,\"#fb9f3a\"],[0.8888888888888888,\"#fdca26\"],[1.0,\"#f0f921\"]]}],\"contourcarpet\":[{\"type\":\"contourcarpet\",\"colorbar\":{\"outlinewidth\":0,\"ticks\":\"\"}}],\"contour\":[{\"type\":\"contour\",\"colorbar\":{\"outlinewidth\":0,\"ticks\":\"\"},\"colorscale\":[[0.0,\"#0d0887\"],[0.1111111111111111,\"#46039f\"],[0.2222222222222222,\"#7201a8\"],[0.3333333333333333,\"#9c179e\"],[0.4444444444444444,\"#bd3786\"],[0.5555555555555556,\"#d8576b\"],[0.6666666666666666,\"#ed7953\"],[0.7777777777777778,\"#fb9f3a\"],[0.8888888888888888,\"#fdca26\"],[1.0,\"#f0f921\"]]}],\"surface\":[{\"type\":\"surface\",\"colorbar\":{\"outlinewidth\":0,\"ticks\":\"\"},\"colorscale\":[[0.0,\"#0d0887\"],[0.1111111111111111,\"#46039f\"],[0.2222222222222222,\"#7201a8\"],[0.3333333333333333,\"#9c179e\"],[0.4444444444444444,\"#bd3786\"],[0.5555555555555556,\"#d8576b\"],[0.6666666666666666,\"#ed7953\"],[0.7777777777777778,\"#fb9f3a\"],[0.8888888888888888,\"#fdca26\"],[1.0,\"#f0f921\"]]}],\"mesh3d\":[{\"type\":\"mesh3d\",\"colorbar\":{\"outlinewidth\":0,\"ticks\":\"\"}}],\"scatter\":[{\"fillpattern\":{\"fillmode\":\"overlay\",\"size\":10,\"solidity\":0.2},\"type\":\"scatter\"}],\"parcoords\":[{\"type\":\"parcoords\",\"line\":{\"colorbar\":{\"outlinewidth\":0,\"ticks\":\"\"}}}],\"scatterpolargl\":[{\"type\":\"scatterpolargl\",\"marker\":{\"colorbar\":{\"outlinewidth\":0,\"ticks\":\"\"}}}],\"bar\":[{\"error_x\":{\"color\":\"#2a3f5f\"},\"error_y\":{\"color\":\"#2a3f5f\"},\"marker\":{\"line\":{\"color\":\"#E5ECF6\",\"width\":0.5},\"pattern\":{\"fillmode\":\"overlay\",\"size\":10,\"solidity\":0.2}},\"type\":\"bar\"}],\"scattergeo\":[{\"type\":\"scattergeo\",\"marker\":{\"colorbar\":{\"outlinewidth\":0,\"ticks\":\"\"}}}],\"scatterpolar\":[{\"type\":\"scatterpolar\",\"marker\":{\"colorbar\":{\"outlinewidth\":0,\"ticks\":\"\"}}}],\"histogram\":[{\"marker\":{\"pattern\":{\"fillmode\":\"overlay\",\"size\":10,\"solidity\":0.2}},\"type\":\"histogram\"}],\"scattergl\":[{\"type\":\"scattergl\",\"marker\":{\"colorbar\":{\"outlinewidth\":0,\"ticks\":\"\"}}}],\"scatter3d\":[{\"type\":\"scatter3d\",\"line\":{\"colorbar\":{\"outlinewidth\":0,\"ticks\":\"\"}},\"marker\":{\"colorbar\":{\"outlinewidth\":0,\"ticks\":\"\"}}}],\"scattermap\":[{\"type\":\"scattermap\",\"marker\":{\"colorbar\":{\"outlinewidth\":0,\"ticks\":\"\"}}}],\"scattermapbox\":[{\"type\":\"scattermapbox\",\"marker\":{\"colorbar\":{\"outlinewidth\":0,\"ticks\":\"\"}}}],\"scatterternary\":[{\"type\":\"scatterternary\",\"marker\":{\"colorbar\":{\"outlinewidth\":0,\"ticks\":\"\"}}}],\"scattercarpet\":[{\"type\":\"scattercarpet\",\"marker\":{\"colorbar\":{\"outlinewidth\":0,\"ticks\":\"\"}}}],\"carpet\":[{\"aaxis\":{\"endlinecolor\":\"#2a3f5f\",\"gridcolor\":\"white\",\"linecolor\":\"white\",\"minorgridcolor\":\"white\",\"startlinecolor\":\"#2a3f5f\"},\"baxis\":{\"endlinecolor\":\"#2a3f5f\",\"gridcolor\":\"white\",\"linecolor\":\"white\",\"minorgridcolor\":\"white\",\"startlinecolor\":\"#2a3f5f\"},\"type\":\"carpet\"}],\"table\":[{\"cells\":{\"fill\":{\"color\":\"#EBF0F8\"},\"line\":{\"color\":\"white\"}},\"header\":{\"fill\":{\"color\":\"#C8D4E3\"},\"line\":{\"color\":\"white\"}},\"type\":\"table\"}],\"barpolar\":[{\"marker\":{\"line\":{\"color\":\"#E5ECF6\",\"width\":0.5},\"pattern\":{\"fillmode\":\"overlay\",\"size\":10,\"solidity\":0.2}},\"type\":\"barpolar\"}],\"pie\":[{\"automargin\":true,\"type\":\"pie\"}]},\"layout\":{\"autotypenumbers\":\"strict\",\"colorway\":[\"#636efa\",\"#EF553B\",\"#00cc96\",\"#ab63fa\",\"#FFA15A\",\"#19d3f3\",\"#FF6692\",\"#B6E880\",\"#FF97FF\",\"#FECB52\"],\"font\":{\"color\":\"#2a3f5f\"},\"hovermode\":\"closest\",\"hoverlabel\":{\"align\":\"left\"},\"paper_bgcolor\":\"white\",\"plot_bgcolor\":\"#E5ECF6\",\"polar\":{\"bgcolor\":\"#E5ECF6\",\"angularaxis\":{\"gridcolor\":\"white\",\"linecolor\":\"white\",\"ticks\":\"\"},\"radialaxis\":{\"gridcolor\":\"white\",\"linecolor\":\"white\",\"ticks\":\"\"}},\"ternary\":{\"bgcolor\":\"#E5ECF6\",\"aaxis\":{\"gridcolor\":\"white\",\"linecolor\":\"white\",\"ticks\":\"\"},\"baxis\":{\"gridcolor\":\"white\",\"linecolor\":\"white\",\"ticks\":\"\"},\"caxis\":{\"gridcolor\":\"white\",\"linecolor\":\"white\",\"ticks\":\"\"}},\"coloraxis\":{\"colorbar\":{\"outlinewidth\":0,\"ticks\":\"\"}},\"colorscale\":{\"sequential\":[[0.0,\"#0d0887\"],[0.1111111111111111,\"#46039f\"],[0.2222222222222222,\"#7201a8\"],[0.3333333333333333,\"#9c179e\"],[0.4444444444444444,\"#bd3786\"],[0.5555555555555556,\"#d8576b\"],[0.6666666666666666,\"#ed7953\"],[0.7777777777777778,\"#fb9f3a\"],[0.8888888888888888,\"#fdca26\"],[1.0,\"#f0f921\"]],\"sequentialminus\":[[0.0,\"#0d0887\"],[0.1111111111111111,\"#46039f\"],[0.2222222222222222,\"#7201a8\"],[0.3333333333333333,\"#9c179e\"],[0.4444444444444444,\"#bd3786\"],[0.5555555555555556,\"#d8576b\"],[0.6666666666666666,\"#ed7953\"],[0.7777777777777778,\"#fb9f3a\"],[0.8888888888888888,\"#fdca26\"],[1.0,\"#f0f921\"]],\"diverging\":[[0,\"#8e0152\"],[0.1,\"#c51b7d\"],[0.2,\"#de77ae\"],[0.3,\"#f1b6da\"],[0.4,\"#fde0ef\"],[0.5,\"#f7f7f7\"],[0.6,\"#e6f5d0\"],[0.7,\"#b8e186\"],[0.8,\"#7fbc41\"],[0.9,\"#4d9221\"],[1,\"#276419\"]]},\"xaxis\":{\"gridcolor\":\"white\",\"linecolor\":\"white\",\"ticks\":\"\",\"title\":{\"standoff\":15},\"zerolinecolor\":\"white\",\"automargin\":true,\"zerolinewidth\":2},\"yaxis\":{\"gridcolor\":\"white\",\"linecolor\":\"white\",\"ticks\":\"\",\"title\":{\"standoff\":15},\"zerolinecolor\":\"white\",\"automargin\":true,\"zerolinewidth\":2},\"scene\":{\"xaxis\":{\"backgroundcolor\":\"#E5ECF6\",\"gridcolor\":\"white\",\"linecolor\":\"white\",\"showbackground\":true,\"ticks\":\"\",\"zerolinecolor\":\"white\",\"gridwidth\":2},\"yaxis\":{\"backgroundcolor\":\"#E5ECF6\",\"gridcolor\":\"white\",\"linecolor\":\"white\",\"showbackground\":true,\"ticks\":\"\",\"zerolinecolor\":\"white\",\"gridwidth\":2},\"zaxis\":{\"backgroundcolor\":\"#E5ECF6\",\"gridcolor\":\"white\",\"linecolor\":\"white\",\"showbackground\":true,\"ticks\":\"\",\"zerolinecolor\":\"white\",\"gridwidth\":2}},\"shapedefaults\":{\"line\":{\"color\":\"#2a3f5f\"}},\"annotationdefaults\":{\"arrowcolor\":\"#2a3f5f\",\"arrowhead\":0,\"arrowwidth\":1},\"geo\":{\"bgcolor\":\"white\",\"landcolor\":\"#E5ECF6\",\"subunitcolor\":\"white\",\"showland\":true,\"showlakes\":true,\"lakecolor\":\"white\"},\"title\":{\"x\":0.05},\"mapbox\":{\"style\":\"light\"}}},\"title\":{\"text\":\"Effect of early testing and isolation on SEIR model\",\"x\":0.5,\"xanchor\":\"center\"},\"xaxis\":{\"title\":{\"text\":\"Day\"}},\"yaxis\":{\"title\":{\"text\":\"Proportion of population\"}}},                        {\"responsive\": true}                    ).then(function(){\n",
              "                            \n",
              "var gd = document.getElementById('577db4a3-6323-442f-982f-a67b317446b3');\n",
              "var x = new MutationObserver(function (mutations, observer) {{\n",
              "        var display = window.getComputedStyle(gd).display;\n",
              "        if (!display || display === 'none') {{\n",
              "            console.log([gd, 'removed!']);\n",
              "            Plotly.purge(gd);\n",
              "            observer.disconnect();\n",
              "        }}\n",
              "}});\n",
              "\n",
              "// Listen for the removal of the full notebook cells\n",
              "var notebookContainer = gd.closest('#notebook-container');\n",
              "if (notebookContainer) {{\n",
              "    x.observe(notebookContainer, {childList: true});\n",
              "}}\n",
              "\n",
              "// Listen for the clearing of the current output cell\n",
              "var outputEl = gd.closest('.output');\n",
              "if (outputEl) {{\n",
              "    x.observe(outputEl, {childList: true});\n",
              "}}\n",
              "\n",
              "                        })                };            </script>        </div>"
            ]
          },
          "metadata": {},
          "output_type": "display_data"
        }
      ],
      "source": [
        "#| code-fold: true\n",
        "\n",
        "fig = go.Figure(data=[    \n",
        "    go.Scatter(name='I_no_isolation', x=np.arange(len(results_stoch0[0])), y=results_stoch0[2]/p),\n",
        "    go.Scatter(name='I_iso10', x=np.arange(len(results_stoch1[0])), y=results_stoch1[2]/p),\n",
        "    go.Scatter(name='I_iso7', x=np.arange(len(results_stoch2[0])), y=results_stoch2[2]/p),\n",
        "    go.Scatter(name='I_iso5', x=np.arange(len(results_stoch3[0])), y=results_stoch3[2]/p),\n",
        "    go.Scatter(name='I_iso2', x=np.arange(len(results_stoch4[0])), y=results_stoch4[2]/p),\n",
        "])\n",
        "\n",
        "fig.update_layout(\n",
        "    xaxis_title = 'Day',\n",
        "    yaxis_title = 'Proportion of population',\n",
        "    title={\n",
        "        'text':'Effect of early testing and isolation on SEIR model',\n",
        "        'x':0.5,\n",
        "        'xanchor':'center'\n",
        "    }\n",
        ")\n",
        "\n",
        "fig.show()"
      ]
    },
    {
      "attachments": {},
      "cell_type": "markdown",
      "metadata": {
        "colab_type": "text",
        "id": "FOSxANOJFCZs"
      },
      "source": [
        "Clearly, early testing and isolation of cases reduces transmission and this the peak of infectious individuals. The faster we do this the better.\n",
        "\n",
        "If we catch infectious individuals early enough, we can completely control the epidemic (see I_iso_2 above)."
      ]
    },
    {
      "attachments": {},
      "cell_type": "markdown",
      "metadata": {
        "colab_type": "text",
        "id": "YAIma1E4S9cw"
      },
      "source": [
        "## Discussion"
      ]
    },
    {
      "attachments": {},
      "cell_type": "markdown",
      "metadata": {
        "colab_type": "text",
        "id": "eKjo0FCFS9Sj"
      },
      "source": [
        "This was a quick introduction to the basics of control measures and their impact on the SEIR model.\n",
        "\n",
        "While there are many different possible approaches, the accumulation of the different solutions is the way to achieve control over an epidemic."
      ]
    },
    {
      "attachments": {},
      "cell_type": "markdown",
      "metadata": {
        "colab_type": "text",
        "id": "83NBuwy-TC8N"
      },
      "source": [
        "Maybe I will make an interactive app to see the effect of each effect."
      ]
    }
  ],
  "metadata": {
    "colab": {
      "authorship_tag": "ABX9TyPp4uIR6JH430cFW5ufdB59",
      "include_colab_link": true,
      "name": "2020-04-02-control-measures.ipynb",
      "provenance": []
    },
    "kernelspec": {
      "display_name": "Python 3 (ipykernel)",
      "language": "python",
      "name": "python3"
    },
    "language_info": {
      "codemirror_mode": {
        "name": "ipython",
        "version": 3
      },
      "file_extension": ".py",
      "mimetype": "text/x-python",
      "name": "python",
      "nbconvert_exporter": "python",
      "pygments_lexer": "ipython3",
      "version": "3.9.17"
    }
  },
  "nbformat": 4,
  "nbformat_minor": 0
}
