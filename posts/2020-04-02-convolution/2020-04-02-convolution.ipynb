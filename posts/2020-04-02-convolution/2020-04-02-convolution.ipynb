{
  "cells": [
    {
      "attachments": {},
      "cell_type": "markdown",
      "metadata": {
        "colab_type": "text",
        "id": "wHHObIt0qxfp"
      },
      "source": [
        "---\n",
        "title: \"Epidemic modeling - Part 7\"\n",
        "date: \"2020-04-02\"\n",
        "description: \"Convolution, deconvolution, and daily data\"\n",
        "categories: [modeling, SEIR, epidemiology, stochastic, COVID-19]\n",
        "image: \"../images/kalman_filter.png\"\n",
        "---"
      ]
    },
    {
      "attachments": {},
      "cell_type": "markdown",
      "metadata": {
        "colab_type": "text",
        "id": "AbrUxmQuq-S9"
      },
      "source": [
        "![](../my_icons/kalman_filter.jpg \"https://fr.mathworks.com/videos/understanding-kalman-filters-part-3-optimal-state-estimator--1490710645421.html\")"
      ]
    },
    {
      "cell_type": "code",
      "execution_count": 32,
      "metadata": {
        "colab": {
          "base_uri": "https://localhost:8080/",
          "height": 180
        },
        "colab_type": "code",
        "id": "j2BZt4QZaznJ",
        "outputId": "563f3343-0fad-4458-f487-eee3d488f648"
      },
      "outputs": [],
      "source": [
        "#| code-fold: true\n",
        "\n",
        "import pandas as pd\n",
        "import numpy as np\n",
        "\n",
        "import math\n",
        "\n",
        "from scipy import signal\n",
        "\n",
        "import plotly.graph_objects as go\n",
        "import plotly.express as px\n",
        "\n",
        "from scipy.stats import expon\n",
        "from scipy.stats import gamma\n",
        "from scipy.stats import weibull_min\n",
        "\n",
        "from numpy.random import default_rng\n",
        "rng = default_rng()\n",
        "\n",
        "# Let's build a numerical solution\n",
        "def seir_model(init, parms, days):\n",
        "    S_0, E_0, I_0, R_0 = init\n",
        "    Epd, Ipd, Rpd = [0], [0], [0]\n",
        "    S, E, I, R = [S_0], [E_0], [I_0], [R_0]\n",
        "    dt=0.1\n",
        "    t = np.linspace(0,days,int(days/dt))\n",
        "    sigma, beta, gam = parms\n",
        "    for _ in t[1:]:\n",
        "        next_S = S[-1] - beta*S[-1]*I[-1]*dt\n",
        "        Epd.append(beta*S[-1]*I[-1]*dt)\n",
        "        next_E = E[-1] + (beta*S[-1]*I[-1] - sigma*E[-1])*dt\n",
        "        Ipd.append(sigma*E[-1]*dt)\n",
        "        next_I = I[-1] + (sigma*E[-1] - gam*I[-1])*dt\n",
        "        Rpd.append(gam*I[-1]*dt)\n",
        "        next_R = R[-1] + (gam*I[-1])*dt\n",
        "        S.append(next_S)\n",
        "        E.append(next_E)\n",
        "        I.append(next_I)\n",
        "        R.append(next_R)\n",
        "    return np.stack([S, E, I, R, Epd, Ipd, Rpd]).T"
      ]
    },
    {
      "cell_type": "code",
      "execution_count": 33,
      "metadata": {
        "colab": {},
        "colab_type": "code",
        "id": "OyOhPj4MbxWw"
      },
      "outputs": [],
      "source": [
        "#| code-fold: true\n",
        "\n",
        "# Need this new function for model below:\n",
        "def make_df(p,num_E, num_I, num_R):\n",
        "  df = pd.DataFrame(np.full((p,1), 'S').T[0], columns=['State'])\n",
        "  df['Day'] = 0\n",
        "  tochange=df.loc[rng.choice(p, size=num_E+num_I+num_R, replace=False),'State'].index\n",
        "  df.loc[tochange[0:num_E],'State'] = 'E'\n",
        "  df.loc[tochange[num_E:num_I+num_E],'State'] = 'I'\n",
        "  df.loc[tochange[num_E+num_I:num_E+num_I+num_R],'State'] = 'R'\n",
        "  return df"
      ]
    },
    {
      "cell_type": "code",
      "execution_count": 34,
      "metadata": {
        "colab": {},
        "colab_type": "code",
        "id": "9lcgRxQTb0Gg"
      },
      "outputs": [],
      "source": [
        "#| code-fold: true\n",
        "\n",
        "def seir_model_stoch(beta, p, num_E, num_I, num_R, days):\n",
        "\n",
        "    # Initialize population dataframe with data given by user\n",
        "    df = make_df(p,num_E, num_I, num_R)\n",
        "    \n",
        "    # This variable is used to track daily value of beta if it varies over time\n",
        "    xxbeta=np.array([],dtype=float)\n",
        "\n",
        "    # Initialize the arrays to return\n",
        "    # Below are numbers of S, E, I, R total\n",
        "    S=np.array([],dtype=int)\n",
        "    E=np.array([],dtype=int)\n",
        "    I=np.array([],dtype=int)\n",
        "    R=np.array([],dtype=int)\n",
        "    # Below are the daily additions in S, E, I, R\n",
        "    Spd=np.array([],dtype=int)\n",
        "    Epd=np.array([],dtype=int)\n",
        "    Ipd=np.array([],dtype=int)\n",
        "    Rpd=np.array([],dtype=int)\n",
        "\n",
        "    b=beta\n",
        "    \n",
        "    # Stochastic model so use random values to decide on progression\n",
        "    rand = np.random.random(size=(p,days))\n",
        "\n",
        "    # Depending if you want exponential or gamma distribution for T_Latent\n",
        "    EtoI = gamma.rvs(1.8,loc=0.9,scale=(5.2-1.8)/0.9,size=p)\n",
        "\n",
        "    # Depending if you want exponential, gamma, or Weibull distribution for T_Infectious\n",
        "    # Uses distributions found on blog part 3\n",
        "    ItoR = weibull_min.rvs(2.3, loc=2, scale=20.11, size=p)\n",
        "\n",
        "    # Iterate over every day the simulation is run\n",
        "    for j in range(0,days-1):\n",
        "\n",
        "        # Record daily beta values\n",
        "        xxbeta=np.append(beta, b)\n",
        "\n",
        "        # First we get the index of the individuals that will change state today:\n",
        "\n",
        "        # Random number tells you which 'S' have been exposed on this day \n",
        "        StoE_index = df.loc[(df.State == 'S') & (rand[:,j] < b[j]*len(np.where(df.State=='I')[0])/p)].index\n",
        "\n",
        "        # For each row, if a person has been a certain number of days in E, they will go to I\n",
        "        # This follows EtoI variable which is either exponential or gamma distributed according to above\n",
        "        EtoI_index = df.loc[(df.State == 'E') & (j-df.Day >= EtoI)].index\n",
        "        \n",
        "        # Similaraly as above\n",
        "        # For each row, if a person has been a certain number of days in I, they will go to R\n",
        "        # This follows EtoI variable which is either exponential or gamma distributed according to above\n",
        "        ItoR_index = df.loc[(df.State == 'I') & (j-df.Day >= ItoR)].index\n",
        "\n",
        "        # Use indexes collected above to populate per day values\n",
        "        Epd = np.append(Epd,len(StoE_index))\n",
        "        Ipd = np.append(Ipd,len(EtoI_index))\n",
        "        Rpd = np.append(Rpd,len(ItoR_index))\n",
        "\n",
        "        # Now we use the indexes collected above randomly to change the actual population dataframe to the new states\n",
        "        df.loc[ItoR_index, 'State'] = 'R'\n",
        "        df.loc[EtoI_index, 'State'] = 'I'\n",
        "        df.loc[StoE_index, 'State'] = 'E'\n",
        "        df.loc[ItoR_index, 'Day'] = j\n",
        "        df.loc[EtoI_index, 'Day'] = j\n",
        "        df.loc[StoE_index, 'Day'] = j\n",
        "        df.loc[ItoR_index, 'DayR'] = j\n",
        "        df.loc[EtoI_index, 'DayI'] = j\n",
        "        df.loc[StoE_index, 'DayE'] = j\n",
        "        \n",
        "        # Append the S, E, I, and R arrays\n",
        "        S=np.append(S,len(np.where(df.State=='S')[0]))\n",
        "        E=np.append(E,len(np.where(df.State=='E')[0]))\n",
        "        I=np.append(I,len(np.where(df.State=='I')[0]))\n",
        "        R=np.append(R,len(np.where(df.State=='R')[0]))\n",
        "\n",
        "        # Code below for control measures to reduce beta values\n",
        "#        if ((I[-1] > 1000) & (Ipd[-1] > 399)): \n",
        "#            b = beta2\n",
        "#        elif ((I[-1] > 1000) & (Ipd[-1] < 400)): \n",
        "#            b = beta3\n",
        "                \n",
        "    Epd[0]+=num_E\n",
        "    Ipd[0]+=num_I\n",
        "    Rpd[0]+=num_R\n",
        "\n",
        "    return S,E,I,R, Epd, Ipd, Rpd, xxbeta, df"
      ]
    },
    {
      "attachments": {},
      "cell_type": "markdown",
      "metadata": {
        "colab_type": "text",
        "id": "BPKgWnCvBk9p"
      },
      "source": [
        "## Motivation for write-up"
      ]
    },
    {
      "attachments": {},
      "cell_type": "markdown",
      "metadata": {
        "colab_type": "text",
        "id": "QxlznadEpqsF"
      },
      "source": [
        "This is the 7th part of a multi-part series blog post on modeling in epidemiology.\n",
        "\n",
        "The goal of this 7th installment is to expand on the notions seen in part 5. \n",
        "\n",
        "Most notably, the idea is to expand on the notion of convolution and deconvolution and to see how it can be useful to describe an epidemic."
      ]
    },
    {
      "attachments": {},
      "cell_type": "markdown",
      "metadata": {
        "colab_type": "text",
        "id": "Gzkik6L_Zax_"
      },
      "source": [
        "## Available data"
      ]
    },
    {
      "attachments": {},
      "cell_type": "markdown",
      "metadata": {
        "colab_type": "text",
        "id": "XbGh2QyEZdDB"
      },
      "source": [
        "If you look at the the COVID-19 trackers around the web, or even [mine](https://sars-cov-2-world-tracker.herokuapp.com/), you can get a sense of what data is available for study.\n",
        "\n",
        "Generally speaking we have the following:\n",
        "* Total number of positive individuals\n",
        "* Daily number of newly diagnosed individuals\n",
        "* Daily number of recovered individuals\n",
        "* Daily number of deaths\n",
        "\n",
        "Research has also shown some vague numbers on both $T_{Latent}$ and $T_{Infectious}$.\n",
        "\n",
        "**About the data:**\n",
        "\n",
        "* We don't have data for exposure - how can we get it using deconvolution ??\n",
        "* The data for some regions can be very sparse"
      ]
    },
    {
      "attachments": {},
      "cell_type": "markdown",
      "metadata": {
        "colab_type": "text",
        "id": "IboOLqTR0s8y"
      },
      "source": [
        "## Convolution"
      ]
    },
    {
      "attachments": {},
      "cell_type": "markdown",
      "metadata": {
        "colab_type": "text",
        "id": "T8N3qLjscMG2"
      },
      "source": [
        "### Convolution to get $I_{pd}$\n",
        "\n",
        "We have seen that daily new infectious individuals is given by:\n",
        "\n",
        "$$I_{pd}[j] = \\sum_{n_L=0}^{M_L-1}h_L[n_L]~E_{pd}[j-n_L]= h_L[j]\\circledast E_{pd}[j]$$\n",
        "\n",
        "Where $h_L[j]$ describes the distribution of $T_{Latent}$."
      ]
    },
    {
      "attachments": {},
      "cell_type": "markdown",
      "metadata": {
        "colab_type": "text",
        "id": "iyspnE7zc2B0"
      },
      "source": [
        "### Convolution to get $R_{pd}$\n",
        "\n",
        "Similarly, we have seen that daily new recovered individuals (deaths + recoveries in fact) is given by:\n",
        "\n",
        "$$R_{pd}[j] = \\sum_{n_I=0}^{M_I-1}h_I[n_I]~I_{pd}[j-n_I]= h_I[j]\\circledast I_{pd}[j]$$\n",
        "\n",
        "Where $h_I[j]$ describes the distribution of $T_{Infectious}$. "
      ]
    },
    {
      "attachments": {},
      "cell_type": "markdown",
      "metadata": {
        "colab_type": "text",
        "id": "OAyJa0j0efUg"
      },
      "source": [
        "## Finding $h_L[j]$ and $h_I[j]$"
      ]
    },
    {
      "attachments": {},
      "cell_type": "markdown",
      "metadata": {
        "colab_type": "text",
        "id": "Wf1_bnX_em4e"
      },
      "source": [
        "* $h_L[j]$ is simply the probability of an individual having a latent period of j days\n",
        "* $h_I[j]$ is similarly the probability of an individual having an infectious period of j days  "
      ]
    },
    {
      "cell_type": "code",
      "execution_count": 35,
      "metadata": {
        "colab": {},
        "colab_type": "code",
        "id": "fO0E1kDQfEBV"
      },
      "outputs": [],
      "source": [
        "#| code-fold: true\n",
        "\n",
        "days = np.arange(100)\n",
        "cdf = pd.DataFrame({\n",
        "    'T_Latent': gamma.cdf(days, 1.8,loc=0.9,scale=(5.2-1.8)/0.9), \n",
        "    'T_Infectious': weibull_min.cdf(days, 2.3,loc=2,scale=20.11)\n",
        "    })\n",
        "h_L = cdf.diff().T_Latent\n",
        "h_I = cdf.diff().T_Infectious\n",
        "h_L[0] = 0\n",
        "h_I[0] = 0"
      ]
    },
    {
      "attachments": {},
      "cell_type": "markdown",
      "metadata": {
        "colab_type": "text",
        "id": "tKZGUL9MdIn8"
      },
      "source": [
        "## Convolution in practice"
      ]
    },
    {
      "attachments": {},
      "cell_type": "markdown",
      "metadata": {
        "colab_type": "text",
        "id": "pPRq5juvp_qr"
      },
      "source": [
        "### Comparing $I_{pd}$ from the model to $I_{pd}$ obtained by convolving $R_{pd}$"
      ]
    },
    {
      "attachments": {},
      "cell_type": "markdown",
      "metadata": {
        "colab_type": "text",
        "id": "rNeyU1jDh_IN"
      },
      "source": [
        "First run the SEIR model to obtain the actual $I_{pd}$:"
      ]
    },
    {
      "cell_type": "code",
      "execution_count": 36,
      "metadata": {
        "colab": {},
        "colab_type": "code",
        "id": "955FQjYUcLe_"
      },
      "outputs": [],
      "source": [
        "#| code-fold: true\n",
        "\n",
        "# Define parameters for stochastic model\n",
        "days = 300\n",
        "p = 10000\n",
        "num_E = 1\n",
        "num_I = 0\n",
        "num_R = 0\n",
        "beta_stoch = 0.5*np.ones(days)\n",
        "\n",
        "# Run 2 stochastic simulations\n",
        "results_stoch0 = seir_model_stoch(beta_stoch, p, num_E, num_I, num_R, days)"
      ]
    },
    {
      "attachments": {},
      "cell_type": "markdown",
      "metadata": {
        "colab_type": "text",
        "id": "7OTYey__iFxp"
      },
      "source": [
        "Now obtain $h_L[j]\\circledast E_{pd}[j]$:"
      ]
    },
    {
      "cell_type": "code",
      "execution_count": 38,
      "metadata": {
        "colab": {},
        "colab_type": "code",
        "id": "ibr7s53HwUSQ"
      },
      "outputs": [],
      "source": [
        "#| code-fold: true\n",
        "\n",
        "Ipd=signal.fftconvolve(h_L, results_stoch0[4], mode='full')"
      ]
    },
    {
      "cell_type": "code",
      "execution_count": 39,
      "metadata": {
        "colab": {
          "base_uri": "https://localhost:8080/",
          "height": 542
        },
        "colab_type": "code",
        "id": "mrdTlZrrcLVB",
        "outputId": "4d3b9e7c-32a3-43a2-dca3-590e770d9fcc"
      },
      "outputs": [
        {
          "data": {
            "application/vnd.plotly.v1+json": {
              "config": {
                "plotlyServerURL": "https://plot.ly"
              },
              "data": [
                {
                  "name": "Ipd_Actual",
                  "type": "scatter",
                  "x": {
                    "bdata": "AAABAAIAAwAEAAUABgAHAAgACQAKAAsADAANAA4ADwAQABEAEgATABQAFQAWABcAGAAZABoAGwAcAB0AHgAfACAAIQAiACMAJAAlACYAJwAoACkAKgArACwALQAuAC8AMAAxADIAMwA0ADUANgA3ADgAOQA6ADsAPAA9AD4APwBAAEEAQgBDAEQARQBGAEcASABJAEoASwBMAE0ATgBPAFAAUQBSAFMAVABVAFYAVwBYAFkAWgBbAFwAXQBeAF8AYABhAGIAYwBkAGUAZgBnAGgAaQBqAGsAbABtAG4AbwBwAHEAcgBzAHQAdQB2AHcAeAB5AHoAewB8AH0AfgB/AIAAgQCCAIMAhACFAIYAhwCIAIkAigCLAIwAjQCOAI8AkACRAJIAkwCUAJUAlgCXAJgAmQCaAJsAnACdAJ4AnwCgAKEAogCjAKQApQCmAKcAqACpAKoAqwCsAK0ArgCvALAAsQCyALMAtAC1ALYAtwC4ALkAugC7ALwAvQC+AL8AwADBAMIAwwDEAMUAxgDHAMgAyQDKAMsAzADNAM4AzwDQANEA0gDTANQA1QDWANcA2ADZANoA2wDcAN0A3gDfAOAA4QDiAOMA5ADlAOYA5wDoAOkA6gDrAOwA7QDuAO8A8ADxAPIA8wD0APUA9gD3APgA+QD6APsA/AD9AP4A/wAAAQEBAgEDAQQBBQEGAQcBCAEJAQoBCwEMAQ0BDgEPARABEQESARMBFAEVARYBFwEYARkBGgEbARwBHQEeAR8BIAEhASIBIwEkASUBJgEnASgBKQEqAQ==",
                    "dtype": "i2"
                  },
                  "y": {
                    "bdata": "AAAAAAAAAAAAAAAAAAABAAAAAAAAAAAAAAAAAAAAAAABAAAAAQAAAAIAAQABAAAAAQABAAMAAgAAAAIABQAHAAQACAAIAAcAAwAMAAcADwATAAwADwAUABAAKAAjACQAOAAyADkAQABiAFMAcAByAIMAlQCuALUA9QD5APoADgFOAWgBWQGJAbEBtwGqAa0BqwGUAZkBggFjAUEBGAEFAe0A1gCkAHoAlABWAGAASwA2AC4AJwAaACEAEwAKAAgADQAJAAgABQAFAAMABAAAAAAAAAACAAEAAAAAAAEAAQABAAAAAAAAAAAAAAAAAAAAAAAAAAAAAAAAAAAAAAAAAAAAAAAAAAAAAAAAAAAAAAAAAAAAAAAAAAAAAAAAAAAAAAAAAAAAAAAAAAAAAAAAAAAAAAAAAAAAAAAAAAAAAAAAAAAAAAAAAAAAAAAAAAAAAAAAAAAAAAAAAAAAAAAAAAAAAAAAAAAAAAAAAAAAAAAAAAAAAAAAAAAAAAAAAAAAAAAAAAAAAAAAAAAAAAAAAAAAAAAAAAAAAAAAAAAAAAAAAAAAAAAAAAAAAAAAAAAAAAAAAAAAAAAAAAAAAAAAAAAAAAAAAAAAAAAAAAAAAAAAAAAAAAAAAAAAAAAAAAAAAAAAAAAAAAAAAAAAAAAAAAAAAAAAAAAAAAAAAAAAAAAAAAAAAAAAAAAAAAAAAAAAAAAAAAAAAAAAAAAAAAAAAAAAAAAAAAAAAAAAAAAAAAAAAAAAAAAAAAAAAAAAAAAAAAAAAAAAAAAAAAAAAAAAAAAAAAAAAA==",
                    "dtype": "i2"
                  }
                },
                {
                  "name": "Ipd_convolved",
                  "type": "scatter",
                  "x": {
                    "bdata": "AAABAAIAAwAEAAUABgAHAAgACQAKAAsADAANAA4ADwAQABEAEgATABQAFQAWABcAGAAZABoAGwAcAB0AHgAfACAAIQAiACMAJAAlACYAJwAoACkAKgArACwALQAuAC8AMAAxADIAMwA0ADUANgA3ADgAOQA6ADsAPAA9AD4APwBAAEEAQgBDAEQARQBGAEcASABJAEoASwBMAE0ATgBPAFAAUQBSAFMAVABVAFYAVwBYAFkAWgBbAFwAXQBeAF8AYABhAGIAYwBkAGUAZgBnAGgAaQBqAGsAbABtAG4AbwBwAHEAcgBzAHQAdQB2AHcAeAB5AHoAewB8AH0AfgB/AIAAgQCCAIMAhACFAIYAhwCIAIkAigCLAIwAjQCOAI8AkACRAJIAkwCUAJUAlgCXAJgAmQCaAJsAnACdAJ4AnwCgAKEAogCjAKQApQCmAKcAqACpAKoAqwCsAK0ArgCvALAAsQCyALMAtAC1ALYAtwC4ALkAugC7ALwAvQC+AL8AwADBAMIAwwDEAMUAxgDHAMgAyQDKAMsAzADNAM4AzwDQANEA0gDTANQA1QDWANcA2ADZANoA2wDcAN0A3gDfAOAA4QDiAOMA5ADlAOYA5wDoAOkA6gDrAOwA7QDuAO8A8ADxAPIA8wD0APUA9gD3APgA+QD6APsA/AD9AP4A/wAAAQEBAgEDAQQBBQEGAQcBCAEJAQoBCwEMAQ0BDgEPARABEQESARMBFAEVARYBFwEYARkBGgEbARwBHQEeAR8BIAEhASIBIwEkASUBJgEnASgBKQEqASsBLAEtAS4BLwEwATEBMgEzATQBNQE2ATcBOAE5AToBOwE8AT0BPgE/AUABQQFCAUMBRAFFAUYBRwFIAUkBSgFLAUwBTQFOAU8BUAFRAVIBUwFUAVUBVgFXAVgBWQFaAVsBXAFdAV4BXwFgAWEBYgFjAWQBZQFmAWcBaAFpAWoBawFsAW0BbgFvAXABcQFyAXMBdAF1AXYBdwF4AXkBegF7AXwBfQF+AX8BgAGBAYIBgwGEAYUBhgGHAYgBiQGKAYsBjAGNAQ==",
                    "dtype": "i2"
                  },
                  "y": {
                    "bdata": "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",
                    "dtype": "f8"
                  }
                }
              ],
              "layout": {
                "template": {
                  "data": {
                    "bar": [
                      {
                        "error_x": {
                          "color": "#2a3f5f"
                        },
                        "error_y": {
                          "color": "#2a3f5f"
                        },
                        "marker": {
                          "line": {
                            "color": "#E5ECF6",
                            "width": 0.5
                          },
                          "pattern": {
                            "fillmode": "overlay",
                            "size": 10,
                            "solidity": 0.2
                          }
                        },
                        "type": "bar"
                      }
                    ],
                    "barpolar": [
                      {
                        "marker": {
                          "line": {
                            "color": "#E5ECF6",
                            "width": 0.5
                          },
                          "pattern": {
                            "fillmode": "overlay",
                            "size": 10,
                            "solidity": 0.2
                          }
                        },
                        "type": "barpolar"
                      }
                    ],
                    "carpet": [
                      {
                        "aaxis": {
                          "endlinecolor": "#2a3f5f",
                          "gridcolor": "white",
                          "linecolor": "white",
                          "minorgridcolor": "white",
                          "startlinecolor": "#2a3f5f"
                        },
                        "baxis": {
                          "endlinecolor": "#2a3f5f",
                          "gridcolor": "white",
                          "linecolor": "white",
                          "minorgridcolor": "white",
                          "startlinecolor": "#2a3f5f"
                        },
                        "type": "carpet"
                      }
                    ],
                    "choropleth": [
                      {
                        "colorbar": {
                          "outlinewidth": 0,
                          "ticks": ""
                        },
                        "type": "choropleth"
                      }
                    ],
                    "contour": [
                      {
                        "colorbar": {
                          "outlinewidth": 0,
                          "ticks": ""
                        },
                        "colorscale": [
                          [
                            0,
                            "#0d0887"
                          ],
                          [
                            0.1111111111111111,
                            "#46039f"
                          ],
                          [
                            0.2222222222222222,
                            "#7201a8"
                          ],
                          [
                            0.3333333333333333,
                            "#9c179e"
                          ],
                          [
                            0.4444444444444444,
                            "#bd3786"
                          ],
                          [
                            0.5555555555555556,
                            "#d8576b"
                          ],
                          [
                            0.6666666666666666,
                            "#ed7953"
                          ],
                          [
                            0.7777777777777778,
                            "#fb9f3a"
                          ],
                          [
                            0.8888888888888888,
                            "#fdca26"
                          ],
                          [
                            1,
                            "#f0f921"
                          ]
                        ],
                        "type": "contour"
                      }
                    ],
                    "contourcarpet": [
                      {
                        "colorbar": {
                          "outlinewidth": 0,
                          "ticks": ""
                        },
                        "type": "contourcarpet"
                      }
                    ],
                    "heatmap": [
                      {
                        "colorbar": {
                          "outlinewidth": 0,
                          "ticks": ""
                        },
                        "colorscale": [
                          [
                            0,
                            "#0d0887"
                          ],
                          [
                            0.1111111111111111,
                            "#46039f"
                          ],
                          [
                            0.2222222222222222,
                            "#7201a8"
                          ],
                          [
                            0.3333333333333333,
                            "#9c179e"
                          ],
                          [
                            0.4444444444444444,
                            "#bd3786"
                          ],
                          [
                            0.5555555555555556,
                            "#d8576b"
                          ],
                          [
                            0.6666666666666666,
                            "#ed7953"
                          ],
                          [
                            0.7777777777777778,
                            "#fb9f3a"
                          ],
                          [
                            0.8888888888888888,
                            "#fdca26"
                          ],
                          [
                            1,
                            "#f0f921"
                          ]
                        ],
                        "type": "heatmap"
                      }
                    ],
                    "histogram": [
                      {
                        "marker": {
                          "pattern": {
                            "fillmode": "overlay",
                            "size": 10,
                            "solidity": 0.2
                          }
                        },
                        "type": "histogram"
                      }
                    ],
                    "histogram2d": [
                      {
                        "colorbar": {
                          "outlinewidth": 0,
                          "ticks": ""
                        },
                        "colorscale": [
                          [
                            0,
                            "#0d0887"
                          ],
                          [
                            0.1111111111111111,
                            "#46039f"
                          ],
                          [
                            0.2222222222222222,
                            "#7201a8"
                          ],
                          [
                            0.3333333333333333,
                            "#9c179e"
                          ],
                          [
                            0.4444444444444444,
                            "#bd3786"
                          ],
                          [
                            0.5555555555555556,
                            "#d8576b"
                          ],
                          [
                            0.6666666666666666,
                            "#ed7953"
                          ],
                          [
                            0.7777777777777778,
                            "#fb9f3a"
                          ],
                          [
                            0.8888888888888888,
                            "#fdca26"
                          ],
                          [
                            1,
                            "#f0f921"
                          ]
                        ],
                        "type": "histogram2d"
                      }
                    ],
                    "histogram2dcontour": [
                      {
                        "colorbar": {
                          "outlinewidth": 0,
                          "ticks": ""
                        },
                        "colorscale": [
                          [
                            0,
                            "#0d0887"
                          ],
                          [
                            0.1111111111111111,
                            "#46039f"
                          ],
                          [
                            0.2222222222222222,
                            "#7201a8"
                          ],
                          [
                            0.3333333333333333,
                            "#9c179e"
                          ],
                          [
                            0.4444444444444444,
                            "#bd3786"
                          ],
                          [
                            0.5555555555555556,
                            "#d8576b"
                          ],
                          [
                            0.6666666666666666,
                            "#ed7953"
                          ],
                          [
                            0.7777777777777778,
                            "#fb9f3a"
                          ],
                          [
                            0.8888888888888888,
                            "#fdca26"
                          ],
                          [
                            1,
                            "#f0f921"
                          ]
                        ],
                        "type": "histogram2dcontour"
                      }
                    ],
                    "mesh3d": [
                      {
                        "colorbar": {
                          "outlinewidth": 0,
                          "ticks": ""
                        },
                        "type": "mesh3d"
                      }
                    ],
                    "parcoords": [
                      {
                        "line": {
                          "colorbar": {
                            "outlinewidth": 0,
                            "ticks": ""
                          }
                        },
                        "type": "parcoords"
                      }
                    ],
                    "pie": [
                      {
                        "automargin": true,
                        "type": "pie"
                      }
                    ],
                    "scatter": [
                      {
                        "fillpattern": {
                          "fillmode": "overlay",
                          "size": 10,
                          "solidity": 0.2
                        },
                        "type": "scatter"
                      }
                    ],
                    "scatter3d": [
                      {
                        "line": {
                          "colorbar": {
                            "outlinewidth": 0,
                            "ticks": ""
                          }
                        },
                        "marker": {
                          "colorbar": {
                            "outlinewidth": 0,
                            "ticks": ""
                          }
                        },
                        "type": "scatter3d"
                      }
                    ],
                    "scattercarpet": [
                      {
                        "marker": {
                          "colorbar": {
                            "outlinewidth": 0,
                            "ticks": ""
                          }
                        },
                        "type": "scattercarpet"
                      }
                    ],
                    "scattergeo": [
                      {
                        "marker": {
                          "colorbar": {
                            "outlinewidth": 0,
                            "ticks": ""
                          }
                        },
                        "type": "scattergeo"
                      }
                    ],
                    "scattergl": [
                      {
                        "marker": {
                          "colorbar": {
                            "outlinewidth": 0,
                            "ticks": ""
                          }
                        },
                        "type": "scattergl"
                      }
                    ],
                    "scattermap": [
                      {
                        "marker": {
                          "colorbar": {
                            "outlinewidth": 0,
                            "ticks": ""
                          }
                        },
                        "type": "scattermap"
                      }
                    ],
                    "scattermapbox": [
                      {
                        "marker": {
                          "colorbar": {
                            "outlinewidth": 0,
                            "ticks": ""
                          }
                        },
                        "type": "scattermapbox"
                      }
                    ],
                    "scatterpolar": [
                      {
                        "marker": {
                          "colorbar": {
                            "outlinewidth": 0,
                            "ticks": ""
                          }
                        },
                        "type": "scatterpolar"
                      }
                    ],
                    "scatterpolargl": [
                      {
                        "marker": {
                          "colorbar": {
                            "outlinewidth": 0,
                            "ticks": ""
                          }
                        },
                        "type": "scatterpolargl"
                      }
                    ],
                    "scatterternary": [
                      {
                        "marker": {
                          "colorbar": {
                            "outlinewidth": 0,
                            "ticks": ""
                          }
                        },
                        "type": "scatterternary"
                      }
                    ],
                    "surface": [
                      {
                        "colorbar": {
                          "outlinewidth": 0,
                          "ticks": ""
                        },
                        "colorscale": [
                          [
                            0,
                            "#0d0887"
                          ],
                          [
                            0.1111111111111111,
                            "#46039f"
                          ],
                          [
                            0.2222222222222222,
                            "#7201a8"
                          ],
                          [
                            0.3333333333333333,
                            "#9c179e"
                          ],
                          [
                            0.4444444444444444,
                            "#bd3786"
                          ],
                          [
                            0.5555555555555556,
                            "#d8576b"
                          ],
                          [
                            0.6666666666666666,
                            "#ed7953"
                          ],
                          [
                            0.7777777777777778,
                            "#fb9f3a"
                          ],
                          [
                            0.8888888888888888,
                            "#fdca26"
                          ],
                          [
                            1,
                            "#f0f921"
                          ]
                        ],
                        "type": "surface"
                      }
                    ],
                    "table": [
                      {
                        "cells": {
                          "fill": {
                            "color": "#EBF0F8"
                          },
                          "line": {
                            "color": "white"
                          }
                        },
                        "header": {
                          "fill": {
                            "color": "#C8D4E3"
                          },
                          "line": {
                            "color": "white"
                          }
                        },
                        "type": "table"
                      }
                    ]
                  },
                  "layout": {
                    "annotationdefaults": {
                      "arrowcolor": "#2a3f5f",
                      "arrowhead": 0,
                      "arrowwidth": 1
                    },
                    "autotypenumbers": "strict",
                    "coloraxis": {
                      "colorbar": {
                        "outlinewidth": 0,
                        "ticks": ""
                      }
                    },
                    "colorscale": {
                      "diverging": [
                        [
                          0,
                          "#8e0152"
                        ],
                        [
                          0.1,
                          "#c51b7d"
                        ],
                        [
                          0.2,
                          "#de77ae"
                        ],
                        [
                          0.3,
                          "#f1b6da"
                        ],
                        [
                          0.4,
                          "#fde0ef"
                        ],
                        [
                          0.5,
                          "#f7f7f7"
                        ],
                        [
                          0.6,
                          "#e6f5d0"
                        ],
                        [
                          0.7,
                          "#b8e186"
                        ],
                        [
                          0.8,
                          "#7fbc41"
                        ],
                        [
                          0.9,
                          "#4d9221"
                        ],
                        [
                          1,
                          "#276419"
                        ]
                      ],
                      "sequential": [
                        [
                          0,
                          "#0d0887"
                        ],
                        [
                          0.1111111111111111,
                          "#46039f"
                        ],
                        [
                          0.2222222222222222,
                          "#7201a8"
                        ],
                        [
                          0.3333333333333333,
                          "#9c179e"
                        ],
                        [
                          0.4444444444444444,
                          "#bd3786"
                        ],
                        [
                          0.5555555555555556,
                          "#d8576b"
                        ],
                        [
                          0.6666666666666666,
                          "#ed7953"
                        ],
                        [
                          0.7777777777777778,
                          "#fb9f3a"
                        ],
                        [
                          0.8888888888888888,
                          "#fdca26"
                        ],
                        [
                          1,
                          "#f0f921"
                        ]
                      ],
                      "sequentialminus": [
                        [
                          0,
                          "#0d0887"
                        ],
                        [
                          0.1111111111111111,
                          "#46039f"
                        ],
                        [
                          0.2222222222222222,
                          "#7201a8"
                        ],
                        [
                          0.3333333333333333,
                          "#9c179e"
                        ],
                        [
                          0.4444444444444444,
                          "#bd3786"
                        ],
                        [
                          0.5555555555555556,
                          "#d8576b"
                        ],
                        [
                          0.6666666666666666,
                          "#ed7953"
                        ],
                        [
                          0.7777777777777778,
                          "#fb9f3a"
                        ],
                        [
                          0.8888888888888888,
                          "#fdca26"
                        ],
                        [
                          1,
                          "#f0f921"
                        ]
                      ]
                    },
                    "colorway": [
                      "#636efa",
                      "#EF553B",
                      "#00cc96",
                      "#ab63fa",
                      "#FFA15A",
                      "#19d3f3",
                      "#FF6692",
                      "#B6E880",
                      "#FF97FF",
                      "#FECB52"
                    ],
                    "font": {
                      "color": "#2a3f5f"
                    },
                    "geo": {
                      "bgcolor": "white",
                      "lakecolor": "white",
                      "landcolor": "#E5ECF6",
                      "showlakes": true,
                      "showland": true,
                      "subunitcolor": "white"
                    },
                    "hoverlabel": {
                      "align": "left"
                    },
                    "hovermode": "closest",
                    "mapbox": {
                      "style": "light"
                    },
                    "paper_bgcolor": "white",
                    "plot_bgcolor": "#E5ECF6",
                    "polar": {
                      "angularaxis": {
                        "gridcolor": "white",
                        "linecolor": "white",
                        "ticks": ""
                      },
                      "bgcolor": "#E5ECF6",
                      "radialaxis": {
                        "gridcolor": "white",
                        "linecolor": "white",
                        "ticks": ""
                      }
                    },
                    "scene": {
                      "xaxis": {
                        "backgroundcolor": "#E5ECF6",
                        "gridcolor": "white",
                        "gridwidth": 2,
                        "linecolor": "white",
                        "showbackground": true,
                        "ticks": "",
                        "zerolinecolor": "white"
                      },
                      "yaxis": {
                        "backgroundcolor": "#E5ECF6",
                        "gridcolor": "white",
                        "gridwidth": 2,
                        "linecolor": "white",
                        "showbackground": true,
                        "ticks": "",
                        "zerolinecolor": "white"
                      },
                      "zaxis": {
                        "backgroundcolor": "#E5ECF6",
                        "gridcolor": "white",
                        "gridwidth": 2,
                        "linecolor": "white",
                        "showbackground": true,
                        "ticks": "",
                        "zerolinecolor": "white"
                      }
                    },
                    "shapedefaults": {
                      "line": {
                        "color": "#2a3f5f"
                      }
                    },
                    "ternary": {
                      "aaxis": {
                        "gridcolor": "white",
                        "linecolor": "white",
                        "ticks": ""
                      },
                      "baxis": {
                        "gridcolor": "white",
                        "linecolor": "white",
                        "ticks": ""
                      },
                      "bgcolor": "#E5ECF6",
                      "caxis": {
                        "gridcolor": "white",
                        "linecolor": "white",
                        "ticks": ""
                      }
                    },
                    "title": {
                      "x": 0.05
                    },
                    "xaxis": {
                      "automargin": true,
                      "gridcolor": "white",
                      "linecolor": "white",
                      "ticks": "",
                      "title": {
                        "standoff": 15
                      },
                      "zerolinecolor": "white",
                      "zerolinewidth": 2
                    },
                    "yaxis": {
                      "automargin": true,
                      "gridcolor": "white",
                      "linecolor": "white",
                      "ticks": "",
                      "title": {
                        "standoff": 15
                      },
                      "zerolinecolor": "white",
                      "zerolinewidth": 2
                    }
                  }
                },
                "title": {
                  "text": "$\\text{Actual } I_{pd} \\text{ vs. } h_L[j]\\circledast E_{pd}[j]$",
                  "x": 0.5,
                  "xanchor": "center"
                },
                "xaxis": {
                  "title": {
                    "text": "Day"
                  }
                },
                "yaxis": {
                  "title": {
                    "text": "Count"
                  }
                }
              }
            },
            "text/html": [
              "<div>            <script src=\"https://cdnjs.cloudflare.com/ajax/libs/mathjax/2.7.5/MathJax.js?config=TeX-AMS-MML_SVG\"></script><script type=\"text/javascript\">if (window.MathJax && window.MathJax.Hub && window.MathJax.Hub.Config) {window.MathJax.Hub.Config({SVG: {font: \"STIX-Web\"}});}</script>                <script type=\"text/javascript\">window.PlotlyConfig = {MathJaxConfig: 'local'};</script>\n",
              "        <script charset=\"utf-8\" src=\"https://cdn.plot.ly/plotly-3.0.0.min.js\"></script>                <div id=\"859389ff-c612-4dde-b46b-24bd94448914\" class=\"plotly-graph-div\" style=\"height:525px; width:100%;\"></div>            <script type=\"text/javascript\">                window.PLOTLYENV=window.PLOTLYENV || {};                                if (document.getElementById(\"859389ff-c612-4dde-b46b-24bd94448914\")) {                    Plotly.newPlot(                        \"859389ff-c612-4dde-b46b-24bd94448914\",                        [{\"name\":\"Ipd_Actual\",\"x\":{\"dtype\":\"i2\",\"bdata\":\"AAABAAIAAwAEAAUABgAHAAgACQAKAAsADAANAA4ADwAQABEAEgATABQAFQAWABcAGAAZABoAGwAcAB0AHgAfACAAIQAiACMAJAAlACYAJwAoACkAKgArACwALQAuAC8AMAAxADIAMwA0ADUANgA3ADgAOQA6ADsAPAA9AD4APwBAAEEAQgBDAEQARQBGAEcASABJAEoASwBMAE0ATgBPAFAAUQBSAFMAVABVAFYAVwBYAFkAWgBbAFwAXQBeAF8AYABhAGIAYwBkAGUAZgBnAGgAaQBqAGsAbABtAG4AbwBwAHEAcgBzAHQAdQB2AHcAeAB5AHoAewB8AH0AfgB\\u002fAIAAgQCCAIMAhACFAIYAhwCIAIkAigCLAIwAjQCOAI8AkACRAJIAkwCUAJUAlgCXAJgAmQCaAJsAnACdAJ4AnwCgAKEAogCjAKQApQCmAKcAqACpAKoAqwCsAK0ArgCvALAAsQCyALMAtAC1ALYAtwC4ALkAugC7ALwAvQC+AL8AwADBAMIAwwDEAMUAxgDHAMgAyQDKAMsAzADNAM4AzwDQANEA0gDTANQA1QDWANcA2ADZANoA2wDcAN0A3gDfAOAA4QDiAOMA5ADlAOYA5wDoAOkA6gDrAOwA7QDuAO8A8ADxAPIA8wD0APUA9gD3APgA+QD6APsA\\u002fAD9AP4A\\u002fwAAAQEBAgEDAQQBBQEGAQcBCAEJAQoBCwEMAQ0BDgEPARABEQESARMBFAEVARYBFwEYARkBGgEbARwBHQEeAR8BIAEhASIBIwEkASUBJgEnASgBKQEqAQ==\"},\"y\":{\"dtype\":\"i2\",\"bdata\":\"AAAAAAAAAAAAAAAAAAABAAAAAAAAAAAAAAAAAAAAAAABAAAAAQAAAAIAAQABAAAAAQABAAMAAgAAAAIABQAHAAQACAAIAAcAAwAMAAcADwATAAwADwAUABAAKAAjACQAOAAyADkAQABiAFMAcAByAIMAlQCuALUA9QD5APoADgFOAWgBWQGJAbEBtwGqAa0BqwGUAZkBggFjAUEBGAEFAe0A1gCkAHoAlABWAGAASwA2AC4AJwAaACEAEwAKAAgADQAJAAgABQAFAAMABAAAAAAAAAACAAEAAAAAAAEAAQABAAAAAAAAAAAAAAAAAAAAAAAAAAAAAAAAAAAAAAAAAAAAAAAAAAAAAAAAAAAAAAAAAAAAAAAAAAAAAAAAAAAAAAAAAAAAAAAAAAAAAAAAAAAAAAAAAAAAAAAAAAAAAAAAAAAAAAAAAAAAAAAAAAAAAAAAAAAAAAAAAAAAAAAAAAAAAAAAAAAAAAAAAAAAAAAAAAAAAAAAAAAAAAAAAAAAAAAAAAAAAAAAAAAAAAAAAAAAAAAAAAAAAAAAAAAAAAAAAAAAAAAAAAAAAAAAAAAAAAAAAAAAAAAAAAAAAAAAAAAAAAAAAAAAAAAAAAAAAAAAAAAAAAAAAAAAAAAAAAAAAAAAAAAAAAAAAAAAAAAAAAAAAAAAAAAAAAAAAAAAAAAAAAAAAAAAAAAAAAAAAAAAAAAAAAAAAAAAAAAAAAAAAAAAAAAAAAAAAAAAAAAAAAAAAAAAAAAAAAAAAAAAAAAAAAAAAAAAAAAAAAAAAAAAAAAAAAAAAA==\"},\"type\":\"scatter\"},{\"name\":\"Ipd_convolved\",\"x\":{\"dtype\":\"i2\",\"bdata\":\"AAABAAIAAwAEAAUABgAHAAgACQAKAAsADAANAA4ADwAQABEAEgATABQAFQAWABcAGAAZABoAGwAcAB0AHgAfACAAIQAiACMAJAAlACYAJwAoACkAKgArACwALQAuAC8AMAAxADIAMwA0ADUANgA3ADgAOQA6ADsAPAA9AD4APwBAAEEAQgBDAEQARQBGAEcASABJAEoASwBMAE0ATgBPAFAAUQBSAFMAVABVAFYAVwBYAFkAWgBbAFwAXQBeAF8AYABhAGIAYwBkAGUAZgBnAGgAaQBqAGsAbABtAG4AbwBwAHEAcgBzAHQAdQB2AHcAeAB5AHoAewB8AH0AfgB\\u002fAIAAgQCCAIMAhACFAIYAhwCIAIkAigCLAIwAjQCOAI8AkACRAJIAkwCUAJUAlgCXAJgAmQCaAJsAnACdAJ4AnwCgAKEAogCjAKQApQCmAKcAqACpAKoAqwCsAK0ArgCvALAAsQCyALMAtAC1ALYAtwC4ALkAugC7ALwAvQC+AL8AwADBAMIAwwDEAMUAxgDHAMgAyQDKAMsAzADNAM4AzwDQANEA0gDTANQA1QDWANcA2ADZANoA2wDcAN0A3gDfAOAA4QDiAOMA5ADlAOYA5wDoAOkA6gDrAOwA7QDuAO8A8ADxAPIA8wD0APUA9gD3APgA+QD6APsA\\u002fAD9AP4A\\u002fwAAAQEBAgEDAQQBBQEGAQcBCAEJAQoBCwEMAQ0BDgEPARABEQESARMBFAEVARYBFwEYARkBGgEbARwBHQEeAR8BIAEhASIBIwEkASUBJgEnASgBKQEqASsBLAEtAS4BLwEwATEBMgEzATQBNQE2ATcBOAE5AToBOwE8AT0BPgE\\u002fAUABQQFCAUMBRAFFAUYBRwFIAUkBSgFLAUwBTQFOAU8BUAFRAVIBUwFUAVUBVgFXAVgBWQFaAVsBXAFdAV4BXwFgAWEBYgFjAWQBZQFmAWcBaAFpAWoBawFsAW0BbgFvAXABcQFyAXMBdAF1AXYBdwF4AXkBegF7AXwBfQF+AX8BgAGBAYIBgwGEAYUBhgGHAYgBiQGKAYsBjAGNAQ==\"},\"y\":{\"dtype\":\"f8\",\"bdata\":\"exSuR+F6BD3Xo7BgmNZLP3E9lbRrHqs\\u002frod+\\u002f+Wytz\\u002fsMXDo5vq6P1xPBs0t7bo\\u002frsfMAk4suT8AgJFG\\u002f6C2P6SwTWP20LM\\u002fSEFxPgAIsT\\u002fXw6fuJk2tP5oJ6qQH4Lk\\u002f9kAPJXDfxz9xcQ2etZPVPyka44V8at4\\u002f9hcWENDp4D\\u002fXZ6QHgKvgP5zE8CyVHeE\\u002fLCMkD0rS4D+XRezCAXjkPx+SkAd5n+Y\\u002fZV6er3AS6z9oU511Bs\\u002fuP3bgVuY6YPA\\u002foReahwXi8D\\u002fOJgfeRgryP2H5D\\u002f\\u002f6aPk\\u002fSCoAAcSS\\u002fz\\u002foPpi3S88DQAgB\\u002f2fb5gZARwOlev5+C0DPrOFGC\\u002fcQQF+EnNFzCxRA7sBLZ9RSFkBVjw17ZV0ZQITqjg0roRxA26EwXu5nHkBFwzNbVmogQJbnht9KlSNAQVMgXWdmKECnoew+rpksQGZQsstIOTBAKRnHGtmcMkCz7Dws4gI1QENk5HH2NDhAIYKM7BfnPEDc7JcpEcNAQH+P58d\\u002fJ0NAIR4UC+cqRkAaGcnPNuVJQPEhh0DmH05Ae3XT\\u002fI+AUUDqd+lSPUdUQEVHCBI9iVdAEItZnKX\\u002fWkCf4YBU6rZeQBUEoyH5q2FA89MrSV4iZEDTu8kMr2FmQGM+chjqpGhArlueA2k6a0CoCMbrkj1uQKmYQIfSt3BA93+iWuVEckAlrLyfPd5zQByN1HNCd3VAXGZauwD0dkDlh9BsVFJ4QBFSARluenlA+3thqpFhekCzXDB8Cd16QNdx\\u002fhbw+HpA\\u002flr0NYarekAWbktE+AR6QEUlARNmGHlAqD2+4UHNd0BfSqSHVR92QH94ZKyHMXRAyHTXyLcyckDA+l853zNwQG3g77r+gmxAR4htiT7BaEAACOg1CUJlQGcq6AdUEGJA5x93maNxXkAz3VML+39ZQOMIeqfUMVVAngJE0iSBUUCFKo4toclMQBthAKzCmEdA0iEgbnRGQ0CBRhkxcGU\\u002fQKyxB5thdzlAlnq5ra+SNEA+cMzagJAwQIdW2kTsmCpASBM9cixNJUAonM38eSAhQBwfaCHFuRtAJYgCL+dlFkDDmkZCPwMSQG5WBljC4AxApYFybF8WB0AV0dguk2oCQPOuEjeaUv0\\u002fjSfg+5hN9z+PbNeUf33yP5BXMlARTe0\\u002f1d5zRLEv5z8iLlxla1PiP5dYiY3b79w\\u002fA6VE267S1j\\u002fttRUa5PvRP6ddcjEuUcw\\u002feKF28oxGxj9erCjseoLBP6mCVLragbs\\u002fiHJaEpCXtT\\u002fVkoifKPCwP1COvWYHj6o\\u002fNodQCl\\u002fPpD+Y2JIHBUygP5oun7ojg5k\\u002fDchofqj1kz\\u002fXKTRJcTePP2h5izeGZog\\u002f5voPcZEQgz+cXtqUlcd9P4h1E5PbP3c\\u002fWh9k5wQlcj+6\\u002fXOrtU9sP\\u002fhYtox5FGY\\u002fyvvx\\u002fe82YT+D44wfmNVaP1xiwdie6FQ\\u002fOkntwnBJUD8+q1hVz11JP+gChyikv0M\\u002f4FGS9vO9Pj8NWpJY8Os3PyXn1YYnnDI\\u002fKQFIUubyLD9s\\u002f2FGu4ImP3Hn7cEhgCE\\u002fHux8Zow0Gz\\u002foOYBCNyQVP2DKKnQEbRA\\u002fkHLuD9mECT9suoLdptEDP9M\\u002fnwAix\\u002f4+fjaktqjk9z4dt23+TYvyPqfZ20xhx+w+E9a9AidT5j4yGs9GnE\\u002fhPn7iBm6U1to+SNgsujbM1D5NVtGmQRvQPqgIWCif7Mg+ksJWAhFDwz4fhesxcLy9PhWuR1GE67Y+mpmZWTSesT6F61H4UwKrPilcj8LZoaQ+XI\\u002fCVcxcnz4Vrkdh1LaXPnsUrocgzZE+KVyPQo+Zij5cj8LVqqmDPlK4HsWu3nw+Z2Zm5pPndD5cj8L1U8ltPs3MzAxbOWU+Z2Zm5lhgXj4VrkdhPaRVPh+F69HxLE4+Ctej8AUQRT64HoXrQ1E9PnsUrsclFzU+KVyPwt\\u002flLT5xPQpXaOwlPkjhehRjfh8+j8L1qOg7Fj4pXI\\u002fC1ugQPjMzMzOQ9Ag+PgrXo0YXAj72KFyP0Iz5PQAAAADsjPI9UrgehTtB6j0+Ctej6FPkPbkehevBdd89CtejcC1a2D0pXI\\u002fC7djSPc3MzMxwLs09XI\\u002fC9QB0uT3Xo3A9CrcVPY\\u002fC9ShcT\\u002fG8PgrXo3BNKD32KFyPwjUUveF6FK5HGRg9exSuR+FaFD3D9Shcj9ohPQrXo3A9Kvo8pHA9CtcbCT0pXI\\u002fC9VjxvPYoXI\\u002fCuRk9CtejcD2SAb3Xo3A9Cq8EPexRuB6FhQG9exSuR+GmGD2uR+F6FFz4PDMzMzMzcAk9Fa5H4XpXAb0Vrkfheh\\u002fzPB+F61G4swi9MzMzMzOb5zyamZmZGR77vHsUrkfhDfe8PgrXo3C\\u002f\\u002frwzMzMzM9ocvR+F61FYmQ+97FG4HvVFDr2F61G4Dl0dvT4K16OQWg294XoUrjeSEr24HoXrlUoTvexRuB4lLv28SOF6FJpzBj3hehSuC0oovYXrUbgUbRi9KVyPwlWhDL24HoXrlqkYvSlcj8KRaPu816NwPXGkJb0AAAAAyqQdvUjhehTG1cI8CtejcC1b2bzsUbi+SIwhvVyPwiVXqSC9mpmZmZmZGb3D9Shcj8IlvbgehetRuB69mpmZmZmZGb17FK5H4XoEveF6FK5H4Rq9CtejcD0KJ73sUbgehesRvSlcj8L1KBy9PgrXo3A9Ir2amZmZmZkhvXE9CtejcB29cT0K16NwHb1SuB6F61EkvXsUrkfheiC9UrgehetREL0pXI\\u002fC9SjcPLgehetRuCS9Z2ZmZmZmBr17FK5H4XoAvc3MzMzMzBC9CtejcD0K87wfhetRuB4LvbgehetRuAc94XoUrkfhCL1xPQrXozAovc3MzMzMzBG9exSuR+F69rxnZmZmZmYEvVK4HoXrURY9zczMzMzM+LxxPQrXo3ASPa5H4XoUrgE9zczMzMxMHL2uR+F6FI4aPZqZmZmZGfe8kML1KFwP+zz2KFyPwkUVvcP1KFyPwua8MzMzMzOzDL0+CtejcF31PKRwPQrXkyC9CtejcD2K5TxI4XoUrg8SvaRwPQrXGwm9j8L1KFxDFb2kcD0K1ysCvTMzMzMzU+087FG4HoVL5bzXo3A9ivAjvXE9CtejEOw8rkfhehRc+LwzMzMzM7OUPOF6FK5Hnge9H4XrURjAIb0pXI\\u002fCdV4SveF6FK5Hbhe9cT0K14MPHb2amZmZ2fQYvVK4HoWrwSW9H4XrUThLIL1xPQrX+9EmvR+F61EcCCK9rkfheiTWFb0K16Nw9UIivUjhehQ2byW9XI\\u002fC9QYTJb1cj8L1\\u002fqcyvR+F61GutB+9SOF6FEyTMr0zMzMzOL8svfYoXI+25jC9XI\\u002fCdYZjIr32KFwPzw0hvVyPwvXBji299ihcj10jKr2F61F4jxEVvZqZmZl7TwG9mpmZWRJYGr32KFwPUYz+vHsUrkfheiQ9exSuR+F6JD0AAAAAAAAAAAAAAAAAAAAAexSuR+F6BL17FK5H4XoEvXsUrkfhehQ9exSuR+F69Lx7FK5H4Xr0PHsUrkfhegQ9AAAAAAAAAAC4HoXrUbgOPaRwPQrXoyA9uB6F61G4Dj1nZmZmZmYmPXsUrkfheuQ8exSuR+F61Dy4HoXrUbjuvB+F61G4HhU9AAAAAAAAAAB7FK5H4XrkvOxRuB6F6+G87FG4HoXr8TzD9Shcj8LlvD4K16NwPQK94XoUrkfhHj3hehSuR+EGPQrXo3A9Csc89ihcj8L1KT2kcD0K16P4vK5H4XoUrg89kML1KFyPDL1cj8L1KFwEPeF6FK5H4fI8mpmZmZkZHz3NzMzMzMzmPIXrUbgeRRc9SOF6FK5H\\u002fryQwvUoXI8MPdejcD0KNxa9w\\u002fUoXI9C+Dz2KFyPwnUAvdejcD0KZxE9exSuR+H6DT2amZmZmbnyPB+F61G4Pg29rkfhehSeCb2uR+F6FJYAva5H4XoULu88PgrXo3C95byF61G4HgEfPcP1KFyP1gc9hetRuB5F4Lz2KFyPwrXWvIXrUbgeJQE9hetRuB614zw+CtejcMv9PMP1KFwvziG916NwPQpIAT1xPQrXowYBPT4K16OwNCK9KVyPwvXExLxI4XoU7psBPcP1KFyPEvO8pHA9CreFFr32KFyPgkQOPaRwPQrXSd28AAAAAHCNAT2PwvUolBYCvY\\u002fC9SjcXNI8PgrXo7yBGT0VrkfhDk8Wva5H4Xq0Gd68uB6F639iJ73NzMzM8iwKvRWuR2Gk5yQ97FG4HsyuHb2amZmZ+bv6vA==\"},\"type\":\"scatter\"}],                        {\"template\":{\"data\":{\"histogram2dcontour\":[{\"type\":\"histogram2dcontour\",\"colorbar\":{\"outlinewidth\":0,\"ticks\":\"\"},\"colorscale\":[[0.0,\"#0d0887\"],[0.1111111111111111,\"#46039f\"],[0.2222222222222222,\"#7201a8\"],[0.3333333333333333,\"#9c179e\"],[0.4444444444444444,\"#bd3786\"],[0.5555555555555556,\"#d8576b\"],[0.6666666666666666,\"#ed7953\"],[0.7777777777777778,\"#fb9f3a\"],[0.8888888888888888,\"#fdca26\"],[1.0,\"#f0f921\"]]}],\"choropleth\":[{\"type\":\"choropleth\",\"colorbar\":{\"outlinewidth\":0,\"ticks\":\"\"}}],\"histogram2d\":[{\"type\":\"histogram2d\",\"colorbar\":{\"outlinewidth\":0,\"ticks\":\"\"},\"colorscale\":[[0.0,\"#0d0887\"],[0.1111111111111111,\"#46039f\"],[0.2222222222222222,\"#7201a8\"],[0.3333333333333333,\"#9c179e\"],[0.4444444444444444,\"#bd3786\"],[0.5555555555555556,\"#d8576b\"],[0.6666666666666666,\"#ed7953\"],[0.7777777777777778,\"#fb9f3a\"],[0.8888888888888888,\"#fdca26\"],[1.0,\"#f0f921\"]]}],\"heatmap\":[{\"type\":\"heatmap\",\"colorbar\":{\"outlinewidth\":0,\"ticks\":\"\"},\"colorscale\":[[0.0,\"#0d0887\"],[0.1111111111111111,\"#46039f\"],[0.2222222222222222,\"#7201a8\"],[0.3333333333333333,\"#9c179e\"],[0.4444444444444444,\"#bd3786\"],[0.5555555555555556,\"#d8576b\"],[0.6666666666666666,\"#ed7953\"],[0.7777777777777778,\"#fb9f3a\"],[0.8888888888888888,\"#fdca26\"],[1.0,\"#f0f921\"]]}],\"contourcarpet\":[{\"type\":\"contourcarpet\",\"colorbar\":{\"outlinewidth\":0,\"ticks\":\"\"}}],\"contour\":[{\"type\":\"contour\",\"colorbar\":{\"outlinewidth\":0,\"ticks\":\"\"},\"colorscale\":[[0.0,\"#0d0887\"],[0.1111111111111111,\"#46039f\"],[0.2222222222222222,\"#7201a8\"],[0.3333333333333333,\"#9c179e\"],[0.4444444444444444,\"#bd3786\"],[0.5555555555555556,\"#d8576b\"],[0.6666666666666666,\"#ed7953\"],[0.7777777777777778,\"#fb9f3a\"],[0.8888888888888888,\"#fdca26\"],[1.0,\"#f0f921\"]]}],\"surface\":[{\"type\":\"surface\",\"colorbar\":{\"outlinewidth\":0,\"ticks\":\"\"},\"colorscale\":[[0.0,\"#0d0887\"],[0.1111111111111111,\"#46039f\"],[0.2222222222222222,\"#7201a8\"],[0.3333333333333333,\"#9c179e\"],[0.4444444444444444,\"#bd3786\"],[0.5555555555555556,\"#d8576b\"],[0.6666666666666666,\"#ed7953\"],[0.7777777777777778,\"#fb9f3a\"],[0.8888888888888888,\"#fdca26\"],[1.0,\"#f0f921\"]]}],\"mesh3d\":[{\"type\":\"mesh3d\",\"colorbar\":{\"outlinewidth\":0,\"ticks\":\"\"}}],\"scatter\":[{\"fillpattern\":{\"fillmode\":\"overlay\",\"size\":10,\"solidity\":0.2},\"type\":\"scatter\"}],\"parcoords\":[{\"type\":\"parcoords\",\"line\":{\"colorbar\":{\"outlinewidth\":0,\"ticks\":\"\"}}}],\"scatterpolargl\":[{\"type\":\"scatterpolargl\",\"marker\":{\"colorbar\":{\"outlinewidth\":0,\"ticks\":\"\"}}}],\"bar\":[{\"error_x\":{\"color\":\"#2a3f5f\"},\"error_y\":{\"color\":\"#2a3f5f\"},\"marker\":{\"line\":{\"color\":\"#E5ECF6\",\"width\":0.5},\"pattern\":{\"fillmode\":\"overlay\",\"size\":10,\"solidity\":0.2}},\"type\":\"bar\"}],\"scattergeo\":[{\"type\":\"scattergeo\",\"marker\":{\"colorbar\":{\"outlinewidth\":0,\"ticks\":\"\"}}}],\"scatterpolar\":[{\"type\":\"scatterpolar\",\"marker\":{\"colorbar\":{\"outlinewidth\":0,\"ticks\":\"\"}}}],\"histogram\":[{\"marker\":{\"pattern\":{\"fillmode\":\"overlay\",\"size\":10,\"solidity\":0.2}},\"type\":\"histogram\"}],\"scattergl\":[{\"type\":\"scattergl\",\"marker\":{\"colorbar\":{\"outlinewidth\":0,\"ticks\":\"\"}}}],\"scatter3d\":[{\"type\":\"scatter3d\",\"line\":{\"colorbar\":{\"outlinewidth\":0,\"ticks\":\"\"}},\"marker\":{\"colorbar\":{\"outlinewidth\":0,\"ticks\":\"\"}}}],\"scattermap\":[{\"type\":\"scattermap\",\"marker\":{\"colorbar\":{\"outlinewidth\":0,\"ticks\":\"\"}}}],\"scattermapbox\":[{\"type\":\"scattermapbox\",\"marker\":{\"colorbar\":{\"outlinewidth\":0,\"ticks\":\"\"}}}],\"scatterternary\":[{\"type\":\"scatterternary\",\"marker\":{\"colorbar\":{\"outlinewidth\":0,\"ticks\":\"\"}}}],\"scattercarpet\":[{\"type\":\"scattercarpet\",\"marker\":{\"colorbar\":{\"outlinewidth\":0,\"ticks\":\"\"}}}],\"carpet\":[{\"aaxis\":{\"endlinecolor\":\"#2a3f5f\",\"gridcolor\":\"white\",\"linecolor\":\"white\",\"minorgridcolor\":\"white\",\"startlinecolor\":\"#2a3f5f\"},\"baxis\":{\"endlinecolor\":\"#2a3f5f\",\"gridcolor\":\"white\",\"linecolor\":\"white\",\"minorgridcolor\":\"white\",\"startlinecolor\":\"#2a3f5f\"},\"type\":\"carpet\"}],\"table\":[{\"cells\":{\"fill\":{\"color\":\"#EBF0F8\"},\"line\":{\"color\":\"white\"}},\"header\":{\"fill\":{\"color\":\"#C8D4E3\"},\"line\":{\"color\":\"white\"}},\"type\":\"table\"}],\"barpolar\":[{\"marker\":{\"line\":{\"color\":\"#E5ECF6\",\"width\":0.5},\"pattern\":{\"fillmode\":\"overlay\",\"size\":10,\"solidity\":0.2}},\"type\":\"barpolar\"}],\"pie\":[{\"automargin\":true,\"type\":\"pie\"}]},\"layout\":{\"autotypenumbers\":\"strict\",\"colorway\":[\"#636efa\",\"#EF553B\",\"#00cc96\",\"#ab63fa\",\"#FFA15A\",\"#19d3f3\",\"#FF6692\",\"#B6E880\",\"#FF97FF\",\"#FECB52\"],\"font\":{\"color\":\"#2a3f5f\"},\"hovermode\":\"closest\",\"hoverlabel\":{\"align\":\"left\"},\"paper_bgcolor\":\"white\",\"plot_bgcolor\":\"#E5ECF6\",\"polar\":{\"bgcolor\":\"#E5ECF6\",\"angularaxis\":{\"gridcolor\":\"white\",\"linecolor\":\"white\",\"ticks\":\"\"},\"radialaxis\":{\"gridcolor\":\"white\",\"linecolor\":\"white\",\"ticks\":\"\"}},\"ternary\":{\"bgcolor\":\"#E5ECF6\",\"aaxis\":{\"gridcolor\":\"white\",\"linecolor\":\"white\",\"ticks\":\"\"},\"baxis\":{\"gridcolor\":\"white\",\"linecolor\":\"white\",\"ticks\":\"\"},\"caxis\":{\"gridcolor\":\"white\",\"linecolor\":\"white\",\"ticks\":\"\"}},\"coloraxis\":{\"colorbar\":{\"outlinewidth\":0,\"ticks\":\"\"}},\"colorscale\":{\"sequential\":[[0.0,\"#0d0887\"],[0.1111111111111111,\"#46039f\"],[0.2222222222222222,\"#7201a8\"],[0.3333333333333333,\"#9c179e\"],[0.4444444444444444,\"#bd3786\"],[0.5555555555555556,\"#d8576b\"],[0.6666666666666666,\"#ed7953\"],[0.7777777777777778,\"#fb9f3a\"],[0.8888888888888888,\"#fdca26\"],[1.0,\"#f0f921\"]],\"sequentialminus\":[[0.0,\"#0d0887\"],[0.1111111111111111,\"#46039f\"],[0.2222222222222222,\"#7201a8\"],[0.3333333333333333,\"#9c179e\"],[0.4444444444444444,\"#bd3786\"],[0.5555555555555556,\"#d8576b\"],[0.6666666666666666,\"#ed7953\"],[0.7777777777777778,\"#fb9f3a\"],[0.8888888888888888,\"#fdca26\"],[1.0,\"#f0f921\"]],\"diverging\":[[0,\"#8e0152\"],[0.1,\"#c51b7d\"],[0.2,\"#de77ae\"],[0.3,\"#f1b6da\"],[0.4,\"#fde0ef\"],[0.5,\"#f7f7f7\"],[0.6,\"#e6f5d0\"],[0.7,\"#b8e186\"],[0.8,\"#7fbc41\"],[0.9,\"#4d9221\"],[1,\"#276419\"]]},\"xaxis\":{\"gridcolor\":\"white\",\"linecolor\":\"white\",\"ticks\":\"\",\"title\":{\"standoff\":15},\"zerolinecolor\":\"white\",\"automargin\":true,\"zerolinewidth\":2},\"yaxis\":{\"gridcolor\":\"white\",\"linecolor\":\"white\",\"ticks\":\"\",\"title\":{\"standoff\":15},\"zerolinecolor\":\"white\",\"automargin\":true,\"zerolinewidth\":2},\"scene\":{\"xaxis\":{\"backgroundcolor\":\"#E5ECF6\",\"gridcolor\":\"white\",\"linecolor\":\"white\",\"showbackground\":true,\"ticks\":\"\",\"zerolinecolor\":\"white\",\"gridwidth\":2},\"yaxis\":{\"backgroundcolor\":\"#E5ECF6\",\"gridcolor\":\"white\",\"linecolor\":\"white\",\"showbackground\":true,\"ticks\":\"\",\"zerolinecolor\":\"white\",\"gridwidth\":2},\"zaxis\":{\"backgroundcolor\":\"#E5ECF6\",\"gridcolor\":\"white\",\"linecolor\":\"white\",\"showbackground\":true,\"ticks\":\"\",\"zerolinecolor\":\"white\",\"gridwidth\":2}},\"shapedefaults\":{\"line\":{\"color\":\"#2a3f5f\"}},\"annotationdefaults\":{\"arrowcolor\":\"#2a3f5f\",\"arrowhead\":0,\"arrowwidth\":1},\"geo\":{\"bgcolor\":\"white\",\"landcolor\":\"#E5ECF6\",\"subunitcolor\":\"white\",\"showland\":true,\"showlakes\":true,\"lakecolor\":\"white\"},\"title\":{\"x\":0.05},\"mapbox\":{\"style\":\"light\"}}},\"title\":{\"text\":\"$\\\\text{Actual } I_{pd} \\\\text{ vs. } h_L[j]\\\\circledast E_{pd}[j]$\",\"x\":0.5,\"xanchor\":\"center\"},\"xaxis\":{\"title\":{\"text\":\"Day\"}},\"yaxis\":{\"title\":{\"text\":\"Count\"}}},                        {\"responsive\": true}                    ).then(function(){\n",
              "                            \n",
              "var gd = document.getElementById('859389ff-c612-4dde-b46b-24bd94448914');\n",
              "var x = new MutationObserver(function (mutations, observer) {{\n",
              "        var display = window.getComputedStyle(gd).display;\n",
              "        if (!display || display === 'none') {{\n",
              "            console.log([gd, 'removed!']);\n",
              "            Plotly.purge(gd);\n",
              "            observer.disconnect();\n",
              "        }}\n",
              "}});\n",
              "\n",
              "// Listen for the removal of the full notebook cells\n",
              "var notebookContainer = gd.closest('#notebook-container');\n",
              "if (notebookContainer) {{\n",
              "    x.observe(notebookContainer, {childList: true});\n",
              "}}\n",
              "\n",
              "// Listen for the clearing of the current output cell\n",
              "var outputEl = gd.closest('.output');\n",
              "if (outputEl) {{\n",
              "    x.observe(outputEl, {childList: true});\n",
              "}}\n",
              "\n",
              "                        })                };            </script>        </div>"
            ]
          },
          "metadata": {},
          "output_type": "display_data"
        }
      ],
      "source": [
        "#| code-fold: true\n",
        "\n",
        "fig = go.Figure(data=[    \n",
        "    go.Scatter(name='Ipd_Actual', x=np.arange(len(results_stoch0[5])), y=results_stoch0[5]),\n",
        "    go.Scatter(name='Ipd_convolved', x=np.arange(len(Ipd)), y=Ipd)\n",
        "])\n",
        "\n",
        "fig.update_layout(\n",
        "    xaxis_title = 'Day',\n",
        "    yaxis_title = 'Count',\n",
        "    title={\n",
        "        'text':r'$\\text{Actual } I_{pd} \\text{ vs. } h_L[j]\\circledast E_{pd}[j]$',\n",
        "        'x':0.5,\n",
        "        'xanchor':'center'\n",
        "    }\n",
        ")\n",
        "\n",
        "fig.show()"
      ]
    },
    {
      "attachments": {},
      "cell_type": "markdown",
      "metadata": {
        "colab_type": "text",
        "id": "kZy3j1IepAFl"
      },
      "source": [
        "### Comparing $R_{pd}$ from the model to $R_{pd}$ obtained by convolving $I_{pd}$"
      ]
    },
    {
      "attachments": {},
      "cell_type": "markdown",
      "metadata": {
        "colab_type": "text",
        "id": "ZfEWBw4-pAFn"
      },
      "source": [
        "We can use the actual $R_{pd}$ from the SEIR model above."
      ]
    },
    {
      "attachments": {},
      "cell_type": "markdown",
      "metadata": {
        "colab_type": "text",
        "id": "khRU8NaWpAFs"
      },
      "source": [
        "Now obtain $h_I[j]\\circledast I_{pd}[j]$:"
      ]
    },
    {
      "cell_type": "code",
      "execution_count": 40,
      "metadata": {
        "colab": {},
        "colab_type": "code",
        "id": "Kfz3a0RmpAFt"
      },
      "outputs": [],
      "source": [
        "#| code-fold: true\n",
        "\n",
        "Rpd=signal.fftconvolve(h_I, results_stoch0[5], mode='full')"
      ]
    },
    {
      "cell_type": "code",
      "execution_count": 41,
      "metadata": {
        "colab": {
          "base_uri": "https://localhost:8080/",
          "height": 542
        },
        "colab_type": "code",
        "id": "6jlMLv6zpAFv",
        "outputId": "b256b295-afa5-4826-c3b5-6cae0869bddd"
      },
      "outputs": [
        {
          "data": {
            "application/vnd.plotly.v1+json": {
              "config": {
                "plotlyServerURL": "https://plot.ly"
              },
              "data": [
                {
                  "name": "Rpd_Actual",
                  "type": "scatter",
                  "x": {
                    "bdata": "AAABAAIAAwAEAAUABgAHAAgACQAKAAsADAANAA4ADwAQABEAEgATABQAFQAWABcAGAAZABoAGwAcAB0AHgAfACAAIQAiACMAJAAlACYAJwAoACkAKgArACwALQAuAC8AMAAxADIAMwA0ADUANgA3ADgAOQA6ADsAPAA9AD4APwBAAEEAQgBDAEQARQBGAEcASABJAEoASwBMAE0ATgBPAFAAUQBSAFMAVABVAFYAVwBYAFkAWgBbAFwAXQBeAF8AYABhAGIAYwBkAGUAZgBnAGgAaQBqAGsAbABtAG4AbwBwAHEAcgBzAHQAdQB2AHcAeAB5AHoAewB8AH0AfgB/AIAAgQCCAIMAhACFAIYAhwCIAIkAigCLAIwAjQCOAI8AkACRAJIAkwCUAJUAlgCXAJgAmQCaAJsAnACdAJ4AnwCgAKEAogCjAKQApQCmAKcAqACpAKoAqwCsAK0ArgCvALAAsQCyALMAtAC1ALYAtwC4ALkAugC7ALwAvQC+AL8AwADBAMIAwwDEAMUAxgDHAMgAyQDKAMsAzADNAM4AzwDQANEA0gDTANQA1QDWANcA2ADZANoA2wDcAN0A3gDfAOAA4QDiAOMA5ADlAOYA5wDoAOkA6gDrAOwA7QDuAO8A8ADxAPIA8wD0APUA9gD3APgA+QD6APsA/AD9AP4A/wAAAQEBAgEDAQQBBQEGAQcBCAEJAQoBCwEMAQ0BDgEPARABEQESARMBFAEVARYBFwEYARkBGgEbARwBHQEeAR8BIAEhASIBIwEkASUBJgEnASgBKQEqAQ==",
                    "dtype": "i2"
                  },
                  "y": {
                    "bdata": "AAAAAAAAAAAAAAAAAAAAAAAAAAAAAAAAAAAAAAAAAAAAAAAAAAAAAAAAAAAAAAAAAAAAAAAAAQAAAAAAAQAAAAEAAAABAAAAAgAAAAAAAAADAAEAAwABAAMAAgAIAAQAAgAIAAMACAAIAAoABgAMAAwAEQAOABEAFgAZACQAKgAqAC4AQgA1AEcAUQBeAGMAcAB0AJAAnwCzAKsAvwDkAPsABgHwAB0BGwEiARsBTAExAUkBNQFHAVYBLAE1AQsBAwEOAfIA6wDHAM4AwwC1AJIAjgCKAHgAdABWAFQATwBGADoAOAAxACYAJwAVABQAEgARAA8ACgAKAAgABwAFAAcABQABAAIAAQAAAAEAAAABAAEAAAACAAAAAAAAAAEAAAAAAAAAAAAAAAAAAAAAAAAAAAAAAAAAAAAAAAAAAAAAAAAAAAAAAAAAAAAAAAAAAAAAAAAAAAAAAAAAAAAAAAAAAAAAAAAAAAAAAAAAAAAAAAAAAAAAAAAAAAAAAAAAAAAAAAAAAAAAAAAAAAAAAAAAAAAAAAAAAAAAAAAAAAAAAAAAAAAAAAAAAAAAAAAAAAAAAAAAAAAAAAAAAAAAAAAAAAAAAAAAAAAAAAAAAAAAAAAAAAAAAAAAAAAAAAAAAAAAAAAAAAAAAAAAAAAAAAAAAAAAAAAAAAAAAAAAAAAAAAAAAAAAAAAAAAAAAAAAAAAAAAAAAAAAAAAAAAAAAAAAAAAAAAAAAAAAAAAAAAAAAAAAAAAAAAAAAAAAAAAAAAAAAAAAAAAAAAAAAAAAAAAAAAAAAA==",
                    "dtype": "i2"
                  }
                },
                {
                  "name": "Rpd_convolved",
                  "type": "scatter",
                  "x": {
                    "bdata": "AAABAAIAAwAEAAUABgAHAAgACQAKAAsADAANAA4ADwAQABEAEgATABQAFQAWABcAGAAZABoAGwAcAB0AHgAfACAAIQAiACMAJAAlACYAJwAoACkAKgArACwALQAuAC8AMAAxADIAMwA0ADUANgA3ADgAOQA6ADsAPAA9AD4APwBAAEEAQgBDAEQARQBGAEcASABJAEoASwBMAE0ATgBPAFAAUQBSAFMAVABVAFYAVwBYAFkAWgBbAFwAXQBeAF8AYABhAGIAYwBkAGUAZgBnAGgAaQBqAGsAbABtAG4AbwBwAHEAcgBzAHQAdQB2AHcAeAB5AHoAewB8AH0AfgB/AIAAgQCCAIMAhACFAIYAhwCIAIkAigCLAIwAjQCOAI8AkACRAJIAkwCUAJUAlgCXAJgAmQCaAJsAnACdAJ4AnwCgAKEAogCjAKQApQCmAKcAqACpAKoAqwCsAK0ArgCvALAAsQCyALMAtAC1ALYAtwC4ALkAugC7ALwAvQC+AL8AwADBAMIAwwDEAMUAxgDHAMgAyQDKAMsAzADNAM4AzwDQANEA0gDTANQA1QDWANcA2ADZANoA2wDcAN0A3gDfAOAA4QDiAOMA5ADlAOYA5wDoAOkA6gDrAOwA7QDuAO8A8ADxAPIA8wD0APUA9gD3APgA+QD6APsA/AD9AP4A/wAAAQEBAgEDAQQBBQEGAQcBCAEJAQoBCwEMAQ0BDgEPARABEQESARMBFAEVARYBFwEYARkBGgEbARwBHQEeAR8BIAEhASIBIwEkASUBJgEnASgBKQEqASsBLAEtAS4BLwEwATEBMgEzATQBNQE2ATcBOAE5AToBOwE8AT0BPgE/AUABQQFCAUMBRAFFAUYBRwFIAUkBSgFLAUwBTQFOAU8BUAFRAVIBUwFUAVUBVgFXAVgBWQFaAVsBXAFdAV4BXwFgAWEBYgFjAWQBZQFmAWcBaAFpAWoBawFsAW0BbgFvAXABcQFyAXMBdAF1AXYBdwF4AXkBegF7AXwBfQF+AX8BgAGBAYIBgwGEAYUBhgGHAYgBiQGKAYsBjAGNAQ==",
                    "dtype": "i2"
                  },
                  "y": {
                    "bdata": "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",
                    "dtype": "f8"
                  }
                }
              ],
              "layout": {
                "template": {
                  "data": {
                    "bar": [
                      {
                        "error_x": {
                          "color": "#2a3f5f"
                        },
                        "error_y": {
                          "color": "#2a3f5f"
                        },
                        "marker": {
                          "line": {
                            "color": "#E5ECF6",
                            "width": 0.5
                          },
                          "pattern": {
                            "fillmode": "overlay",
                            "size": 10,
                            "solidity": 0.2
                          }
                        },
                        "type": "bar"
                      }
                    ],
                    "barpolar": [
                      {
                        "marker": {
                          "line": {
                            "color": "#E5ECF6",
                            "width": 0.5
                          },
                          "pattern": {
                            "fillmode": "overlay",
                            "size": 10,
                            "solidity": 0.2
                          }
                        },
                        "type": "barpolar"
                      }
                    ],
                    "carpet": [
                      {
                        "aaxis": {
                          "endlinecolor": "#2a3f5f",
                          "gridcolor": "white",
                          "linecolor": "white",
                          "minorgridcolor": "white",
                          "startlinecolor": "#2a3f5f"
                        },
                        "baxis": {
                          "endlinecolor": "#2a3f5f",
                          "gridcolor": "white",
                          "linecolor": "white",
                          "minorgridcolor": "white",
                          "startlinecolor": "#2a3f5f"
                        },
                        "type": "carpet"
                      }
                    ],
                    "choropleth": [
                      {
                        "colorbar": {
                          "outlinewidth": 0,
                          "ticks": ""
                        },
                        "type": "choropleth"
                      }
                    ],
                    "contour": [
                      {
                        "colorbar": {
                          "outlinewidth": 0,
                          "ticks": ""
                        },
                        "colorscale": [
                          [
                            0,
                            "#0d0887"
                          ],
                          [
                            0.1111111111111111,
                            "#46039f"
                          ],
                          [
                            0.2222222222222222,
                            "#7201a8"
                          ],
                          [
                            0.3333333333333333,
                            "#9c179e"
                          ],
                          [
                            0.4444444444444444,
                            "#bd3786"
                          ],
                          [
                            0.5555555555555556,
                            "#d8576b"
                          ],
                          [
                            0.6666666666666666,
                            "#ed7953"
                          ],
                          [
                            0.7777777777777778,
                            "#fb9f3a"
                          ],
                          [
                            0.8888888888888888,
                            "#fdca26"
                          ],
                          [
                            1,
                            "#f0f921"
                          ]
                        ],
                        "type": "contour"
                      }
                    ],
                    "contourcarpet": [
                      {
                        "colorbar": {
                          "outlinewidth": 0,
                          "ticks": ""
                        },
                        "type": "contourcarpet"
                      }
                    ],
                    "heatmap": [
                      {
                        "colorbar": {
                          "outlinewidth": 0,
                          "ticks": ""
                        },
                        "colorscale": [
                          [
                            0,
                            "#0d0887"
                          ],
                          [
                            0.1111111111111111,
                            "#46039f"
                          ],
                          [
                            0.2222222222222222,
                            "#7201a8"
                          ],
                          [
                            0.3333333333333333,
                            "#9c179e"
                          ],
                          [
                            0.4444444444444444,
                            "#bd3786"
                          ],
                          [
                            0.5555555555555556,
                            "#d8576b"
                          ],
                          [
                            0.6666666666666666,
                            "#ed7953"
                          ],
                          [
                            0.7777777777777778,
                            "#fb9f3a"
                          ],
                          [
                            0.8888888888888888,
                            "#fdca26"
                          ],
                          [
                            1,
                            "#f0f921"
                          ]
                        ],
                        "type": "heatmap"
                      }
                    ],
                    "histogram": [
                      {
                        "marker": {
                          "pattern": {
                            "fillmode": "overlay",
                            "size": 10,
                            "solidity": 0.2
                          }
                        },
                        "type": "histogram"
                      }
                    ],
                    "histogram2d": [
                      {
                        "colorbar": {
                          "outlinewidth": 0,
                          "ticks": ""
                        },
                        "colorscale": [
                          [
                            0,
                            "#0d0887"
                          ],
                          [
                            0.1111111111111111,
                            "#46039f"
                          ],
                          [
                            0.2222222222222222,
                            "#7201a8"
                          ],
                          [
                            0.3333333333333333,
                            "#9c179e"
                          ],
                          [
                            0.4444444444444444,
                            "#bd3786"
                          ],
                          [
                            0.5555555555555556,
                            "#d8576b"
                          ],
                          [
                            0.6666666666666666,
                            "#ed7953"
                          ],
                          [
                            0.7777777777777778,
                            "#fb9f3a"
                          ],
                          [
                            0.8888888888888888,
                            "#fdca26"
                          ],
                          [
                            1,
                            "#f0f921"
                          ]
                        ],
                        "type": "histogram2d"
                      }
                    ],
                    "histogram2dcontour": [
                      {
                        "colorbar": {
                          "outlinewidth": 0,
                          "ticks": ""
                        },
                        "colorscale": [
                          [
                            0,
                            "#0d0887"
                          ],
                          [
                            0.1111111111111111,
                            "#46039f"
                          ],
                          [
                            0.2222222222222222,
                            "#7201a8"
                          ],
                          [
                            0.3333333333333333,
                            "#9c179e"
                          ],
                          [
                            0.4444444444444444,
                            "#bd3786"
                          ],
                          [
                            0.5555555555555556,
                            "#d8576b"
                          ],
                          [
                            0.6666666666666666,
                            "#ed7953"
                          ],
                          [
                            0.7777777777777778,
                            "#fb9f3a"
                          ],
                          [
                            0.8888888888888888,
                            "#fdca26"
                          ],
                          [
                            1,
                            "#f0f921"
                          ]
                        ],
                        "type": "histogram2dcontour"
                      }
                    ],
                    "mesh3d": [
                      {
                        "colorbar": {
                          "outlinewidth": 0,
                          "ticks": ""
                        },
                        "type": "mesh3d"
                      }
                    ],
                    "parcoords": [
                      {
                        "line": {
                          "colorbar": {
                            "outlinewidth": 0,
                            "ticks": ""
                          }
                        },
                        "type": "parcoords"
                      }
                    ],
                    "pie": [
                      {
                        "automargin": true,
                        "type": "pie"
                      }
                    ],
                    "scatter": [
                      {
                        "fillpattern": {
                          "fillmode": "overlay",
                          "size": 10,
                          "solidity": 0.2
                        },
                        "type": "scatter"
                      }
                    ],
                    "scatter3d": [
                      {
                        "line": {
                          "colorbar": {
                            "outlinewidth": 0,
                            "ticks": ""
                          }
                        },
                        "marker": {
                          "colorbar": {
                            "outlinewidth": 0,
                            "ticks": ""
                          }
                        },
                        "type": "scatter3d"
                      }
                    ],
                    "scattercarpet": [
                      {
                        "marker": {
                          "colorbar": {
                            "outlinewidth": 0,
                            "ticks": ""
                          }
                        },
                        "type": "scattercarpet"
                      }
                    ],
                    "scattergeo": [
                      {
                        "marker": {
                          "colorbar": {
                            "outlinewidth": 0,
                            "ticks": ""
                          }
                        },
                        "type": "scattergeo"
                      }
                    ],
                    "scattergl": [
                      {
                        "marker": {
                          "colorbar": {
                            "outlinewidth": 0,
                            "ticks": ""
                          }
                        },
                        "type": "scattergl"
                      }
                    ],
                    "scattermap": [
                      {
                        "marker": {
                          "colorbar": {
                            "outlinewidth": 0,
                            "ticks": ""
                          }
                        },
                        "type": "scattermap"
                      }
                    ],
                    "scattermapbox": [
                      {
                        "marker": {
                          "colorbar": {
                            "outlinewidth": 0,
                            "ticks": ""
                          }
                        },
                        "type": "scattermapbox"
                      }
                    ],
                    "scatterpolar": [
                      {
                        "marker": {
                          "colorbar": {
                            "outlinewidth": 0,
                            "ticks": ""
                          }
                        },
                        "type": "scatterpolar"
                      }
                    ],
                    "scatterpolargl": [
                      {
                        "marker": {
                          "colorbar": {
                            "outlinewidth": 0,
                            "ticks": ""
                          }
                        },
                        "type": "scatterpolargl"
                      }
                    ],
                    "scatterternary": [
                      {
                        "marker": {
                          "colorbar": {
                            "outlinewidth": 0,
                            "ticks": ""
                          }
                        },
                        "type": "scatterternary"
                      }
                    ],
                    "surface": [
                      {
                        "colorbar": {
                          "outlinewidth": 0,
                          "ticks": ""
                        },
                        "colorscale": [
                          [
                            0,
                            "#0d0887"
                          ],
                          [
                            0.1111111111111111,
                            "#46039f"
                          ],
                          [
                            0.2222222222222222,
                            "#7201a8"
                          ],
                          [
                            0.3333333333333333,
                            "#9c179e"
                          ],
                          [
                            0.4444444444444444,
                            "#bd3786"
                          ],
                          [
                            0.5555555555555556,
                            "#d8576b"
                          ],
                          [
                            0.6666666666666666,
                            "#ed7953"
                          ],
                          [
                            0.7777777777777778,
                            "#fb9f3a"
                          ],
                          [
                            0.8888888888888888,
                            "#fdca26"
                          ],
                          [
                            1,
                            "#f0f921"
                          ]
                        ],
                        "type": "surface"
                      }
                    ],
                    "table": [
                      {
                        "cells": {
                          "fill": {
                            "color": "#EBF0F8"
                          },
                          "line": {
                            "color": "white"
                          }
                        },
                        "header": {
                          "fill": {
                            "color": "#C8D4E3"
                          },
                          "line": {
                            "color": "white"
                          }
                        },
                        "type": "table"
                      }
                    ]
                  },
                  "layout": {
                    "annotationdefaults": {
                      "arrowcolor": "#2a3f5f",
                      "arrowhead": 0,
                      "arrowwidth": 1
                    },
                    "autotypenumbers": "strict",
                    "coloraxis": {
                      "colorbar": {
                        "outlinewidth": 0,
                        "ticks": ""
                      }
                    },
                    "colorscale": {
                      "diverging": [
                        [
                          0,
                          "#8e0152"
                        ],
                        [
                          0.1,
                          "#c51b7d"
                        ],
                        [
                          0.2,
                          "#de77ae"
                        ],
                        [
                          0.3,
                          "#f1b6da"
                        ],
                        [
                          0.4,
                          "#fde0ef"
                        ],
                        [
                          0.5,
                          "#f7f7f7"
                        ],
                        [
                          0.6,
                          "#e6f5d0"
                        ],
                        [
                          0.7,
                          "#b8e186"
                        ],
                        [
                          0.8,
                          "#7fbc41"
                        ],
                        [
                          0.9,
                          "#4d9221"
                        ],
                        [
                          1,
                          "#276419"
                        ]
                      ],
                      "sequential": [
                        [
                          0,
                          "#0d0887"
                        ],
                        [
                          0.1111111111111111,
                          "#46039f"
                        ],
                        [
                          0.2222222222222222,
                          "#7201a8"
                        ],
                        [
                          0.3333333333333333,
                          "#9c179e"
                        ],
                        [
                          0.4444444444444444,
                          "#bd3786"
                        ],
                        [
                          0.5555555555555556,
                          "#d8576b"
                        ],
                        [
                          0.6666666666666666,
                          "#ed7953"
                        ],
                        [
                          0.7777777777777778,
                          "#fb9f3a"
                        ],
                        [
                          0.8888888888888888,
                          "#fdca26"
                        ],
                        [
                          1,
                          "#f0f921"
                        ]
                      ],
                      "sequentialminus": [
                        [
                          0,
                          "#0d0887"
                        ],
                        [
                          0.1111111111111111,
                          "#46039f"
                        ],
                        [
                          0.2222222222222222,
                          "#7201a8"
                        ],
                        [
                          0.3333333333333333,
                          "#9c179e"
                        ],
                        [
                          0.4444444444444444,
                          "#bd3786"
                        ],
                        [
                          0.5555555555555556,
                          "#d8576b"
                        ],
                        [
                          0.6666666666666666,
                          "#ed7953"
                        ],
                        [
                          0.7777777777777778,
                          "#fb9f3a"
                        ],
                        [
                          0.8888888888888888,
                          "#fdca26"
                        ],
                        [
                          1,
                          "#f0f921"
                        ]
                      ]
                    },
                    "colorway": [
                      "#636efa",
                      "#EF553B",
                      "#00cc96",
                      "#ab63fa",
                      "#FFA15A",
                      "#19d3f3",
                      "#FF6692",
                      "#B6E880",
                      "#FF97FF",
                      "#FECB52"
                    ],
                    "font": {
                      "color": "#2a3f5f"
                    },
                    "geo": {
                      "bgcolor": "white",
                      "lakecolor": "white",
                      "landcolor": "#E5ECF6",
                      "showlakes": true,
                      "showland": true,
                      "subunitcolor": "white"
                    },
                    "hoverlabel": {
                      "align": "left"
                    },
                    "hovermode": "closest",
                    "mapbox": {
                      "style": "light"
                    },
                    "paper_bgcolor": "white",
                    "plot_bgcolor": "#E5ECF6",
                    "polar": {
                      "angularaxis": {
                        "gridcolor": "white",
                        "linecolor": "white",
                        "ticks": ""
                      },
                      "bgcolor": "#E5ECF6",
                      "radialaxis": {
                        "gridcolor": "white",
                        "linecolor": "white",
                        "ticks": ""
                      }
                    },
                    "scene": {
                      "xaxis": {
                        "backgroundcolor": "#E5ECF6",
                        "gridcolor": "white",
                        "gridwidth": 2,
                        "linecolor": "white",
                        "showbackground": true,
                        "ticks": "",
                        "zerolinecolor": "white"
                      },
                      "yaxis": {
                        "backgroundcolor": "#E5ECF6",
                        "gridcolor": "white",
                        "gridwidth": 2,
                        "linecolor": "white",
                        "showbackground": true,
                        "ticks": "",
                        "zerolinecolor": "white"
                      },
                      "zaxis": {
                        "backgroundcolor": "#E5ECF6",
                        "gridcolor": "white",
                        "gridwidth": 2,
                        "linecolor": "white",
                        "showbackground": true,
                        "ticks": "",
                        "zerolinecolor": "white"
                      }
                    },
                    "shapedefaults": {
                      "line": {
                        "color": "#2a3f5f"
                      }
                    },
                    "ternary": {
                      "aaxis": {
                        "gridcolor": "white",
                        "linecolor": "white",
                        "ticks": ""
                      },
                      "baxis": {
                        "gridcolor": "white",
                        "linecolor": "white",
                        "ticks": ""
                      },
                      "bgcolor": "#E5ECF6",
                      "caxis": {
                        "gridcolor": "white",
                        "linecolor": "white",
                        "ticks": ""
                      }
                    },
                    "title": {
                      "x": 0.05
                    },
                    "xaxis": {
                      "automargin": true,
                      "gridcolor": "white",
                      "linecolor": "white",
                      "ticks": "",
                      "title": {
                        "standoff": 15
                      },
                      "zerolinecolor": "white",
                      "zerolinewidth": 2
                    },
                    "yaxis": {
                      "automargin": true,
                      "gridcolor": "white",
                      "linecolor": "white",
                      "ticks": "",
                      "title": {
                        "standoff": 15
                      },
                      "zerolinecolor": "white",
                      "zerolinewidth": 2
                    }
                  }
                },
                "title": {
                  "text": "$\\text{Actual } R_{pd} \\text{ vs. } h_I[j]\\circledast I_{pd}[j]$",
                  "x": 0.5,
                  "xanchor": "center"
                },
                "xaxis": {
                  "title": {
                    "text": "Day"
                  }
                },
                "yaxis": {
                  "title": {
                    "text": "Count"
                  }
                }
              }
            },
            "text/html": [
              "<div>            <script src=\"https://cdnjs.cloudflare.com/ajax/libs/mathjax/2.7.5/MathJax.js?config=TeX-AMS-MML_SVG\"></script><script type=\"text/javascript\">if (window.MathJax && window.MathJax.Hub && window.MathJax.Hub.Config) {window.MathJax.Hub.Config({SVG: {font: \"STIX-Web\"}});}</script>                <script type=\"text/javascript\">window.PlotlyConfig = {MathJaxConfig: 'local'};</script>\n",
              "        <script charset=\"utf-8\" src=\"https://cdn.plot.ly/plotly-3.0.0.min.js\"></script>                <div id=\"810a19f1-4d40-4fbd-8aa7-32d37841f164\" class=\"plotly-graph-div\" style=\"height:525px; width:100%;\"></div>            <script type=\"text/javascript\">                window.PLOTLYENV=window.PLOTLYENV || {};                                if (document.getElementById(\"810a19f1-4d40-4fbd-8aa7-32d37841f164\")) {                    Plotly.newPlot(                        \"810a19f1-4d40-4fbd-8aa7-32d37841f164\",                        [{\"name\":\"Rpd_Actual\",\"x\":{\"dtype\":\"i2\",\"bdata\":\"AAABAAIAAwAEAAUABgAHAAgACQAKAAsADAANAA4ADwAQABEAEgATABQAFQAWABcAGAAZABoAGwAcAB0AHgAfACAAIQAiACMAJAAlACYAJwAoACkAKgArACwALQAuAC8AMAAxADIAMwA0ADUANgA3ADgAOQA6ADsAPAA9AD4APwBAAEEAQgBDAEQARQBGAEcASABJAEoASwBMAE0ATgBPAFAAUQBSAFMAVABVAFYAVwBYAFkAWgBbAFwAXQBeAF8AYABhAGIAYwBkAGUAZgBnAGgAaQBqAGsAbABtAG4AbwBwAHEAcgBzAHQAdQB2AHcAeAB5AHoAewB8AH0AfgB\\u002fAIAAgQCCAIMAhACFAIYAhwCIAIkAigCLAIwAjQCOAI8AkACRAJIAkwCUAJUAlgCXAJgAmQCaAJsAnACdAJ4AnwCgAKEAogCjAKQApQCmAKcAqACpAKoAqwCsAK0ArgCvALAAsQCyALMAtAC1ALYAtwC4ALkAugC7ALwAvQC+AL8AwADBAMIAwwDEAMUAxgDHAMgAyQDKAMsAzADNAM4AzwDQANEA0gDTANQA1QDWANcA2ADZANoA2wDcAN0A3gDfAOAA4QDiAOMA5ADlAOYA5wDoAOkA6gDrAOwA7QDuAO8A8ADxAPIA8wD0APUA9gD3APgA+QD6APsA\\u002fAD9AP4A\\u002fwAAAQEBAgEDAQQBBQEGAQcBCAEJAQoBCwEMAQ0BDgEPARABEQESARMBFAEVARYBFwEYARkBGgEbARwBHQEeAR8BIAEhASIBIwEkASUBJgEnASgBKQEqAQ==\"},\"y\":{\"dtype\":\"i2\",\"bdata\":\"AAAAAAAAAAAAAAAAAAAAAAAAAAAAAAAAAAAAAAAAAAAAAAAAAAAAAAAAAAAAAAAAAAAAAAAAAQAAAAAAAQAAAAEAAAABAAAAAgAAAAAAAAADAAEAAwABAAMAAgAIAAQAAgAIAAMACAAIAAoABgAMAAwAEQAOABEAFgAZACQAKgAqAC4AQgA1AEcAUQBeAGMAcAB0AJAAnwCzAKsAvwDkAPsABgHwAB0BGwEiARsBTAExAUkBNQFHAVYBLAE1AQsBAwEOAfIA6wDHAM4AwwC1AJIAjgCKAHgAdABWAFQATwBGADoAOAAxACYAJwAVABQAEgARAA8ACgAKAAgABwAFAAcABQABAAIAAQAAAAEAAAABAAEAAAACAAAAAAAAAAEAAAAAAAAAAAAAAAAAAAAAAAAAAAAAAAAAAAAAAAAAAAAAAAAAAAAAAAAAAAAAAAAAAAAAAAAAAAAAAAAAAAAAAAAAAAAAAAAAAAAAAAAAAAAAAAAAAAAAAAAAAAAAAAAAAAAAAAAAAAAAAAAAAAAAAAAAAAAAAAAAAAAAAAAAAAAAAAAAAAAAAAAAAAAAAAAAAAAAAAAAAAAAAAAAAAAAAAAAAAAAAAAAAAAAAAAAAAAAAAAAAAAAAAAAAAAAAAAAAAAAAAAAAAAAAAAAAAAAAAAAAAAAAAAAAAAAAAAAAAAAAAAAAAAAAAAAAAAAAAAAAAAAAAAAAAAAAAAAAAAAAAAAAAAAAAAAAAAAAAAAAAAAAAAAAAAAAAAAAAAAAAAAAAAAAAAAAAAAAAAAAAAAAAAAAAAAAA==\"},\"type\":\"scatter\"},{\"name\":\"Rpd_convolved\",\"x\":{\"dtype\":\"i2\",\"bdata\":\"AAABAAIAAwAEAAUABgAHAAgACQAKAAsADAANAA4ADwAQABEAEgATABQAFQAWABcAGAAZABoAGwAcAB0AHgAfACAAIQAiACMAJAAlACYAJwAoACkAKgArACwALQAuAC8AMAAxADIAMwA0ADUANgA3ADgAOQA6ADsAPAA9AD4APwBAAEEAQgBDAEQARQBGAEcASABJAEoASwBMAE0ATgBPAFAAUQBSAFMAVABVAFYAVwBYAFkAWgBbAFwAXQBeAF8AYABhAGIAYwBkAGUAZgBnAGgAaQBqAGsAbABtAG4AbwBwAHEAcgBzAHQAdQB2AHcAeAB5AHoAewB8AH0AfgB\\u002fAIAAgQCCAIMAhACFAIYAhwCIAIkAigCLAIwAjQCOAI8AkACRAJIAkwCUAJUAlgCXAJgAmQCaAJsAnACdAJ4AnwCgAKEAogCjAKQApQCmAKcAqACpAKoAqwCsAK0ArgCvALAAsQCyALMAtAC1ALYAtwC4ALkAugC7ALwAvQC+AL8AwADBAMIAwwDEAMUAxgDHAMgAyQDKAMsAzADNAM4AzwDQANEA0gDTANQA1QDWANcA2ADZANoA2wDcAN0A3gDfAOAA4QDiAOMA5ADlAOYA5wDoAOkA6gDrAOwA7QDuAO8A8ADxAPIA8wD0APUA9gD3APgA+QD6APsA\\u002fAD9AP4A\\u002fwAAAQEBAgEDAQQBBQEGAQcBCAEJAQoBCwEMAQ0BDgEPARABEQESARMBFAEVARYBFwEYARkBGgEbARwBHQEeAR8BIAEhASIBIwEkASUBJgEnASgBKQEqASsBLAEtAS4BLwEwATEBMgEzATQBNQE2ATcBOAE5AToBOwE8AT0BPgE\\u002fAUABQQFCAUMBRAFFAUYBRwFIAUkBSgFLAUwBTQFOAU8BUAFRAVIBUwFUAVUBVgFXAVgBWQFaAVsBXAFdAV4BXwFgAWEBYgFjAWQBZQFmAWcBaAFpAWoBawFsAW0BbgFvAXABcQFyAXMBdAF1AXYBdwF4AXkBegF7AXwBfQF+AX8BgAGBAYIBgwGEAYUBhgGHAYgBiQGKAYsBjAGNAQ==\"},\"y\":{\"dtype\":\"f8\",\"bdata\":\"exSuR+F6FL17FK5H4XoEPXsUrkfhehQ9exSuR+F6FD17FK5H4XoUvXsUrkfhehS9exSuR+F6FL17FK5H4XoUvQAAAAAAAAAAexSuR+F6FD3sUbglBnVQPwAA2BhfG3A\\u002fw\\u002fUYg1n3fj9xPab8ebeHP1yP4pzHM5A\\u002fXI9o+IuilD\\u002fNzO5TrgiZP9ej1tplSZ0\\u002f4fpWcx6loD8p3NZDT\\u002f2iP67H0DhFG6Y\\u002fuJ6725DZqT8+iryQmIGuP7ie3NSgL7I\\u002fHwVul1RVtj8z8yXAbny7P9fj\\u002fFfMrMA\\u002f10Oi3rfTwz\\u002fhOorsUFTHPx\\u002fV58Jbccs\\u002frs\\u002fCMRtB0D+4rth5fhXTP4XjzAufE9Y\\u002f4dKXQYeP2T\\u002fDZRRILAvePzNfSBVS2eE\\u002fSO9fr0tG5T\\u002fXQwN214HpP2dDJ+W4ke4\\u002fQ4et4eAj8j\\u002fNgUwHQFL1PxUclbbp8\\u002fg\\u002f5PxBGPoM\\u002fT8tR8Fyf+8AQLGk\\u002fzVDuwNAKaln\\u002f7bZBkBxr1pWrVYKQF\\u002fglPBLOA5AgdAyRMhPEUAzmJLExuoTQH4KTEap7xZAV6uTHLp0GkDYxuTTq5geQMwIAx\\u002fbryFAOYPnrk1tJED+cJMKmJsnQIrjR0izUitAMAC43eyZL0Dy0820dUQyQNcCSJomFjVASZo4hsFMOEB2q4SCxfU7QHagEPivDkBAcyobphdrQkDfOrt7AR5FQAVyIVf9KUhAIOBG666PS0BKSIwOaVdPQO07YvuHx1FAO8Q9doocVEDfMlSV7alWQM1\\u002f2KyDc1lAeH99QQJ7XECh1eH3orxfQJXVK4\\u002fGmGFAAM68CD9pY0DeaRj4xUplQBIg05qcN2dAZ8zPXB8qaUAAkVlh7xprQGfuy22tAW1ASDykB0\\u002fVbkBArBoGhUZwQOUxmPGsEHFAXnZp1qbFcUDFzr9d8mFyQHNbe\\u002f7L4XJA+r2Nm\\u002fNCc0CY8\\u002fjGQoRzQCKKEK9ApHNA7V+Goh2jc0AewL9HGYFzQFcZn3sRP3NADEzIqLjeckC6r8tBNGJyQFjWkfMzzHFAvmdHZ+kfcUDQY0G4V2BwQFCQrSx+IW9Ac0fck2dpbUDzWh+Ht59rQIijV0I3y2lA5cd6r1TyZ0B75Ft\\u002f+xpmQLhpm4KUSmRAC2VW8+OFYkDGusTK+tBgQAgwT+sjXl5A+ITRUKpFW0Beo4D3tFxYQO\\u002fUuMU6plVAXJD+uL4jU0AP8\\u002fGXr9VQQGflqBVkd01AJ+N6d2SpSUDnShcOxD1GQJtczrWzL0NAkXciiHp5QECIZ4FT9Ck8QDPoJw6Q9zdASj\\u002ft+7FONEBIn34JUiIxQEUu8eBwyyxA5G7ch2QZKECskysvchckQAONFsUdsCBA\\u002fssF+D2fG0DvSMX45McWQM\\u002fUyKa4uRJACmmvOXqvDkAw5KoCmxAJQLUdL6\\u002fTaQRANrDa1veTAEBhBcwQXNr6P202eZvVsPU\\u002fXM10Qth58T9+Zp4X5BbsPydcZc+fhOY\\u002fbkxvs7cB4j8XbQemurncP2pd65VY2tY\\u002f1fzxW8Ah0j+fweCpyrDMP1ooFSF\\u002focY\\u002f2AfHsTXLwT\\u002fbWsdWl+K7P3ICHu3pxLU\\u002f9QYat2PtsD8pImvHcTaqP\\u002f6o5BcFNKQ\\u002fs\\u002fO8WL79nj8+PBrNgqWXP\\u002f5s5ad18ZE\\u002fYIRzmJQSiz\\u002fPojrNZ0yEP9dxRGtPPn4\\u002f\\u002fwbemBxhdj8VfGfU0XFwP39LCioT\\u002fmc\\u002fqEdT4hFfYT\\u002fhesRu9PVYP+xRuBhkylE\\u002frkcxwVUnST9xPRpxPqJBP+F6NH5rgzg\\u002fKVxPP\\u002fHjMD9nZuZ26BEnP2dmZggSOh8\\u002fCtcju9bwFD\\u002fNzMy1V9MLP1yPwk03UAI\\u002frkfhdG3g9z6QwvWAr9TuPgrXo2w4tuM+rkfhYlb12D5xPQrH1knPPjMzM5OGasM+SOF6dNPatz6QwvUowgKtPsP1KFzUdaE+cT0KV\\u002f\\u002fMlD6uR+F6DIaIPuxRuB6BnHw+7FG4HuCDcD4AAAAAXt1iPlK4HoXrUVU+Fa5H4XrWRz7hehSuB146PtejcD3K2Sw+hetRuB46Hz7D9ShcD7cQPilcj8I1swE+zczMzMyI8j0zMzMzMzPjPcP1KFyPqdM9uB6F61Huwz1I4XoUru+zPcP1KFyPwqM9Fa5H4Xpkkz0zMzMzM9OCPa5H4XoUrnE9UrgehesRYj2uR+F6FO5QPYXrUbgehUE9exSuR+F6LD0fhetRuB4iPR+F61G4HuW8mpmZmZkZED0zMzMzMzP8vKRwPQrXoxM9PgrXo3A96jwK16NwPQodPdejcD0K1\\u002fM8XI\\u002fC9Shc7zwzMzMzMzPTPHE9CtejcBE9PgrXo3A9DL0fhetRuB4IPQAAAAAAgBE94XoUrkfhCz2uR+F6FK78PGdmZmZmZuS8exSuR+F68rykcD0K16P2PClcj8L1aBW9pHA9Ctcj\\u002fjw+CtejcH33vOF6FK5HARY99ihcj8L14TyuR+F6FE7zPHsUrkfhahq9SOF6FK7H4bzXo3A9ChfbvHE9CtejOAI9rkfhehRmAb3hehSuRzHpPDMzMzMzzwE9uB6F61E4pDwfhetRuCwVvexRuB6F7Q89uB6F61G4Hr17FK5H4XoUvexRuB6F6yG97FG4HoXrIb24HoXrUbgOvbgehetRuB69uB6F61G4Hr17FK5H4XokvXsUrkfhevQ8uB6F61G4Dr17FK5H4XokvexRuB6F6yG9exSuR+F6BL0K16NwPQonvexRuB6F6yG9mpmZmZmZGb17FK5H4XoEvXsUrkfhevS8exSuR+F6FL17FK5H4XoUvXsUrkfhevS8exSuR+F6FL17FK5H4XoEvXsUrkfheuS8uB6F61G4\\u002fjx7FK5H4XoUvXsUrkfhehS9exSuR+F6BD17FK5H4Xr0PHsUrkfhehS9exSuR+F69LykcD0K16MQPXsUrkfhevQ8uB6F61G4Dj3D9Shcj8IFvbgehetRuN48exSuR+F61Dx7FK5H4Xr0PJqZmZmZmek8PgrXo3A9Gj24HoXrUbjuvMP1KFyPwvW8hetRuB6F+7yamZmZmZnpvHsUrkfhetS8mpmZmZmZEz2amZmZmZnxPM3MzMzMzAk9pHA9CtcjDD0K16NwPYogPVyPwvUoXAM9j8L1KFyPFD0AAAAAAAAUvRWuR+F6FBQ9CtejcD0KET2QwvUoXI8ePRWuR+F6FN687FG4HoXrDj1xPQrXo3AKPSlcj8L1KPo8rkfhehRuEj2F61G4HgUHPbgehetRuA09cT0K16PwEz3D9Shcj2IiPaRwPQrX4wk9XI\\u002fC9SisEj2F61G4HmUQPSlcj8L1SBm9MzMzMzMDCb0+CtejcC0QPaRwPQrXsxY9cT0K16NA+zyF61G4Hr0GPexRuB6Fows9hetRuB5d\\u002fDwfhetRuNAVPbgehetRoxS9MzMzMzMXA70AAAAAAP8YPbgehetRuC49exSuR+F6FD17FK5H4XoUPXsUrkfhehQ9exSuR+F6JD17FK5H4XokPXsUrkfhehQ9uB6F61G4Lj17FK5H4XokPXsUrkfheiQ9exSuR+F6FD17FK5H4XokPXsUrkfhejQ9AAAAAAAAAAB7FK5H4XoUPbgehetRuC49exSuR+F6FL0AAAAAAAAAAHsUrkfhehQ9exSuR+F6FD17FK5H4XoUPQAAAAAAAAAAAAAAAAAAAAB7FK5H4XoUPbgehetRuB49exSuR+F6FL17FK5H4XoEvQAAAAAAAAAAexSuR+F6BD17FK5H4XoUvXsUrkfhehS9uB6F61G4Dj0AAAAAAAAAAHsUrkfhevQ8AAAAAAAAAAB7FK5H4XoEPXsUrkfhegS9exSuR+F69DyamZmZmZkJvQAAAAAAAAAAexSuR+F65DwAAAAAAAAAAHsUrkfhevS8exSuR+F69Ly4HoXrUbjevHsUrkfheuS84XoUrkfhCr24HoXrUbjuPDMzMzMzM\\u002fO89ihcj8L1CD24HoXrUbjevArXo3A9Cuc8PgrXo3A9+rwVrkfhehT+PArXo3A9Cue8H4XrUbge9TyPwvUoXI8CvZqZmZmZmRM9MzMzMzMz+zyuR+F6FK4PPYXrUbgehRG9zczMzMzM\\u002fDwVrkfhehQSvVyPwvUoXBk9SOF6FK7HFb0VrkfhepQUPY\\u002fC9ShcjwO9H4XrUbheFz0fhetRuB4RvbgehetRuI68exSuR+FaAL0+CtejcD3TPPYoXI\\u002fCNe08CtejcD3aFD0K16NwPYIFPeF6FK5HvRY9uB6F61H46jzsUbgehev\\u002fvA==\"},\"type\":\"scatter\"}],                        {\"template\":{\"data\":{\"histogram2dcontour\":[{\"type\":\"histogram2dcontour\",\"colorbar\":{\"outlinewidth\":0,\"ticks\":\"\"},\"colorscale\":[[0.0,\"#0d0887\"],[0.1111111111111111,\"#46039f\"],[0.2222222222222222,\"#7201a8\"],[0.3333333333333333,\"#9c179e\"],[0.4444444444444444,\"#bd3786\"],[0.5555555555555556,\"#d8576b\"],[0.6666666666666666,\"#ed7953\"],[0.7777777777777778,\"#fb9f3a\"],[0.8888888888888888,\"#fdca26\"],[1.0,\"#f0f921\"]]}],\"choropleth\":[{\"type\":\"choropleth\",\"colorbar\":{\"outlinewidth\":0,\"ticks\":\"\"}}],\"histogram2d\":[{\"type\":\"histogram2d\",\"colorbar\":{\"outlinewidth\":0,\"ticks\":\"\"},\"colorscale\":[[0.0,\"#0d0887\"],[0.1111111111111111,\"#46039f\"],[0.2222222222222222,\"#7201a8\"],[0.3333333333333333,\"#9c179e\"],[0.4444444444444444,\"#bd3786\"],[0.5555555555555556,\"#d8576b\"],[0.6666666666666666,\"#ed7953\"],[0.7777777777777778,\"#fb9f3a\"],[0.8888888888888888,\"#fdca26\"],[1.0,\"#f0f921\"]]}],\"heatmap\":[{\"type\":\"heatmap\",\"colorbar\":{\"outlinewidth\":0,\"ticks\":\"\"},\"colorscale\":[[0.0,\"#0d0887\"],[0.1111111111111111,\"#46039f\"],[0.2222222222222222,\"#7201a8\"],[0.3333333333333333,\"#9c179e\"],[0.4444444444444444,\"#bd3786\"],[0.5555555555555556,\"#d8576b\"],[0.6666666666666666,\"#ed7953\"],[0.7777777777777778,\"#fb9f3a\"],[0.8888888888888888,\"#fdca26\"],[1.0,\"#f0f921\"]]}],\"contourcarpet\":[{\"type\":\"contourcarpet\",\"colorbar\":{\"outlinewidth\":0,\"ticks\":\"\"}}],\"contour\":[{\"type\":\"contour\",\"colorbar\":{\"outlinewidth\":0,\"ticks\":\"\"},\"colorscale\":[[0.0,\"#0d0887\"],[0.1111111111111111,\"#46039f\"],[0.2222222222222222,\"#7201a8\"],[0.3333333333333333,\"#9c179e\"],[0.4444444444444444,\"#bd3786\"],[0.5555555555555556,\"#d8576b\"],[0.6666666666666666,\"#ed7953\"],[0.7777777777777778,\"#fb9f3a\"],[0.8888888888888888,\"#fdca26\"],[1.0,\"#f0f921\"]]}],\"surface\":[{\"type\":\"surface\",\"colorbar\":{\"outlinewidth\":0,\"ticks\":\"\"},\"colorscale\":[[0.0,\"#0d0887\"],[0.1111111111111111,\"#46039f\"],[0.2222222222222222,\"#7201a8\"],[0.3333333333333333,\"#9c179e\"],[0.4444444444444444,\"#bd3786\"],[0.5555555555555556,\"#d8576b\"],[0.6666666666666666,\"#ed7953\"],[0.7777777777777778,\"#fb9f3a\"],[0.8888888888888888,\"#fdca26\"],[1.0,\"#f0f921\"]]}],\"mesh3d\":[{\"type\":\"mesh3d\",\"colorbar\":{\"outlinewidth\":0,\"ticks\":\"\"}}],\"scatter\":[{\"fillpattern\":{\"fillmode\":\"overlay\",\"size\":10,\"solidity\":0.2},\"type\":\"scatter\"}],\"parcoords\":[{\"type\":\"parcoords\",\"line\":{\"colorbar\":{\"outlinewidth\":0,\"ticks\":\"\"}}}],\"scatterpolargl\":[{\"type\":\"scatterpolargl\",\"marker\":{\"colorbar\":{\"outlinewidth\":0,\"ticks\":\"\"}}}],\"bar\":[{\"error_x\":{\"color\":\"#2a3f5f\"},\"error_y\":{\"color\":\"#2a3f5f\"},\"marker\":{\"line\":{\"color\":\"#E5ECF6\",\"width\":0.5},\"pattern\":{\"fillmode\":\"overlay\",\"size\":10,\"solidity\":0.2}},\"type\":\"bar\"}],\"scattergeo\":[{\"type\":\"scattergeo\",\"marker\":{\"colorbar\":{\"outlinewidth\":0,\"ticks\":\"\"}}}],\"scatterpolar\":[{\"type\":\"scatterpolar\",\"marker\":{\"colorbar\":{\"outlinewidth\":0,\"ticks\":\"\"}}}],\"histogram\":[{\"marker\":{\"pattern\":{\"fillmode\":\"overlay\",\"size\":10,\"solidity\":0.2}},\"type\":\"histogram\"}],\"scattergl\":[{\"type\":\"scattergl\",\"marker\":{\"colorbar\":{\"outlinewidth\":0,\"ticks\":\"\"}}}],\"scatter3d\":[{\"type\":\"scatter3d\",\"line\":{\"colorbar\":{\"outlinewidth\":0,\"ticks\":\"\"}},\"marker\":{\"colorbar\":{\"outlinewidth\":0,\"ticks\":\"\"}}}],\"scattermap\":[{\"type\":\"scattermap\",\"marker\":{\"colorbar\":{\"outlinewidth\":0,\"ticks\":\"\"}}}],\"scattermapbox\":[{\"type\":\"scattermapbox\",\"marker\":{\"colorbar\":{\"outlinewidth\":0,\"ticks\":\"\"}}}],\"scatterternary\":[{\"type\":\"scatterternary\",\"marker\":{\"colorbar\":{\"outlinewidth\":0,\"ticks\":\"\"}}}],\"scattercarpet\":[{\"type\":\"scattercarpet\",\"marker\":{\"colorbar\":{\"outlinewidth\":0,\"ticks\":\"\"}}}],\"carpet\":[{\"aaxis\":{\"endlinecolor\":\"#2a3f5f\",\"gridcolor\":\"white\",\"linecolor\":\"white\",\"minorgridcolor\":\"white\",\"startlinecolor\":\"#2a3f5f\"},\"baxis\":{\"endlinecolor\":\"#2a3f5f\",\"gridcolor\":\"white\",\"linecolor\":\"white\",\"minorgridcolor\":\"white\",\"startlinecolor\":\"#2a3f5f\"},\"type\":\"carpet\"}],\"table\":[{\"cells\":{\"fill\":{\"color\":\"#EBF0F8\"},\"line\":{\"color\":\"white\"}},\"header\":{\"fill\":{\"color\":\"#C8D4E3\"},\"line\":{\"color\":\"white\"}},\"type\":\"table\"}],\"barpolar\":[{\"marker\":{\"line\":{\"color\":\"#E5ECF6\",\"width\":0.5},\"pattern\":{\"fillmode\":\"overlay\",\"size\":10,\"solidity\":0.2}},\"type\":\"barpolar\"}],\"pie\":[{\"automargin\":true,\"type\":\"pie\"}]},\"layout\":{\"autotypenumbers\":\"strict\",\"colorway\":[\"#636efa\",\"#EF553B\",\"#00cc96\",\"#ab63fa\",\"#FFA15A\",\"#19d3f3\",\"#FF6692\",\"#B6E880\",\"#FF97FF\",\"#FECB52\"],\"font\":{\"color\":\"#2a3f5f\"},\"hovermode\":\"closest\",\"hoverlabel\":{\"align\":\"left\"},\"paper_bgcolor\":\"white\",\"plot_bgcolor\":\"#E5ECF6\",\"polar\":{\"bgcolor\":\"#E5ECF6\",\"angularaxis\":{\"gridcolor\":\"white\",\"linecolor\":\"white\",\"ticks\":\"\"},\"radialaxis\":{\"gridcolor\":\"white\",\"linecolor\":\"white\",\"ticks\":\"\"}},\"ternary\":{\"bgcolor\":\"#E5ECF6\",\"aaxis\":{\"gridcolor\":\"white\",\"linecolor\":\"white\",\"ticks\":\"\"},\"baxis\":{\"gridcolor\":\"white\",\"linecolor\":\"white\",\"ticks\":\"\"},\"caxis\":{\"gridcolor\":\"white\",\"linecolor\":\"white\",\"ticks\":\"\"}},\"coloraxis\":{\"colorbar\":{\"outlinewidth\":0,\"ticks\":\"\"}},\"colorscale\":{\"sequential\":[[0.0,\"#0d0887\"],[0.1111111111111111,\"#46039f\"],[0.2222222222222222,\"#7201a8\"],[0.3333333333333333,\"#9c179e\"],[0.4444444444444444,\"#bd3786\"],[0.5555555555555556,\"#d8576b\"],[0.6666666666666666,\"#ed7953\"],[0.7777777777777778,\"#fb9f3a\"],[0.8888888888888888,\"#fdca26\"],[1.0,\"#f0f921\"]],\"sequentialminus\":[[0.0,\"#0d0887\"],[0.1111111111111111,\"#46039f\"],[0.2222222222222222,\"#7201a8\"],[0.3333333333333333,\"#9c179e\"],[0.4444444444444444,\"#bd3786\"],[0.5555555555555556,\"#d8576b\"],[0.6666666666666666,\"#ed7953\"],[0.7777777777777778,\"#fb9f3a\"],[0.8888888888888888,\"#fdca26\"],[1.0,\"#f0f921\"]],\"diverging\":[[0,\"#8e0152\"],[0.1,\"#c51b7d\"],[0.2,\"#de77ae\"],[0.3,\"#f1b6da\"],[0.4,\"#fde0ef\"],[0.5,\"#f7f7f7\"],[0.6,\"#e6f5d0\"],[0.7,\"#b8e186\"],[0.8,\"#7fbc41\"],[0.9,\"#4d9221\"],[1,\"#276419\"]]},\"xaxis\":{\"gridcolor\":\"white\",\"linecolor\":\"white\",\"ticks\":\"\",\"title\":{\"standoff\":15},\"zerolinecolor\":\"white\",\"automargin\":true,\"zerolinewidth\":2},\"yaxis\":{\"gridcolor\":\"white\",\"linecolor\":\"white\",\"ticks\":\"\",\"title\":{\"standoff\":15},\"zerolinecolor\":\"white\",\"automargin\":true,\"zerolinewidth\":2},\"scene\":{\"xaxis\":{\"backgroundcolor\":\"#E5ECF6\",\"gridcolor\":\"white\",\"linecolor\":\"white\",\"showbackground\":true,\"ticks\":\"\",\"zerolinecolor\":\"white\",\"gridwidth\":2},\"yaxis\":{\"backgroundcolor\":\"#E5ECF6\",\"gridcolor\":\"white\",\"linecolor\":\"white\",\"showbackground\":true,\"ticks\":\"\",\"zerolinecolor\":\"white\",\"gridwidth\":2},\"zaxis\":{\"backgroundcolor\":\"#E5ECF6\",\"gridcolor\":\"white\",\"linecolor\":\"white\",\"showbackground\":true,\"ticks\":\"\",\"zerolinecolor\":\"white\",\"gridwidth\":2}},\"shapedefaults\":{\"line\":{\"color\":\"#2a3f5f\"}},\"annotationdefaults\":{\"arrowcolor\":\"#2a3f5f\",\"arrowhead\":0,\"arrowwidth\":1},\"geo\":{\"bgcolor\":\"white\",\"landcolor\":\"#E5ECF6\",\"subunitcolor\":\"white\",\"showland\":true,\"showlakes\":true,\"lakecolor\":\"white\"},\"title\":{\"x\":0.05},\"mapbox\":{\"style\":\"light\"}}},\"title\":{\"text\":\"$\\\\text{Actual } R_{pd} \\\\text{ vs. } h_I[j]\\\\circledast I_{pd}[j]$\",\"x\":0.5,\"xanchor\":\"center\"},\"xaxis\":{\"title\":{\"text\":\"Day\"}},\"yaxis\":{\"title\":{\"text\":\"Count\"}}},                        {\"responsive\": true}                    ).then(function(){\n",
              "                            \n",
              "var gd = document.getElementById('810a19f1-4d40-4fbd-8aa7-32d37841f164');\n",
              "var x = new MutationObserver(function (mutations, observer) {{\n",
              "        var display = window.getComputedStyle(gd).display;\n",
              "        if (!display || display === 'none') {{\n",
              "            console.log([gd, 'removed!']);\n",
              "            Plotly.purge(gd);\n",
              "            observer.disconnect();\n",
              "        }}\n",
              "}});\n",
              "\n",
              "// Listen for the removal of the full notebook cells\n",
              "var notebookContainer = gd.closest('#notebook-container');\n",
              "if (notebookContainer) {{\n",
              "    x.observe(notebookContainer, {childList: true});\n",
              "}}\n",
              "\n",
              "// Listen for the clearing of the current output cell\n",
              "var outputEl = gd.closest('.output');\n",
              "if (outputEl) {{\n",
              "    x.observe(outputEl, {childList: true});\n",
              "}}\n",
              "\n",
              "                        })                };            </script>        </div>"
            ]
          },
          "metadata": {},
          "output_type": "display_data"
        }
      ],
      "source": [
        "#| code-fold: true\n",
        "\n",
        "fig = go.Figure(data=[    \n",
        "    go.Scatter(name='Rpd_Actual', x=np.arange(len(results_stoch0[6])), y=results_stoch0[6]),\n",
        "    go.Scatter(name='Rpd_convolved', x=np.arange(len(Rpd)), y=Rpd)\n",
        "])\n",
        "\n",
        "fig.update_layout(\n",
        "    xaxis_title = 'Day',\n",
        "    yaxis_title = 'Count',\n",
        "    title={\n",
        "        'text':r'$\\text{Actual } R_{pd} \\text{ vs. } h_I[j]\\circledast I_{pd}[j]$',\n",
        "        'x':0.5,\n",
        "        'xanchor':'center'\n",
        "    }\n",
        ")\n",
        "\n",
        "fig.show()"
      ]
    },
    {
      "attachments": {},
      "cell_type": "markdown",
      "metadata": {
        "colab_type": "text",
        "id": "qAQf1SugpivG"
      },
      "source": [
        "## De-convolution\n",
        "\n",
        "We get very close matches when convlving, can we obtain similar results by deconvolving?"
      ]
    },
    {
      "attachments": {},
      "cell_type": "markdown",
      "metadata": {
        "colab_type": "text",
        "id": "8qoovq78rj9n"
      },
      "source": [
        "### Problems with de-convolution\n",
        "\n",
        "**Illl-posed**\n",
        "\n",
        "Unfortunately de-convolution is not as straightforward as the convolution.\n",
        "\n",
        "A quick recap of the math, in the frequency domain we have (Fourier or z transform)\n",
        "$$F \\{ f ∗ g \\} = F \\{ f \\} ~ F \\{ g \\}$$\n",
        "And so if we have:\n",
        "$$y=\\ f ∗ g$$\n",
        "Then:\n",
        "$$F \\{ y \\} = F \\{ f \\} ~ F \\{ g \\}$$\n",
        "And:\n",
        "$$g = F^{-1} \\left(\\frac{F\\{y\\}}{F\\{f\\}} \\right) $$\n",
        "\n",
        "But this last equation is often ill-posed.\n",
        "\n",
        "**Noise in data**\n",
        "\n",
        "We can see above that daily new data varies a lot from day to day due to the stochasticity of the model. This results in high-frequency decomposition in the frequency domain.\n",
        "\n",
        "**Initial conditions and boundary-value problems**\n",
        "\n",
        "Boundary values refer to the values on day 0 and the last day we have data for. Due to the way data is reported on JHU, we someimes have crayz values here, most commonly a value of 0 for the latest day if the data isn0t reported on time for example. These gaps can create issues for deconvolution.\n",
        "\n",
        "In the next blog post I go around this by simplz averaging the last 3 days instead of using only the last day."
      ]
    },
    {
      "attachments": {},
      "cell_type": "markdown",
      "metadata": {
        "colab_type": "text",
        "id": "zbZarAN6vCx6"
      },
      "source": [
        "### Solutions to these problems"
      ]
    },
    {
      "attachments": {},
      "cell_type": "markdown",
      "metadata": {
        "colab_type": "text",
        "id": "53N7Kj2EvO6i"
      },
      "source": [
        "####Iterative deconvoluton\n",
        "\n",
        "Multiple iterative deconvolution algorithms exist: Lucy_Richardson, Gold, or Van Cittert among others.\n",
        "\n",
        "LR has already been used to get daily incidence of the Spanish flu based on death records in Philadelphia at the time for example [1](https://doi.org/10.1073/pnas.0902958106).\n",
        "\n",
        "\n",
        "An adaptation of those above is used here with the basics below (see code for details):\n",
        "\n",
        "Let's use the equation for $I_{pd}$ as an example:\n",
        "$$I_{pd}[j] = \\sum_{n_L=0}^{M_L-1}h_L[n_L]~E_{pd}[j-n_L]= h_L[j]\\circledast E_{pd}[j]$$\n",
        "\n",
        "The idea is that after an initial guess for $E_{pd}$ we can iteraively find a better one."
      ]
    },
    {
      "attachments": {},
      "cell_type": "markdown",
      "metadata": {
        "colab_type": "text",
        "id": "KaRziTnNvO1V"
      },
      "source": [
        "With the $n^{th}$ guess for $E_{pd}$ written as $E_{pd, n}$  we have:\n",
        "$$I_{pd}[j]= h_L[j]\\circledast E_{pd, n}[j]$$\n",
        "$$\\leftrightarrow 0 = I_{pd}[j] - h_L[j]\\circledast E_{pd, n}[j]$$\n",
        "$$\\leftrightarrow E_{pd,n+1} = E_{pd,n} + I_{pd}[j] - h_L[j]\\circledast E_{pd, n}[j]$$\n",
        "\n",
        "Where $O[j] = I_{pd}[j] - h_L[j]\\circledast E_{pd, n}[j]$ is the error term."
      ]
    },
    {
      "attachments": {},
      "cell_type": "markdown",
      "metadata": {
        "colab_type": "text",
        "id": "p8NZPaL7vOxE"
      },
      "source": [
        "Hence we want to minimze O[j]."
      ]
    },
    {
      "attachments": {},
      "cell_type": "markdown",
      "metadata": {
        "colab_type": "text",
        "id": "ELn5dYKIytBd"
      },
      "source": [
        "**Initial guess**\n",
        "\n",
        "We know our $h_L$ and $h_I$ are in part simply delay functions, so an initial first guess is to simply use the same signal delayed by the time difference caused by the impulse response.\n",
        "\n"
      ]
    },
    {
      "attachments": {},
      "cell_type": "markdown",
      "metadata": {
        "colab_type": "text",
        "id": "w8Vfq1Cw2dHP"
      },
      "source": [
        "#### Low-pass filter"
      ]
    },
    {
      "attachments": {},
      "cell_type": "markdown",
      "metadata": {
        "colab_type": "text",
        "id": "BL8Uyld72gTU"
      },
      "source": [
        "To go around those high-frequency notes in the data, we can siply use a lowpass filter implemented as a butterworth filter below:\n",
        "\n",
        "The basic effect is that it smoothes the daily values as we have when convolving from the previous state daily values."
      ]
    },
    {
      "cell_type": "code",
      "execution_count": 42,
      "metadata": {
        "colab": {},
        "colab_type": "code",
        "id": "b8E8n-VJ2qLn"
      },
      "outputs": [],
      "source": [
        "#| code-fold: true\n",
        "\n",
        "def lowpass(x, fc=0.05):\n",
        "  fs = 1  # Sampling frequency\n",
        "  t = np.arange(len(x)) #select number of days done in SEIR model\n",
        "  signala = x\n",
        "\n",
        "  #fc = 0.05  # Cut-off frequency of the filter\n",
        "  w = fc / (fs / 2) # Normalize the frequency\n",
        "  b, a = signal.butter(5, w, 'low')\n",
        "  return signal.filtfilt(b, a, signala)"
      ]
    },
    {
      "attachments": {},
      "cell_type": "markdown",
      "metadata": {
        "colab_type": "text",
        "id": "Gs2tOFPNuoXM"
      },
      "source": [
        "## Deconvolution in practice"
      ]
    },
    {
      "attachments": {},
      "cell_type": "markdown",
      "metadata": {
        "colab_type": "text",
        "id": "nJXY8O1au8Uy"
      },
      "source": [
        "### Coding the iterative deconvolution"
      ]
    },
    {
      "cell_type": "code",
      "execution_count": 43,
      "metadata": {
        "colab": {},
        "colab_type": "code",
        "id": "Y-Mk4LRon9AR"
      },
      "outputs": [],
      "source": [
        "#| code-fold: true\n",
        "\n",
        "# Let's define an iteration function:\n",
        "def iter_deconv(alpha, impulse_response, input_signal, delay, comparator):\n",
        "  conv=signal.fftconvolve(impulse_response, input_signal, mode='full')\n",
        "  correction=np.roll(comparator-conv[:len(comparator)], delay)\n",
        "  input_signal=np.floor(lowpass(alpha*correction+input_signal))\n",
        "  input_signal[input_signal<0]=0\n",
        "  return input_signal\n",
        "\n",
        "# Define a function to return MSE between two signals as a measure of goodness of fit\n",
        "def msecalc(A, B):\n",
        "  return ((A - B)**2).mean(axis=0)"
      ]
    },
    {
      "attachments": {},
      "cell_type": "markdown",
      "metadata": {
        "colab_type": "text",
        "id": "AE-CUEtgpkQn"
      },
      "source": [
        "### Comparing $E_{pd}$ from the model to $E_{pd}$ obtained by de-convolving $I_{pd}$"
      ]
    },
    {
      "cell_type": "code",
      "execution_count": 44,
      "metadata": {
        "colab": {
          "base_uri": "https://localhost:8080/",
          "height": 277
        },
        "colab_type": "code",
        "id": "0Tb6eYiM7lXs",
        "outputId": "f6346e4f-cdb0-45d3-a5a8-5b9eef448d6d"
      },
      "outputs": [
        {
          "name": "stdout",
          "output_type": "stream",
          "text": [
            "Iteration #1: MSE= 105.28720565338028\n",
            "Iteration #2: MSE= 29.158850842733937\n",
            "Iteration #3: MSE= 15.907016653536498\n",
            "Iteration #4: MSE= 10.980828050966586\n",
            "Iteration #5: MSE= 7.809812809705651\n",
            "Iteration #6: MSE= 6.028925550631545\n",
            "Iteration #7: MSE= 4.73466284803095\n",
            "Iteration #8: MSE= 3.9923169522974056\n",
            "Iteration #9: MSE= 3.4838714972997504\n",
            "Iteration #10: MSE= 3.0946057587859834\n",
            "Iteration #11: MSE= 2.760477996717779\n",
            "Iteration #12: MSE= 2.528570679407976\n",
            "Iteration #13: MSE= 2.368434059003949\n",
            "Iteration #14: MSE= 2.1886814628096554\n",
            "Iteration #15: MSE= 2.215493187867861 so we use the result of the previous iteration.\n"
          ]
        }
      ],
      "source": [
        "#| code-fold: true\n",
        "\n",
        "#regularization parameter\n",
        "alpha=2\n",
        "\n",
        "# Setup up the resultant Ipd we want to compare our guess with\n",
        "Ipd=np.floor(lowpass(results_stoch0[5]))\n",
        "Ipd[Ipd<0]=0\n",
        "\n",
        "# Find delay caused by h_L\n",
        "delay=Ipd.argmax()-signal.fftconvolve(Ipd, h_L, mode='full').argmax()\n",
        "\n",
        "# We want initial guess to simply be the result of the convolution delayed\n",
        "initial_guess=np.roll(Ipd,delay)\n",
        "Enext = initial_guess\n",
        "\n",
        "# AN array to record MSE between result we want and our iterated guess\n",
        "mse=np.array([])\n",
        "mse=np.append(mse, 100000)\n",
        "mse=np.append(mse, msecalc(Ipd, signal.fftconvolve(h_L, Enext, mode='full')[:len(Ipd)]))\n",
        "\n",
        "itercount=0\n",
        "while mse[-1] < mse[-2]:\n",
        "  itercount=itercount+1\n",
        "  Enext=iter_deconv(alpha, h_L, Enext, delay, Ipd)\n",
        "  mse=np.append(mse, msecalc(Ipd, signal.fftconvolve(h_L, Enext, mode='full')[:len(Ipd)]))\n",
        "  print(\"Iteration #\" + str(itercount) +\": MSE= \"+str(mse[itercount]))\n",
        "print(\"Iteration #\" + str(itercount+1) +\": MSE= \"+str(mse[-1])+\" so we use the result of the previous iteration.\")"
      ]
    },
    {
      "cell_type": "code",
      "execution_count": 45,
      "metadata": {
        "colab": {
          "base_uri": "https://localhost:8080/",
          "height": 542
        },
        "colab_type": "code",
        "id": "VRmxzerODBt5",
        "outputId": "3974bf33-4516-4519-d805-27bfab4c3fcb"
      },
      "outputs": [
        {
          "data": {
            "application/vnd.plotly.v1+json": {
              "config": {
                "plotlyServerURL": "https://plot.ly"
              },
              "data": [
                {
                  "name": "E_pd",
                  "type": "scatter",
                  "x": {
                    "bdata": "AAABAAIAAwAEAAUABgAHAAgACQAKAAsADAANAA4ADwAQABEAEgATABQAFQAWABcAGAAZABoAGwAcAB0AHgAfACAAIQAiACMAJAAlACYAJwAoACkAKgArACwALQAuAC8AMAAxADIAMwA0ADUANgA3ADgAOQA6ADsAPAA9AD4APwBAAEEAQgBDAEQARQBGAEcASABJAEoASwBMAE0ATgBPAFAAUQBSAFMAVABVAFYAVwBYAFkAWgBbAFwAXQBeAF8AYABhAGIAYwBkAGUAZgBnAGgAaQBqAGsAbABtAG4AbwBwAHEAcgBzAHQAdQB2AHcAeAB5AHoAewB8AH0AfgB/AIAAgQCCAIMAhACFAIYAhwCIAIkAigCLAIwAjQCOAI8AkACRAJIAkwCUAJUA",
                    "dtype": "i2"
                  },
                  "y": {
                    "bdata": "AQAAAAAAAAAAAAAAAAAAAAAAAQABAAIAAQAAAAAAAQAAAAMAAAADAAEAAQABAAIACQACAAgAAwAKAAsACQAHAA4ADAAGAA8AHgAiABYAHAAnACIANgBJADkASABfAG8AeQCQAKIAwwDGAOIAKQEeAQ8BPQF1AagBswG0AeoB8gHwAf0B5wHbAZgBiAFLAS8BDgHAAIIAYgBXADwAKwAVABIACAAIAAcAAQACAAIAAgABAAEAAAAAAAAAAAAAAAEAAQAAAAAAAAAAAAAAAAAAAAAAAAAAAAAAAAAAAAAAAAAAAAAAAAAAAAAAAAAAAAAAAAAAAAAAAAAAAAAAAAAAAAAAAAAAAAAAAAAAAAAAAAAAAAAAAAAAAAAAAAAAAAAAAAAAAAAAAAAAAAAAAAAAAAAAAAAAAAAAAAAAAAAAAAAAAAAAAAAAAAAAAAAAAAAAAAAAAAAAAAAAAAAAAAAAAAAAAAAAAAAAAAAAAAAAAAAAAAAAAAAAAAAAAAAAAAAAAAAAAAAAAAAAAAAAAAAAAAAAAAAAAAAAAAAAAAAAAAAAAAAAAAAAAAAAAAAAAAAAAAAAAAAAAAAAAAAAAAAAAAAAAAAAAAAAAAAAAAAAAAAAAAAAAAAAAAAAAAAAAAAAAAAAAAAAAAAAAAAAAAAAAAAAAAAAAAAAAAAAAAAAAAAAAAAAAAAAAAAAAAAAAAAAAAAAAAAAAAAAAAAAAAAAAAAAAAAAAAAAAAAAAAAAAAAAAAAAAAAAAAAAAAAAAAAAAAAAAAAAAAAAAAAAAAAAAAAAAAAAAA==",
                    "dtype": "i2"
                  }
                },
                {
                  "name": "Epd=lowpass(E_pd)",
                  "type": "scatter",
                  "x": {
                    "bdata": "AAABAAIAAwAEAAUABgAHAAgACQAKAAsADAANAA4ADwAQABEAEgATABQAFQAWABcAGAAZABoAGwAcAB0AHgAfACAAIQAiACMAJAAlACYAJwAoACkAKgArACwALQAuAC8AMAAxADIAMwA0ADUANgA3ADgAOQA6ADsAPAA9AD4APwBAAEEAQgBDAEQARQBGAEcASABJAEoASwBMAE0ATgBPAFAAUQBSAFMAVABVAFYAVwBYAFkAWgBbAFwAXQBeAF8AYABhAGIAYwBkAGUAZgBnAGgAaQBqAGsAbABtAG4AbwBwAHEAcgBzAHQAdQB2AHcAeAB5AHoAewB8AH0AfgB/AIAAgQCCAIMAhACFAIYAhwCIAIkAigCLAIwAjQCOAI8AkACRAJIAkwCUAJUA",
                    "dtype": "i2"
                  },
                  "y": {
                    "bdata": "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",
                    "dtype": "f8"
                  }
                },
                {
                  "name": "Epd=deconv(I_pd)",
                  "type": "scatter",
                  "x": {
                    "bdata": "AAABAAIAAwAEAAUABgAHAAgACQAKAAsADAANAA4ADwAQABEAEgATABQAFQAWABcAGAAZABoAGwAcAB0AHgAfACAAIQAiACMAJAAlACYAJwAoACkAKgArACwALQAuAC8AMAAxADIAMwA0ADUANgA3ADgAOQA6ADsAPAA9AD4APwBAAEEAQgBDAEQARQBGAEcASABJAEoASwBMAE0ATgBPAFAAUQBSAFMAVABVAFYAVwBYAFkAWgBbAFwAXQBeAF8AYABhAGIAYwBkAGUAZgBnAGgAaQBqAGsAbABtAG4AbwBwAHEAcgBzAHQAdQB2AHcAeAB5AHoAewB8AH0AfgB/AIAAgQCCAIMAhACFAIYAhwCIAIkAigCLAIwAjQCOAI8AkACRAJIAkwCUAJUA",
                    "dtype": "i2"
                  },
                  "y": {
                    "bdata": "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",
                    "dtype": "f8"
                  }
                },
                {
                  "name": "I_pd",
                  "type": "scatter",
                  "x": {
                    "bdata": "AAABAAIAAwAEAAUABgAHAAgACQAKAAsADAANAA4ADwAQABEAEgATABQAFQAWABcAGAAZABoAGwAcAB0AHgAfACAAIQAiACMAJAAlACYAJwAoACkAKgArACwALQAuAC8AMAAxADIAMwA0ADUANgA3ADgAOQA6ADsAPAA9AD4APwBAAEEAQgBDAEQARQBGAEcASABJAEoASwBMAE0ATgBPAFAAUQBSAFMAVABVAFYAVwBYAFkAWgBbAFwAXQBeAF8AYABhAGIAYwBkAGUAZgBnAGgAaQBqAGsAbABtAG4AbwBwAHEAcgBzAHQAdQB2AHcAeAB5AHoAewB8AH0AfgB/AIAAgQCCAIMAhACFAIYAhwCIAIkAigCLAIwAjQCOAI8AkACRAJIAkwCUAJUA",
                    "dtype": "i2"
                  },
                  "y": {
                    "bdata": "AAAAAAAAAAAAAAAAAAABAAAAAAAAAAAAAAAAAAAAAAABAAAAAQAAAAIAAQABAAAAAQABAAMAAgAAAAIABQAHAAQACAAIAAcAAwAMAAcADwATAAwADwAUABAAKAAjACQAOAAyADkAQABiAFMAcAByAIMAlQCuALUA9QD5APoADgFOAWgBWQGJAbEBtwGqAa0BqwGUAZkBggFjAUEBGAEFAe0A1gCkAHoAlABWAGAASwA2AC4AJwAaACEAEwAKAAgADQAJAAgABQAFAAMABAAAAAAAAAACAAEAAAAAAAEAAQABAAAAAAAAAAAAAAAAAAAAAAAAAAAAAAAAAAAAAAAAAAAAAAAAAAAAAAAAAAAAAAAAAAAAAAAAAAAAAAAAAAAAAAAAAAAAAAAAAAAAAAAAAAAAAAAAAAAAAAAAAAAAAAAAAAAAAAAAAAAAAAAAAAAAAAAAAAAAAAAAAAAAAAAAAAAAAAAAAAAAAAAAAAAAAAAAAAAAAAAAAAAAAAAAAAAAAAAAAAAAAAAAAAAAAAAAAAAAAAAAAAAAAAAAAAAAAAAAAAAAAAAAAAAAAAAAAAAAAAAAAAAAAAAAAAAAAAAAAAAAAAAAAAAAAAAAAAAAAAAAAAAAAAAAAAAAAAAAAAAAAAAAAAAAAAAAAAAAAAAAAAAAAAAAAAAAAAAAAAAAAAAAAAAAAAAAAAAAAAAAAAAAAAAAAAAAAAAAAAAAAAAAAAAAAAAAAAAAAAAAAAAAAAAAAAAAAAAAAAAAAAAAAAAAAAAAAAAAAAAAAAAAAAAAAAAAAAAAAA==",
                    "dtype": "i2"
                  }
                },
                {
                  "name": "Ipd=lowpass(I_pd)",
                  "type": "scatter",
                  "x": {
                    "bdata": "AAABAAIAAwAEAAUABgAHAAgACQAKAAsADAANAA4ADwAQABEAEgATABQAFQAWABcAGAAZABoAGwAcAB0AHgAfACAAIQAiACMAJAAlACYAJwAoACkAKgArACwALQAuAC8AMAAxADIAMwA0ADUANgA3ADgAOQA6ADsAPAA9AD4APwBAAEEAQgBDAEQARQBGAEcASABJAEoASwBMAE0ATgBPAFAAUQBSAFMAVABVAFYAVwBYAFkAWgBbAFwAXQBeAF8AYABhAGIAYwBkAGUAZgBnAGgAaQBqAGsAbABtAG4AbwBwAHEAcgBzAHQAdQB2AHcAeAB5AHoAewB8AH0AfgB/AIAAgQCCAIMAhACFAIYAhwCIAIkAigCLAIwAjQCOAI8AkACRAJIAkwCUAJUA",
                    "dtype": "i2"
                  },
                  "y": {
                    "bdata": "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",
                    "dtype": "f8"
                  }
                },
                {
                  "name": "Ipd=conv(E_pd)",
                  "type": "scatter",
                  "x": {
                    "bdata": "AAABAAIAAwAEAAUABgAHAAgACQAKAAsADAANAA4ADwAQABEAEgATABQAFQAWABcAGAAZABoAGwAcAB0AHgAfACAAIQAiACMAJAAlACYAJwAoACkAKgArACwALQAuAC8AMAAxADIAMwA0ADUANgA3ADgAOQA6ADsAPAA9AD4APwBAAEEAQgBDAEQARQBGAEcASABJAEoASwBMAE0ATgBPAFAAUQBSAFMAVABVAFYAVwBYAFkAWgBbAFwAXQBeAF8AYABhAGIAYwBkAGUAZgBnAGgAaQBqAGsAbABtAG4AbwBwAHEAcgBzAHQAdQB2AHcAeAB5AHoAewB8AH0AfgB/AIAAgQCCAIMAhACFAIYAhwCIAIkAigCLAIwAjQCOAI8AkACRAJIAkwCUAJUA",
                    "dtype": "i2"
                  },
                  "y": {
                    "bdata": "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",
                    "dtype": "f8"
                  }
                },
                {
                  "name": "Ipd=conv(deconv(Ipd))",
                  "type": "scatter",
                  "x": {
                    "bdata": "AAABAAIAAwAEAAUABgAHAAgACQAKAAsADAANAA4ADwAQABEAEgATABQAFQAWABcAGAAZABoAGwAcAB0AHgAfACAAIQAiACMAJAAlACYAJwAoACkAKgArACwALQAuAC8AMAAxADIAMwA0ADUANgA3ADgAOQA6ADsAPAA9AD4APwBAAEEAQgBDAEQARQBGAEcASABJAEoASwBMAE0ATgBPAFAAUQBSAFMAVABVAFYAVwBYAFkAWgBbAFwAXQBeAF8AYABhAGIAYwBkAGUAZgBnAGgAaQBqAGsAbABtAG4AbwBwAHEAcgBzAHQAdQB2AHcAeAB5AHoAewB8AH0AfgB/AIAAgQCCAIMAhACFAIYAhwCIAIkAigCLAIwAjQCOAI8AkACRAJIAkwCUAJUA",
                    "dtype": "i2"
                  },
                  "y": {
                    "bdata": "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",
                    "dtype": "f8"
                  }
                }
              ],
              "layout": {
                "template": {
                  "data": {
                    "bar": [
                      {
                        "error_x": {
                          "color": "#2a3f5f"
                        },
                        "error_y": {
                          "color": "#2a3f5f"
                        },
                        "marker": {
                          "line": {
                            "color": "#E5ECF6",
                            "width": 0.5
                          },
                          "pattern": {
                            "fillmode": "overlay",
                            "size": 10,
                            "solidity": 0.2
                          }
                        },
                        "type": "bar"
                      }
                    ],
                    "barpolar": [
                      {
                        "marker": {
                          "line": {
                            "color": "#E5ECF6",
                            "width": 0.5
                          },
                          "pattern": {
                            "fillmode": "overlay",
                            "size": 10,
                            "solidity": 0.2
                          }
                        },
                        "type": "barpolar"
                      }
                    ],
                    "carpet": [
                      {
                        "aaxis": {
                          "endlinecolor": "#2a3f5f",
                          "gridcolor": "white",
                          "linecolor": "white",
                          "minorgridcolor": "white",
                          "startlinecolor": "#2a3f5f"
                        },
                        "baxis": {
                          "endlinecolor": "#2a3f5f",
                          "gridcolor": "white",
                          "linecolor": "white",
                          "minorgridcolor": "white",
                          "startlinecolor": "#2a3f5f"
                        },
                        "type": "carpet"
                      }
                    ],
                    "choropleth": [
                      {
                        "colorbar": {
                          "outlinewidth": 0,
                          "ticks": ""
                        },
                        "type": "choropleth"
                      }
                    ],
                    "contour": [
                      {
                        "colorbar": {
                          "outlinewidth": 0,
                          "ticks": ""
                        },
                        "colorscale": [
                          [
                            0,
                            "#0d0887"
                          ],
                          [
                            0.1111111111111111,
                            "#46039f"
                          ],
                          [
                            0.2222222222222222,
                            "#7201a8"
                          ],
                          [
                            0.3333333333333333,
                            "#9c179e"
                          ],
                          [
                            0.4444444444444444,
                            "#bd3786"
                          ],
                          [
                            0.5555555555555556,
                            "#d8576b"
                          ],
                          [
                            0.6666666666666666,
                            "#ed7953"
                          ],
                          [
                            0.7777777777777778,
                            "#fb9f3a"
                          ],
                          [
                            0.8888888888888888,
                            "#fdca26"
                          ],
                          [
                            1,
                            "#f0f921"
                          ]
                        ],
                        "type": "contour"
                      }
                    ],
                    "contourcarpet": [
                      {
                        "colorbar": {
                          "outlinewidth": 0,
                          "ticks": ""
                        },
                        "type": "contourcarpet"
                      }
                    ],
                    "heatmap": [
                      {
                        "colorbar": {
                          "outlinewidth": 0,
                          "ticks": ""
                        },
                        "colorscale": [
                          [
                            0,
                            "#0d0887"
                          ],
                          [
                            0.1111111111111111,
                            "#46039f"
                          ],
                          [
                            0.2222222222222222,
                            "#7201a8"
                          ],
                          [
                            0.3333333333333333,
                            "#9c179e"
                          ],
                          [
                            0.4444444444444444,
                            "#bd3786"
                          ],
                          [
                            0.5555555555555556,
                            "#d8576b"
                          ],
                          [
                            0.6666666666666666,
                            "#ed7953"
                          ],
                          [
                            0.7777777777777778,
                            "#fb9f3a"
                          ],
                          [
                            0.8888888888888888,
                            "#fdca26"
                          ],
                          [
                            1,
                            "#f0f921"
                          ]
                        ],
                        "type": "heatmap"
                      }
                    ],
                    "histogram": [
                      {
                        "marker": {
                          "pattern": {
                            "fillmode": "overlay",
                            "size": 10,
                            "solidity": 0.2
                          }
                        },
                        "type": "histogram"
                      }
                    ],
                    "histogram2d": [
                      {
                        "colorbar": {
                          "outlinewidth": 0,
                          "ticks": ""
                        },
                        "colorscale": [
                          [
                            0,
                            "#0d0887"
                          ],
                          [
                            0.1111111111111111,
                            "#46039f"
                          ],
                          [
                            0.2222222222222222,
                            "#7201a8"
                          ],
                          [
                            0.3333333333333333,
                            "#9c179e"
                          ],
                          [
                            0.4444444444444444,
                            "#bd3786"
                          ],
                          [
                            0.5555555555555556,
                            "#d8576b"
                          ],
                          [
                            0.6666666666666666,
                            "#ed7953"
                          ],
                          [
                            0.7777777777777778,
                            "#fb9f3a"
                          ],
                          [
                            0.8888888888888888,
                            "#fdca26"
                          ],
                          [
                            1,
                            "#f0f921"
                          ]
                        ],
                        "type": "histogram2d"
                      }
                    ],
                    "histogram2dcontour": [
                      {
                        "colorbar": {
                          "outlinewidth": 0,
                          "ticks": ""
                        },
                        "colorscale": [
                          [
                            0,
                            "#0d0887"
                          ],
                          [
                            0.1111111111111111,
                            "#46039f"
                          ],
                          [
                            0.2222222222222222,
                            "#7201a8"
                          ],
                          [
                            0.3333333333333333,
                            "#9c179e"
                          ],
                          [
                            0.4444444444444444,
                            "#bd3786"
                          ],
                          [
                            0.5555555555555556,
                            "#d8576b"
                          ],
                          [
                            0.6666666666666666,
                            "#ed7953"
                          ],
                          [
                            0.7777777777777778,
                            "#fb9f3a"
                          ],
                          [
                            0.8888888888888888,
                            "#fdca26"
                          ],
                          [
                            1,
                            "#f0f921"
                          ]
                        ],
                        "type": "histogram2dcontour"
                      }
                    ],
                    "mesh3d": [
                      {
                        "colorbar": {
                          "outlinewidth": 0,
                          "ticks": ""
                        },
                        "type": "mesh3d"
                      }
                    ],
                    "parcoords": [
                      {
                        "line": {
                          "colorbar": {
                            "outlinewidth": 0,
                            "ticks": ""
                          }
                        },
                        "type": "parcoords"
                      }
                    ],
                    "pie": [
                      {
                        "automargin": true,
                        "type": "pie"
                      }
                    ],
                    "scatter": [
                      {
                        "fillpattern": {
                          "fillmode": "overlay",
                          "size": 10,
                          "solidity": 0.2
                        },
                        "type": "scatter"
                      }
                    ],
                    "scatter3d": [
                      {
                        "line": {
                          "colorbar": {
                            "outlinewidth": 0,
                            "ticks": ""
                          }
                        },
                        "marker": {
                          "colorbar": {
                            "outlinewidth": 0,
                            "ticks": ""
                          }
                        },
                        "type": "scatter3d"
                      }
                    ],
                    "scattercarpet": [
                      {
                        "marker": {
                          "colorbar": {
                            "outlinewidth": 0,
                            "ticks": ""
                          }
                        },
                        "type": "scattercarpet"
                      }
                    ],
                    "scattergeo": [
                      {
                        "marker": {
                          "colorbar": {
                            "outlinewidth": 0,
                            "ticks": ""
                          }
                        },
                        "type": "scattergeo"
                      }
                    ],
                    "scattergl": [
                      {
                        "marker": {
                          "colorbar": {
                            "outlinewidth": 0,
                            "ticks": ""
                          }
                        },
                        "type": "scattergl"
                      }
                    ],
                    "scattermap": [
                      {
                        "marker": {
                          "colorbar": {
                            "outlinewidth": 0,
                            "ticks": ""
                          }
                        },
                        "type": "scattermap"
                      }
                    ],
                    "scattermapbox": [
                      {
                        "marker": {
                          "colorbar": {
                            "outlinewidth": 0,
                            "ticks": ""
                          }
                        },
                        "type": "scattermapbox"
                      }
                    ],
                    "scatterpolar": [
                      {
                        "marker": {
                          "colorbar": {
                            "outlinewidth": 0,
                            "ticks": ""
                          }
                        },
                        "type": "scatterpolar"
                      }
                    ],
                    "scatterpolargl": [
                      {
                        "marker": {
                          "colorbar": {
                            "outlinewidth": 0,
                            "ticks": ""
                          }
                        },
                        "type": "scatterpolargl"
                      }
                    ],
                    "scatterternary": [
                      {
                        "marker": {
                          "colorbar": {
                            "outlinewidth": 0,
                            "ticks": ""
                          }
                        },
                        "type": "scatterternary"
                      }
                    ],
                    "surface": [
                      {
                        "colorbar": {
                          "outlinewidth": 0,
                          "ticks": ""
                        },
                        "colorscale": [
                          [
                            0,
                            "#0d0887"
                          ],
                          [
                            0.1111111111111111,
                            "#46039f"
                          ],
                          [
                            0.2222222222222222,
                            "#7201a8"
                          ],
                          [
                            0.3333333333333333,
                            "#9c179e"
                          ],
                          [
                            0.4444444444444444,
                            "#bd3786"
                          ],
                          [
                            0.5555555555555556,
                            "#d8576b"
                          ],
                          [
                            0.6666666666666666,
                            "#ed7953"
                          ],
                          [
                            0.7777777777777778,
                            "#fb9f3a"
                          ],
                          [
                            0.8888888888888888,
                            "#fdca26"
                          ],
                          [
                            1,
                            "#f0f921"
                          ]
                        ],
                        "type": "surface"
                      }
                    ],
                    "table": [
                      {
                        "cells": {
                          "fill": {
                            "color": "#EBF0F8"
                          },
                          "line": {
                            "color": "white"
                          }
                        },
                        "header": {
                          "fill": {
                            "color": "#C8D4E3"
                          },
                          "line": {
                            "color": "white"
                          }
                        },
                        "type": "table"
                      }
                    ]
                  },
                  "layout": {
                    "annotationdefaults": {
                      "arrowcolor": "#2a3f5f",
                      "arrowhead": 0,
                      "arrowwidth": 1
                    },
                    "autotypenumbers": "strict",
                    "coloraxis": {
                      "colorbar": {
                        "outlinewidth": 0,
                        "ticks": ""
                      }
                    },
                    "colorscale": {
                      "diverging": [
                        [
                          0,
                          "#8e0152"
                        ],
                        [
                          0.1,
                          "#c51b7d"
                        ],
                        [
                          0.2,
                          "#de77ae"
                        ],
                        [
                          0.3,
                          "#f1b6da"
                        ],
                        [
                          0.4,
                          "#fde0ef"
                        ],
                        [
                          0.5,
                          "#f7f7f7"
                        ],
                        [
                          0.6,
                          "#e6f5d0"
                        ],
                        [
                          0.7,
                          "#b8e186"
                        ],
                        [
                          0.8,
                          "#7fbc41"
                        ],
                        [
                          0.9,
                          "#4d9221"
                        ],
                        [
                          1,
                          "#276419"
                        ]
                      ],
                      "sequential": [
                        [
                          0,
                          "#0d0887"
                        ],
                        [
                          0.1111111111111111,
                          "#46039f"
                        ],
                        [
                          0.2222222222222222,
                          "#7201a8"
                        ],
                        [
                          0.3333333333333333,
                          "#9c179e"
                        ],
                        [
                          0.4444444444444444,
                          "#bd3786"
                        ],
                        [
                          0.5555555555555556,
                          "#d8576b"
                        ],
                        [
                          0.6666666666666666,
                          "#ed7953"
                        ],
                        [
                          0.7777777777777778,
                          "#fb9f3a"
                        ],
                        [
                          0.8888888888888888,
                          "#fdca26"
                        ],
                        [
                          1,
                          "#f0f921"
                        ]
                      ],
                      "sequentialminus": [
                        [
                          0,
                          "#0d0887"
                        ],
                        [
                          0.1111111111111111,
                          "#46039f"
                        ],
                        [
                          0.2222222222222222,
                          "#7201a8"
                        ],
                        [
                          0.3333333333333333,
                          "#9c179e"
                        ],
                        [
                          0.4444444444444444,
                          "#bd3786"
                        ],
                        [
                          0.5555555555555556,
                          "#d8576b"
                        ],
                        [
                          0.6666666666666666,
                          "#ed7953"
                        ],
                        [
                          0.7777777777777778,
                          "#fb9f3a"
                        ],
                        [
                          0.8888888888888888,
                          "#fdca26"
                        ],
                        [
                          1,
                          "#f0f921"
                        ]
                      ]
                    },
                    "colorway": [
                      "#636efa",
                      "#EF553B",
                      "#00cc96",
                      "#ab63fa",
                      "#FFA15A",
                      "#19d3f3",
                      "#FF6692",
                      "#B6E880",
                      "#FF97FF",
                      "#FECB52"
                    ],
                    "font": {
                      "color": "#2a3f5f"
                    },
                    "geo": {
                      "bgcolor": "white",
                      "lakecolor": "white",
                      "landcolor": "#E5ECF6",
                      "showlakes": true,
                      "showland": true,
                      "subunitcolor": "white"
                    },
                    "hoverlabel": {
                      "align": "left"
                    },
                    "hovermode": "closest",
                    "mapbox": {
                      "style": "light"
                    },
                    "paper_bgcolor": "white",
                    "plot_bgcolor": "#E5ECF6",
                    "polar": {
                      "angularaxis": {
                        "gridcolor": "white",
                        "linecolor": "white",
                        "ticks": ""
                      },
                      "bgcolor": "#E5ECF6",
                      "radialaxis": {
                        "gridcolor": "white",
                        "linecolor": "white",
                        "ticks": ""
                      }
                    },
                    "scene": {
                      "xaxis": {
                        "backgroundcolor": "#E5ECF6",
                        "gridcolor": "white",
                        "gridwidth": 2,
                        "linecolor": "white",
                        "showbackground": true,
                        "ticks": "",
                        "zerolinecolor": "white"
                      },
                      "yaxis": {
                        "backgroundcolor": "#E5ECF6",
                        "gridcolor": "white",
                        "gridwidth": 2,
                        "linecolor": "white",
                        "showbackground": true,
                        "ticks": "",
                        "zerolinecolor": "white"
                      },
                      "zaxis": {
                        "backgroundcolor": "#E5ECF6",
                        "gridcolor": "white",
                        "gridwidth": 2,
                        "linecolor": "white",
                        "showbackground": true,
                        "ticks": "",
                        "zerolinecolor": "white"
                      }
                    },
                    "shapedefaults": {
                      "line": {
                        "color": "#2a3f5f"
                      }
                    },
                    "ternary": {
                      "aaxis": {
                        "gridcolor": "white",
                        "linecolor": "white",
                        "ticks": ""
                      },
                      "baxis": {
                        "gridcolor": "white",
                        "linecolor": "white",
                        "ticks": ""
                      },
                      "bgcolor": "#E5ECF6",
                      "caxis": {
                        "gridcolor": "white",
                        "linecolor": "white",
                        "ticks": ""
                      }
                    },
                    "title": {
                      "x": 0.05
                    },
                    "xaxis": {
                      "automargin": true,
                      "gridcolor": "white",
                      "linecolor": "white",
                      "ticks": "",
                      "title": {
                        "standoff": 15
                      },
                      "zerolinecolor": "white",
                      "zerolinewidth": 2
                    },
                    "yaxis": {
                      "automargin": true,
                      "gridcolor": "white",
                      "linecolor": "white",
                      "ticks": "",
                      "title": {
                        "standoff": 15
                      },
                      "zerolinecolor": "white",
                      "zerolinewidth": 2
                    }
                  }
                },
                "title": {
                  "text": "$\\text{Actual } E_{pd} \\text{ vs. deconvolution of } I_{pd}$",
                  "x": 0.5,
                  "xanchor": "center"
                },
                "xaxis": {
                  "title": {
                    "text": "Day"
                  }
                },
                "yaxis": {
                  "title": {
                    "text": "Count"
                  }
                }
              }
            },
            "text/html": [
              "<div>            <script src=\"https://cdnjs.cloudflare.com/ajax/libs/mathjax/2.7.5/MathJax.js?config=TeX-AMS-MML_SVG\"></script><script type=\"text/javascript\">if (window.MathJax && window.MathJax.Hub && window.MathJax.Hub.Config) {window.MathJax.Hub.Config({SVG: {font: \"STIX-Web\"}});}</script>                <script type=\"text/javascript\">window.PlotlyConfig = {MathJaxConfig: 'local'};</script>\n",
              "        <script charset=\"utf-8\" src=\"https://cdn.plot.ly/plotly-3.0.0.min.js\"></script>                <div id=\"2066d89d-476b-4c32-9e8e-c4fb286daba2\" class=\"plotly-graph-div\" style=\"height:525px; width:100%;\"></div>            <script type=\"text/javascript\">                window.PLOTLYENV=window.PLOTLYENV || {};                                if (document.getElementById(\"2066d89d-476b-4c32-9e8e-c4fb286daba2\")) {                    Plotly.newPlot(                        \"2066d89d-476b-4c32-9e8e-c4fb286daba2\",                        [{\"name\":\"E_pd\",\"x\":{\"dtype\":\"i2\",\"bdata\":\"AAABAAIAAwAEAAUABgAHAAgACQAKAAsADAANAA4ADwAQABEAEgATABQAFQAWABcAGAAZABoAGwAcAB0AHgAfACAAIQAiACMAJAAlACYAJwAoACkAKgArACwALQAuAC8AMAAxADIAMwA0ADUANgA3ADgAOQA6ADsAPAA9AD4APwBAAEEAQgBDAEQARQBGAEcASABJAEoASwBMAE0ATgBPAFAAUQBSAFMAVABVAFYAVwBYAFkAWgBbAFwAXQBeAF8AYABhAGIAYwBkAGUAZgBnAGgAaQBqAGsAbABtAG4AbwBwAHEAcgBzAHQAdQB2AHcAeAB5AHoAewB8AH0AfgB\\u002fAIAAgQCCAIMAhACFAIYAhwCIAIkAigCLAIwAjQCOAI8AkACRAJIAkwCUAJUA\"},\"y\":{\"dtype\":\"i2\",\"bdata\":\"AQAAAAAAAAAAAAAAAAAAAAAAAQABAAIAAQAAAAAAAQAAAAMAAAADAAEAAQABAAIACQACAAgAAwAKAAsACQAHAA4ADAAGAA8AHgAiABYAHAAnACIANgBJADkASABfAG8AeQCQAKIAwwDGAOIAKQEeAQ8BPQF1AagBswG0AeoB8gHwAf0B5wHbAZgBiAFLAS8BDgHAAIIAYgBXADwAKwAVABIACAAIAAcAAQACAAIAAgABAAEAAAAAAAAAAAAAAAEAAQAAAAAAAAAAAAAAAAAAAAAAAAAAAAAAAAAAAAAAAAAAAAAAAAAAAAAAAAAAAAAAAAAAAAAAAAAAAAAAAAAAAAAAAAAAAAAAAAAAAAAAAAAAAAAAAAAAAAAAAAAAAAAAAAAAAAAAAAAAAAAAAAAAAAAAAAAAAAAAAAAAAAAAAAAAAAAAAAAAAAAAAAAAAAAAAAAAAAAAAAAAAAAAAAAAAAAAAAAAAAAAAAAAAAAAAAAAAAAAAAAAAAAAAAAAAAAAAAAAAAAAAAAAAAAAAAAAAAAAAAAAAAAAAAAAAAAAAAAAAAAAAAAAAAAAAAAAAAAAAAAAAAAAAAAAAAAAAAAAAAAAAAAAAAAAAAAAAAAAAAAAAAAAAAAAAAAAAAAAAAAAAAAAAAAAAAAAAAAAAAAAAAAAAAAAAAAAAAAAAAAAAAAAAAAAAAAAAAAAAAAAAAAAAAAAAAAAAAAAAAAAAAAAAAAAAAAAAAAAAAAAAAAAAAAAAAAAAAAAAAAAAAAAAAAAAAAAAAAAAAAAAAAAAAAAAAAAAAAAAA==\"},\"type\":\"scatter\"},{\"name\":\"Epd=lowpass(E_pd)\",\"x\":{\"dtype\":\"i2\",\"bdata\":\"AAABAAIAAwAEAAUABgAHAAgACQAKAAsADAANAA4ADwAQABEAEgATABQAFQAWABcAGAAZABoAGwAcAB0AHgAfACAAIQAiACMAJAAlACYAJwAoACkAKgArACwALQAuAC8AMAAxADIAMwA0ADUANgA3ADgAOQA6ADsAPAA9AD4APwBAAEEAQgBDAEQARQBGAEcASABJAEoASwBMAE0ATgBPAFAAUQBSAFMAVABVAFYAVwBYAFkAWgBbAFwAXQBeAF8AYABhAGIAYwBkAGUAZgBnAGgAaQBqAGsAbABtAG4AbwBwAHEAcgBzAHQAdQB2AHcAeAB5AHoAewB8AH0AfgB\\u002fAIAAgQCCAIMAhACFAIYAhwCIAIkAigCLAIwAjQCOAI8AkACRAJIAkwCUAJUA\"},\"y\":{\"dtype\":\"f8\",\"bdata\":\"9TGXm7A68T9ggBZI+x3tP2v6kqAQxec\\u002fPrMI0ia24j+\\u002fmHyh0m3cP55w4NVcBdU\\u002fUHRgr\\u002fMdzz80Jek7xpLIP+AV57OXrMY\\u002fqbnDOyR6yT8eHWTG927QP1jMiZP8S9Y\\u002fxIRsBZsn3j8Otq08fubjP2wUUPdQgek\\u002f5ZtrXPDG7z9rP490tE3zPxCeCQxY8\\u002fY\\u002foqeOvv\\u002fL+j9WJw\\u002fPEdX+PzSS9msrigFASpfpA3DNA0BVvhfY\\u002fEMGQO4eDrPmBQlAP2RlraA0DEBFINtfTfsPQL3Pe+0dRxJAQlCq7bcUFUCq42d3G4cYQGSzXbb7vxxA46zrKSXwIECq6QbZOwMkQH7HmsOKpidA+UfFvBvlK0DSXyvo+WMwQMPmof17KzNAWVS2pkVNNkDCUMpb7845QMmaCC\\u002fpuD1AfxH1XQwMQUCMpRWHv39DQBEs8mTcREZAgOLo3BFtSUAiMiDwtw5NQJWj7kVYolBAbpnbzOIWU0BwH1uet\\u002fVVQLxSP0z7T1lATfSgDPs1XUDLn6Ln0dpgQFzZ\\u002fqZgbGNAvFkExo9RZkD4egYmWYhpQFUIQs32CW1AFQbk2B9lcECXFjm9pltyQPzRNtDAXHRAIO9Suf1ZdkBuWUU5xEJ4QIbLt8cGBXpAMn8FeC2Oe0AVDieCJ8x8QNlr2DuRrn1AJ8lAbNcnfkCu7dIuPy5+QHH4gFW6vH1A6S2heHPTfED+q2JzAnh7QOw42m9BtXlAwkIiGcOad0CJ934c8zt1QOsKT9\\u002fxrnJA9mmxaEILcEC74\\u002ffKytBqQCQGSCf7uGVAkdNUSzH2YEDeUSJrz1BZQOG5wMQ1zlFADBo8eGMCR0C44TIUANA5QOiw5I38\\u002fSRAyvKfkd480b91vRs9RAUcwOd4L1AquCTAXtoPrcAZJsBozTLkiZ0jwCkRjO\\u002fxTh3AitP+miHqEMC3KqSkQ3fwvwYyZyDb\\u002ff0\\u002fxmAtqefWEECGX9q7LEwXQHH3IoTTrxpARDrSPcsrG0C+3YjdgCwZQOg51TwASRVAO1EQbTMsEEAFaPn30AEFQHklPH8Oh\\u002fM\\u002fg6Voeuwgqb9pHmVyqXrxvwze7Uxxr\\u002f2\\u002fiUDuI3mLAsBObqqrm+4DwPgxOQ+JSAPAAK0g6wEDAcDGPHVhPjX7vyrJz3qwIPO\\u002fuijgkLV05b8Vtrx6HovGv1Yzk00n088\\u002fqT8BZS194j+Q7Y4Rz4zpP+AJwFsZHO0\\u002fzZwSQQ117T+jihRNaR7rP8LmswgExeY\\u002f0UZH\\u002fbAl4T9LPCjSJPPVP\\u002fZ6uyi4mMM\\u002fZbXupdC+kb93f4KM3QfEv\\u002fK+WRpdedC\\u002fFS\\u002fySMhV1L8c\\u002fOOi1rTVv5RKNdRJ5tS\\u002fBQxZUctd0r\\u002fDbiGrq0TNv9zc85GRfcS\\u002fE\\u002fI3SkrTtr+pH6hnTS+Xv3rbc50akKE\\u002fDjnHbVcItD\\u002fTDT9FLYi7P1Uktp57Q78\\u002fZ2H9fRKNvz8gwz9fGfi8PxDT6OCxP7g\\u002fCaCYUkcvsj\\u002fboMjHFRunP3+8nDMXLpQ\\u002f1596LDXuaL948cRQmxKWv+r46Bk94KG\\u002f0owpwgDtpb+AeVX6dk+nv\\u002fct8z\\u002fnXqa\\u002fATk5t4yYo79Hy7J\\u002fjxufv6rOO9g6p5W\\u002fsQY0fBDTh78xsiEQqXBmv13vZQtQ3HM\\u002fXRK3j8PfhT82Za169ceNP7+20OID05A\\u002fvVucxOXqkD9ztGMoQ\\u002feOPzR7e7Ny1Ik\\u002fxvSnFgBIgz+D1yKPhk14PySnu1MSt2Q\\u002fz+kdsQuoQL+DXFmFfFVov9riqLcTaHO\\u002fmrby2mOmd7+bec2RVQp5v9RALvpu83e\\u002fO0aT4kjpdL\\u002fWVNmXdIhwvwmQOBKt4Wa\\u002fRSqFnSHbWL+3jeifrH01v2DlK01RY0Y\\u002fRjXClU7fVz+k5v+chhpgP+jLWu8JG2I\\u002f80xPpwokYj\\u002ffVydtgoxgP+Y4Wa3ygls\\u002f6MRE7d5wVD\\u002fR6rV5jI1JP1qACnvuOTU\\u002fx1gLTQldFb+Gdiwol8w6vz3P85ebD0W\\u002fY2Uy8TqBSb\\u002frwMEDHOVKvyMgY0e7o0m\\u002fK6IoEOJPRr9V0dUAKZJBv2l3Dio0LDi\\u002fVg0WjWXpKb9JUFsffksEv2nrbHVtKxk\\u002faeFc8lMKKj8IJTsIYWkxP34FfzRRezM\\u002fYBTMzjpzMz\\u002fs5qjboq8xP8xhVxtqTC0\\u002fUVePtm2qJT83hEzp\\u002fNoaPxAPG99DtAU\\u002fN3lOPN+l6r4gZxAj1XwNv5RsTzF82Ra\\u002f6BIEaB6AG7\\u002fOT18HHuIcvyn4H120cRu\\u002f2yJQ4L3NF79CVKQgwKsSvy1A71t8hwm\\u002fQ0gU72D9+r4NFOOjWNLSviaaJhKWOuw+h5h5yWFk\\u002fD7WD+wUZtICPx3DE7Kc9QQ\\u002f7gSTXfzZBD8V3ZUONOYCP8sOMtp4Mv8+2fBH2Ib19j5ozPkMIDbsPsIB2LA8JNY+GI09V5NIwL6Gf2IohDXgvrGL89JiyOi+ohDbr7al7b4KX\\u002fgvwwPvvtFJIz9VX+2+8er2bVBk6b7HpNp6HdbjvnUgKl419Nq+YHMQwIYWzL5aNFbF4AmhvsieC4Ajl78+UotWwkDxzj5PQIWCj1fUPm8F1dLKi9Y+X8w1q+xZ1j6Pg4r+eDHUPtXX2EZrm9A+zN1k\\u002fRBTyD7uWB4UQp+9PsMbCWLph6Y+\\u002fxo\\u002fwyKXk76qpruGI86xvgrLKjwk37q+XotFNdb0v767Z73wTqbAvrhJbrDDbr++hhgSLjgVu77aTW1tThK1vsJ5jRZhc6y+pVeJNug0nb4B1mX6BNhtvtbuTHo7o5E+RIZwyDDaoD7X++vWxPqlPmzHt+DJP6g+jZOunuL0pz5u46RaHZOlPk1J9TE3rqE+gfWthoLFmT77n6OEYxqPPkQVM\\u002fFy5XY+YyYsjBc2Z77Kq6p8LoeDvhCOQK3RHY2+W6bsFHU3kb4nAbQa1t+Rvgg0BQNe0pC+kogVoAbnjL5RcqmwqmiGvrfjleG1GH6+627oiP2Dbr6m51vUUVU6vkOU0WDJemM+Yw5lqP9Fcj7q1CcekbF3Pu8HVn8UEHo+LP4uV260eT7ixYL3OiF3PtFYoHKx9HI+iqyhqyaraz4eutQWZMVgPgcD316aMEk+sZareDU8N7531H6jJIFUvsbRDWUs3l6+5xpUvgBjYr6dsIWr1kFjvmNMAZ9ZWWK+XMAD5doQYL7NsTD3p7VZviE7qzQnUFK+Qi4lT8J1Rb6rWv+998gsvg==\"},\"type\":\"scatter\"},{\"name\":\"Epd=deconv(I_pd)\",\"x\":{\"dtype\":\"i2\",\"bdata\":\"AAABAAIAAwAEAAUABgAHAAgACQAKAAsADAANAA4ADwAQABEAEgATABQAFQAWABcAGAAZABoAGwAcAB0AHgAfACAAIQAiACMAJAAlACYAJwAoACkAKgArACwALQAuAC8AMAAxADIAMwA0ADUANgA3ADgAOQA6ADsAPAA9AD4APwBAAEEAQgBDAEQARQBGAEcASABJAEoASwBMAE0ATgBPAFAAUQBSAFMAVABVAFYAVwBYAFkAWgBbAFwAXQBeAF8AYABhAGIAYwBkAGUAZgBnAGgAaQBqAGsAbABtAG4AbwBwAHEAcgBzAHQAdQB2AHcAeAB5AHoAewB8AH0AfgB\\u002fAIAAgQCCAIMAhACFAIYAhwCIAIkAigCLAIwAjQCOAI8AkACRAJIAkwCUAJUA\"},\"y\":{\"dtype\":\"f8\",\"bdata\":\"AAAAAAAAAAAAAAAAAAAAAAAAAAAAAAAAAAAAAAAAAAAAAAAAAAAAAAAAAAAAAAAAAAAAAAAAAAAAAAAAAAAAAAAAAAAAAAAAAAAAAAAAAAAAAAAAAAAAAAAAAAAAAAAAAAAAAAAAAAAAAAAAAADwPwAAAAAAAPA\\u002fAAAAAAAA8D8AAAAAAAAAQAAAAAAAAABAAAAAAAAAAEAAAAAAAAAAQAAAAAAAAPA\\u002fAAAAAAAA8D8AAAAAAADwPwAAAAAAAPA\\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\"},\"type\":\"scatter\"},{\"name\":\"I_pd\",\"x\":{\"dtype\":\"i2\",\"bdata\":\"AAABAAIAAwAEAAUABgAHAAgACQAKAAsADAANAA4ADwAQABEAEgATABQAFQAWABcAGAAZABoAGwAcAB0AHgAfACAAIQAiACMAJAAlACYAJwAoACkAKgArACwALQAuAC8AMAAxADIAMwA0ADUANgA3ADgAOQA6ADsAPAA9AD4APwBAAEEAQgBDAEQARQBGAEcASABJAEoASwBMAE0ATgBPAFAAUQBSAFMAVABVAFYAVwBYAFkAWgBbAFwAXQBeAF8AYABhAGIAYwBkAGUAZgBnAGgAaQBqAGsAbABtAG4AbwBwAHEAcgBzAHQAdQB2AHcAeAB5AHoAewB8AH0AfgB\\u002fAIAAgQCCAIMAhACFAIYAhwCIAIkAigCLAIwAjQCOAI8AkACRAJIAkwCUAJUA\"},\"y\":{\"dtype\":\"i2\",\"bdata\":\"AAAAAAAAAAAAAAAAAAABAAAAAAAAAAAAAAAAAAAAAAABAAAAAQAAAAIAAQABAAAAAQABAAMAAgAAAAIABQAHAAQACAAIAAcAAwAMAAcADwATAAwADwAUABAAKAAjACQAOAAyADkAQABiAFMAcAByAIMAlQCuALUA9QD5APoADgFOAWgBWQGJAbEBtwGqAa0BqwGUAZkBggFjAUEBGAEFAe0A1gCkAHoAlABWAGAASwA2AC4AJwAaACEAEwAKAAgADQAJAAgABQAFAAMABAAAAAAAAAACAAEAAAAAAAEAAQABAAAAAAAAAAAAAAAAAAAAAAAAAAAAAAAAAAAAAAAAAAAAAAAAAAAAAAAAAAAAAAAAAAAAAAAAAAAAAAAAAAAAAAAAAAAAAAAAAAAAAAAAAAAAAAAAAAAAAAAAAAAAAAAAAAAAAAAAAAAAAAAAAAAAAAAAAAAAAAAAAAAAAAAAAAAAAAAAAAAAAAAAAAAAAAAAAAAAAAAAAAAAAAAAAAAAAAAAAAAAAAAAAAAAAAAAAAAAAAAAAAAAAAAAAAAAAAAAAAAAAAAAAAAAAAAAAAAAAAAAAAAAAAAAAAAAAAAAAAAAAAAAAAAAAAAAAAAAAAAAAAAAAAAAAAAAAAAAAAAAAAAAAAAAAAAAAAAAAAAAAAAAAAAAAAAAAAAAAAAAAAAAAAAAAAAAAAAAAAAAAAAAAAAAAAAAAAAAAAAAAAAAAAAAAAAAAAAAAAAAAAAAAAAAAAAAAAAAAAAAAAAAAAAAAAAAAAAAAAAAAAAAAAAAAAAAAAAAAA==\"},\"type\":\"scatter\"},{\"name\":\"Ipd=lowpass(I_pd)\",\"x\":{\"dtype\":\"i2\",\"bdata\":\"AAABAAIAAwAEAAUABgAHAAgACQAKAAsADAANAA4ADwAQABEAEgATABQAFQAWABcAGAAZABoAGwAcAB0AHgAfACAAIQAiACMAJAAlACYAJwAoACkAKgArACwALQAuAC8AMAAxADIAMwA0ADUANgA3ADgAOQA6ADsAPAA9AD4APwBAAEEAQgBDAEQARQBGAEcASABJAEoASwBMAE0ATgBPAFAAUQBSAFMAVABVAFYAVwBYAFkAWgBbAFwAXQBeAF8AYABhAGIAYwBkAGUAZgBnAGgAaQBqAGsAbABtAG4AbwBwAHEAcgBzAHQAdQB2AHcAeAB5AHoAewB8AH0AfgB\\u002fAIAAgQCCAIMAhACFAIYAhwCIAIkAigCLAIwAjQCOAI8AkACRAJIAkwCUAJUA\"},\"y\":{\"dtype\":\"f8\",\"bdata\":\"wvFfLGq9gz9+RRO5zF2cP+Vtzkoud6c\\u002fxnfCN8gBsD8E4vvTwo2zP96eQ826F7Y\\u002fvlon32B5tz9xQ74jM7i3P7RDDTn3C7c\\u002felo745PgtT\\u002fLkmik+NK0P6CAINFHqbQ\\u002fMY\\u002f5OvBGtj97z1Kpup26P4vtyuB\\u002fTsE\\u002fh7lZ8CWQxz8PbzRMrTfQP94WMhAJF9Y\\u002fcijFaXV33T92gY0cbizjPzpL79TFVOg\\u002fM\\u002fBhpvMj7j+Ji0BfmEHyPzxIyfmCrPU\\u002fB6JXMvlG+T\\u002fVCda2Lwn9PydPpXdneQBAExAh\\u002flqHAkAN7VQNUrsEQMwpFVspKwdApb8Pwr72CUCur3tXLEgNQJML0E2DqRBA8q+ujEEpE0BW0fOPSUMWQGXRzckWGBpAnEArzZnGHkDq9dtCITUiQFTFUqW8jCVAr3U0u29yKUCj5eEt0+stQE4BlMFNfjFAV+Zy2BFUNEDKQv2q1Hk3QMSx3\\u002fqO9DpATd+w\\u002fCrNPkDbG0bqEIlBQAHG3pt17ENAgfaMlYKfRkAgfb\\u002f\\u002fLLVJQFB80tNoRE1A9FdMMrqzUECNtg+dTh1TQD8oMwNA7VVAHLiCH+kwWUDqebywaPNcQK6pXjggnmBA\\u002fXh6p\\u002foGY0CjYyQ3Z7JlQF6ZpMTommhAKh8K7Qy3a0AfJbNHUfluQM7wk98lKHFAfjnkl43TckBLhxIoEHN0QFuqcnj8+XVAFHCwo1hbd0As8hZ+jIp4QEckkH8SfHlAX5sJMyImekBLW1QrR4F6QAEz9a3YiHpAy3cDqUg7ekAZz2vMQ5p5QJuetVKgqnhAF2IByRx0d0AKSF+z8wB2QDJHZgtMXXRAo4icE5GWckBF1NqWvbpwQHCf2G5Or21AQPbMxKv0aUCY2qfi41xmQGRBBHai+2JA9pggKKLAX0A4fotyjytaQFPNOdSSRFVAf0AYpIsPUUBfRGiyUBFLQNNOzdhiS0VAbGfyzxGvQECDnwyi+S46QAv76OlnuDRAOYV2XxOoMEDlmJ62510rQEdHE643CidAzXTcR8TYI0Bdk50V3GMhQF4Sh8Xnuh5AXwoyIL8cG0ACMkO6NKgXQI6s1SkOOxRAIF5V9ijOEEAobNOLt9oKQD36p\\u002fRPXwRAAvGOY0HB\\u002fD8r0hCk9yTyPxI\\u002f+yZrd+I\\u002fh4MHYUu+wT+0D\\u002fbzQMHGvxH\\u002fwHJoINi\\u002fjQK05PIm3r8Uezcx65Pev\\u002fD2sMb1vNq\\u002fxI7B2l4K1L\\u002f47RDkTq7Hv2nxDw6kuKq\\u002fzeSGr\\u002fLusT+ts0qJg9bFP02tdT+fEM8\\u002fqItPBs8m0j+Wc1Jgz9TSP9MkIDAjztE\\u002fIVeEjG\\u002fczj+t\\u002fGh+bUPIP+M8UH5+ssA\\u002fIXBZqMb4sT8HRNPvsUWNP+uq54e+86C\\u002fOQY51ze9sb8okTtz\\u002fM63v6rBTvtts7q\\u002f1mC8fD22ur9Vr\\u002fIEjVe4vz2J\\u002fp59N7S\\u002fi+lZFMgErr8LlIbsn76ivyUGtCOHEI+\\u002f9zgn9R\\u002fUbz\\u002fQTI5UuLqTPyLhFVhr+J4\\u002fnUUb6A++oj9oun5L\\u002f8GjP7Z3CXfn1KI\\u002fpve53qNioD\\u002fVKGV0A86ZPxspKRzWv5E\\u002f9YOBRCgHgz8Jsz5bcdldP6yfxly\\u002fdXK\\u002fXyPS+eEag78PzlkjzIyJv6LcViJdloy\\u002fiFhm9UGKjL9A+nBhSfOJv3qrvhA0foW\\u002fMhAs+7TIf7+0AnZ517Fzv8y1pbHxz1+\\u002f4mqsXymeQz\\u002fOgnJ8EqZlP3U7a+AIxXA\\u002fs4lLLRMudD\\u002foeLiASDF1P7EcLiiDInQ\\u002fquhSb1p2cT9mHtDOBGRrP3FIltf+uGI\\u002fiIk\\u002fqRLJUz+HIMfenn0rP11WH6dCvUS\\u002f7Wzka5zXVL+WqCe4cqBbv6g0vtWKwl6\\u002f5yhHBy6ZXr8HNRF7Gbtbv78Nd8So4la\\u002fe\\u002flwSPnWUL86qb5VzK9Ev7bv5FyeODC\\u002fOvxxdIH7Fz8LUEUUss03P8WrBMegMEI\\u002fGHPFgq3BRT8J1pZl4MFGP9kXSBHYjEU\\u002fFySOs7ugQj\\u002fT7JYs4Bk9P2\\u002fWRSqMxDM\\u002f5py\\u002fFSqXJD86+1OC+t34ProNhjgZNRe\\u002fxdvisdC2Jr\\u002ff57ZHpdstv\\u002fDffZNTizC\\u002faJMu\\u002f0tmML+1zgFgLKEtv5SQn6VxXSi\\u002flrpTJVTXIb9fPieohrgVv7Oq0DhFgQC\\u002fJOPIS4PX7D5YsO1ErCUKP8qVqaYbuRM\\u002fwLAiDHRzFz+mEK7M\\u002fG4YP2\\u002f2CYLCDxc\\u002fCGJQmTzeEz8bypXIhOkOP+Xc9rJF3QQ\\u002foLx4EmNo9T4AojqEoLvFPtDbYH\\u002fg6um+kP8VNlC++L7oMOfhniEAv9tSRBZLywG\\u002fOCg1gbiTAb9wuBOFiKf\\u002fvkqCIzu67\\u002fm+PYobf9Pl8r5nfpDvjsvmvg+oZw3+vtC+71So78EhwT5ptsKlIrPcPj81SWkpYeU+asdjyvhF6T5K+i3d4TrqPhT4pZAXreg+VGXR4zAw5T48tdVwR2rgPl87L6fLA9Y+3i0ofUk8xj47a2k4LwiSPrFf15EO5Ly+JeSkE1rxyr4vDu4\\u002fTm3Rvv6G+9fCItO+vMwCIjrW0r7aooIfJujQvoUxy1rvmsu+kNRTnjEDxL5qN5XdEum3vglPOq0C8KC+hVLjsH0mlD7VJIiMdXqvPrmQnGgyK7c+8UHsYZs7uz4BCb0Zsie8Psz5QSaXZro++wDgDuCXtj6q3ck8R26xPvvbt2G6OKc+nn3xtWwSlz4B0y8eMmtbPsDS8xT\\u002fEpC+ecCcxCBTnb75v86fjdKivgqnFmpUk6S+psYGQDovpL6++1rR4g6ivqHXNInKYJ2+ZZvKwZQwlb7uEC9oVBKJvqEHlHMYFXG+MkICtCV7Zz64RU28oD6BPtEt4CtkGIk+JoMQgtNVjT6UKnBaKDeOPr8I0eBDPow+NYs6r58XiD5ZYIVOdYOCPv0eFz07gng+Nq+I6HT4Zz4rYz4NdG8iPmf0E+rqyWG+mDqn\\u002fIfWb77W1XGzP0x0vs5YcMAzGna+DYFZ0B6fdb6NaZYWVkxzvhN5yjH7Um++oqTFGvSIZr6DzUsdhY5avkOurKUS2EG+qccFFuKsOT6AH75zcIFSPjJiLPbc1lo+swxxRGpYXz7JRNmKESdgPhM3BIl0RF4+LpdeGTrzWT5g9PteOCVUPui2Z6hfREs+fIGx\\u002f1t0PD52yBuueXYSPsy7D5CbsS6+Grt0qDB4Pr6sIHgbTzZEvg==\"},\"type\":\"scatter\"},{\"name\":\"Ipd=conv(E_pd)\",\"x\":{\"dtype\":\"i2\",\"bdata\":\"AAABAAIAAwAEAAUABgAHAAgACQAKAAsADAANAA4ADwAQABEAEgATABQAFQAWABcAGAAZABoAGwAcAB0AHgAfACAAIQAiACMAJAAlACYAJwAoACkAKgArACwALQAuAC8AMAAxADIAMwA0ADUANgA3ADgAOQA6ADsAPAA9AD4APwBAAEEAQgBDAEQARQBGAEcASABJAEoASwBMAE0ATgBPAFAAUQBSAFMAVABVAFYAVwBYAFkAWgBbAFwAXQBeAF8AYABhAGIAYwBkAGUAZgBnAGgAaQBqAGsAbABtAG4AbwBwAHEAcgBzAHQAdQB2AHcAeAB5AHoAewB8AH0AfgB\\u002fAIAAgQCCAIMAhACFAIYAhwCIAIkAigCLAIwAjQCOAI8AkACRAJIAkwCUAJUA\"},\"y\":{\"dtype\":\"f8\",\"bdata\":\"exSuR+F6FD1SuF4WH\\u002fpNP3uUU0kema0\\u002fFS4acW0Cwz\\u002fNXHqHb2jOP+Gavmsby9M\\u002f9nBIwnPm1j\\u002fXS1KnWYXYP5BmubOq3tg\\u002fe2jrAvlH2D+PZhLhgCTXPzNLLN5o2dU\\u002fewwm7crF1D\\u002f2sLzFlT3UP7hMsx2bhtQ\\u002fXHeoB0TX1T\\u002fXoMi5flbYP4V\\u002f8NiSHNw\\u002fSPFDKVOa4D9pnYt\\u002fbc\\u002fjP8ggLS6Eqec\\u002fhZto9BMi7D\\u002fT0ziUJJnwP5daJl7JavM\\u002f1VECslWG9j86A3qxhPD5P5qwiGtHtP0\\u002fUTYxuE7yAEDV2i8KIU8DQFh0mzJ9BAZAqZOYKCcsCUAfdwKUv+UMQFv96ewnqxBAZQzOmrNTE0CkJtmt7YIWQFwV0MIpUBpA\\u002f8CvRezSHkBVx30YLREiQEzuBuR8KiVA2F3xRnbAKEBsnVrtYd4sQBOS4jdByDBAkwkg3ZdyM0BnKJB4IXc2QOnyLAhf4TlA3OU1BUfAPUAHeVt9jhNBQARcB8QRl0NATeHIYYR5RkDQex6ZdcxJQOGr+FTro01AUr9TQOcKUUCabCCzfZxTQPWsmyz5kVZA+BFGeZb1WUBnhUTRks9dQBIVom6KEmFAVYuyG4Z7Y0DMutekjiBmQGkBjm9Z\\u002fGhAJxbuKygGbEAkLTVLnzFvQMjgAH5qN3FATNymOVDVckCP6cxIlmd0QIpDcaRl4nVArcU4ioA5d0Ao62L83GB4QImr+UJKTXlAuL+o6RX1eUCOssrso1B6QIOTdBzuWnpAUF4FM+ARekBkzJmaiHZ5QCWUrigZjXhADCD+4bZcd0CKUoLGG+91QP6qRlcRUHRAl6bTos2MckBEl+jbPrNwQJY3HDSlom1AQN2bmYvoaUA2WDFaElBmQId00YKH7WJAB+kvd+ihX0DS+OLwdgtaQHZugcYRJVVAEZIaxBPzUEDDng4MluNKQMzZhKeRLUVAXy8nHd+kQEDQv31yb0Y6QOwn\\u002fBoh\\u002fTRAXkJp9TsYMUDavEWznYssQO7+EIo2dyhA0f+LFdNzJUAlpIaARhojQJ4X9EeVHCFAvP8C1OGJHkC\\u002f5pzdWOYaQEcvMGREMhdASWOkJAhtE0D3qijwF1IPQNWBhx0IBwhAc620mH46AUDTOHyVelP2PyXg3f9CFeg\\u002fX7BmAci\\u002fzj93e6yu4XTBv1vADrUJZ9i\\u002fY8\\u002fL2gg34L\\u002fVpT\\u002fK+f7gvyw8Lr5Sht6\\u002fikEqDwmS179e4nFNGkjNv4rV7NiVaLS\\u002faYucFjRGrz\\u002fALgAJ7xPHP7FrwLPeO9E\\u002fQ6lQgca71D8nBQE0hQnWP5NwpwLwWtU\\u002fRMMD8N0M0z9+qu3+5ibPP1XfvSVs1sY\\u002fbsrazUswvD\\u002fxmPPBM\\u002fmmP3GgeXU3Com\\u002f1+FpbkWGrb+73PbTzuy2vy2HsVtEhbu\\u002fAE\\u002fLsfjHvL8xeEfTIjG7vzaiMFmXZ7e\\u002fetGymaQmsr\\u002fXTY8D2FOov\\u002fuhiOC7cpi\\u002fZB0RGZ+uYb8KLfMIbWaQP\\u002fHB7JZEV54\\u002f7PkdXPWVoz9IOGYRVH6lP2PaRD5UKKU\\u002f2BxKaj3\\u002foj96hdjr\\u002fAqfPwy1\\u002fI3riZY\\u002fXLTXmDkFiz+feWXUZWpzPz4q6GM6yGW\\u002f2vEjgcJ2gb\\u002fln5FhR9KJv0CWWjAdaY6\\u002f\\u002flHjwLF6j7\\u002f46fJJ34uNv8i+zOD1Tom\\u002f2XsU5+GLg78XvPwkGBV6v4d+0Rn6A2q\\u002fgE8MhOjHML8fhYuZFddhP2ZmwszWWnA\\u002fCtdwvGAIdT\\u002fsUfFlJwR3PzMzWwIEmXY\\u002f16Os\\u002f7Y7dD\\u002fNzEXWKnlwP4Xre8VLy2c\\u002fPgoD+wc5XD+4Hh\\u002fLhmxDPwrXK03NwTm\\u002fuB4Ah\\u002fsyU7\\u002f2qLPH0gRcv5pZWBoLZmC\\u002f16NCmuvnYL8VrnPn2qBfvykcYmTR\\u002f1q\\u002fzcxWksPDVL\\u002fDdWYQ7oVLvwAAfP6q\\u002fzq\\u002fj8L1YSva9r5IYWx2388zP3uU9UYfykE\\u002fHwVL24m1Rj+koFdC7r1IP\\u002fZeshKjNUg\\u002fXF9WsFGbRT97lJ\\u002fJ6oZBPwDwuCJVLzk\\u002fhRth0mKSLT8Vrj81voMTP+xRoEUT5g2\\u002fM3ORj90IJb+Fqwkb31kuv\\u002fZodjBoqjG\\u002fpAAVuaUkMr\\u002fNkDqjjuowv2fmDxaKyCy\\u002fFU7hB+UKJr8+CkQ5vwMdv6Tw9Uox9Qu\\u002fZ2Z2jXAutL4K17RkHP0FPzMzO\\u002faXWRM\\u002f4bovqBiFGD8fRSjE+pgaP1K4LHy57xk\\u002fzfxHL7ASFz9ccy1bqKUSP1KYxOc2pwo\\u002fM7Mzfaz4\\u002fj6amadUh4bjPh+Fi4faPeG+Z+Y2onYH975mJrT+FW8Av+xR9+33BgO\\u002fUljv0d53A7\\u002fN\\u002fDdDwhcCv8NpemlUrv6+PnpKkv5k975cj46qa5PuvvYoZO8O6ty+pHC9VjVYcj5IYfNJBl\\u002fYPuG6l+UlCuU+Ujj5WFp46j4A4AHxspbsPh8l4YOJyOs+uJbgwsei6D7Xf4P+9NXjPnvUijw\\u002fM9w+KZxvR3k10D6kcLh6Y3CzPilcDlm9x7O+uB6Fh4Yyyb6uB6i00crRvq6nRQiYfdS+AGAwvTnj1L4zE0hnV1nTvsOGxNSFWdC+H4XrkSLTyL5SuB5lzxrAvrgehcsR3a2+AAAAAFpgZT4zMzMzH\\u002fqqPkjhepRj3rY+KVyPsveRvD5nZma2jrm+PlyPwqUqwr0+H4Xr5TBNuj7NzMw03Bi1PhWuR+ls1K0+KVyPNpv0oD4fheshCz6DPuF6FO5rloa+w\\u002fUovK+Nm75xPQrVHkKjvj4K10s+EKa+MzMzCX5opr4VrkeZyrCkvpqZmfF3bKG+CtejCspWmr4K16Os4fWQvh+F6yFEzn6+rkfhqp42RD4zM\\u002fNJqtJ9PuxRuDso2Yg+KVyP8j\\u002fVjj6amdm9joKQPrkexTY64I8+uB6Fu2kVjD72KFznk3GGPlK4HndKkH8+7FG4PBa+cT4K16OA4PpSPh+F623CpVm+PgpXaxIbbr4fheslXth0vlyPwui3xHe+uB6Ft9cPeL4zMzMCZih2vh+F66Dmm3K+rkfhPm8JbL4VrkchCPRhvq5H4S5WC1C+4XoU7qrJHD7D9Sh82mNQPuF6FPvl\\u002f1o+KVxva8CwYD4K1yPZTtphPgAAAP+5PGE+zczMsC5qXj5nZmam+V9YPq5H4bwrOlE+16NwGZ+SQz5I4XrUPfolPtejcBUW1yq+SOF6YRdTQL7D9YjQRPxGvlK4nulXpUq+SOF65PqFS77NzMy8TExKvuF6FBL68Ue+PgrXlLsmRb72KFycIEtCvoXrUYy9Jz++UrgelPM2Or6kcD23Ztk1vnsUbiMcEjK+Fa4HD4yzLb5nZmZMDUcovnE9CtnKwCO+CtejZh4CIL7sUbgiK9sZvmdmZmaG0RS+KVyPVlm3EL6F61EscscKvjMzMyeNZwW+SOF6eCsTAb6QwrVENTH7vR+F61G4nvW94XoUrkcp8b2F61G4HjXrvZqZmZmZieW9SOF6FK4H4b24HoXrUejavc3MzMzMPNW9PgrXo3C90L2QwvUoXF\\u002fKvQAAAAAAwMS9mpmZmZlRwL1xPQrXo6C5veF6FK5HIbS9H4XrUbier73NzMzMzMyovXE9CtejYKO916NwPQqXnr24HoXrUdiXvbgehetRuJK9Z2ZmZmYmjb1I4XoUroeGva5H4XoU7oG9KVyPwvUofL2F61G4HsV1vRWuR+F6FHG916NwPQo3ar3Xo3A9CpdkvexRuB6FS2C9Z2ZmZmaGWr2F61G4Hn1UvcP1KFyPYlC97FG4HoWLRb3NzMzMzOxEvQrXo3A9Cj69SOF6FK5HO70AAAAAAMAzvXE9CtejcCi9j8L1KFwvMr2kcD0K16MrvVK4HoXrUfq8rkfhehSuFr2amZmZmZkPvc3MzMzMzOw8pHA9Ctej2DwfhetRuJ4bvdejcD0K1\\u002f28XI\\u002fC9ShcGr3hehSuRyEHPdejcD0KDxG9cT0K16Pw+DzhehSuR+H\\u002fvDMzMzMzsxw9XI\\u002fC9ShcB70+CtejcP0UvcP1KFyPwhC916NwPQqXIz3D9Shcj6IcvY\\u002fC9ShcnxI9MzMzMzNjDj0VrkfheqQaPdejcD0KtwU9UrgehetRCD3D9Shcj6IevQAAAAAAYCs9mpmZmZm5EL1xPQrXozAFvRWuR+F6NBG9KVyPwvXoIj32KFyPwrkWvcP1KFyPcBm99ihcj8KNG732KFyPwg0mPZDC9Shcj+s8mpmZmZnJDj0AAAAAAGDxPOxRuB6FC\\u002fy8KVyPwvU8JL2F61G4HrXwvA==\"},\"type\":\"scatter\"},{\"name\":\"Ipd=conv(deconv(Ipd))\",\"x\":{\"dtype\":\"i2\",\"bdata\":\"AAABAAIAAwAEAAUABgAHAAgACQAKAAsADAANAA4ADwAQABEAEgATABQAFQAWABcAGAAZABoAGwAcAB0AHgAfACAAIQAiACMAJAAlACYAJwAoACkAKgArACwALQAuAC8AMAAxADIAMwA0ADUANgA3ADgAOQA6ADsAPAA9AD4APwBAAEEAQgBDAEQARQBGAEcASABJAEoASwBMAE0ATgBPAFAAUQBSAFMAVABVAFYAVwBYAFkAWgBbAFwAXQBeAF8AYABhAGIAYwBkAGUAZgBnAGgAaQBqAGsAbABtAG4AbwBwAHEAcgBzAHQAdQB2AHcAeAB5AHoAewB8AH0AfgB\\u002fAIAAgQCCAIMAhACFAIYAhwCIAIkAigCLAIwAjQCOAI8AkACRAJIAkwCUAJUA\"},\"y\":{\"dtype\":\"f8\",\"bdata\":\"AAAAAAAAAAAAAAAAAAAAALgehetRuB49exSuR+F6BL17FK5H4XoEPXsUrkfhegS9exSuR+F6FD17FK5H4XoEPZqZmZmZmRk9CtejcD0KFz0K16NwPQoXPbgehetRuA49exSuR+F6FD24HoXrUbj+PAAAuGCY1ks\\u002fewQYFsaNqz+aRUWF5LzCP3EK70gXK9A\\u002f10XDMjBK2j+DDKuZ\\u002fkDjP9JCi197dOk\\u002f0JV9P0pF7z\\u002fMAS6m9mzxP9ZYCJ\\u002fGQvI\\u002fnRBU4LmR8j9x6FeoPZTyP05KQzcWbfI\\u002ftAwRGOE08j9W73W+YMryPztiVv\\u002fPCPQ\\u002f+FJikRou9z\\u002fee7DE8nz8P79dcbKZpAJA2sYD\\u002f0HhCEBznKYaTZIQQB+s+s7wxBVAnwbYChz8G0DxfKjjDJAhQEiDR\\u002fZ1iiVAJ2V4c3jfKUBzejiy1ZsuQLwZXX101jFA9gG3Q1B9NEDxrj0e10c3QGG\\u002fhEO6OjpAZCCHi+hiPUDFcW9cKXFAQMZ2zZUkbUJAD7uQpkS5REB+qxIZrnJHQNIG08ZHu0pA3FNdShq1TkCwaeE9NsNRQDsi\\u002fSgRpVRAwYqZddAKWEAY8GLd\\u002ffpbQCxWcLXFPWBA6KYq9nfEYkBlJwxicI1lQBWXbnpLj2hAPoWv64K+a0BbLDn+5QpvQCQpVBmjMHFA8R7MHFDWckDdfdUqGWt0QACb9yWm43VAt82ky8gzd0CRz6lUz1B4QLKrbRF3MHlAM8hxIkrLeUDzOhCq\\u002fBp6QGSeTHAsHHpA9nk62kDNeUBEYDha2C95QPtVphjJSHhA1d6fv0kfd0BvDEPYnLt1QLGgA25+KHRA78Z\\u002fMwdyckC8se6gLaRwQLuQLfFjl21AxF2qJTTpaUAf2muHnFRmQAB3OGPU82JA83jCXvvHX0AE9tu4f2ZaQNcvTCS2xFVAAyJHPwfXUUBXsRN4exdNQLxBNyDtnUdAO+ekoLUZQ0Da2mDiTss+QEcpjxeAwDhAYnjPHJfYM0BVk2CsJfcvQFAVEDvvJCpAV4OBnUHkJUAl1A8WVskiQIQ84KjuZSBAXKqj3qXYHECS09KkFlkZQDrxgQR53hVA9\\u002fQYTrmGEkBXBCm\\u002figAPQH\\u002ffAnntsglAhOi2\\u002f44lBUBDBGSdAEwBQMTWiUCpJ\\u002fw\\u002f7iskT1XR9j+SAycAzmzyP0l0T6dqqe0\\u002fNkVLSi7P5z\\u002fzZQ0zfRDjP74HEx2Fdt4\\u002f0cI6wEZK2D88rx1dXVXTPyy2p\\u002f30uc4\\u002fu4rfhldhyD+UHkCLhlHDPzM+yj6qk74\\u002fUOSvAo4ruD83p48d2RWzP\\u002fPH0xFKHK4\\u002fNjZKm\\u002fO6pz\\u002fwJlLbjq+iP8o0FM5BZ50\\u002ftzJ+4NEdlz\\u002ftIrerLCmSP2jQH3IShIw\\u002fD+m07Jdfhj\\u002fHcRGTIouBP8Dqpmkxf3s\\u002fHHAfRnmJdT+qXZ2mPNxwP+6OB\\u002fCpYmo\\u002f+FSgtOGiZD+PMSWA9iFgP\\u002fUxIcSVNlk\\u002fAP1pxcyxUz8ukqi+dcFOP4Wmvtp5AUg\\u002fQ3N8gAm7Qj9AFDZQKjg9P2CPRaaOyDY\\u002fOnUO127CMT\\u002fSpWccrq0rP1OOLWP1jyU\\u002fAksKeQDLID+wPzeLYSYaP+o\\u002fN5vUWhQ\\u002fThgNkfatDz\\u002fTHXhfYqUIP5g5thBGKwM\\u002f34rOE27P\\u002fT4VgZPKOiz3Ps+sRDH3AfI+H0dmHXL66z5TDt6x\\u002f7nlPtBQ1PBH3eA+XEetTc4q2j5nZmYW20nUPkjhevQhcM8+XI\\u002fCzQRWyD6kcD2iiNHCPrgehTtFEb0+XI\\u002fCZWtqtj5cj8KVn0GxPj4K1wP7g6o+CtejQGBTpD4pXI\\u002fyShWfPsP1KMwqtJc+Urge9ZoGkj57FK6nylaLPqRwPUp8rYQ+pHA9CjE3fz7NzMzs04d3PuxRuL4zvHE+Z2ZmhhvIaj6amZkZpEtkPj4K1+MM9V4+MzMzc+HQVz4AAAAABXRSPpDC9ajDl0w+SOF69EYmRj5I4XpUBChBPsP1KDwgkzo+w\\u002fUoLGOUND7D9Sj85d4vPkjheqT5rCg+PgrXg3saIz7sUbiedpMdPmdmZmaO5BY+pHA9ikQaET5SuB6FhgIIPmdmZmYEAv89w\\u002fUoXJvX8T3sUbges8PhPXE9Ctc7cck9SOF6FK4HC71SuB6F61HkPHsUrkfheu6816NwPQrX4bx7FK5H4RoCPR+F61G4DiA9KVyPwvVIDj2PwvUoXM\\u002fnPClcj8L1qPO8MzMzMzPrAD2kcD0K13MPPR+F61G40go9uB6F61FY4rxSuB6F6xMYPQAAAAAA\\u002fhA9AAAAAABPFT0pXI\\u002fC9Z4QvbgehevRVxo9AAAAAACgxTzsUbgehVIHPZDC9ShcsBy9H4XrUbg+7bzXo3A9ykofvSlcj8J18PG8mpmZmQkzIb0+CtejoGUhvSlcj8I1nfW8cT0K1xOAHD2PwvUoLJshvbkeheth9w+9exSuR+nSF724HoXrXUgkPaRwPQqp8iW97FG4HuWGCL3Xo3A98J4YvcP1KFxbgwq9kML1KMwyCL17FK5H+X4bvQrXo3DdAA69AAAAgH88Iz0zMzMzCTr3vIXrUTiDIBG9exSuR+F6BL17FK5H4XoEvXsUrkfheuS8uB6F61G4\\u002fjy4HoXrUbj+vJqZmZmZmQm9exSuR+F69Dx7FK5H4XrkvHsUrkfhetQ84XoUrkfhCr0fhetRuB4VvZqZmZmZmem8exSuR+F6xLyamZmZmZn5vHsUrkfhegQ9UrgehetREL3D9Shcj8L1vFyPwvUoXP88AAAAAAAAAAApXI\\u002fC9SjcvK5H4XoUriE9mpmZmZmZ+TyamZmZmZkdPZqZmZmZmf28PgrXo3A98jzXo3A9Chcivc3MzMzMzP+8XI\\u002fC9SgcEr24HoXrUUgrPa5H4XoULgs99ihcj8J1HD3sUbgehesJvZqZmZmZGRo94XoUrkdhFT0zMzMzM7MbPWZmZmZmZgA9XI\\u002fC9SicGT0pXI\\u002fC9cglPZDC9Shcbx89Z2ZmZmZm3rykcD0K1+MRPfYoXI\\u002fC9eY87FG4HoVLBD32KFyPwhUTPWdmZmZm3iU9pHA9CtdTCz3Xo3A9CrcRPVyPwvUofOg8pHA9CtcD8zyuR+F6FEb8PClcj8L1QA+97FG4HoVvAb3NzMzMzMTwvIXrUbgeNhY94XoUrkf1Ab17FK5H4TsNPVyPwvUoCRC9hetRuB691ryuR+F6lJ0qvQ==\"},\"type\":\"scatter\"}],                        {\"template\":{\"data\":{\"histogram2dcontour\":[{\"type\":\"histogram2dcontour\",\"colorbar\":{\"outlinewidth\":0,\"ticks\":\"\"},\"colorscale\":[[0.0,\"#0d0887\"],[0.1111111111111111,\"#46039f\"],[0.2222222222222222,\"#7201a8\"],[0.3333333333333333,\"#9c179e\"],[0.4444444444444444,\"#bd3786\"],[0.5555555555555556,\"#d8576b\"],[0.6666666666666666,\"#ed7953\"],[0.7777777777777778,\"#fb9f3a\"],[0.8888888888888888,\"#fdca26\"],[1.0,\"#f0f921\"]]}],\"choropleth\":[{\"type\":\"choropleth\",\"colorbar\":{\"outlinewidth\":0,\"ticks\":\"\"}}],\"histogram2d\":[{\"type\":\"histogram2d\",\"colorbar\":{\"outlinewidth\":0,\"ticks\":\"\"},\"colorscale\":[[0.0,\"#0d0887\"],[0.1111111111111111,\"#46039f\"],[0.2222222222222222,\"#7201a8\"],[0.3333333333333333,\"#9c179e\"],[0.4444444444444444,\"#bd3786\"],[0.5555555555555556,\"#d8576b\"],[0.6666666666666666,\"#ed7953\"],[0.7777777777777778,\"#fb9f3a\"],[0.8888888888888888,\"#fdca26\"],[1.0,\"#f0f921\"]]}],\"heatmap\":[{\"type\":\"heatmap\",\"colorbar\":{\"outlinewidth\":0,\"ticks\":\"\"},\"colorscale\":[[0.0,\"#0d0887\"],[0.1111111111111111,\"#46039f\"],[0.2222222222222222,\"#7201a8\"],[0.3333333333333333,\"#9c179e\"],[0.4444444444444444,\"#bd3786\"],[0.5555555555555556,\"#d8576b\"],[0.6666666666666666,\"#ed7953\"],[0.7777777777777778,\"#fb9f3a\"],[0.8888888888888888,\"#fdca26\"],[1.0,\"#f0f921\"]]}],\"contourcarpet\":[{\"type\":\"contourcarpet\",\"colorbar\":{\"outlinewidth\":0,\"ticks\":\"\"}}],\"contour\":[{\"type\":\"contour\",\"colorbar\":{\"outlinewidth\":0,\"ticks\":\"\"},\"colorscale\":[[0.0,\"#0d0887\"],[0.1111111111111111,\"#46039f\"],[0.2222222222222222,\"#7201a8\"],[0.3333333333333333,\"#9c179e\"],[0.4444444444444444,\"#bd3786\"],[0.5555555555555556,\"#d8576b\"],[0.6666666666666666,\"#ed7953\"],[0.7777777777777778,\"#fb9f3a\"],[0.8888888888888888,\"#fdca26\"],[1.0,\"#f0f921\"]]}],\"surface\":[{\"type\":\"surface\",\"colorbar\":{\"outlinewidth\":0,\"ticks\":\"\"},\"colorscale\":[[0.0,\"#0d0887\"],[0.1111111111111111,\"#46039f\"],[0.2222222222222222,\"#7201a8\"],[0.3333333333333333,\"#9c179e\"],[0.4444444444444444,\"#bd3786\"],[0.5555555555555556,\"#d8576b\"],[0.6666666666666666,\"#ed7953\"],[0.7777777777777778,\"#fb9f3a\"],[0.8888888888888888,\"#fdca26\"],[1.0,\"#f0f921\"]]}],\"mesh3d\":[{\"type\":\"mesh3d\",\"colorbar\":{\"outlinewidth\":0,\"ticks\":\"\"}}],\"scatter\":[{\"fillpattern\":{\"fillmode\":\"overlay\",\"size\":10,\"solidity\":0.2},\"type\":\"scatter\"}],\"parcoords\":[{\"type\":\"parcoords\",\"line\":{\"colorbar\":{\"outlinewidth\":0,\"ticks\":\"\"}}}],\"scatterpolargl\":[{\"type\":\"scatterpolargl\",\"marker\":{\"colorbar\":{\"outlinewidth\":0,\"ticks\":\"\"}}}],\"bar\":[{\"error_x\":{\"color\":\"#2a3f5f\"},\"error_y\":{\"color\":\"#2a3f5f\"},\"marker\":{\"line\":{\"color\":\"#E5ECF6\",\"width\":0.5},\"pattern\":{\"fillmode\":\"overlay\",\"size\":10,\"solidity\":0.2}},\"type\":\"bar\"}],\"scattergeo\":[{\"type\":\"scattergeo\",\"marker\":{\"colorbar\":{\"outlinewidth\":0,\"ticks\":\"\"}}}],\"scatterpolar\":[{\"type\":\"scatterpolar\",\"marker\":{\"colorbar\":{\"outlinewidth\":0,\"ticks\":\"\"}}}],\"histogram\":[{\"marker\":{\"pattern\":{\"fillmode\":\"overlay\",\"size\":10,\"solidity\":0.2}},\"type\":\"histogram\"}],\"scattergl\":[{\"type\":\"scattergl\",\"marker\":{\"colorbar\":{\"outlinewidth\":0,\"ticks\":\"\"}}}],\"scatter3d\":[{\"type\":\"scatter3d\",\"line\":{\"colorbar\":{\"outlinewidth\":0,\"ticks\":\"\"}},\"marker\":{\"colorbar\":{\"outlinewidth\":0,\"ticks\":\"\"}}}],\"scattermap\":[{\"type\":\"scattermap\",\"marker\":{\"colorbar\":{\"outlinewidth\":0,\"ticks\":\"\"}}}],\"scattermapbox\":[{\"type\":\"scattermapbox\",\"marker\":{\"colorbar\":{\"outlinewidth\":0,\"ticks\":\"\"}}}],\"scatterternary\":[{\"type\":\"scatterternary\",\"marker\":{\"colorbar\":{\"outlinewidth\":0,\"ticks\":\"\"}}}],\"scattercarpet\":[{\"type\":\"scattercarpet\",\"marker\":{\"colorbar\":{\"outlinewidth\":0,\"ticks\":\"\"}}}],\"carpet\":[{\"aaxis\":{\"endlinecolor\":\"#2a3f5f\",\"gridcolor\":\"white\",\"linecolor\":\"white\",\"minorgridcolor\":\"white\",\"startlinecolor\":\"#2a3f5f\"},\"baxis\":{\"endlinecolor\":\"#2a3f5f\",\"gridcolor\":\"white\",\"linecolor\":\"white\",\"minorgridcolor\":\"white\",\"startlinecolor\":\"#2a3f5f\"},\"type\":\"carpet\"}],\"table\":[{\"cells\":{\"fill\":{\"color\":\"#EBF0F8\"},\"line\":{\"color\":\"white\"}},\"header\":{\"fill\":{\"color\":\"#C8D4E3\"},\"line\":{\"color\":\"white\"}},\"type\":\"table\"}],\"barpolar\":[{\"marker\":{\"line\":{\"color\":\"#E5ECF6\",\"width\":0.5},\"pattern\":{\"fillmode\":\"overlay\",\"size\":10,\"solidity\":0.2}},\"type\":\"barpolar\"}],\"pie\":[{\"automargin\":true,\"type\":\"pie\"}]},\"layout\":{\"autotypenumbers\":\"strict\",\"colorway\":[\"#636efa\",\"#EF553B\",\"#00cc96\",\"#ab63fa\",\"#FFA15A\",\"#19d3f3\",\"#FF6692\",\"#B6E880\",\"#FF97FF\",\"#FECB52\"],\"font\":{\"color\":\"#2a3f5f\"},\"hovermode\":\"closest\",\"hoverlabel\":{\"align\":\"left\"},\"paper_bgcolor\":\"white\",\"plot_bgcolor\":\"#E5ECF6\",\"polar\":{\"bgcolor\":\"#E5ECF6\",\"angularaxis\":{\"gridcolor\":\"white\",\"linecolor\":\"white\",\"ticks\":\"\"},\"radialaxis\":{\"gridcolor\":\"white\",\"linecolor\":\"white\",\"ticks\":\"\"}},\"ternary\":{\"bgcolor\":\"#E5ECF6\",\"aaxis\":{\"gridcolor\":\"white\",\"linecolor\":\"white\",\"ticks\":\"\"},\"baxis\":{\"gridcolor\":\"white\",\"linecolor\":\"white\",\"ticks\":\"\"},\"caxis\":{\"gridcolor\":\"white\",\"linecolor\":\"white\",\"ticks\":\"\"}},\"coloraxis\":{\"colorbar\":{\"outlinewidth\":0,\"ticks\":\"\"}},\"colorscale\":{\"sequential\":[[0.0,\"#0d0887\"],[0.1111111111111111,\"#46039f\"],[0.2222222222222222,\"#7201a8\"],[0.3333333333333333,\"#9c179e\"],[0.4444444444444444,\"#bd3786\"],[0.5555555555555556,\"#d8576b\"],[0.6666666666666666,\"#ed7953\"],[0.7777777777777778,\"#fb9f3a\"],[0.8888888888888888,\"#fdca26\"],[1.0,\"#f0f921\"]],\"sequentialminus\":[[0.0,\"#0d0887\"],[0.1111111111111111,\"#46039f\"],[0.2222222222222222,\"#7201a8\"],[0.3333333333333333,\"#9c179e\"],[0.4444444444444444,\"#bd3786\"],[0.5555555555555556,\"#d8576b\"],[0.6666666666666666,\"#ed7953\"],[0.7777777777777778,\"#fb9f3a\"],[0.8888888888888888,\"#fdca26\"],[1.0,\"#f0f921\"]],\"diverging\":[[0,\"#8e0152\"],[0.1,\"#c51b7d\"],[0.2,\"#de77ae\"],[0.3,\"#f1b6da\"],[0.4,\"#fde0ef\"],[0.5,\"#f7f7f7\"],[0.6,\"#e6f5d0\"],[0.7,\"#b8e186\"],[0.8,\"#7fbc41\"],[0.9,\"#4d9221\"],[1,\"#276419\"]]},\"xaxis\":{\"gridcolor\":\"white\",\"linecolor\":\"white\",\"ticks\":\"\",\"title\":{\"standoff\":15},\"zerolinecolor\":\"white\",\"automargin\":true,\"zerolinewidth\":2},\"yaxis\":{\"gridcolor\":\"white\",\"linecolor\":\"white\",\"ticks\":\"\",\"title\":{\"standoff\":15},\"zerolinecolor\":\"white\",\"automargin\":true,\"zerolinewidth\":2},\"scene\":{\"xaxis\":{\"backgroundcolor\":\"#E5ECF6\",\"gridcolor\":\"white\",\"linecolor\":\"white\",\"showbackground\":true,\"ticks\":\"\",\"zerolinecolor\":\"white\",\"gridwidth\":2},\"yaxis\":{\"backgroundcolor\":\"#E5ECF6\",\"gridcolor\":\"white\",\"linecolor\":\"white\",\"showbackground\":true,\"ticks\":\"\",\"zerolinecolor\":\"white\",\"gridwidth\":2},\"zaxis\":{\"backgroundcolor\":\"#E5ECF6\",\"gridcolor\":\"white\",\"linecolor\":\"white\",\"showbackground\":true,\"ticks\":\"\",\"zerolinecolor\":\"white\",\"gridwidth\":2}},\"shapedefaults\":{\"line\":{\"color\":\"#2a3f5f\"}},\"annotationdefaults\":{\"arrowcolor\":\"#2a3f5f\",\"arrowhead\":0,\"arrowwidth\":1},\"geo\":{\"bgcolor\":\"white\",\"landcolor\":\"#E5ECF6\",\"subunitcolor\":\"white\",\"showland\":true,\"showlakes\":true,\"lakecolor\":\"white\"},\"title\":{\"x\":0.05},\"mapbox\":{\"style\":\"light\"}}},\"title\":{\"text\":\"$\\\\text{Actual } E_{pd} \\\\text{ vs. deconvolution of } I_{pd}$\",\"x\":0.5,\"xanchor\":\"center\"},\"xaxis\":{\"title\":{\"text\":\"Day\"}},\"yaxis\":{\"title\":{\"text\":\"Count\"}}},                        {\"responsive\": true}                    ).then(function(){\n",
              "                            \n",
              "var gd = document.getElementById('2066d89d-476b-4c32-9e8e-c4fb286daba2');\n",
              "var x = new MutationObserver(function (mutations, observer) {{\n",
              "        var display = window.getComputedStyle(gd).display;\n",
              "        if (!display || display === 'none') {{\n",
              "            console.log([gd, 'removed!']);\n",
              "            Plotly.purge(gd);\n",
              "            observer.disconnect();\n",
              "        }}\n",
              "}});\n",
              "\n",
              "// Listen for the removal of the full notebook cells\n",
              "var notebookContainer = gd.closest('#notebook-container');\n",
              "if (notebookContainer) {{\n",
              "    x.observe(notebookContainer, {childList: true});\n",
              "}}\n",
              "\n",
              "// Listen for the clearing of the current output cell\n",
              "var outputEl = gd.closest('.output');\n",
              "if (outputEl) {{\n",
              "    x.observe(outputEl, {childList: true});\n",
              "}}\n",
              "\n",
              "                        })                };            </script>        </div>"
            ]
          },
          "metadata": {},
          "output_type": "display_data"
        }
      ],
      "source": [
        "#| code-fold: true\n",
        "\n",
        "fig = go.Figure(data=[    \n",
        "    go.Scatter(name='E_pd', x=np.arange(150), y=results_stoch0[4]),\n",
        "    go.Scatter(name='Epd=lowpass(E_pd)', x=np.arange(150), y=lowpass(results_stoch0[4])),\n",
        "    go.Scatter(name='Epd=deconv(I_pd)', x=np.arange(150), y=Enext),\n",
        "    go.Scatter(name='I_pd', x=np.arange(150), y=results_stoch0[5]),\n",
        "    go.Scatter(name='Ipd=lowpass(I_pd)', x=np.arange(150), y=lowpass(results_stoch0[5])),\n",
        "    go.Scatter(name='Ipd=conv(E_pd)', x=np.arange(150), y=signal.fftconvolve(h_L, lowpass(results_stoch0[4]), mode='full')),\n",
        "    go.Scatter(name='Ipd=conv(deconv(Ipd))', x=np.arange(150), y=signal.fftconvolve(h_L, Enext, mode='full')[:len(Ipd)])\n",
        "])\n",
        "\n",
        "fig.update_layout(\n",
        "    \n",
        "    xaxis_title = 'Day',\n",
        "    yaxis_title = 'Count',\n",
        "    title={\n",
        "        'text':r'$\\text{Actual } E_{pd} \\text{ vs. deconvolution of } I_{pd}$',\n",
        "        'x':0.5,\n",
        "        'xanchor':'center'\n",
        "    }\n",
        ")\n",
        "\n",
        "fig.show()"
      ]
    },
    {
      "attachments": {},
      "cell_type": "markdown",
      "metadata": {
        "colab_type": "text",
        "id": "QeubQWSlq9Dq"
      },
      "source": [
        "The iterative deconvolution seems to work nicely and we get close results."
      ]
    },
    {
      "attachments": {},
      "cell_type": "markdown",
      "metadata": {
        "colab_type": "text",
        "id": "5oCtXzOI35CW"
      },
      "source": [
        "### Comparing $I_{pd}$ from the model to $I_{pd}$ obtained by de-convolving $R_{pd}$\n",
        "\n",
        "Let's try the same thing but using $R_{pd}$ to get $I_{pd}$:"
      ]
    },
    {
      "cell_type": "code",
      "execution_count": 46,
      "metadata": {
        "colab": {
          "base_uri": "https://localhost:8080/",
          "height": 163
        },
        "colab_type": "code",
        "id": "vrYpw34onsTV",
        "outputId": "d4e785ff-ad76-4c90-b22e-6dcc5b140e73"
      },
      "outputs": [
        {
          "name": "stdout",
          "output_type": "stream",
          "text": [
            "Iteration #1: MSE= 168.02986011970452\n",
            "Iteration #2: MSE= 26.155188027057374\n",
            "Iteration #3: MSE= 15.208955516350267\n",
            "Iteration #4: MSE= 9.68774175626153\n",
            "Iteration #5: MSE= 8.633576098657265\n",
            "Iteration #6: MSE= 6.236478479865712\n",
            "Iteration #7: MSE= 5.886804145182413\n",
            "Iteration #8: MSE= 4.195848429178922\n",
            "Iteration #9: MSE= 4.152702388971084\n",
            "Iteration #10: MSE= 2.8487123145005766\n",
            "Iteration #11: MSE= 2.96724338404858 so we use the result of the previous iteration.\n"
          ]
        }
      ],
      "source": [
        "#| code-fold: true\n",
        "\n",
        "#regularization parameter\n",
        "alpha=2\n",
        "\n",
        "# Setup up the resultant Ipd we want to compare our guess with\n",
        "Rpd=np.floor(lowpass(results_stoch0[6]))\n",
        "Rpd[Rpd<0]=0\n",
        "\n",
        "# Find delay caused by h_I\n",
        "delay=Rpd.argmax()-signal.fftconvolve(Rpd, h_I, mode='full').argmax()\n",
        "\n",
        "# We want initial guess to simply be the result of the convolution delayed\n",
        "initial_guess=np.roll(Rpd,delay)\n",
        "Inext = initial_guess\n",
        "\n",
        "\n",
        "# AN array to record MSE between result we want and our iterated guess\n",
        "mse=np.array([])\n",
        "mse=np.append(mse, 100000)\n",
        "mse=np.append(mse, msecalc(Rpd, signal.fftconvolve(h_I, Inext, mode='full')[:len(Rpd)]))\n",
        "\n",
        "itercount=0\n",
        "while mse[-1] < mse[-2]:\n",
        "  itercount=itercount+1\n",
        "  Inext=iter_deconv(alpha, h_I, Inext, delay, Rpd)\n",
        "  mse=np.append(mse, msecalc(Rpd, signal.fftconvolve(h_I, Inext, mode='full')[:len(Rpd)]))\n",
        "  print(\"Iteration #\" + str(itercount) +\": MSE= \"+str(mse[itercount]))\n",
        "print(\"Iteration #\" + str(itercount+1) +\": MSE= \"+str(mse[-1])+\" so we use the result of the previous iteration.\")"
      ]
    },
    {
      "cell_type": "code",
      "execution_count": 47,
      "metadata": {
        "colab": {
          "base_uri": "https://localhost:8080/",
          "height": 542
        },
        "colab_type": "code",
        "id": "y45Y_cAadLAu",
        "outputId": "7cb8ce23-05c4-4a92-c04b-d01472fbc4bf"
      },
      "outputs": [
        {
          "data": {
            "application/vnd.plotly.v1+json": {
              "config": {
                "plotlyServerURL": "https://plot.ly"
              },
              "data": [
                {
                  "name": "Ipd",
                  "type": "scatter",
                  "x": {
                    "bdata": "AAABAAIAAwAEAAUABgAHAAgACQAKAAsADAANAA4ADwAQABEAEgATABQAFQAWABcAGAAZABoAGwAcAB0AHgAfACAAIQAiACMAJAAlACYAJwAoACkAKgArACwALQAuAC8AMAAxADIAMwA0ADUANgA3ADgAOQA6ADsAPAA9AD4APwBAAEEAQgBDAEQARQBGAEcASABJAEoASwBMAE0ATgBPAFAAUQBSAFMAVABVAFYAVwBYAFkAWgBbAFwAXQBeAF8AYABhAGIAYwBkAGUAZgBnAGgAaQBqAGsAbABtAG4AbwBwAHEAcgBzAHQAdQB2AHcAeAB5AHoAewB8AH0AfgB/AIAAgQCCAIMAhACFAIYAhwCIAIkAigCLAIwAjQCOAI8AkACRAJIAkwCUAJUA",
                    "dtype": "i2"
                  },
                  "y": {
                    "bdata": "AAAAAAAAAAAAAAAAAAABAAAAAAAAAAAAAAAAAAAAAAABAAAAAQAAAAIAAQABAAAAAQABAAMAAgAAAAIABQAHAAQACAAIAAcAAwAMAAcADwATAAwADwAUABAAKAAjACQAOAAyADkAQABiAFMAcAByAIMAlQCuALUA9QD5APoADgFOAWgBWQGJAbEBtwGqAa0BqwGUAZkBggFjAUEBGAEFAe0A1gCkAHoAlABWAGAASwA2AC4AJwAaACEAEwAKAAgADQAJAAgABQAFAAMABAAAAAAAAAACAAEAAAAAAAEAAQABAAAAAAAAAAAAAAAAAAAAAAAAAAAAAAAAAAAAAAAAAAAAAAAAAAAAAAAAAAAAAAAAAAAAAAAAAAAAAAAAAAAAAAAAAAAAAAAAAAAAAAAAAAAAAAAAAAAAAAAAAAAAAAAAAAAAAAAAAAAAAAAAAAAAAAAAAAAAAAAAAAAAAAAAAAAAAAAAAAAAAAAAAAAAAAAAAAAAAAAAAAAAAAAAAAAAAAAAAAAAAAAAAAAAAAAAAAAAAAAAAAAAAAAAAAAAAAAAAAAAAAAAAAAAAAAAAAAAAAAAAAAAAAAAAAAAAAAAAAAAAAAAAAAAAAAAAAAAAAAAAAAAAAAAAAAAAAAAAAAAAAAAAAAAAAAAAAAAAAAAAAAAAAAAAAAAAAAAAAAAAAAAAAAAAAAAAAAAAAAAAAAAAAAAAAAAAAAAAAAAAAAAAAAAAAAAAAAAAAAAAAAAAAAAAAAAAAAAAAAAAAAAAAAAAAAAAAAAAAAAAAAAAAAAAAAAAAAAAA==",
                    "dtype": "i2"
                  }
                },
                {
                  "name": "Ipd=lowpass(Ipd)",
                  "type": "scatter",
                  "x": {
                    "bdata": "AAABAAIAAwAEAAUABgAHAAgACQAKAAsADAANAA4ADwAQABEAEgATABQAFQAWABcAGAAZABoAGwAcAB0AHgAfACAAIQAiACMAJAAlACYAJwAoACkAKgArACwALQAuAC8AMAAxADIAMwA0ADUANgA3ADgAOQA6ADsAPAA9AD4APwBAAEEAQgBDAEQARQBGAEcASABJAEoASwBMAE0ATgBPAFAAUQBSAFMAVABVAFYAVwBYAFkAWgBbAFwAXQBeAF8AYABhAGIAYwBkAGUAZgBnAGgAaQBqAGsAbABtAG4AbwBwAHEAcgBzAHQAdQB2AHcAeAB5AHoAewB8AH0AfgB/AIAAgQCCAIMAhACFAIYAhwCIAIkAigCLAIwAjQCOAI8AkACRAJIAkwCUAJUA",
                    "dtype": "i2"
                  },
                  "y": {
                    "bdata": "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",
                    "dtype": "f8"
                  }
                },
                {
                  "name": "Ipd=deconv(Rpd)",
                  "type": "scatter",
                  "x": {
                    "bdata": "AAABAAIAAwAEAAUABgAHAAgACQAKAAsADAANAA4ADwAQABEAEgATABQAFQAWABcAGAAZABoAGwAcAB0AHgAfACAAIQAiACMAJAAlACYAJwAoACkAKgArACwALQAuAC8AMAAxADIAMwA0ADUANgA3ADgAOQA6ADsAPAA9AD4APwBAAEEAQgBDAEQARQBGAEcASABJAEoASwBMAE0ATgBPAFAAUQBSAFMAVABVAFYAVwBYAFkAWgBbAFwAXQBeAF8AYABhAGIAYwBkAGUAZgBnAGgAaQBqAGsAbABtAG4AbwBwAHEAcgBzAHQAdQB2AHcAeAB5AHoAewB8AH0AfgB/AIAAgQCCAIMAhACFAIYAhwCIAIkAigCLAIwAjQCOAI8AkACRAJIAkwCUAJUA",
                    "dtype": "i2"
                  },
                  "y": {
                    "bdata": "AAAAAAAAAAAAAAAAAAAAAAAAAAAAAAAAAAAAAAAAAAAAAAAAAAAAAAAAAAAAAAAAAAAAAAAAAAAAAAAAAAAAAAAAAAAAAAAAAAAAAAAAAAAAAAAAAAAAAAAAAAAAAAAAAAAAAAAAAAAAAAAAAAAAAAAAAAAAAAAAAAAAAAAAAAAAAAAAAADwPwAAAAAAAPA/AAAAAAAAAEAAAAAAAAAAQAAAAAAAAABAAAAAAAAAAEAAAAAAAAAAQAAAAAAAAPA/AAAAAAAAAAAAAAAAAAAAAAAAAAAAAAAAAAAAAAAAAAAAAAAAAAAAAAAAAAAAAAAAAAAAAAAAAAAAAAAAAAAAAAAAAAAAAAAAAAAAAAAAAAAAAAAAAADwPwAAAAAAAAhAAAAAAAAAFEAAAAAAAAAgQAAAAAAAAChAAAAAAAAALkAAAAAAAAAyQAAAAAAAADVAAAAAAAAAOEAAAAAAAAA7QAAAAAAAAD1AAAAAAAAAP0AAAAAAAIBAQAAAAAAAAEJAAAAAAACAQ0AAAAAAAABFQAAAAAAAgEdAAAAAAAAAS0AAAAAAAABPQAAAAAAAQFJAAAAAAACAVUAAAAAAAIBZQAAAAAAAQF5AAAAAAADgYUAAAAAAAOBkQAAAAAAAIGhAAAAAAACga0AAAAAAAEBvQAAAAAAAcHFAAAAAAABAc0AAAAAAAAB1QAAAAAAAkHZAAAAAAADwd0AAAAAAACB5QAAAAAAAAHpAAAAAAACQekAAAAAAANB6QAAAAAAAsHpAAAAAAABAekAAAAAAAHB5QAAAAAAAYHhAAAAAAAAQd0AAAAAAAIB1QAAAAAAAwHNAAAAAAADgcUAAAAAAAABwQAAAAAAAIGxAAAAAAABgaEAAAAAAAMBkQAAAAAAAgGFAAAAAAADAXEAAAAAAAIBXQAAAAAAAwFJAAAAAAACATUAAAAAAAABHQAAAAAAAAEJAAAAAAAAAPEAAAAAAAAA2QAAAAAAAADFAAAAAAAAALEAAAAAAAAAoQAAAAAAAACZAAAAAAAAAJEAAAAAAAAAiQAAAAAAAACBAAAAAAAAAHEAAAAAAAAAYQAAAAAAAABRAAAAAAAAACEAAAAAAAAAAQAAAAAAAAAAAAAAAAAAAAAAAAAAAAAAAAAAAAAAAAAAAAAAAAAAAAAAAAAAAAAAAAAAAAAAAAAAAAAAAAAAAAAAAAAAAAAAAAAAAAAAAAAAAAAAAAAAAAAAAAAAAAAAAAAAAAAAAAAAAAAAAAAAAAAAAAAAAAAAAAAAAAAAAAAAAAAAAAAAAAAAAAAAAAAAAAAAAAAAAAAAAAAAAAAAAAAAAAAAAAAAAAAAAAAAAAAAAAAAAAAAAAAAAAAAAAAAAAAAAAAAAAAAAAAAAAAAAAAAAAAAAAAAAAAAAAAAAAAAAAAAAAAAAAAAAAAAAAAAAAAAAAAAAAAAAAAAAAAAAAAAAAAAAAAAAAAAAAAAAAAAAAAAAAAAAAAAAAAAAAAAAAAAAAAAAAAAAAAAAAAAAAAAAAAAAAAAAAAAAAAAAAAAAAAAAAAAAAAAAAAAAAAAAAAAAAAAAAAAAAAAAAAAAAAAAAAAAAAAAAAAAAAAAAAAAAAAAAAAAAAAAAAAAAAAAAAAAAAAAAAAAAAAAAAAAAAAAAAAAAAAAAAAAAAAAAAAAAAAAAAAAAAAAAAAAAAAAAAAAAAAAAAAAAAAAAAAAAAAAAAAAAAAAAAAAAAAAAAAAAAAAAAAAAAAAAAAAAAAAAAAAAAAAAAAAAAAAAAAAAAAAAAAAAAAAAAAAAAAAAAAAAAAAAAAAAAAAAAAAAAAAAAAAAAAAAAAAAAAAAAAAAAAAAAAAAAAAAAAAAAAAAAAAAAAAAAAAAAAAAAAAAAAAAAAAAAAAAAAAAAAAAAAAAAAAAAAAAAAAAAAAAAAAAAAAAAAAAAAAAAAAAAAAAAAAAAAAAAAAAAAAAAAAAAAAAAAAAAAAAAAAAAAAAAAAAAAAAAAAAAAAAAAAAAAAAAAAAAAAAAAAAAAAAAAAAAAAAAAAAAAAAAAAAAAAAAAAAAAAAAAAAAAAAAAAAAAAAAAAAAAAAAAAAAAAAAAAAAAAAAAAAAAAAAAAAAAAAAAAAAAAAAAAAAAAAAAAAAAAAAAAAAAAAAAAAAAAAAAAAAAAAAAAAAAAAAAAAAAAAAAAAAAAAAAAAAAAAAAAAAAAAAAAAAAAAAAAAAAAAAAAAAAAAAAAAAAAAAAAAAAAAAAAAAAAAAAAAAAAAAAAAAAAAAAAAAAAAAAAAAAAAAAAAAAAAAAAAAAAAAAAAAAAAAAAAAAAAAAAAAAAAAAAAAAAAAAAAAAAAAAAAAAAAAAAAAAAAAAAAAAAAAAAAAAAAAAAAAAAAAAAAAAAAAAAAAAAAAAAAAAAAAAAAAAAAAAAAAAAAAAAAAAAAAAAAAAAAAAAAAAAAAAAAAAAAAAAAAAAAAAAAAAAAAAAAAAAAAAAAAAAAAAAAAAAAAAAAAAAAAAAAAAAAAAAAAAAAAAAAAAAAAAAAAAAAAAAAAAAAAAAAAAAAAAAAAAAAAAAAAAAAAAAAAAAAAAAAAAAAAAAAAAAAAAAAAAAAAAAAAAAAAAAAAAAAAAAAAAAAAAAAAAAAAAAAAAAAAAAAAAAAAAAAAAAAAAAAAAAAAAAAAAAAAAAAAAAAAAAAAAAAAAAAAAAAAAAAAAAAAAAAAAAAAAAAAAAAAAAAAAAAAAAAAAAAAAAAAAAAAAAAAAAAAAAAAAAAAAAAAAAAAAAAAAAAAAAAAAAAAAAAAAAAAAAAAAAAAAAAAAAAAAAAAAAAAAAAAAAAAAAAAAAAAAAAAAAAAAAAAAAAAAAAAAAAAAAAAAAAAAAAAAAAAAAAAAAAAAAAAAAAAAAAAAAAAAAAAAAAAAAAAAAAAAAAAAAAAAAAAAAAAAAAAAAAAAAAAAAAAAAAAAAAAAAAAAAAAAAAAAAAAAAAAAAAAAAAAAAAAAAAAAAAAAAAAAAAAAAAAAAAAAAAAAAAAAAAAAAAAAAAAAAAAAAAAAAAAAAAAAAAAAAAAAAAAAAAAAAAAAAAAAAAAAAAAAAAAAAAAAAAAAAAAAAAAAAAAAAAAAAAAAAAAAAAAAAAAAAAAAAAAAAAAAAAAAAAAAAAAAAAAAAAAAAAAAAAAAAAAAAAAAAAAAAAAAAAAAAAAAAAAAAAAAAAAAAAAAAAA==",
                    "dtype": "f8"
                  }
                },
                {
                  "name": "Rpd",
                  "type": "scatter",
                  "x": {
                    "bdata": "AAABAAIAAwAEAAUABgAHAAgACQAKAAsADAANAA4ADwAQABEAEgATABQAFQAWABcAGAAZABoAGwAcAB0AHgAfACAAIQAiACMAJAAlACYAJwAoACkAKgArACwALQAuAC8AMAAxADIAMwA0ADUANgA3ADgAOQA6ADsAPAA9AD4APwBAAEEAQgBDAEQARQBGAEcASABJAEoASwBMAE0ATgBPAFAAUQBSAFMAVABVAFYAVwBYAFkAWgBbAFwAXQBeAF8AYABhAGIAYwBkAGUAZgBnAGgAaQBqAGsAbABtAG4AbwBwAHEAcgBzAHQAdQB2AHcAeAB5AHoAewB8AH0AfgB/AIAAgQCCAIMAhACFAIYAhwCIAIkAigCLAIwAjQCOAI8AkACRAJIAkwCUAJUA",
                    "dtype": "i2"
                  },
                  "y": {
                    "bdata": "AAAAAAAAAAAAAAAAAAAAAAAAAAAAAAAAAAAAAAAAAAAAAAAAAAAAAAAAAAAAAAAAAAAAAAAAAQAAAAAAAQAAAAEAAAABAAAAAgAAAAAAAAADAAEAAwABAAMAAgAIAAQAAgAIAAMACAAIAAoABgAMAAwAEQAOABEAFgAZACQAKgAqAC4AQgA1AEcAUQBeAGMAcAB0AJAAnwCzAKsAvwDkAPsABgHwAB0BGwEiARsBTAExAUkBNQFHAVYBLAE1AQsBAwEOAfIA6wDHAM4AwwC1AJIAjgCKAHgAdABWAFQATwBGADoAOAAxACYAJwAVABQAEgARAA8ACgAKAAgABwAFAAcABQABAAIAAQAAAAEAAAABAAEAAAACAAAAAAAAAAEAAAAAAAAAAAAAAAAAAAAAAAAAAAAAAAAAAAAAAAAAAAAAAAAAAAAAAAAAAAAAAAAAAAAAAAAAAAAAAAAAAAAAAAAAAAAAAAAAAAAAAAAAAAAAAAAAAAAAAAAAAAAAAAAAAAAAAAAAAAAAAAAAAAAAAAAAAAAAAAAAAAAAAAAAAAAAAAAAAAAAAAAAAAAAAAAAAAAAAAAAAAAAAAAAAAAAAAAAAAAAAAAAAAAAAAAAAAAAAAAAAAAAAAAAAAAAAAAAAAAAAAAAAAAAAAAAAAAAAAAAAAAAAAAAAAAAAAAAAAAAAAAAAAAAAAAAAAAAAAAAAAAAAAAAAAAAAAAAAAAAAAAAAAAAAAAAAAAAAAAAAAAAAAAAAAAAAAAAAAAAAAAAAAAAAAAAAAAAAAAAAAAAAAAAAAAAAA==",
                    "dtype": "i2"
                  }
                },
                {
                  "name": "Rpd=conv(Inext)",
                  "type": "scatter",
                  "x": {
                    "bdata": "AAABAAIAAwAEAAUABgAHAAgACQAKAAsADAANAA4ADwAQABEAEgATABQAFQAWABcAGAAZABoAGwAcAB0AHgAfACAAIQAiACMAJAAlACYAJwAoACkAKgArACwALQAuAC8AMAAxADIAMwA0ADUANgA3ADgAOQA6ADsAPAA9AD4APwBAAEEAQgBDAEQARQBGAEcASABJAEoASwBMAE0ATgBPAFAAUQBSAFMAVABVAFYAVwBYAFkAWgBbAFwAXQBeAF8AYABhAGIAYwBkAGUAZgBnAGgAaQBqAGsAbABtAG4AbwBwAHEAcgBzAHQAdQB2AHcAeAB5AHoAewB8AH0AfgB/AIAAgQCCAIMAhACFAIYAhwCIAIkAigCLAIwAjQCOAI8AkACRAJIAkwCUAJUA",
                    "dtype": "i2"
                  },
                  "y": {
                    "bdata": "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",
                    "dtype": "f8"
                  }
                },
                {
                  "name": "Rpd=lowpass(Rpd)",
                  "type": "scatter",
                  "x": {
                    "bdata": "AAABAAIAAwAEAAUABgAHAAgACQAKAAsADAANAA4ADwAQABEAEgATABQAFQAWABcAGAAZABoAGwAcAB0AHgAfACAAIQAiACMAJAAlACYAJwAoACkAKgArACwALQAuAC8AMAAxADIAMwA0ADUANgA3ADgAOQA6ADsAPAA9AD4APwBAAEEAQgBDAEQARQBGAEcASABJAEoASwBMAE0ATgBPAFAAUQBSAFMAVABVAFYAVwBYAFkAWgBbAFwAXQBeAF8AYABhAGIAYwBkAGUAZgBnAGgAaQBqAGsAbABtAG4AbwBwAHEAcgBzAHQAdQB2AHcAeAB5AHoAewB8AH0AfgB/AIAAgQCCAIMAhACFAIYAhwCIAIkAigCLAIwAjQCOAI8AkACRAJIAkwCUAJUA",
                    "dtype": "i2"
                  },
                  "y": {
                    "bdata": "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",
                    "dtype": "f8"
                  }
                },
                {
                  "name": "Rpd=conv(deconv(Rpd))",
                  "type": "scatter",
                  "x": {
                    "bdata": "AAABAAIAAwAEAAUABgAHAAgACQAKAAsADAANAA4ADwAQABEAEgATABQAFQAWABcAGAAZABoAGwAcAB0AHgAfACAAIQAiACMAJAAlACYAJwAoACkAKgArACwALQAuAC8AMAAxADIAMwA0ADUANgA3ADgAOQA6ADsAPAA9AD4APwBAAEEAQgBDAEQARQBGAEcASABJAEoASwBMAE0ATgBPAFAAUQBSAFMAVABVAFYAVwBYAFkAWgBbAFwAXQBeAF8AYABhAGIAYwBkAGUAZgBnAGgAaQBqAGsAbABtAG4AbwBwAHEAcgBzAHQAdQB2AHcAeAB5AHoAewB8AH0AfgB/AIAAgQCCAIMAhACFAIYAhwCIAIkAigCLAIwAjQCOAI8AkACRAJIAkwCUAJUA",
                    "dtype": "i2"
                  },
                  "y": {
                    "bdata": "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",
                    "dtype": "f8"
                  }
                }
              ],
              "layout": {
                "template": {
                  "data": {
                    "bar": [
                      {
                        "error_x": {
                          "color": "#2a3f5f"
                        },
                        "error_y": {
                          "color": "#2a3f5f"
                        },
                        "marker": {
                          "line": {
                            "color": "#E5ECF6",
                            "width": 0.5
                          },
                          "pattern": {
                            "fillmode": "overlay",
                            "size": 10,
                            "solidity": 0.2
                          }
                        },
                        "type": "bar"
                      }
                    ],
                    "barpolar": [
                      {
                        "marker": {
                          "line": {
                            "color": "#E5ECF6",
                            "width": 0.5
                          },
                          "pattern": {
                            "fillmode": "overlay",
                            "size": 10,
                            "solidity": 0.2
                          }
                        },
                        "type": "barpolar"
                      }
                    ],
                    "carpet": [
                      {
                        "aaxis": {
                          "endlinecolor": "#2a3f5f",
                          "gridcolor": "white",
                          "linecolor": "white",
                          "minorgridcolor": "white",
                          "startlinecolor": "#2a3f5f"
                        },
                        "baxis": {
                          "endlinecolor": "#2a3f5f",
                          "gridcolor": "white",
                          "linecolor": "white",
                          "minorgridcolor": "white",
                          "startlinecolor": "#2a3f5f"
                        },
                        "type": "carpet"
                      }
                    ],
                    "choropleth": [
                      {
                        "colorbar": {
                          "outlinewidth": 0,
                          "ticks": ""
                        },
                        "type": "choropleth"
                      }
                    ],
                    "contour": [
                      {
                        "colorbar": {
                          "outlinewidth": 0,
                          "ticks": ""
                        },
                        "colorscale": [
                          [
                            0,
                            "#0d0887"
                          ],
                          [
                            0.1111111111111111,
                            "#46039f"
                          ],
                          [
                            0.2222222222222222,
                            "#7201a8"
                          ],
                          [
                            0.3333333333333333,
                            "#9c179e"
                          ],
                          [
                            0.4444444444444444,
                            "#bd3786"
                          ],
                          [
                            0.5555555555555556,
                            "#d8576b"
                          ],
                          [
                            0.6666666666666666,
                            "#ed7953"
                          ],
                          [
                            0.7777777777777778,
                            "#fb9f3a"
                          ],
                          [
                            0.8888888888888888,
                            "#fdca26"
                          ],
                          [
                            1,
                            "#f0f921"
                          ]
                        ],
                        "type": "contour"
                      }
                    ],
                    "contourcarpet": [
                      {
                        "colorbar": {
                          "outlinewidth": 0,
                          "ticks": ""
                        },
                        "type": "contourcarpet"
                      }
                    ],
                    "heatmap": [
                      {
                        "colorbar": {
                          "outlinewidth": 0,
                          "ticks": ""
                        },
                        "colorscale": [
                          [
                            0,
                            "#0d0887"
                          ],
                          [
                            0.1111111111111111,
                            "#46039f"
                          ],
                          [
                            0.2222222222222222,
                            "#7201a8"
                          ],
                          [
                            0.3333333333333333,
                            "#9c179e"
                          ],
                          [
                            0.4444444444444444,
                            "#bd3786"
                          ],
                          [
                            0.5555555555555556,
                            "#d8576b"
                          ],
                          [
                            0.6666666666666666,
                            "#ed7953"
                          ],
                          [
                            0.7777777777777778,
                            "#fb9f3a"
                          ],
                          [
                            0.8888888888888888,
                            "#fdca26"
                          ],
                          [
                            1,
                            "#f0f921"
                          ]
                        ],
                        "type": "heatmap"
                      }
                    ],
                    "histogram": [
                      {
                        "marker": {
                          "pattern": {
                            "fillmode": "overlay",
                            "size": 10,
                            "solidity": 0.2
                          }
                        },
                        "type": "histogram"
                      }
                    ],
                    "histogram2d": [
                      {
                        "colorbar": {
                          "outlinewidth": 0,
                          "ticks": ""
                        },
                        "colorscale": [
                          [
                            0,
                            "#0d0887"
                          ],
                          [
                            0.1111111111111111,
                            "#46039f"
                          ],
                          [
                            0.2222222222222222,
                            "#7201a8"
                          ],
                          [
                            0.3333333333333333,
                            "#9c179e"
                          ],
                          [
                            0.4444444444444444,
                            "#bd3786"
                          ],
                          [
                            0.5555555555555556,
                            "#d8576b"
                          ],
                          [
                            0.6666666666666666,
                            "#ed7953"
                          ],
                          [
                            0.7777777777777778,
                            "#fb9f3a"
                          ],
                          [
                            0.8888888888888888,
                            "#fdca26"
                          ],
                          [
                            1,
                            "#f0f921"
                          ]
                        ],
                        "type": "histogram2d"
                      }
                    ],
                    "histogram2dcontour": [
                      {
                        "colorbar": {
                          "outlinewidth": 0,
                          "ticks": ""
                        },
                        "colorscale": [
                          [
                            0,
                            "#0d0887"
                          ],
                          [
                            0.1111111111111111,
                            "#46039f"
                          ],
                          [
                            0.2222222222222222,
                            "#7201a8"
                          ],
                          [
                            0.3333333333333333,
                            "#9c179e"
                          ],
                          [
                            0.4444444444444444,
                            "#bd3786"
                          ],
                          [
                            0.5555555555555556,
                            "#d8576b"
                          ],
                          [
                            0.6666666666666666,
                            "#ed7953"
                          ],
                          [
                            0.7777777777777778,
                            "#fb9f3a"
                          ],
                          [
                            0.8888888888888888,
                            "#fdca26"
                          ],
                          [
                            1,
                            "#f0f921"
                          ]
                        ],
                        "type": "histogram2dcontour"
                      }
                    ],
                    "mesh3d": [
                      {
                        "colorbar": {
                          "outlinewidth": 0,
                          "ticks": ""
                        },
                        "type": "mesh3d"
                      }
                    ],
                    "parcoords": [
                      {
                        "line": {
                          "colorbar": {
                            "outlinewidth": 0,
                            "ticks": ""
                          }
                        },
                        "type": "parcoords"
                      }
                    ],
                    "pie": [
                      {
                        "automargin": true,
                        "type": "pie"
                      }
                    ],
                    "scatter": [
                      {
                        "fillpattern": {
                          "fillmode": "overlay",
                          "size": 10,
                          "solidity": 0.2
                        },
                        "type": "scatter"
                      }
                    ],
                    "scatter3d": [
                      {
                        "line": {
                          "colorbar": {
                            "outlinewidth": 0,
                            "ticks": ""
                          }
                        },
                        "marker": {
                          "colorbar": {
                            "outlinewidth": 0,
                            "ticks": ""
                          }
                        },
                        "type": "scatter3d"
                      }
                    ],
                    "scattercarpet": [
                      {
                        "marker": {
                          "colorbar": {
                            "outlinewidth": 0,
                            "ticks": ""
                          }
                        },
                        "type": "scattercarpet"
                      }
                    ],
                    "scattergeo": [
                      {
                        "marker": {
                          "colorbar": {
                            "outlinewidth": 0,
                            "ticks": ""
                          }
                        },
                        "type": "scattergeo"
                      }
                    ],
                    "scattergl": [
                      {
                        "marker": {
                          "colorbar": {
                            "outlinewidth": 0,
                            "ticks": ""
                          }
                        },
                        "type": "scattergl"
                      }
                    ],
                    "scattermap": [
                      {
                        "marker": {
                          "colorbar": {
                            "outlinewidth": 0,
                            "ticks": ""
                          }
                        },
                        "type": "scattermap"
                      }
                    ],
                    "scattermapbox": [
                      {
                        "marker": {
                          "colorbar": {
                            "outlinewidth": 0,
                            "ticks": ""
                          }
                        },
                        "type": "scattermapbox"
                      }
                    ],
                    "scatterpolar": [
                      {
                        "marker": {
                          "colorbar": {
                            "outlinewidth": 0,
                            "ticks": ""
                          }
                        },
                        "type": "scatterpolar"
                      }
                    ],
                    "scatterpolargl": [
                      {
                        "marker": {
                          "colorbar": {
                            "outlinewidth": 0,
                            "ticks": ""
                          }
                        },
                        "type": "scatterpolargl"
                      }
                    ],
                    "scatterternary": [
                      {
                        "marker": {
                          "colorbar": {
                            "outlinewidth": 0,
                            "ticks": ""
                          }
                        },
                        "type": "scatterternary"
                      }
                    ],
                    "surface": [
                      {
                        "colorbar": {
                          "outlinewidth": 0,
                          "ticks": ""
                        },
                        "colorscale": [
                          [
                            0,
                            "#0d0887"
                          ],
                          [
                            0.1111111111111111,
                            "#46039f"
                          ],
                          [
                            0.2222222222222222,
                            "#7201a8"
                          ],
                          [
                            0.3333333333333333,
                            "#9c179e"
                          ],
                          [
                            0.4444444444444444,
                            "#bd3786"
                          ],
                          [
                            0.5555555555555556,
                            "#d8576b"
                          ],
                          [
                            0.6666666666666666,
                            "#ed7953"
                          ],
                          [
                            0.7777777777777778,
                            "#fb9f3a"
                          ],
                          [
                            0.8888888888888888,
                            "#fdca26"
                          ],
                          [
                            1,
                            "#f0f921"
                          ]
                        ],
                        "type": "surface"
                      }
                    ],
                    "table": [
                      {
                        "cells": {
                          "fill": {
                            "color": "#EBF0F8"
                          },
                          "line": {
                            "color": "white"
                          }
                        },
                        "header": {
                          "fill": {
                            "color": "#C8D4E3"
                          },
                          "line": {
                            "color": "white"
                          }
                        },
                        "type": "table"
                      }
                    ]
                  },
                  "layout": {
                    "annotationdefaults": {
                      "arrowcolor": "#2a3f5f",
                      "arrowhead": 0,
                      "arrowwidth": 1
                    },
                    "autotypenumbers": "strict",
                    "coloraxis": {
                      "colorbar": {
                        "outlinewidth": 0,
                        "ticks": ""
                      }
                    },
                    "colorscale": {
                      "diverging": [
                        [
                          0,
                          "#8e0152"
                        ],
                        [
                          0.1,
                          "#c51b7d"
                        ],
                        [
                          0.2,
                          "#de77ae"
                        ],
                        [
                          0.3,
                          "#f1b6da"
                        ],
                        [
                          0.4,
                          "#fde0ef"
                        ],
                        [
                          0.5,
                          "#f7f7f7"
                        ],
                        [
                          0.6,
                          "#e6f5d0"
                        ],
                        [
                          0.7,
                          "#b8e186"
                        ],
                        [
                          0.8,
                          "#7fbc41"
                        ],
                        [
                          0.9,
                          "#4d9221"
                        ],
                        [
                          1,
                          "#276419"
                        ]
                      ],
                      "sequential": [
                        [
                          0,
                          "#0d0887"
                        ],
                        [
                          0.1111111111111111,
                          "#46039f"
                        ],
                        [
                          0.2222222222222222,
                          "#7201a8"
                        ],
                        [
                          0.3333333333333333,
                          "#9c179e"
                        ],
                        [
                          0.4444444444444444,
                          "#bd3786"
                        ],
                        [
                          0.5555555555555556,
                          "#d8576b"
                        ],
                        [
                          0.6666666666666666,
                          "#ed7953"
                        ],
                        [
                          0.7777777777777778,
                          "#fb9f3a"
                        ],
                        [
                          0.8888888888888888,
                          "#fdca26"
                        ],
                        [
                          1,
                          "#f0f921"
                        ]
                      ],
                      "sequentialminus": [
                        [
                          0,
                          "#0d0887"
                        ],
                        [
                          0.1111111111111111,
                          "#46039f"
                        ],
                        [
                          0.2222222222222222,
                          "#7201a8"
                        ],
                        [
                          0.3333333333333333,
                          "#9c179e"
                        ],
                        [
                          0.4444444444444444,
                          "#bd3786"
                        ],
                        [
                          0.5555555555555556,
                          "#d8576b"
                        ],
                        [
                          0.6666666666666666,
                          "#ed7953"
                        ],
                        [
                          0.7777777777777778,
                          "#fb9f3a"
                        ],
                        [
                          0.8888888888888888,
                          "#fdca26"
                        ],
                        [
                          1,
                          "#f0f921"
                        ]
                      ]
                    },
                    "colorway": [
                      "#636efa",
                      "#EF553B",
                      "#00cc96",
                      "#ab63fa",
                      "#FFA15A",
                      "#19d3f3",
                      "#FF6692",
                      "#B6E880",
                      "#FF97FF",
                      "#FECB52"
                    ],
                    "font": {
                      "color": "#2a3f5f"
                    },
                    "geo": {
                      "bgcolor": "white",
                      "lakecolor": "white",
                      "landcolor": "#E5ECF6",
                      "showlakes": true,
                      "showland": true,
                      "subunitcolor": "white"
                    },
                    "hoverlabel": {
                      "align": "left"
                    },
                    "hovermode": "closest",
                    "mapbox": {
                      "style": "light"
                    },
                    "paper_bgcolor": "white",
                    "plot_bgcolor": "#E5ECF6",
                    "polar": {
                      "angularaxis": {
                        "gridcolor": "white",
                        "linecolor": "white",
                        "ticks": ""
                      },
                      "bgcolor": "#E5ECF6",
                      "radialaxis": {
                        "gridcolor": "white",
                        "linecolor": "white",
                        "ticks": ""
                      }
                    },
                    "scene": {
                      "xaxis": {
                        "backgroundcolor": "#E5ECF6",
                        "gridcolor": "white",
                        "gridwidth": 2,
                        "linecolor": "white",
                        "showbackground": true,
                        "ticks": "",
                        "zerolinecolor": "white"
                      },
                      "yaxis": {
                        "backgroundcolor": "#E5ECF6",
                        "gridcolor": "white",
                        "gridwidth": 2,
                        "linecolor": "white",
                        "showbackground": true,
                        "ticks": "",
                        "zerolinecolor": "white"
                      },
                      "zaxis": {
                        "backgroundcolor": "#E5ECF6",
                        "gridcolor": "white",
                        "gridwidth": 2,
                        "linecolor": "white",
                        "showbackground": true,
                        "ticks": "",
                        "zerolinecolor": "white"
                      }
                    },
                    "shapedefaults": {
                      "line": {
                        "color": "#2a3f5f"
                      }
                    },
                    "ternary": {
                      "aaxis": {
                        "gridcolor": "white",
                        "linecolor": "white",
                        "ticks": ""
                      },
                      "baxis": {
                        "gridcolor": "white",
                        "linecolor": "white",
                        "ticks": ""
                      },
                      "bgcolor": "#E5ECF6",
                      "caxis": {
                        "gridcolor": "white",
                        "linecolor": "white",
                        "ticks": ""
                      }
                    },
                    "title": {
                      "x": 0.05
                    },
                    "xaxis": {
                      "automargin": true,
                      "gridcolor": "white",
                      "linecolor": "white",
                      "ticks": "",
                      "title": {
                        "standoff": 15
                      },
                      "zerolinecolor": "white",
                      "zerolinewidth": 2
                    },
                    "yaxis": {
                      "automargin": true,
                      "gridcolor": "white",
                      "linecolor": "white",
                      "ticks": "",
                      "title": {
                        "standoff": 15
                      },
                      "zerolinecolor": "white",
                      "zerolinewidth": 2
                    }
                  }
                },
                "title": {
                  "text": "$\\text{Actual } I_{pd} \\text{ vs. deconvolution of } R_{pd}$",
                  "x": 0.5,
                  "xanchor": "center"
                },
                "xaxis": {
                  "title": {
                    "text": "Day"
                  }
                },
                "yaxis": {
                  "title": {
                    "text": "Count"
                  }
                }
              }
            },
            "text/html": [
              "<div>            <script src=\"https://cdnjs.cloudflare.com/ajax/libs/mathjax/2.7.5/MathJax.js?config=TeX-AMS-MML_SVG\"></script><script type=\"text/javascript\">if (window.MathJax && window.MathJax.Hub && window.MathJax.Hub.Config) {window.MathJax.Hub.Config({SVG: {font: \"STIX-Web\"}});}</script>                <script type=\"text/javascript\">window.PlotlyConfig = {MathJaxConfig: 'local'};</script>\n",
              "        <script charset=\"utf-8\" src=\"https://cdn.plot.ly/plotly-3.0.0.min.js\"></script>                <div id=\"d75ffcba-60fe-43f2-9b63-347c15438689\" class=\"plotly-graph-div\" style=\"height:525px; width:100%;\"></div>            <script type=\"text/javascript\">                window.PLOTLYENV=window.PLOTLYENV || {};                                if (document.getElementById(\"d75ffcba-60fe-43f2-9b63-347c15438689\")) {                    Plotly.newPlot(                        \"d75ffcba-60fe-43f2-9b63-347c15438689\",                        [{\"name\":\"Ipd\",\"x\":{\"dtype\":\"i2\",\"bdata\":\"AAABAAIAAwAEAAUABgAHAAgACQAKAAsADAANAA4ADwAQABEAEgATABQAFQAWABcAGAAZABoAGwAcAB0AHgAfACAAIQAiACMAJAAlACYAJwAoACkAKgArACwALQAuAC8AMAAxADIAMwA0ADUANgA3ADgAOQA6ADsAPAA9AD4APwBAAEEAQgBDAEQARQBGAEcASABJAEoASwBMAE0ATgBPAFAAUQBSAFMAVABVAFYAVwBYAFkAWgBbAFwAXQBeAF8AYABhAGIAYwBkAGUAZgBnAGgAaQBqAGsAbABtAG4AbwBwAHEAcgBzAHQAdQB2AHcAeAB5AHoAewB8AH0AfgB\\u002fAIAAgQCCAIMAhACFAIYAhwCIAIkAigCLAIwAjQCOAI8AkACRAJIAkwCUAJUA\"},\"y\":{\"dtype\":\"i2\",\"bdata\":\"AAAAAAAAAAAAAAAAAAABAAAAAAAAAAAAAAAAAAAAAAABAAAAAQAAAAIAAQABAAAAAQABAAMAAgAAAAIABQAHAAQACAAIAAcAAwAMAAcADwATAAwADwAUABAAKAAjACQAOAAyADkAQABiAFMAcAByAIMAlQCuALUA9QD5APoADgFOAWgBWQGJAbEBtwGqAa0BqwGUAZkBggFjAUEBGAEFAe0A1gCkAHoAlABWAGAASwA2AC4AJwAaACEAEwAKAAgADQAJAAgABQAFAAMABAAAAAAAAAACAAEAAAAAAAEAAQABAAAAAAAAAAAAAAAAAAAAAAAAAAAAAAAAAAAAAAAAAAAAAAAAAAAAAAAAAAAAAAAAAAAAAAAAAAAAAAAAAAAAAAAAAAAAAAAAAAAAAAAAAAAAAAAAAAAAAAAAAAAAAAAAAAAAAAAAAAAAAAAAAAAAAAAAAAAAAAAAAAAAAAAAAAAAAAAAAAAAAAAAAAAAAAAAAAAAAAAAAAAAAAAAAAAAAAAAAAAAAAAAAAAAAAAAAAAAAAAAAAAAAAAAAAAAAAAAAAAAAAAAAAAAAAAAAAAAAAAAAAAAAAAAAAAAAAAAAAAAAAAAAAAAAAAAAAAAAAAAAAAAAAAAAAAAAAAAAAAAAAAAAAAAAAAAAAAAAAAAAAAAAAAAAAAAAAAAAAAAAAAAAAAAAAAAAAAAAAAAAAAAAAAAAAAAAAAAAAAAAAAAAAAAAAAAAAAAAAAAAAAAAAAAAAAAAAAAAAAAAAAAAAAAAAAAAAAAAAAAAAAAAAAAAAAAAAAAAA==\"},\"type\":\"scatter\"},{\"name\":\"Ipd=lowpass(Ipd)\",\"x\":{\"dtype\":\"i2\",\"bdata\":\"AAABAAIAAwAEAAUABgAHAAgACQAKAAsADAANAA4ADwAQABEAEgATABQAFQAWABcAGAAZABoAGwAcAB0AHgAfACAAIQAiACMAJAAlACYAJwAoACkAKgArACwALQAuAC8AMAAxADIAMwA0ADUANgA3ADgAOQA6ADsAPAA9AD4APwBAAEEAQgBDAEQARQBGAEcASABJAEoASwBMAE0ATgBPAFAAUQBSAFMAVABVAFYAVwBYAFkAWgBbAFwAXQBeAF8AYABhAGIAYwBkAGUAZgBnAGgAaQBqAGsAbABtAG4AbwBwAHEAcgBzAHQAdQB2AHcAeAB5AHoAewB8AH0AfgB\\u002fAIAAgQCCAIMAhACFAIYAhwCIAIkAigCLAIwAjQCOAI8AkACRAJIAkwCUAJUA\"},\"y\":{\"dtype\":\"f8\",\"bdata\":\"wvFfLGq9gz9+RRO5zF2cP+Vtzkoud6c\\u002fxnfCN8gBsD8E4vvTwo2zP96eQ826F7Y\\u002fvlon32B5tz9xQ74jM7i3P7RDDTn3C7c\\u002felo745PgtT\\u002fLkmik+NK0P6CAINFHqbQ\\u002fMY\\u002f5OvBGtj97z1Kpup26P4vtyuB\\u002fTsE\\u002fh7lZ8CWQxz8PbzRMrTfQP94WMhAJF9Y\\u002fcijFaXV33T92gY0cbizjPzpL79TFVOg\\u002fM\\u002fBhpvMj7j+Ji0BfmEHyPzxIyfmCrPU\\u002fB6JXMvlG+T\\u002fVCda2Lwn9PydPpXdneQBAExAh\\u002flqHAkAN7VQNUrsEQMwpFVspKwdApb8Pwr72CUCur3tXLEgNQJML0E2DqRBA8q+ujEEpE0BW0fOPSUMWQGXRzckWGBpAnEArzZnGHkDq9dtCITUiQFTFUqW8jCVAr3U0u29yKUCj5eEt0+stQE4BlMFNfjFAV+Zy2BFUNEDKQv2q1Hk3QMSx3\\u002fqO9DpATd+w\\u002fCrNPkDbG0bqEIlBQAHG3pt17ENAgfaMlYKfRkAgfb\\u002f\\u002fLLVJQFB80tNoRE1A9FdMMrqzUECNtg+dTh1TQD8oMwNA7VVAHLiCH+kwWUDqebywaPNcQK6pXjggnmBA\\u002fXh6p\\u002foGY0CjYyQ3Z7JlQF6ZpMTommhAKh8K7Qy3a0AfJbNHUfluQM7wk98lKHFAfjnkl43TckBLhxIoEHN0QFuqcnj8+XVAFHCwo1hbd0As8hZ+jIp4QEckkH8SfHlAX5sJMyImekBLW1QrR4F6QAEz9a3YiHpAy3cDqUg7ekAZz2vMQ5p5QJuetVKgqnhAF2IByRx0d0AKSF+z8wB2QDJHZgtMXXRAo4icE5GWckBF1NqWvbpwQHCf2G5Or21AQPbMxKv0aUCY2qfi41xmQGRBBHai+2JA9pggKKLAX0A4fotyjytaQFPNOdSSRFVAf0AYpIsPUUBfRGiyUBFLQNNOzdhiS0VAbGfyzxGvQECDnwyi+S46QAv76OlnuDRAOYV2XxOoMEDlmJ62510rQEdHE643CidAzXTcR8TYI0Bdk50V3GMhQF4Sh8Xnuh5AXwoyIL8cG0ACMkO6NKgXQI6s1SkOOxRAIF5V9ijOEEAobNOLt9oKQD36p\\u002fRPXwRAAvGOY0HB\\u002fD8r0hCk9yTyPxI\\u002f+yZrd+I\\u002fh4MHYUu+wT+0D\\u002fbzQMHGvxH\\u002fwHJoINi\\u002fjQK05PIm3r8Uezcx65Pev\\u002fD2sMb1vNq\\u002fxI7B2l4K1L\\u002f47RDkTq7Hv2nxDw6kuKq\\u002fzeSGr\\u002fLusT+ts0qJg9bFP02tdT+fEM8\\u002fqItPBs8m0j+Wc1Jgz9TSP9MkIDAjztE\\u002fIVeEjG\\u002fczj+t\\u002fGh+bUPIP+M8UH5+ssA\\u002fIXBZqMb4sT8HRNPvsUWNP+uq54e+86C\\u002fOQY51ze9sb8okTtz\\u002fM63v6rBTvtts7q\\u002f1mC8fD22ur9Vr\\u002fIEjVe4vz2J\\u002fp59N7S\\u002fi+lZFMgErr8LlIbsn76ivyUGtCOHEI+\\u002f9zgn9R\\u002fUbz\\u002fQTI5UuLqTPyLhFVhr+J4\\u002fnUUb6A++oj9oun5L\\u002f8GjP7Z3CXfn1KI\\u002fpve53qNioD\\u002fVKGV0A86ZPxspKRzWv5E\\u002f9YOBRCgHgz8Jsz5bcdldP6yfxly\\u002fdXK\\u002fXyPS+eEag78PzlkjzIyJv6LcViJdloy\\u002fiFhm9UGKjL9A+nBhSfOJv3qrvhA0foW\\u002fMhAs+7TIf7+0AnZ517Fzv8y1pbHxz1+\\u002f4mqsXymeQz\\u002fOgnJ8EqZlP3U7a+AIxXA\\u002fs4lLLRMudD\\u002foeLiASDF1P7EcLiiDInQ\\u002fquhSb1p2cT9mHtDOBGRrP3FIltf+uGI\\u002fiIk\\u002fqRLJUz+HIMfenn0rP11WH6dCvUS\\u002f7Wzka5zXVL+WqCe4cqBbv6g0vtWKwl6\\u002f5yhHBy6ZXr8HNRF7Gbtbv78Nd8So4la\\u002fe\\u002flwSPnWUL86qb5VzK9Ev7bv5FyeODC\\u002fOvxxdIH7Fz8LUEUUss03P8WrBMegMEI\\u002fGHPFgq3BRT8J1pZl4MFGP9kXSBHYjEU\\u002fFySOs7ugQj\\u002fT7JYs4Bk9P2\\u002fWRSqMxDM\\u002f5py\\u002fFSqXJD86+1OC+t34ProNhjgZNRe\\u002fxdvisdC2Jr\\u002ff57ZHpdstv\\u002fDffZNTizC\\u002faJMu\\u002f0tmML+1zgFgLKEtv5SQn6VxXSi\\u002flrpTJVTXIb9fPieohrgVv7Oq0DhFgQC\\u002fJOPIS4PX7D5YsO1ErCUKP8qVqaYbuRM\\u002fwLAiDHRzFz+mEK7M\\u002fG4YP2\\u002f2CYLCDxc\\u002fCGJQmTzeEz8bypXIhOkOP+Xc9rJF3QQ\\u002foLx4EmNo9T4AojqEoLvFPtDbYH\\u002fg6um+kP8VNlC++L7oMOfhniEAv9tSRBZLywG\\u002fOCg1gbiTAb9wuBOFiKf\\u002fvkqCIzu67\\u002fm+PYobf9Pl8r5nfpDvjsvmvg+oZw3+vtC+71So78EhwT5ptsKlIrPcPj81SWkpYeU+asdjyvhF6T5K+i3d4TrqPhT4pZAXreg+VGXR4zAw5T48tdVwR2rgPl87L6fLA9Y+3i0ofUk8xj47a2k4LwiSPrFf15EO5Ly+JeSkE1rxyr4vDu4\\u002fTm3Rvv6G+9fCItO+vMwCIjrW0r7aooIfJujQvoUxy1rvmsu+kNRTnjEDxL5qN5XdEum3vglPOq0C8KC+hVLjsH0mlD7VJIiMdXqvPrmQnGgyK7c+8UHsYZs7uz4BCb0Zsie8Psz5QSaXZro++wDgDuCXtj6q3ck8R26xPvvbt2G6OKc+nn3xtWwSlz4B0y8eMmtbPsDS8xT\\u002fEpC+ecCcxCBTnb75v86fjdKivgqnFmpUk6S+psYGQDovpL6++1rR4g6ivqHXNInKYJ2+ZZvKwZQwlb7uEC9oVBKJvqEHlHMYFXG+MkICtCV7Zz64RU28oD6BPtEt4CtkGIk+JoMQgtNVjT6UKnBaKDeOPr8I0eBDPow+NYs6r58XiD5ZYIVOdYOCPv0eFz07gng+Nq+I6HT4Zz4rYz4NdG8iPmf0E+rqyWG+mDqn\\u002fIfWb77W1XGzP0x0vs5YcMAzGna+DYFZ0B6fdb6NaZYWVkxzvhN5yjH7Um++oqTFGvSIZr6DzUsdhY5avkOurKUS2EG+qccFFuKsOT6AH75zcIFSPjJiLPbc1lo+swxxRGpYXz7JRNmKESdgPhM3BIl0RF4+LpdeGTrzWT5g9PteOCVUPui2Z6hfREs+fIGx\\u002f1t0PD52yBuueXYSPsy7D5CbsS6+Grt0qDB4Pr6sIHgbTzZEvg==\"},\"type\":\"scatter\"},{\"name\":\"Ipd=deconv(Rpd)\",\"x\":{\"dtype\":\"i2\",\"bdata\":\"AAABAAIAAwAEAAUABgAHAAgACQAKAAsADAANAA4ADwAQABEAEgATABQAFQAWABcAGAAZABoAGwAcAB0AHgAfACAAIQAiACMAJAAlACYAJwAoACkAKgArACwALQAuAC8AMAAxADIAMwA0ADUANgA3ADgAOQA6ADsAPAA9AD4APwBAAEEAQgBDAEQARQBGAEcASABJAEoASwBMAE0ATgBPAFAAUQBSAFMAVABVAFYAVwBYAFkAWgBbAFwAXQBeAF8AYABhAGIAYwBkAGUAZgBnAGgAaQBqAGsAbABtAG4AbwBwAHEAcgBzAHQAdQB2AHcAeAB5AHoAewB8AH0AfgB\\u002fAIAAgQCCAIMAhACFAIYAhwCIAIkAigCLAIwAjQCOAI8AkACRAJIAkwCUAJUA\"},\"y\":{\"dtype\":\"f8\",\"bdata\":\"AAAAAAAAAAAAAAAAAAAAAAAAAAAAAAAAAAAAAAAAAAAAAAAAAAAAAAAAAAAAAAAAAAAAAAAAAAAAAAAAAAAAAAAAAAAAAAAAAAAAAAAAAAAAAAAAAAAAAAAAAAAAAAAAAAAAAAAAAAAAAAAAAAAAAAAAAAAAAAAAAAAAAAAAAAAAAAAAAADwPwAAAAAAAPA\\u002fAAAAAAAAAEAAAAAAAAAAQAAAAAAAAABAAAAAAAAAAEAAAAAAAAAAQAAAAAAAAPA\\u002fAAAAAAAAAAAAAAAAAAAAAAAAAAAAAAAAAAAAAAAAAAAAAAAAAAAAAAAAAAAAAAAAAAAAAAAAAAAAAAAAAAAAAAAAAAAAAAAAAAAAAAAAAAAAAAAAAADwPwAAAAAAAAhAAAAAAAAAFEAAAAAAAAAgQAAAAAAAAChAAAAAAAAALkAAAAAAAAAyQAAAAAAAADVAAAAAAAAAOEAAAAAAAAA7QAAAAAAAAD1AAAAAAAAAP0AAAAAAAIBAQAAAAAAAAEJAAAAAAACAQ0AAAAAAAABFQAAAAAAAgEdAAAAAAAAAS0AAAAAAAABPQAAAAAAAQFJAAAAAAACAVUAAAAAAAIBZQAAAAAAAQF5AAAAAAADgYUAAAAAAAOBkQAAAAAAAIGhAAAAAAACga0AAAAAAAEBvQAAAAAAAcHFAAAAAAABAc0AAAAAAAAB1QAAAAAAAkHZAAAAAAADwd0AAAAAAACB5QAAAAAAAAHpAAAAAAACQekAAAAAAANB6QAAAAAAAsHpAAAAAAABAekAAAAAAAHB5QAAAAAAAYHhAAAAAAAAQd0AAAAAAAIB1QAAAAAAAwHNAAAAAAADgcUAAAAAAAABwQAAAAAAAIGxAAAAAAABgaEAAAAAAAMBkQAAAAAAAgGFAAAAAAADAXEAAAAAAAIBXQAAAAAAAwFJAAAAAAACATUAAAAAAAABHQAAAAAAAAEJAAAAAAAAAPEAAAAAAAAA2QAAAAAAAADFAAAAAAAAALEAAAAAAAAAoQAAAAAAAACZAAAAAAAAAJEAAAAAAAAAiQAAAAAAAACBAAAAAAAAAHEAAAAAAAAAYQAAAAAAAABRAAAAAAAAACEAAAAAAAAAAQAAAAAAAAAAAAAAAAAAAAAAAAAAAAAAAAAAAAAAAAAAAAAAAAAAAAAAAAAAAAAAAAAAAAAAAAAAAAAAAAAAAAAAAAAAAAAAAAAAAAAAAAAAAAAAAAAAAAAAAAAAAAAAAAAAAAAAAAAAAAAAAAAAAAAAAAAAAAAAAAAAAAAAAAAAAAAAAAAAAAAAAAAAAAAAAAAAAAAAAAAAAAAAAAAAAAAAAAAAAAAAAAAAAAAAAAAAAAAAAAAAAAAAAAAAAAAAAAAAAAAAAAAAAAAAAAAAAAAAAAAAAAAAAAAAAAAAAAAAAAAAAAAAAAAAAAAAAAAAAAAAAAAAAAAAAAAAAAAAAAAAAAAAAAAAAAAAAAAAAAAAAAAAAAAAAAAAAAAAAAAAAAAAAAAAAAAAAAAAAAAAAAAAAAAAAAAAAAAAAAAAAAAAAAAAAAAAAAAAAAAAAAAAAAAAAAAAAAAAAAAAAAAAAAAAAAAAAAAAAAAAAAAAAAAAAAAAAAAAAAAAAAAAAAAAAAAAAAAAAAAAAAAAAAAAAAAAAAAAAAAAAAAAAAAAAAAAAAAAAAAAAAAAAAAAAAAAAAAAAAAAAAAAAAAAAAAAAAAAAAAAAAAAAAAAAAAAAAAAAAAAAAAAAAAAAAAAAAAAAAAAAAAAAAAAAAAAAAAAAAAAAAAAAAAAAAAAAAAAAAAAAAAAAAAAAAAAAAAAAAAAAAAAAAAAAAAAAAAAAAAAAAAAAAAAAAAAAAAAAAAAAAAAAAAAAAAAAAAAAAAAAAAAAAAAAAAAAAAAAAAAAAAAAAAAAAAAAAAAAAAAAAAAAAAAAAAAAAAAAAAAAAAAAAAAAAAAAAAAAAAAAAAAAAAAAAAAAAAAAAAAAAAAAAAAAAAAAAAAAAAAAAAAAAAAAAAAAAAAAAAAAAAAAAAAAAAAAAAAAAAAAAAAAAAAAAAAAAAAAAAAAAAAAAAAAAAAAAAAAAAAAAAAAAAAAAAAAAAAAAAAAAAAAAAAAAAAAAAAAAAAAAAAAAAAAAAAAAAAAAAAAAAAAAAAAAAAAAAAAAAAAAAAAAAAAAAAAAAAAAAAAAAAAAAAAAAAAAAAAAAAAAAAAAAAAAAAAAAAAAAAAAAAAAAAAAAAAAAAAAAAAAAAAAAAAAAAAAAAAAAAAAAAAAAAAAAAAAAAAAAAAAAAAAAAAAAAAAAAAAAAAAAAAAAAAAAAAAAAAAAAAAAAAAAAAAAAAAAAAAAAAAAAAAAAAAAAAAAAAAAAAAAAAAAAAAAAAAAAAAAAAAAAAAAAAAAAAAAAAAAAAAAAAAAAAAAAAAAAAAAAAAAAAAAAAAAAAAAAAAAAAAAAAAAAAAAAAAAAAAAAAAAAAAAAAAAAAAAAAAAAAAAAAAAAAAAAAAAAAAAAAAAAAAAAAAAAAAAAAAAAAAAAAAAAAAAAAAAAAAAAAAAAAAAAAAAAAAAAAAAAAAAAAAAAAAAAAAAAAAAAAAAAAAAAAAAAAAAAAAAAAAAAAAAAAAAAAAAAAAAAAAAAAAAAAAAAAAAAAAAAAAAAAAAAAAAAAAAAAAAAAAAAAAAAAAAAAAAAAAAAAAAAAAAAAAAAAAAAAAAAAAAAAAAAAAAAAAAAAAAAAAAAAAAAAAAAAAAAAAAAAAAAAAAAAAAAAAAAAAAAAAAAAAAAAAAAAAAAAAAAAAAAAAAAAAAAAAAAAAAAAAAAAAAAAAAAAAAAAAAAAAAAAAAAAAAAAAAAAAAAAAAAAAAAAAAAAAAAAAAAAAAAAAAAAAAAAAAAAAAAAAAAAAAAAAAAAAAAAAAAAAAAAAAAAAAAAAAAAAAAAAAAAAAAAAAAAAAAAAAAAAAAAAAAAAAAAAAAAAAAAAAAAAAAAAAAAAAAAAAAAAAAAAAAAAAAAAAAAAAAAAAAAAAAAAAAAAAAAAAAAAAAAAAAAAAAAAAAAAAAAAAAAAAAAAAAAAAAAAAAAAAAAAAAAAAAAAAAAAAAAAAAAAAAAAAAAAAAAAAAAAAAAAAAAAAAAAAAAAAAAAAAAAAAAAAAAAAAAAAAAAAAAAAAAAAAAAAAAAAAAAAAAAAAAAAAAAAAAAAAAAAAAAAAAAAAAAAAAAA==\"},\"type\":\"scatter\"},{\"name\":\"Rpd\",\"x\":{\"dtype\":\"i2\",\"bdata\":\"AAABAAIAAwAEAAUABgAHAAgACQAKAAsADAANAA4ADwAQABEAEgATABQAFQAWABcAGAAZABoAGwAcAB0AHgAfACAAIQAiACMAJAAlACYAJwAoACkAKgArACwALQAuAC8AMAAxADIAMwA0ADUANgA3ADgAOQA6ADsAPAA9AD4APwBAAEEAQgBDAEQARQBGAEcASABJAEoASwBMAE0ATgBPAFAAUQBSAFMAVABVAFYAVwBYAFkAWgBbAFwAXQBeAF8AYABhAGIAYwBkAGUAZgBnAGgAaQBqAGsAbABtAG4AbwBwAHEAcgBzAHQAdQB2AHcAeAB5AHoAewB8AH0AfgB\\u002fAIAAgQCCAIMAhACFAIYAhwCIAIkAigCLAIwAjQCOAI8AkACRAJIAkwCUAJUA\"},\"y\":{\"dtype\":\"i2\",\"bdata\":\"AAAAAAAAAAAAAAAAAAAAAAAAAAAAAAAAAAAAAAAAAAAAAAAAAAAAAAAAAAAAAAAAAAAAAAAAAQAAAAAAAQAAAAEAAAABAAAAAgAAAAAAAAADAAEAAwABAAMAAgAIAAQAAgAIAAMACAAIAAoABgAMAAwAEQAOABEAFgAZACQAKgAqAC4AQgA1AEcAUQBeAGMAcAB0AJAAnwCzAKsAvwDkAPsABgHwAB0BGwEiARsBTAExAUkBNQFHAVYBLAE1AQsBAwEOAfIA6wDHAM4AwwC1AJIAjgCKAHgAdABWAFQATwBGADoAOAAxACYAJwAVABQAEgARAA8ACgAKAAgABwAFAAcABQABAAIAAQAAAAEAAAABAAEAAAACAAAAAAAAAAEAAAAAAAAAAAAAAAAAAAAAAAAAAAAAAAAAAAAAAAAAAAAAAAAAAAAAAAAAAAAAAAAAAAAAAAAAAAAAAAAAAAAAAAAAAAAAAAAAAAAAAAAAAAAAAAAAAAAAAAAAAAAAAAAAAAAAAAAAAAAAAAAAAAAAAAAAAAAAAAAAAAAAAAAAAAAAAAAAAAAAAAAAAAAAAAAAAAAAAAAAAAAAAAAAAAAAAAAAAAAAAAAAAAAAAAAAAAAAAAAAAAAAAAAAAAAAAAAAAAAAAAAAAAAAAAAAAAAAAAAAAAAAAAAAAAAAAAAAAAAAAAAAAAAAAAAAAAAAAAAAAAAAAAAAAAAAAAAAAAAAAAAAAAAAAAAAAAAAAAAAAAAAAAAAAAAAAAAAAAAAAAAAAAAAAAAAAAAAAAAAAAAAAAAAAAAAAA==\"},\"type\":\"scatter\"},{\"name\":\"Rpd=conv(Inext)\",\"x\":{\"dtype\":\"i2\",\"bdata\":\"AAABAAIAAwAEAAUABgAHAAgACQAKAAsADAANAA4ADwAQABEAEgATABQAFQAWABcAGAAZABoAGwAcAB0AHgAfACAAIQAiACMAJAAlACYAJwAoACkAKgArACwALQAuAC8AMAAxADIAMwA0ADUANgA3ADgAOQA6ADsAPAA9AD4APwBAAEEAQgBDAEQARQBGAEcASABJAEoASwBMAE0ATgBPAFAAUQBSAFMAVABVAFYAVwBYAFkAWgBbAFwAXQBeAF8AYABhAGIAYwBkAGUAZgBnAGgAaQBqAGsAbABtAG4AbwBwAHEAcgBzAHQAdQB2AHcAeAB5AHoAewB8AH0AfgB\\u002fAIAAgQCCAIMAhACFAIYAhwCIAIkAigCLAIwAjQCOAI8AkACRAJIAkwCUAJUA\"},\"y\":{\"dtype\":\"f8\",\"bdata\":\"exSuR+F6FD17FK5H4XoUPXsUrkfhehQ9exSuR+F6FD0AAAAAAAAAAAAAAAAAAAAAAAAAAAAAAAB7FK5H4XoUPXsUrkfheiQ9exSuR+F6FD17FK5H4XoUPXsUrkfhehQ9AAAAAAAAAAAAAAAAAAAAAHsUrkfheiQ9exSuR+F6FD17FK5H4XoUPXsUrkfhehQ9exSuR+F6BD0VrrclBnVQP4\\u002fCRaKgOHQ\\u002fcT1m152miz+uRzyw47WdPx+F8tbA06o\\u002fwzUoqXKJtT+uh1wlkNi\\u002fP1K4ykDcCMY\\u002fhRsMo3SxzD8f1RivOsDRP+HSSHJAHtU\\u002fFfYvulxb2D\\u002fh+mBx\\u002fGLbPzML8sQMI94\\u002fuAKs7wpG4D8Ku1V\\u002fu0jhP3GN\\u002f7jRFOI\\u002fZ8CgOSin4j9IRXoLgAbjP67OEBM\\u002fU+M\\u002fUvz8+t7E4z9x8JVwfKXkPzhKVnKAXeY\\u002fhWwvFC1m6T92ibdnNTPuP7i374hZm\\u002fI\\u002fHOMV2pRv9z8TYcVXgMr9P7fmEpz36wJArq9uVD7bB0DkO2U4070NQM4jO7wdThJAeEhXiV8\\u002fFkBxwopHhrUaQP+kZdD3sx9AlnG7iUqhIkCSeIHyGLclQPy9dzfLJClAFSM8vyX4LEBBiDTqwqEwQGEb36dtDzNAyaitevnTNUDxnm5W\\u002fgA5QOezQjs1qjxAMfBw0pFyQEAsdCK2Q+RCQA3PGCigtUVAOKXHtqTxSEC\\u002fYg2FaaJMQFz5PAQvaFBAZc2ci77AUkAzWRAgc1xVQHFfyDItO1hA8gf+uctaW0CKB410DrdeQMxscKu+JGFAZtV24bAEY0ABIHRZ8PVkQNpefDES8mZAJ22+buDxaECpLPQAf+1qQFiUt8yY3GxAmhPHMp22bkDyji3VhTlwQOjK0GzcBHFAE9nMc4G5cUAFwqNbClRyQJjylOSP0XJAuvBNfcQvc0A\\u002f\\u002f0WFAG1zQETsqHxUiHNAw9czc4WBc0AF6DGhD1lzQFXQnsYgEHNAXNuSsomockCBpTNMqCRyQJJ2CodPh3FARF5rtq7TcEBONzG+PA1wQK66dQ83b25AEF5qbfisbEBIWJRwA9tqQOkzxv1UAGlAA\\u002fa573sjZ0A4Q2PeekplQG6tqcywemNAaqDffsC4YUAAIJZzhwhgQGQb+qFH2lxAe\\u002frzaPDRWUAAM9VElvtWQFxqheuBWVRAnYaljs7sUUBttw1UE2tPQNWd2vytZUtA+9EQ4izGR0BB\\u002fms0FIhEQGOJrUX2pUFAvjaGX3EzPkA+jiSDprk5QLZd0hwP0TVAhrTJ7yBsMkDX3vTgJfsuQO5EDUU38SlA1rHGQ0CiJUC6Y3BZqvchQK60nEpPuR1A6ixfa458GEA896MB8BYUQLznLmf8aRBAJE1pBHm1CkC+tpkPA6MFQElxYldHcwFAWvjhgPAE\\u002fD\\u002fxaZuMd2P2P6xbMOw\\u002fzfE\\u002f4dDtM1gq7D9cxxPA2inmP2qgvIpCWOE\\u002fLFwJahT+2j+8lF8+\\u002fuDUPy\\u002fdGpn9DNA\\u002fJ62zZW6FyD+Ko\\u002flElZvCP6rjayaQDLw\\u002fgKT4khz+tD\\u002f8I4SqaDKvPxfYNa12Aqc\\u002fsOKQdLfXoD9kEKx1WneYPxNL6qw3oZE\\u002fPvHbQsMziT\\u002fqTYsIlt2BPwSFB54cHnk\\u002fpbi48rSBcT8o\\u002f16xejFoPxi47eESkmA\\u002fnGNt1Hh\\u002fVj84LFK5a0VOP+Q+jpUVLkQ\\u002ffwDMVpGoOj8K1wPT43ExPz4KFxQEniY\\u002fpHC98LILHT9nZmYH+ngSP4XrUdwsRQc\\u002fMzMzi4MH\\u002fT7hehRqBu7xPrgehZcf7uU+PgrXA5GO2j4Vrkcxo9bPPrgeheup5MI+j8L1SCUytj4fhesRc8+pPgAAAIC7tJ0+MzMzsy\\u002frkD4AAAAAchKDPhWuR+GKRnU+4XoUrjN8Zz7NzMzMxKZZPgAAAACguEs+rkfherSjPT7hehSuJ1ovPqRwPQp3ZyA+w\\u002fUoXA\\u002f7ED6F61G4HmMBPo\\u002fC9ShcnPE9Fa5H4Xqk4T3Xo3A9CnvRPbgehetRIME9j8L1KFyfsD0AAAAAAOCfPZqZmZmZWY49Z2ZmZmZmfD3hehSuR+FqPQrXo3A9Clo9UrgehetRSD1cj8L1KFw3PZDC9Shcjyo9MzMzMzMzJz3NzMzMzMwgPbgehetRuCY99ihcj8L1ED3hehSuR+ESPZqZmZmZmSE9SOF6FK5HGT0K16NwPQr\\u002fPD4K16NwPfI8Z2ZmZmZmFz3hehSuR6EYPbgehetRuBU9w\\u002fUoXI\\u002fCFz2uR+F6FK4XPc3MzMzMzBI9j8L1KFyPBD1cj8L1KFwVPbgehetRuAY94XoUrkehJD0pXI\\u002fC9SjyPHE9Ctej8BU9AAAAAABAFD3sUbgehSsUPVK4HoXrkRC9w\\u002fUoXI9C8bwAAAAAAAD+PIXrUbgeVRc9CtejcD2K\\u002fjyF61G4HgUHPVyPwvUodBk9w\\u002fUoXI\\u002fCxzwpXI\\u002fC9ZATPXE9CtejUO28XI\\u002fC9SjQAz3NzMzMzAQNPdejcD0KcwY9KVyPwvXI0Dy4HoXrUVQYPT4K16PwFge9pHA9CtcOCL17FK5H4fL\\u002fvArXo3A9isE8exSuR+F69LzsUbgeheshvSlcj8L1KCy9uB6F61G4Hr17FK5H4XokvXsUrkfhehS9mpmZmZmZKb2amZmZmZkZvXsUrkfhehS9KVyPwvUoLL24HoXrUbguvbgehetRuA69CtejcD0KJ70K16NwPQonvSlcj8L1KCy9mpmZmZmZKb17FK5H4XokvaRwPQrXozC9mpmZmZmZGb24HoXrUbgevexRuB6F6yG9AAAAAAAAML0pXI\\u002fC9SgcvQrXo3A9Cie9exSuR+F6JL1SuB6F61EovXsUrkfheiS9exSuR+F65DzsUbgehesRvTMzMzMzMyO9AAAAAAAAIL3hehSuR+EavbgehetRuA69CtejcD0KJ72PwvUoXI8SvbgehetRuP68pHA9CtejEL3NzMzMzMwcvZqZmZmZmRG99ihcj8L1CL1I4XoUrkcpva5H4XoUrh+97FG4HoXrGb3sUbgehesBPTMzMzMzM\\u002fO87FG4HoXrwbwzMzMzMzMRvbgehetRuPq8exSuR+F6\\u002fbzhehSuR+EMvSlcj8L1KAC9zczMzMzMED0+CtejcD3qPIXrUbgehQ29zczMzMzMEr0+CtejcD0CvZqZmZmZWSO9exSuR+H6Eb3NzMzMzEwVvSlcj8L1qAM9PgrXo3A987xcj8L1KFzTPPYoXI\\u002fCNQu9PgrXo3C9Eb2QwvUoXC8KvaRwPQrXYwS9kML1KFyP+bw+CtejcG0OvbgehetRyBe9UrgehesFJL1xPQrXo1DtPArXo3A9RBm9pHA9Cte\\u002fGL0K16NwPVgQvR+F61G4aBC9Fa5H4XpU1DzXo3A9SmodvVK4HoXr5gC97FG4HoV8IL0zMzMzMwcVvXsUrkfheiQ9exSuR+F6FL0AAAAAAAAAAAAAAAAAAAAAexSuR+F6FL0AAAAAAAAAAHsUrkfhehQ9exSuR+F6JD0AAAAAAAAAAAAAAAAAAAAAexSuR+F6FL24HoXrUbguPQAAAAAAAAAAAAAAAAAAAAB7FK5H4XoUvQAAAAAAAAAAexSuR+F6FD17FK5H4XoUvXsUrkfhehS9exSuR+F6JD17FK5H4XoUvQAAAAAAAAAAexSuR+F6FL17FK5H4XoUPXsUrkfhegS9exSuR+F6FL17FK5H4XoEvXsUrkfhehQ9uB6F61G4Hr24HoXrUbgevbgehetRuA69exSuR+F6BL17FK5H4XoEvexRuB6F6yG9exSuR+F6FL17FK5H4XoEvXsUrkfhehS9uB6F61G4Hr17FK5H4XrkvOxRuB6F6xG9CtejcD0KF71xPQrXo3AdvTMzMzMzMxO9exSuR+F65Dx7FK5H4XrkvLgehetRuA697FG4HoXrAb24HoXrUbj+vJqZmZmZmdk8w\\u002fUoXI\\u002fCBb2kcD0K16PwPD4K16NwPfo8exSuR+F6pDyF61G4HoX7vFK4HoXrUQg9Fa5H4XoU7jyamZmZmZkJPSlcj8L1KAY916NwPQrX8zykcD0K16MaPXsUrkfhehM9AAAAAAAABD17FK5H4XqkvEjhehSuR\\u002fc8uB6F61H4Fj2uR+F6FG4ePQAAAAAAoBw9MzMzMzODID0pXI\\u002fC9agMPfYoXI\\u002fCFRE9Fa5H4XrcGz2uR+F6FH78PArXo3A9fiQ9rkfhehThIT3sUbgehQ0gPa5H4XqUAyA99ihcj8IbBj3NzMzMTHUSPQ==\"},\"type\":\"scatter\"},{\"name\":\"Rpd=lowpass(Rpd)\",\"x\":{\"dtype\":\"i2\",\"bdata\":\"AAABAAIAAwAEAAUABgAHAAgACQAKAAsADAANAA4ADwAQABEAEgATABQAFQAWABcAGAAZABoAGwAcAB0AHgAfACAAIQAiACMAJAAlACYAJwAoACkAKgArACwALQAuAC8AMAAxADIAMwA0ADUANgA3ADgAOQA6ADsAPAA9AD4APwBAAEEAQgBDAEQARQBGAEcASABJAEoASwBMAE0ATgBPAFAAUQBSAFMAVABVAFYAVwBYAFkAWgBbAFwAXQBeAF8AYABhAGIAYwBkAGUAZgBnAGgAaQBqAGsAbABtAG4AbwBwAHEAcgBzAHQAdQB2AHcAeAB5AHoAewB8AH0AfgB\\u002fAIAAgQCCAIMAhACFAIYAhwCIAIkAigCLAIwAjQCOAI8AkACRAJIAkwCUAJUA\"},\"y\":{\"dtype\":\"f8\",\"bdata\":\"uOHHSF6efj8UTA28PweDP7B+yey1doU\\u002f4NxSeLYShj+gr\\u002f5\\u002fAWWEP2ymX+0IHYA\\u002fEomihz5Bcj+AivtsM2Ypv+BxzW3o93e\\u002fIELbXKbViL8EZgNkMuuSv\\u002fRmyf5uz5i\\u002f3F6pVCtRnb9ERfEgZaKfv6xDuQ3q\\u002f56\\u002fRn1qycHFmr8EpcAsmIOSv8A19NwcO3i\\u002fYORhrDbhhD8QABx1RHqeP+CEHEEJnao\\u002ffAw8Hfdlsz\\u002fQ0uxb0ZS5P8giSC+1ir8\\u002f2KZyvoCBwj94++aXDOnEP0hCU\\u002fhI+cY\\u002fZYlYH1TIyD\\u002fyaLCCHYnKPzhms93YjMw\\u002fIoDGWUpBzz+kwc9L0JXRP4hq5FX8b9Q\\u002f8o9fsA172D94ES5LO\\u002f7dP7kjhequmuI\\u002fCSrVaXUl5z9NYM+CwqnsP9sJGT8Ak\\u002fE\\u002f\\u002fzlV2KRG9T+ep0H45GT5P5nX70B24P0\\u002f8caxj0dWAUAjKboQLeADQP+4ac5WjQZA5ZaT2tViCUAis3Is9WwMQG0tA9dkwA9AIGsd0my9EUDsHycnh+ETQLDHDLATZBZAV7+7ckdgGUDLQc9UN\\u002fQcQHCd\\u002f1T\\u002fnyBADTuA4HYyI0DNiAM6cEImQCTDpjLt4ClAzKwhzv8eLkAhungo\\u002fYYxQPneAnHoXzRAicUzvtCjN0BfpreeJl07QGmdbI6Clz9AT0+jdOkvQkCt0fVZL+JEQMWKH45G6kdA\\u002ftn8tDNQS0CLjfCV6RtPQNvoudRiqlFAjSwozHkAVEA+07czYZJWQMZtkAv8YFlAqvXpn5hrXEBUuDzarK9fQHuT2lpSlGFA64+efuNnY0DDX1xOGU5lQDXpP3N6QWdA8Idqwps7aUDpOALAQTVrQEE6vuiKJm1Ada5SySAHb0ADBswNN2dwQKDvLVvsOXFAlDOpZ3\\u002f3cUCTHMa3+5tyQPTIJtzKI3NAAU8B0taLc0BjBhbBq9FzQNKjvPOW83NAe1E8UcDwc0BqpVhvO8lzQGp5sJoNfnNAuswgBCcRc0AF34uDToVyQA7HkOgA3nFAMrraUkYfcUAX13UugU1wQBPKefJ12m5AOzTDuuUFbUBwF5At4yVrQGQUnm9KQmlA9w2SvwxiZ0AAcyzlDotlQMMk4vgawmNAqBKzfeMKYkAVfmThFGhgQFOoAuTjtl1AdyRSOu\\u002fLWkCiu0W1CBBYQE387+n\\u002fglVA37w4xQEkU0D\\u002fIQLh2fFQQLW33y1O1k1Aqwy1IQIdSkDaRTLPG7VGQHW3B8cQnENAvNKnEnLPQEAApKxDlpk8QMhn36rtIjhAdjYpQek0NEC6GkaGjcgwQFwdSriAqytA0VhuN5WmJkA67Bck\\u002fm0iQPpgGusC2B1AzBGDMngUGEB7QkSq1GQTQJeNPumlPA9AvE2zPHcyCUAijBTXtmMEQDyP7y0rkgBAl36euEwS+z\\u002fCQfOUdjr2P94QR1nrVvI\\u002fBlsiVhph7j8irmq2TTnpP+bQGn0s9eQ\\u002fEAbOE2Nj4T9qNr+M+b3cPwaNtK36mNc\\u002frQFU7Cwv0z\\u002f4\\u002fZgYe8XOP7hHw9y4O8g\\u002f86n6JRqhwj\\u002f3QE2Gnru7PzlsefK3vrM\\u002fDY++3itZqj9Q8YI6\\u002fqKfP25Dj51qtI4\\u002fl8aWfZbwaj\\u002f9bqaXyVVzv7Aqn2kOnIO\\u002f42u+Xr8\\u002fiL9WXMl2msGIv0l4kw7TRIa\\u002f0HkObFvYgb9wIzvgt9h4v05En+AjKGu\\u002fzl3aAUfoSL8276B4jrdWPwJgRLFmjmg\\u002fshxhrxJ6cD8aBdBvvVVyP98n2hcZHnI\\u002fz5wu7xY7cD\\u002f8Xe5wqVBqP+VcFG1zzGI\\u002fR1BFu\\u002f+1VT9sVgmrGlw6P8EBFLNOCzq\\u002fcwfrioG\\u002fUL+Q1wR9fbBXv7AoOn+2R1u\\u002fNqBlcoPHW78Xt45\\u002fSK5Zv4wf0slgoFW\\u002foBIxf5FSUL+t\\u002fjVKse1Ev0Di90SJszK\\u002fMmRsIsQjAT+xgR0N4jMzP25OBdyhmj8\\u002fbe4oyGCFQz+L0bZG79pEP7zz1ZY4GUQ\\u002f54ukVFuuQT8WRInIyTY8P8kZgQrqyjM\\u002fO1Y8KXEkJj\\u002fd3L\\u002fIMAsHPxlk56n1jxC\\u002fKD0r4C0jI7\\u002fzkRaaqWQqvxZJ6M0aBy6\\u002fPVUh8epYLr+wMXprqeYrv6WpS0ypYye\\u002ftIjp0zqTIb8Xp87f3WgWv186OgIKxwO\\u002f+yrzgeRQ1T7j2Cveg\\u002fQEP09uVmOSFxE\\u002favdo8KwGFT+sIl1sO2UWP0akhBRkhhU\\u002fpH9OAQniEj+9x+q\\u002fVQcOP26umjMN9QQ\\u002fBIkBdIkw9z5fFW0WEKHWPpdhuTrLpeK+ADJ50iHc9L6FZFnUUIX8vjy+9ikVJgC\\u002fI2tLVdJDAL\\u002fEbHifoND9vldFK5LC6Pi+uZF4tgmi8r71uNYtZZLnvvUbFmxaUdS+m1nWR+MsrT4LIdgEnBvXPjcwZHQ9juI+oiE80rut5j5iGsGYcg7oPsTHvY1iC+c+uIxdQVkm5D4JHFtkKOvfPksvVPSHJdY+8JWS7doyyD7PKj1ctMelPtC0lfUrDbW+SFEero3Fxr7oA\\u002fb\\u002fFtnOvsuH9XNFYdG+ve8uTyRx0b5PS94wiN7PvrwztgVTiMq+YTCXPV\\u002fBw74DB5\\u002fU+Mm4vpQ64CNi1qS+cvH+PZEEgz7LLuf4vnWpPiwAr3LwI7Q+qX+XQ5N1uD6NlGeK9ta5PtPIkairq7g+L\\u002fnPIzqAtT7BBdLvbPawPknIWOVQZqc+tO58MpE8mT4ay0cfVbZ0PjKrLKNAsYe+vbIiXhDYmL7QLoNTj62gvjtOhZWms6K+KgMPkKOzor6kyDzm2gehvoaDYE01Qpy++l+tY1XxlL4eMz8E8A+KvsuuM2CrVnW+RafGOw7yVz4H1a38KwN8PrZyCTUI2YU+NVx4PtNeij6LQqd5tL+LPmIOV1yIaIo+ep9FmWDxhj5z2KAbYwiCPglZpfK9vHg+DdANsx1aaj7iG465y6NDPvg\\u002fHuPRdVq+k+\\u002fknGcGa74H05VpRwByviWISnziGXS+RHNW7PUKdL6KYO6igzVyvmQc3KQDJm6+kZF9NbxKZr70UWvHcqdbvoPjWs5xdUa+lZHSsKaJKj6I1s+U5QtOPrIPDvPUWVc+3tmuqw8pXD4OL\\u002fRo3KZdPkBLEjlWSVw+MwE\\u002fpsuyWD62U1dyBptTPkV7VEE7dUs+4AgyY3PnPj55HKkvsyEhPp0Y5Lvu+iS+xChGgt9EOb5NEuKDLK9Bvg==\"},\"type\":\"scatter\"},{\"name\":\"Rpd=conv(deconv(Rpd))\",\"x\":{\"dtype\":\"i2\",\"bdata\":\"AAABAAIAAwAEAAUABgAHAAgACQAKAAsADAANAA4ADwAQABEAEgATABQAFQAWABcAGAAZABoAGwAcAB0AHgAfACAAIQAiACMAJAAlACYAJwAoACkAKgArACwALQAuAC8AMAAxADIAMwA0ADUANgA3ADgAOQA6ADsAPAA9AD4APwBAAEEAQgBDAEQARQBGAEcASABJAEoASwBMAE0ATgBPAFAAUQBSAFMAVABVAFYAVwBYAFkAWgBbAFwAXQBeAF8AYABhAGIAYwBkAGUAZgBnAGgAaQBqAGsAbABtAG4AbwBwAHEAcgBzAHQAdQB2AHcAeAB5AHoAewB8AH0AfgB\\u002fAIAAgQCCAIMAhACFAIYAhwCIAIkAigCLAIwAjQCOAI8AkACRAJIAkwCUAJUA\"},\"y\":{\"dtype\":\"f8\",\"bdata\":\"exSuR+F6FD17FK5H4XoUPXsUrkfhehQ9exSuR+F6FD0AAAAAAAAAAAAAAAAAAAAAAAAAAAAAAAB7FK5H4XoUPXsUrkfheiQ9exSuR+F6FD17FK5H4XoUPXsUrkfhehQ9AAAAAAAAAAAAAAAAAAAAAHsUrkfheiQ9exSuR+F6FD17FK5H4XoUPXsUrkfhehQ9exSuR+F6BD0VrrclBnVQP4\\u002fCRaKgOHQ\\u002fcT1m152miz+uRzyw47WdPx+F8tbA06o\\u002fwzUoqXKJtT+uh1wlkNi\\u002fP1K4ykDcCMY\\u002fhRsMo3SxzD8f1RivOsDRP+HSSHJAHtU\\u002fFfYvulxb2D\\u002fh+mBx\\u002fGLbPzML8sQMI94\\u002fuAKs7wpG4D8Ku1V\\u002fu0jhP3GN\\u002f7jRFOI\\u002fZ8CgOSin4j9IRXoLgAbjP67OEBM\\u002fU+M\\u002fUvz8+t7E4z9x8JVwfKXkPzhKVnKAXeY\\u002fhWwvFC1m6T92ibdnNTPuP7i374hZm\\u002fI\\u002fHOMV2pRv9z8TYcVXgMr9P7fmEpz36wJArq9uVD7bB0DkO2U4070NQM4jO7wdThJAeEhXiV8\\u002fFkBxwopHhrUaQP+kZdD3sx9AlnG7iUqhIkCSeIHyGLclQPy9dzfLJClAFSM8vyX4LEBBiDTqwqEwQGEb36dtDzNAyaitevnTNUDxnm5W\\u002fgA5QOezQjs1qjxAMfBw0pFyQEAsdCK2Q+RCQA3PGCigtUVAOKXHtqTxSEC\\u002fYg2FaaJMQFz5PAQvaFBAZc2ci77AUkAzWRAgc1xVQHFfyDItO1hA8gf+uctaW0CKB410DrdeQMxscKu+JGFAZtV24bAEY0ABIHRZ8PVkQNpefDES8mZAJ22+buDxaECpLPQAf+1qQFiUt8yY3GxAmhPHMp22bkDyji3VhTlwQOjK0GzcBHFAE9nMc4G5cUAFwqNbClRyQJjylOSP0XJAuvBNfcQvc0A\\u002f\\u002f0WFAG1zQETsqHxUiHNAw9czc4WBc0AF6DGhD1lzQFXQnsYgEHNAXNuSsomockCBpTNMqCRyQJJ2CodPh3FARF5rtq7TcEBONzG+PA1wQK66dQ83b25AEF5qbfisbEBIWJRwA9tqQOkzxv1UAGlAA\\u002fa573sjZ0A4Q2PeekplQG6tqcywemNAaqDffsC4YUAAIJZzhwhgQGQb+qFH2lxAe\\u002frzaPDRWUAAM9VElvtWQFxqheuBWVRAnYaljs7sUUBttw1UE2tPQNWd2vytZUtA+9EQ4izGR0BB\\u002fms0FIhEQGOJrUX2pUFAvjaGX3EzPkA+jiSDprk5QLZd0hwP0TVAhrTJ7yBsMkDX3vTgJfsuQO5EDUU38SlA1rHGQ0CiJUC6Y3BZqvchQK60nEpPuR1A6ixfa458GEA896MB8BYUQLznLmf8aRBAJE1pBHm1CkC+tpkPA6MFQElxYldHcwFAWvjhgPAE\\u002fD\\u002fxaZuMd2P2P6xbMOw\\u002fzfE\\u002f4dDtM1gq7D9cxxPA2inmP2qgvIpCWOE\\u002fLFwJahT+2j+8lF8+\\u002fuDUPy\\u002fdGpn9DNA\\u002fJ62zZW6FyD+Ko\\u002flElZvCP6rjayaQDLw\\u002fgKT4khz+tD\\u002f8I4SqaDKvPxfYNa12Aqc\\u002fsOKQdLfXoD9kEKx1WneYPxNL6qw3oZE\\u002fPvHbQsMziT\\u002fqTYsIlt2BPwSFB54cHnk\\u002fpbi48rSBcT8o\\u002f16xejFoPxi47eESkmA\\u002fnGNt1Hh\\u002fVj84LFK5a0VOP+Q+jpUVLkQ\\u002ffwDMVpGoOj8K1wPT43ExPz4KFxQEniY\\u002fpHC98LILHT9nZmYH+ngSP4XrUdwsRQc\\u002fMzMzi4MH\\u002fT7hehRqBu7xPrgehZcf7uU+PgrXA5GO2j4Vrkcxo9bPPrgeheup5MI+j8L1SCUytj4fhesRc8+pPgAAAIC7tJ0+MzMzsy\\u002frkD4AAAAAchKDPhWuR+GKRnU+4XoUrjN8Zz7NzMzMxKZZPgAAAACguEs+rkfherSjPT7hehSuJ1ovPqRwPQp3ZyA+w\\u002fUoXA\\u002f7ED6F61G4HmMBPo\\u002fC9ShcnPE9Fa5H4Xqk4T3Xo3A9CnvRPbgehetRIME9j8L1KFyfsD0AAAAAAOCfPZqZmZmZWY49Z2ZmZmZmfD3hehSuR+FqPQrXo3A9Clo9UrgehetRSD1cj8L1KFw3PZDC9Shcjyo9MzMzMzMzJz3NzMzMzMwgPbgehetRuCY99ihcj8L1ED3hehSuR+ESPZqZmZmZmSE9SOF6FK5HGT0K16NwPQr\\u002fPD4K16NwPfI8Z2ZmZmZmFz3hehSuR6EYPbgehetRuBU9w\\u002fUoXI\\u002fCFz2uR+F6FK4XPc3MzMzMzBI9j8L1KFyPBD1cj8L1KFwVPbgehetRuAY94XoUrkehJD0pXI\\u002fC9SjyPHE9Ctej8BU9AAAAAABAFD3sUbgehSsUPVK4HoXrkRC9w\\u002fUoXI9C8bwAAAAAAAD+PIXrUbgeVRc9CtejcD2K\\u002fjyF61G4HgUHPVyPwvUodBk9w\\u002fUoXI\\u002fCxzwpXI\\u002fC9ZATPXE9CtejUO28XI\\u002fC9SjQAz3NzMzMzAQNPdejcD0KcwY9KVyPwvXI0Dy4HoXrUVQYPT4K16PwFge9pHA9CtcOCL17FK5H4fL\\u002fvArXo3A9isE8exSuR+F69LzsUbgeheshvSlcj8L1KCy9uB6F61G4Hr17FK5H4XokvXsUrkfhehS9mpmZmZmZKb2amZmZmZkZvXsUrkfhehS9KVyPwvUoLL24HoXrUbguvbgehetRuA69CtejcD0KJ70K16NwPQonvSlcj8L1KCy9mpmZmZmZKb17FK5H4XokvaRwPQrXozC9mpmZmZmZGb24HoXrUbgevexRuB6F6yG9AAAAAAAAML0pXI\\u002fC9SgcvQrXo3A9Cie9exSuR+F6JL1SuB6F61EovXsUrkfheiS9exSuR+F65DzsUbgehesRvTMzMzMzMyO9AAAAAAAAIL3hehSuR+EavbgehetRuA69CtejcD0KJ72PwvUoXI8SvbgehetRuP68pHA9CtejEL3NzMzMzMwcvZqZmZmZmRG99ihcj8L1CL1I4XoUrkcpva5H4XoUrh+97FG4HoXrGb3sUbgehesBPTMzMzMzM\\u002fO87FG4HoXrwbwzMzMzMzMRvbgehetRuPq8exSuR+F6\\u002fbzhehSuR+EMvSlcj8L1KAC9zczMzMzMED0+CtejcD3qPIXrUbgehQ29zczMzMzMEr0+CtejcD0CvZqZmZmZWSO9exSuR+H6Eb3NzMzMzEwVvQ==\"},\"type\":\"scatter\"}],                        {\"template\":{\"data\":{\"histogram2dcontour\":[{\"type\":\"histogram2dcontour\",\"colorbar\":{\"outlinewidth\":0,\"ticks\":\"\"},\"colorscale\":[[0.0,\"#0d0887\"],[0.1111111111111111,\"#46039f\"],[0.2222222222222222,\"#7201a8\"],[0.3333333333333333,\"#9c179e\"],[0.4444444444444444,\"#bd3786\"],[0.5555555555555556,\"#d8576b\"],[0.6666666666666666,\"#ed7953\"],[0.7777777777777778,\"#fb9f3a\"],[0.8888888888888888,\"#fdca26\"],[1.0,\"#f0f921\"]]}],\"choropleth\":[{\"type\":\"choropleth\",\"colorbar\":{\"outlinewidth\":0,\"ticks\":\"\"}}],\"histogram2d\":[{\"type\":\"histogram2d\",\"colorbar\":{\"outlinewidth\":0,\"ticks\":\"\"},\"colorscale\":[[0.0,\"#0d0887\"],[0.1111111111111111,\"#46039f\"],[0.2222222222222222,\"#7201a8\"],[0.3333333333333333,\"#9c179e\"],[0.4444444444444444,\"#bd3786\"],[0.5555555555555556,\"#d8576b\"],[0.6666666666666666,\"#ed7953\"],[0.7777777777777778,\"#fb9f3a\"],[0.8888888888888888,\"#fdca26\"],[1.0,\"#f0f921\"]]}],\"heatmap\":[{\"type\":\"heatmap\",\"colorbar\":{\"outlinewidth\":0,\"ticks\":\"\"},\"colorscale\":[[0.0,\"#0d0887\"],[0.1111111111111111,\"#46039f\"],[0.2222222222222222,\"#7201a8\"],[0.3333333333333333,\"#9c179e\"],[0.4444444444444444,\"#bd3786\"],[0.5555555555555556,\"#d8576b\"],[0.6666666666666666,\"#ed7953\"],[0.7777777777777778,\"#fb9f3a\"],[0.8888888888888888,\"#fdca26\"],[1.0,\"#f0f921\"]]}],\"contourcarpet\":[{\"type\":\"contourcarpet\",\"colorbar\":{\"outlinewidth\":0,\"ticks\":\"\"}}],\"contour\":[{\"type\":\"contour\",\"colorbar\":{\"outlinewidth\":0,\"ticks\":\"\"},\"colorscale\":[[0.0,\"#0d0887\"],[0.1111111111111111,\"#46039f\"],[0.2222222222222222,\"#7201a8\"],[0.3333333333333333,\"#9c179e\"],[0.4444444444444444,\"#bd3786\"],[0.5555555555555556,\"#d8576b\"],[0.6666666666666666,\"#ed7953\"],[0.7777777777777778,\"#fb9f3a\"],[0.8888888888888888,\"#fdca26\"],[1.0,\"#f0f921\"]]}],\"surface\":[{\"type\":\"surface\",\"colorbar\":{\"outlinewidth\":0,\"ticks\":\"\"},\"colorscale\":[[0.0,\"#0d0887\"],[0.1111111111111111,\"#46039f\"],[0.2222222222222222,\"#7201a8\"],[0.3333333333333333,\"#9c179e\"],[0.4444444444444444,\"#bd3786\"],[0.5555555555555556,\"#d8576b\"],[0.6666666666666666,\"#ed7953\"],[0.7777777777777778,\"#fb9f3a\"],[0.8888888888888888,\"#fdca26\"],[1.0,\"#f0f921\"]]}],\"mesh3d\":[{\"type\":\"mesh3d\",\"colorbar\":{\"outlinewidth\":0,\"ticks\":\"\"}}],\"scatter\":[{\"fillpattern\":{\"fillmode\":\"overlay\",\"size\":10,\"solidity\":0.2},\"type\":\"scatter\"}],\"parcoords\":[{\"type\":\"parcoords\",\"line\":{\"colorbar\":{\"outlinewidth\":0,\"ticks\":\"\"}}}],\"scatterpolargl\":[{\"type\":\"scatterpolargl\",\"marker\":{\"colorbar\":{\"outlinewidth\":0,\"ticks\":\"\"}}}],\"bar\":[{\"error_x\":{\"color\":\"#2a3f5f\"},\"error_y\":{\"color\":\"#2a3f5f\"},\"marker\":{\"line\":{\"color\":\"#E5ECF6\",\"width\":0.5},\"pattern\":{\"fillmode\":\"overlay\",\"size\":10,\"solidity\":0.2}},\"type\":\"bar\"}],\"scattergeo\":[{\"type\":\"scattergeo\",\"marker\":{\"colorbar\":{\"outlinewidth\":0,\"ticks\":\"\"}}}],\"scatterpolar\":[{\"type\":\"scatterpolar\",\"marker\":{\"colorbar\":{\"outlinewidth\":0,\"ticks\":\"\"}}}],\"histogram\":[{\"marker\":{\"pattern\":{\"fillmode\":\"overlay\",\"size\":10,\"solidity\":0.2}},\"type\":\"histogram\"}],\"scattergl\":[{\"type\":\"scattergl\",\"marker\":{\"colorbar\":{\"outlinewidth\":0,\"ticks\":\"\"}}}],\"scatter3d\":[{\"type\":\"scatter3d\",\"line\":{\"colorbar\":{\"outlinewidth\":0,\"ticks\":\"\"}},\"marker\":{\"colorbar\":{\"outlinewidth\":0,\"ticks\":\"\"}}}],\"scattermap\":[{\"type\":\"scattermap\",\"marker\":{\"colorbar\":{\"outlinewidth\":0,\"ticks\":\"\"}}}],\"scattermapbox\":[{\"type\":\"scattermapbox\",\"marker\":{\"colorbar\":{\"outlinewidth\":0,\"ticks\":\"\"}}}],\"scatterternary\":[{\"type\":\"scatterternary\",\"marker\":{\"colorbar\":{\"outlinewidth\":0,\"ticks\":\"\"}}}],\"scattercarpet\":[{\"type\":\"scattercarpet\",\"marker\":{\"colorbar\":{\"outlinewidth\":0,\"ticks\":\"\"}}}],\"carpet\":[{\"aaxis\":{\"endlinecolor\":\"#2a3f5f\",\"gridcolor\":\"white\",\"linecolor\":\"white\",\"minorgridcolor\":\"white\",\"startlinecolor\":\"#2a3f5f\"},\"baxis\":{\"endlinecolor\":\"#2a3f5f\",\"gridcolor\":\"white\",\"linecolor\":\"white\",\"minorgridcolor\":\"white\",\"startlinecolor\":\"#2a3f5f\"},\"type\":\"carpet\"}],\"table\":[{\"cells\":{\"fill\":{\"color\":\"#EBF0F8\"},\"line\":{\"color\":\"white\"}},\"header\":{\"fill\":{\"color\":\"#C8D4E3\"},\"line\":{\"color\":\"white\"}},\"type\":\"table\"}],\"barpolar\":[{\"marker\":{\"line\":{\"color\":\"#E5ECF6\",\"width\":0.5},\"pattern\":{\"fillmode\":\"overlay\",\"size\":10,\"solidity\":0.2}},\"type\":\"barpolar\"}],\"pie\":[{\"automargin\":true,\"type\":\"pie\"}]},\"layout\":{\"autotypenumbers\":\"strict\",\"colorway\":[\"#636efa\",\"#EF553B\",\"#00cc96\",\"#ab63fa\",\"#FFA15A\",\"#19d3f3\",\"#FF6692\",\"#B6E880\",\"#FF97FF\",\"#FECB52\"],\"font\":{\"color\":\"#2a3f5f\"},\"hovermode\":\"closest\",\"hoverlabel\":{\"align\":\"left\"},\"paper_bgcolor\":\"white\",\"plot_bgcolor\":\"#E5ECF6\",\"polar\":{\"bgcolor\":\"#E5ECF6\",\"angularaxis\":{\"gridcolor\":\"white\",\"linecolor\":\"white\",\"ticks\":\"\"},\"radialaxis\":{\"gridcolor\":\"white\",\"linecolor\":\"white\",\"ticks\":\"\"}},\"ternary\":{\"bgcolor\":\"#E5ECF6\",\"aaxis\":{\"gridcolor\":\"white\",\"linecolor\":\"white\",\"ticks\":\"\"},\"baxis\":{\"gridcolor\":\"white\",\"linecolor\":\"white\",\"ticks\":\"\"},\"caxis\":{\"gridcolor\":\"white\",\"linecolor\":\"white\",\"ticks\":\"\"}},\"coloraxis\":{\"colorbar\":{\"outlinewidth\":0,\"ticks\":\"\"}},\"colorscale\":{\"sequential\":[[0.0,\"#0d0887\"],[0.1111111111111111,\"#46039f\"],[0.2222222222222222,\"#7201a8\"],[0.3333333333333333,\"#9c179e\"],[0.4444444444444444,\"#bd3786\"],[0.5555555555555556,\"#d8576b\"],[0.6666666666666666,\"#ed7953\"],[0.7777777777777778,\"#fb9f3a\"],[0.8888888888888888,\"#fdca26\"],[1.0,\"#f0f921\"]],\"sequentialminus\":[[0.0,\"#0d0887\"],[0.1111111111111111,\"#46039f\"],[0.2222222222222222,\"#7201a8\"],[0.3333333333333333,\"#9c179e\"],[0.4444444444444444,\"#bd3786\"],[0.5555555555555556,\"#d8576b\"],[0.6666666666666666,\"#ed7953\"],[0.7777777777777778,\"#fb9f3a\"],[0.8888888888888888,\"#fdca26\"],[1.0,\"#f0f921\"]],\"diverging\":[[0,\"#8e0152\"],[0.1,\"#c51b7d\"],[0.2,\"#de77ae\"],[0.3,\"#f1b6da\"],[0.4,\"#fde0ef\"],[0.5,\"#f7f7f7\"],[0.6,\"#e6f5d0\"],[0.7,\"#b8e186\"],[0.8,\"#7fbc41\"],[0.9,\"#4d9221\"],[1,\"#276419\"]]},\"xaxis\":{\"gridcolor\":\"white\",\"linecolor\":\"white\",\"ticks\":\"\",\"title\":{\"standoff\":15},\"zerolinecolor\":\"white\",\"automargin\":true,\"zerolinewidth\":2},\"yaxis\":{\"gridcolor\":\"white\",\"linecolor\":\"white\",\"ticks\":\"\",\"title\":{\"standoff\":15},\"zerolinecolor\":\"white\",\"automargin\":true,\"zerolinewidth\":2},\"scene\":{\"xaxis\":{\"backgroundcolor\":\"#E5ECF6\",\"gridcolor\":\"white\",\"linecolor\":\"white\",\"showbackground\":true,\"ticks\":\"\",\"zerolinecolor\":\"white\",\"gridwidth\":2},\"yaxis\":{\"backgroundcolor\":\"#E5ECF6\",\"gridcolor\":\"white\",\"linecolor\":\"white\",\"showbackground\":true,\"ticks\":\"\",\"zerolinecolor\":\"white\",\"gridwidth\":2},\"zaxis\":{\"backgroundcolor\":\"#E5ECF6\",\"gridcolor\":\"white\",\"linecolor\":\"white\",\"showbackground\":true,\"ticks\":\"\",\"zerolinecolor\":\"white\",\"gridwidth\":2}},\"shapedefaults\":{\"line\":{\"color\":\"#2a3f5f\"}},\"annotationdefaults\":{\"arrowcolor\":\"#2a3f5f\",\"arrowhead\":0,\"arrowwidth\":1},\"geo\":{\"bgcolor\":\"white\",\"landcolor\":\"#E5ECF6\",\"subunitcolor\":\"white\",\"showland\":true,\"showlakes\":true,\"lakecolor\":\"white\"},\"title\":{\"x\":0.05},\"mapbox\":{\"style\":\"light\"}}},\"title\":{\"text\":\"$\\\\text{Actual } I_{pd} \\\\text{ vs. deconvolution of } R_{pd}$\",\"x\":0.5,\"xanchor\":\"center\"},\"xaxis\":{\"title\":{\"text\":\"Day\"}},\"yaxis\":{\"title\":{\"text\":\"Count\"}}},                        {\"responsive\": true}                    ).then(function(){\n",
              "                            \n",
              "var gd = document.getElementById('d75ffcba-60fe-43f2-9b63-347c15438689');\n",
              "var x = new MutationObserver(function (mutations, observer) {{\n",
              "        var display = window.getComputedStyle(gd).display;\n",
              "        if (!display || display === 'none') {{\n",
              "            console.log([gd, 'removed!']);\n",
              "            Plotly.purge(gd);\n",
              "            observer.disconnect();\n",
              "        }}\n",
              "}});\n",
              "\n",
              "// Listen for the removal of the full notebook cells\n",
              "var notebookContainer = gd.closest('#notebook-container');\n",
              "if (notebookContainer) {{\n",
              "    x.observe(notebookContainer, {childList: true});\n",
              "}}\n",
              "\n",
              "// Listen for the clearing of the current output cell\n",
              "var outputEl = gd.closest('.output');\n",
              "if (outputEl) {{\n",
              "    x.observe(outputEl, {childList: true});\n",
              "}}\n",
              "\n",
              "                        })                };            </script>        </div>"
            ]
          },
          "metadata": {},
          "output_type": "display_data"
        }
      ],
      "source": [
        "#| code-fold: true\n",
        "\n",
        "fig = go.Figure(data=[    \n",
        "    go.Scatter(name='Ipd', x=np.arange(150), y=results_stoch0[5]),\n",
        "    go.Scatter(name='Ipd=lowpass(Ipd)', x=np.arange(150), y=lowpass(results_stoch0[5])),\n",
        "    go.Scatter(name='Ipd=deconv(Rpd)', x=np.arange(150), y=Inext),\n",
        "    go.Scatter(name='Rpd', x=np.arange(150), y=results_stoch0[6]),\n",
        "    go.Scatter(name='Rpd=conv(Inext)', x=np.arange(150), y=signal.fftconvolve(h_I, Inext, mode='full')),\n",
        "    go.Scatter(name='Rpd=lowpass(Rpd)', x=np.arange(150), y=lowpass(results_stoch0[6])),\n",
        "    go.Scatter(name='Rpd=conv(deconv(Rpd))', x=np.arange(150), y=signal.fftconvolve(h_I, Inext, mode='full')[:len(Rpd)])    \n",
        "])\n",
        "\n",
        "fig.update_layout(\n",
        "    \n",
        "    xaxis_title = 'Day',\n",
        "    yaxis_title = 'Count',\n",
        "    title={\n",
        "        'text':r'$\\text{Actual } I_{pd} \\text{ vs. deconvolution of } R_{pd}$',\n",
        "        'x':0.5,\n",
        "        'xanchor':'center'\n",
        "    }\n",
        ")\n",
        "\n",
        "fig.show()"
      ]
    },
    {
      "attachments": {},
      "cell_type": "markdown",
      "metadata": {
        "colab_type": "text",
        "id": "1tdeL87fq_ov"
      },
      "source": [
        "Again our algorithm works nicely."
      ]
    },
    {
      "attachments": {},
      "cell_type": "markdown",
      "metadata": {
        "colab_type": "text",
        "id": "rycLpL7nq_hJ"
      },
      "source": [
        "# Discussion"
      ]
    },
    {
      "attachments": {},
      "cell_type": "markdown",
      "metadata": {
        "colab_type": "text",
        "id": "zDeAe8pcq_Xd"
      },
      "source": [
        "There are a lot of papers and research done in the field of deconvolution in general but I have found only one using it in epidemic models (link above).\n",
        "\n",
        "The theory is skipped here but it is required if we want to use more advanced techniques. I may write another blog post with more details.\n",
        "\n",
        "After doing this you might be left wondering, well what's the point ?\n",
        "\n",
        "A few things:\n",
        "\n",
        "* If we have daily data of infectious $I_{pd}$ we can then use the deconvolution technique to find an approximation for $E_{pd}$\n",
        "* If we have a close estimate for $E_{pd}$ we can in turn estimate the value of $\\beta$ or $R$\n",
        "* We can verify the robusteness of $h_L$ and $h_I$ against real world data and how these vary geographically in a pandemic\n",
        "\n",
        "These points will be studied a bit more in the next blog post."
      ]
    }
  ],
  "metadata": {
    "colab": {
      "include_colab_link": true,
      "name": "2020_04_02_control_measures.ipynb",
      "provenance": [],
      "toc_visible": true
    },
    "kernelspec": {
      "display_name": "Python 3 (ipykernel)",
      "language": "python",
      "name": "python3"
    },
    "language_info": {
      "codemirror_mode": {
        "name": "ipython",
        "version": 3
      },
      "file_extension": ".py",
      "mimetype": "text/x-python",
      "name": "python",
      "nbconvert_exporter": "python",
      "pygments_lexer": "ipython3",
      "version": "3.9.17"
    }
  },
  "nbformat": 4,
  "nbformat_minor": 0
}
